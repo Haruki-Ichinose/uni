{
 "cells": [
  {
   "cell_type": "markdown",
   "metadata": {},
   "source": [
    "# **データマイニングと情報可視化: 演習**\n",
    "# **Data mining and information visualization: Exercise**\n",
    "<font size=\"4\">\n",
    "第8回　2024年2月6日(火)<br>\n",
    "データ選択・クロスバリデーション<br>\n",
    "</font>\n",
    "\n",
    "* [小テスト / Quiz](Week8_Quiz.ipynb)：授業中に提出してください。Please submit the quiz file by the end of the class.\n",
    "* [冬学期授業アンケート](https://moodle.s.kyushu-u.ac.jp/mod/claque/response.php?id=1031733&cid=67159): 締め切り 2024年2月10日(火)"
   ]
  },
  {
   "cell_type": "markdown",
   "metadata": {},
   "source": [
    "### 講義動画\n",
    "* [解説動画](https://youtu.be/HHs-09bAXog)"
   ]
  },
  {
   "cell_type": "code",
   "execution_count": 1,
   "metadata": {},
   "outputs": [
    {
     "data": {
      "text/plain": [
       "'%.3f'"
      ]
     },
     "execution_count": 1,
     "metadata": {},
     "output_type": "execute_result"
    }
   ],
   "source": [
    "# まずはライブラリをインポート / Import the libraries.\n",
    "import numpy as np\n",
    "import numpy.random as random\n",
    "import scipy as sp\n",
    "from pandas import Series, DataFrame\n",
    "import pandas as pd\n",
    "\n",
    "# 可視化ライブラリ / Visualization libraries\n",
    "import matplotlib.pyplot as plt\n",
    "import matplotlib as mpl\n",
    "import seaborn as sns\n",
    "%matplotlib inline\n",
    "\n",
    "# 機械学習ライブラリ / Machine learning library\n",
    "import sklearn\n",
    "\n",
    "# 小数第3位まで表示 / display up to the 3rd decimal place\n",
    "%precision 3"
   ]
  },
  {
   "cell_type": "markdown",
   "metadata": {},
   "source": [
    "## アヤメのデータセットで解析 / Clustering analysis with a sample data set of iris.\n",
    "\n",
    "Scikit-learnでは、いくつかサンプルデータが用意されていて、解析を試すのに使えるようになっています。<br>\n",
    "今回は、その中でも、使われることの多い、アヤメのデータセットを使って、k-means法を試してみます。<br>\n",
    "<br>\n",
    "Scikit-learn provides several sample data sets to practise analysis data.<br>\n",
    "This week, we use one of the most popular sample data, iris, and apply k\n",
    "\n",
    "[Week5: アヤメのデータでk-means法クラスタリング](Ex_Week5.ipynb#iris)\n",
    "\n",
    "[参考サイト: iris(アヤメ)のデータセットをpandasとseabornを使って可視化する](https://kenyu-life.com/2019/05/14/iris/)<br>\n",
    "[参考サイト: 機械学習入門！クラスタリングの解説とPythonによるk-means実装](https://www.sejuku.net/blog/60630)<br>\n",
    "[参考サイト: データサイエンティストによる統計入門 ― k平均法でデータをクラスタリングしてみよう！](https://employment.en-japan.com/engineerhub/entry/2018/04/10/110000)"
   ]
  },
  {
   "cell_type": "code",
   "execution_count": null,
   "metadata": {},
   "outputs": [],
   "source": [
    "# scikit-learn のデータセットを読み込むためのインポート / Import 'datasets' to use datasets of scikit-learn.\n",
    "from sklearn import datasets\n",
    "\n",
    "#対象データを読み込み\n",
    "iris = datasets.load_iris()\n",
    "type(iris)"
   ]
  },
  {
   "cell_type": "code",
   "execution_count": null,
   "metadata": {},
   "outputs": [],
   "source": [
    "# データの種類を確認 / Check the type of data\n",
    "type(iris.data)"
   ]
  },
  {
   "cell_type": "markdown",
   "metadata": {
    "tags": []
   },
   "source": [
    "### DataFrame に変換 / Convert loaded data from Bunch to DataFrame\n",
    "\n",
    "`feasure_names`を使って、`index`と`columns`を指定できます。<br>\n",
    "You can set Index of the DataFrame with `feasure_names`.<br>\n",
    "\n",
    "* sepal : 花のがく\n",
    "* petal : 花弁、はなびら\n",
    "* target: アヤメの種類 / types of iris"
   ]
  },
  {
   "cell_type": "code",
   "execution_count": null,
   "metadata": {},
   "outputs": [],
   "source": [
    "iris_df = pd.DataFrame(iris.data, columns=iris.feature_names)"
   ]
  },
  {
   "cell_type": "code",
   "execution_count": null,
   "metadata": {},
   "outputs": [],
   "source": [
    "# 先頭の5行を表示\n"
   ]
  },
  {
   "cell_type": "markdown",
   "metadata": {},
   "source": [
    "\n",
    "\n"
   ]
  },
  {
   "cell_type": "markdown",
   "metadata": {},
   "source": [
    "<img src=\"img/w5_iris.jpg\" width=\"700px\">\n",
    "\n",
    "[参考サイト: iris(アヤメ)のデータセットをpandasとseabornを使って可視化する](https://kenyu-life.com/2019/05/14/iris/)<br>"
   ]
  },
  {
   "cell_type": "code",
   "execution_count": null,
   "metadata": {},
   "outputs": [],
   "source": [
    "# データのサイズを確認します。 / Check the numbers of rows and columns of the data.\n"
   ]
  },
  {
   "cell_type": "code",
   "execution_count": null,
   "metadata": {},
   "outputs": [],
   "source": [
    "# 目的変数をDataFrameに変換\n",
    "df_target = pd.DataFrame(iris.target, columns=['species'])\n",
    "\n",
    "# 説明変数のDataFrameに結合させて、iris_ansというDataFrameに格納\n",
    "iris_ans = pd.concat([iris_df, df_target.species], axis=1)"
   ]
  },
  {
   "cell_type": "code",
   "execution_count": null,
   "metadata": {},
   "outputs": [],
   "source": [
    "g_ans = iris_ans.groupby('species')\n",
    "\n",
    "# Setosa\n",
    "group00 = g_ans.get_group(0) \n",
    "#  Versicolor\n",
    "group01 = g_ans.get_group(1)\n",
    "# 2: Versinica\n",
    "group02 = g_ans.get_group(2)\n",
    "\n",
    "\n",
    "# 0th columns: sepal length: 花のがくの長さ\n",
    "# 1st columns: sepal width: 花のがくの幅\n",
    "# 2nd columns: petal length: 花弁の長さ\n",
    "# 3rd columns: petal width: 花弁の幅\n",
    "ax = group00.plot.scatter(x=group00.columns[1], y=group00.columns[2],color='red', label='Setosa')\n",
    "ax = group01.plot.scatter(x=group01.columns[1], y=group01.columns[2],color='blue', label='Versicolor', ax=ax)\n",
    "ax = group02.plot.scatter(x=group02.columns[1], y=group02.columns[2],color='green', label='Versinica', ax=ax)\n",
    "plt.xlabel('sepal length (mm)')\n",
    "plt.ylabel('sepal width (mm)')\n",
    "# plt.savefig(\"w5_setalL_setalW.png\", format=\"png\")"
   ]
  },
  {
   "cell_type": "markdown",
   "metadata": {},
   "source": [
    "### 欠損値の確認\n",
    "データのレコード数や変数の数、欠損データを確認しておきましょう。<br>\n",
    "Let's check the size of DataFrame, number of columns and NaN.<br>\n",
    "<br>\n",
    "欠損値の扱い方はこちら。/ How to deal with NaN.<br>\n",
    "[Week 4: isnull](Ex_Week4.ipynb#isnull)<br>"
   ]
  },
  {
   "cell_type": "code",
   "execution_count": null,
   "metadata": {},
   "outputs": [],
   "source": [
    "# use isnull function\n",
    "# The output is the same size of an array with elements of True or False\n",
    "# True : zero, NaN\n",
    "# False :  nonzero\n",
    "\n"
   ]
  },
  {
   "cell_type": "markdown",
   "metadata": {
    "tags": []
   },
   "source": [
    "## k-meansクラスからirisデータセット向けに設定したインスタンスを作ります。\n",
    "## Create an instance for iris data set from k-means class.\n",
    "\n",
    "プログラムコードはこちら。 / Here is the code line.\n",
    "\n",
    "```\n",
    "kmeans = KMeans(n_clusters=3, max_iter=30, init=\"random\", n_jobs=-1)\n",
    "```\n",
    "\n",
    "オプションには以下のような意味があります。\n",
    "* n_clusters: クラスタの数 / number of clusters\n",
    "* max_iter: 学習のループ回数 / number of iteration\n",
    "* init: 平均の初期値の決め方 / how to determine initial position of the center of cluster.\n",
    "* n_jobs: k-meansを何並列にするか(-1ならばpcのコア数分だけ並列してくれます）/how many cores in your CPU is used for the analysis\n",
    "\n",
    "その他オプションの詳細はこちら<br>\n",
    "[scikit-learn でクラスタ分析 (K-means 法)@Pythonでデータサイエンス](https://pythondatascience.plavox.info/scikit-learn/%E3%82%AF%E3%83%A9%E3%82%B9%E3%82%BF%E5%88%86%E6%9E%90-k-means)"
   ]
  },
  {
   "cell_type": "code",
   "execution_count": null,
   "metadata": {},
   "outputs": [],
   "source": [
    "from sklearn.cluster import KMeans\n",
    "# KMeansクラスの初期化 / Initialize KMeans class\n",
    "# この例では 3 つのグループに分割 (メルセンヌツイスターの乱数の種を 10 とする)\n",
    "\n",
    "\n",
    "# K-means クラスタリングをおこなう / Clustering with k-means method\n",
    "# (1) fit 関数で学習する / Learning with 'fit' function\n",
    "\n",
    "\n",
    "# (2) クラスター番号を予測 / Predict the cluster number.\n",
    "y_pred = \n"
   ]
  },
  {
   "cell_type": "markdown",
   "metadata": {},
   "source": [
    "## クラスター番号をDataFrame 'iris_df'に追加する。/ Add a column 'cluster' to a DataFrame, 'iris_df'."
   ]
  },
  {
   "cell_type": "code",
   "execution_count": null,
   "metadata": {},
   "outputs": [],
   "source": [
    "# Copy data\n",
    "# iris_df_k = pd.DataFrame(iris_df.values[:,0:4])\n",
    "iris_df_k = iris_df\n",
    "# iris_df_k.shape\n",
    "# Add a column, cluster.\n",
    "iris_df_k['cluster'] = y_pred\n",
    "iris_df_k.tail(5)"
   ]
  },
  {
   "cell_type": "markdown",
   "metadata": {},
   "source": [
    "## 可視化 : 散布図\n",
    "Visualization : Scattering plot"
   ]
  },
  {
   "cell_type": "code",
   "execution_count": null,
   "metadata": {},
   "outputs": [],
   "source": [
    "# クラスタリング結果のグラフ化 / Visualization\n",
    "ax = None\n",
    "bx = None\n",
    "colors = ['blue', 'red', 'green']\n",
    "\n",
    "# figsize : figureの縦横の大きさ(横、縦) / Size of figure (widthe, height)\n",
    "# nrows : number of rows\n",
    "# ncolumns : number of columns\n",
    "fig, axes = plt.subplots(nrows=1, ncols=2, figsize=(12, 4))\n",
    "\n",
    "# LEFT FIGURE: Answer (iris.target)\n",
    "for i, data in iris_ans.groupby('species'):\n",
    "    #                       x-axis,  y-axis, specify the data with index name\n",
    "    ax = data.plot.scatter(x=iris_ans.columns[0], y=iris_ans.columns[1], color=colors[i],\n",
    "    #                                                           this number specify the position of the figure\n",
    "                            title='iris.target', label=f'cluster{i}', ax=axes.flatten()[0])\n",
    "\n",
    "# RIGHT FIGURE: k-means prediction\n",
    "for i, data in iris_df_k.groupby('cluster'):\n",
    "    #                       x-axis,  y-axis, specify the data with index name\n",
    "    bx = data.plot.scatter(x=iris_df_k.columns[0], y=iris_df_k.columns[1], color=colors[i],\n",
    "    #                                                           this number specify the position of the figure\n",
    "                           title='prediction by k-means', label=f'cluster{i}', ax=axes.flatten()[1])\n"
   ]
  },
  {
   "cell_type": "markdown",
   "metadata": {},
   "source": [
    "### クラスタの番号を付け替える\n",
    "\n",
    "* 予測　クラスタ0 (red) → 答え　クラスタ1 (red)\n",
    "* 予測　クラスタ1 (blue) → 答え　クラスタ2 (green)\n",
    "* 予測　クラスタ2 (green) → 答え　クラスタ0 (blue)\n",
    "\n",
    "クラスタ番号を入れ替えて、df_predに保存する。\n",
    "\n",
    "[replace @ note.nkmk.me](https://note.nkmk.me/python-pandas-replace/)"
   ]
  },
  {
   "cell_type": "code",
   "execution_count": null,
   "metadata": {},
   "outputs": [],
   "source": [
    "df_pred = pd.DataFrame(y_pred).replace([0, 1, 2], [1, 2, 0])"
   ]
  },
  {
   "cell_type": "code",
   "execution_count": null,
   "metadata": {},
   "outputs": [],
   "source": [
    "iris_df_k['cluster_rep'] = df_pred"
   ]
  },
  {
   "cell_type": "code",
   "execution_count": null,
   "metadata": {},
   "outputs": [],
   "source": [
    "# iris_ans.head()\n",
    "iris_df_k.head()"
   ]
  },
  {
   "cell_type": "code",
   "execution_count": null,
   "metadata": {},
   "outputs": [],
   "source": [
    "# クラスタリング結果のグラフ化 / Visualization\n",
    "ax = None\n",
    "bx = None\n",
    "colors = ['blue', 'red', 'green']\n",
    "\n",
    "# figsize : figureの縦横の大きさ(横、縦) / Size of figure (widthe, height)\n",
    "# nrows : number of rows\n",
    "# ncolumns : number of columns\n",
    "fig, axes = plt.subplots(nrows=1, ncols=2, figsize=(12, 4))\n",
    "\n",
    "# LEFT FIGURE: Answer (iris.target)\n",
    "for i, data in iris_ans.groupby('species'):\n",
    "    #                       x-axis,  y-axis, specify the data with index name\n",
    "    ax = data.plot.scatter(x=iris_ans.columns[0], y=iris_ans.columns[1], color=colors[i],\n",
    "    #                                                           this number specify the position of the figure\n",
    "                            title='iris.target', label=f'cluster{i}', ax=axes.flatten()[0])\n",
    "\n",
    "# RIGHT FIGURE: k-means prediction\n",
    "for i, data in iris_df_k.groupby('cluster_rep'):\n",
    "    #                       x-axis,  y-axis, specify the data with index name\n",
    "    bx = data.plot.scatter(x=iris_df_k.columns[0], y=iris_df_k.columns[1], color=colors[i],\n",
    "    #                                                           this number specify the position of the figure\n",
    "                           title='prediction by k-means', label=f'cluster{i}', ax=axes.flatten()[1])\n"
   ]
  },
  {
   "cell_type": "markdown",
   "metadata": {},
   "source": [
    "### 正解率(accuracy)を計算\n",
    "\n",
    "[scikit-learnで混同行列を生成、適合率・再現率・F1値などを算出](https://note.nkmk.me/python-sklearn-confusion-matrix-score/)"
   ]
  },
  {
   "cell_type": "code",
   "execution_count": null,
   "metadata": {},
   "outputs": [],
   "source": [
    "from sklearn import metrics\n",
    "# metrics.accuracy_score(iris_ans.species, df_pred)\n",
    "metrics.accuracy_score(iris.target, df_pred)"
   ]
  },
  {
   "cell_type": "markdown",
   "metadata": {},
   "source": [
    "<a id=\"svm\"></a>"
   ]
  },
  {
   "cell_type": "markdown",
   "metadata": {},
   "source": [
    "# サポートベクターマシンで分類"
   ]
  },
  {
   "cell_type": "markdown",
   "metadata": {},
   "source": [
    "stratifyというオプションで、targetの割合が等しくなるように分割する。<br>\n",
    "[Option: Stratify](https://panda-clip.com/data-split-stratified/)"
   ]
  },
  {
   "cell_type": "code",
   "execution_count": null,
   "metadata": {},
   "outputs": [],
   "source": [
    "from sklearn.model_selection import train_test_split\n",
    "from sklearn import svm,metrics\n",
    "\n",
    "# データを分割\n",
    "X_train,X_test,y_train,y_test=train_test_split(iris.data,iris.target,test_size=0.4,random_state=0, stratify=iris.target)\n",
    "\n",
    "# データを学習し、予測する\n",
    "clf = svm.SVC()\n",
    "clf.fit(X_train, y_train)\n",
    "pred_svm = clf.predict(X_test)"
   ]
  },
  {
   "cell_type": "markdown",
   "metadata": {},
   "source": [
    "## データを結合"
   ]
  },
  {
   "cell_type": "code",
   "execution_count": null,
   "metadata": {},
   "outputs": [],
   "source": [
    "# Copy data\n",
    "# iris_df_k = pd.DataFrame(iris_df.values[:,0:4])\n",
    "iris_svm = pd.DataFrame(X_test, columns=iris.feature_names)\n",
    "\n",
    "# Add a column, cluster.\n",
    "iris_svm['cluster'] = pred_svm\n",
    "\n",
    "iris_svm.head()\n",
    "\n",
    "# # Answer\n",
    "# iris_svm_ans = pd.DataFrame(X_test, columns=iris.feature_names)\n",
    "# iris_svm_ans['cluster'] = y_test\n"
   ]
  },
  {
   "cell_type": "markdown",
   "metadata": {},
   "source": [
    "## 可視化 : 散布図\n",
    "Visualization : Scattering plot"
   ]
  },
  {
   "cell_type": "code",
   "execution_count": null,
   "metadata": {},
   "outputs": [],
   "source": [
    "# クラスタリング結果のグラフ化 / Visualization\n",
    "ax = None\n",
    "bx = None\n",
    "colors = ['blue', 'red', 'green']\n",
    "\n",
    "# figsize : figureの縦横の大きさ(横、縦) / Size of figure (widthe, height)\n",
    "# nrows : number of rows\n",
    "# ncolumns : number of columns\n",
    "fig, axes = plt.subplots(nrows=1, ncols=2, figsize=(12, 4))\n",
    "\n",
    "# LEFT FIGURE: Answer (iris.target)\n",
    "for i, data in iris_svm_ans.groupby('cluster'):\n",
    "    #                       x-axis,  y-axis, specify the data with index name\n",
    "    ax = data.plot.scatter(x=iris_svm_ans.columns[0], y=iris_svm_ans.columns[1], color=colors[i],\n",
    "    #                                                           this number specify the position of the figure\n",
    "                            title='iris.target', label=f'cluster{i}', ax=axes.flatten()[0])\n",
    "\n",
    "# RIGHT FIGURE: k-means prediction\n",
    "for i, data in iris_svm.groupby('cluster'):\n",
    "    #                       x-axis,  y-axis, specify the data with index name\n",
    "    bx = data.plot.scatter(x=iris_svm.columns[0], y=iris_svm.columns[1], color=colors[i],\n",
    "    #                                                           this number specify the position of the figure\n",
    "                           title='prediction by SVM', label=f'cluster{i}', ax=axes.flatten()[1])\n"
   ]
  },
  {
   "cell_type": "markdown",
   "metadata": {},
   "source": [
    "### クラスタの番号を付け替える(必要があれば。。。)"
   ]
  },
  {
   "cell_type": "code",
   "execution_count": null,
   "metadata": {},
   "outputs": [],
   "source": [
    "# 今回は必要なかった。\n",
    "# df_pred = pd.DataFrame(y_pred).replace([0, 1, 2], [2, 1, 0])"
   ]
  },
  {
   "cell_type": "code",
   "execution_count": null,
   "metadata": {},
   "outputs": [],
   "source": [
    "#(4) 正解率を求める\n",
    "ac_score = metrics.accuracy_score(y_test, pred_svm)\n",
    "print('SVM 正解率：',ac_score) \n",
    "\n",
    "# k-means法の時は0.893だったので、正解率が上がってる!!\n",
    "# データ数が少ないので、クロスバリデーションしたほうがいいかも。。"
   ]
  },
  {
   "cell_type": "markdown",
   "metadata": {},
   "source": [
    "<a id=\"crossvalidation\"></a>"
   ]
  },
  {
   "cell_type": "markdown",
   "metadata": {},
   "source": [
    "## クロスバリデーションしてみる"
   ]
  },
  {
   "cell_type": "code",
   "execution_count": null,
   "metadata": {},
   "outputs": [],
   "source": [
    "from sklearn.model_selection import cross_val_score\n",
    "clf = svm.SVC()\n",
    "\n",
    "# 交差検証\n",
    "scores = cross_val_score(clf, iris.data, iris.target)\n",
    "\n",
    "# 各分割におけるスコア\n",
    "print('Cross-Validation scores: {}'.format(scores))\n",
    "# スコアの平均値\n",
    "\n",
    "print('Average score: {}'.format(np.mean(scores)))"
   ]
  },
  {
   "cell_type": "markdown",
   "metadata": {},
   "source": [
    "k-means法よりSVMのほうがうまく分類できるらしい。"
   ]
  },
  {
   "cell_type": "markdown",
   "metadata": {},
   "source": [
    "<a id=\"tree\"></a>"
   ]
  },
  {
   "cell_type": "markdown",
   "metadata": {},
   "source": [
    "# 決定木で分類\n",
    "\n",
    "今回はざっくりと使い方だけ紹介していますから、詳しくはきちんとテキストなどで勉強しましょう♪\n",
    "\n",
    "* Web:[【機械学習】決定木をscikit-learnと数学の両方から理解する](https://qiita.com/Hawaii/items/53efe3e96b1171ebc7db)\n",
    "* Book: [東京大学のデータサイエンティスト育成講座 : Pythonで手を動かして学ぶデータ分析](http://hdl.handle.net/2324/1001684368)\n",
    "* Book: [Pythonによるデータマイニングと機械学習](http://hdl.handle.net/2324/1001680874)\n",
    "* Book: [Pythonではじめる機械学習 : scikit-learnで学ぶ特徴量エンジニアリングと機械学習の基礎](http://hdl.handle.net/2324/1001632671)"
   ]
  },
  {
   "cell_type": "code",
   "execution_count": null,
   "metadata": {},
   "outputs": [],
   "source": [
    "from sklearn.model_selection import train_test_split\n",
    "from sklearn import tree\n",
    "\n",
    "# データを分割\n",
    "X_train,X_test,y_train,y_test=train_test_split(iris.data,iris.target,test_size=0.4,random_state=0)\n",
    "\n",
    "# データを学習し、予測する\n",
    "clf = tree.DecisionTreeClassifier(max_depth=3) # 決定木モデル（最大深さ3）\n",
    "clf = clf.fit(X_train, y_train) # 訓練データで学習\n",
    "\n",
    "pred_tree = clf.predict(X_test)\n"
   ]
  },
  {
   "cell_type": "markdown",
   "metadata": {},
   "source": [
    "## データを結合"
   ]
  },
  {
   "cell_type": "code",
   "execution_count": null,
   "metadata": {},
   "outputs": [],
   "source": [
    "# Copy data\n",
    "# iris_df_k = pd.DataFrame(iris_df.values[:,0:4])\n",
    "iris_tree = pd.DataFrame(X_test, columns=iris.feature_names)\n",
    "\n",
    "# Add a column, cluster.\n",
    "iris_tree['cluster'] = pred_tree\n",
    "\n",
    "iris_tree.head()\n",
    "\n",
    "# Answer\n",
    "iris_tree_ans = pd.DataFrame(X_test, columns=iris.feature_names)\n",
    "iris_tree_ans['cluster'] = y_test\n"
   ]
  },
  {
   "cell_type": "code",
   "execution_count": null,
   "metadata": {},
   "outputs": [],
   "source": [
    "iris_tree.head()"
   ]
  },
  {
   "cell_type": "markdown",
   "metadata": {},
   "source": [
    "## 可視化 : 散布図\n",
    "Visualization : Scattering plot"
   ]
  },
  {
   "cell_type": "code",
   "execution_count": null,
   "metadata": {},
   "outputs": [],
   "source": [
    "# クラスタリング結果のグラフ化 / Visualization\n",
    "ax = None\n",
    "bx = None\n",
    "colors = ['blue', 'red', 'green']\n",
    "\n",
    "# figsize : figureの縦横の大きさ(横、縦) / Size of figure (widthe, height)\n",
    "# nrows : number of rows\n",
    "# ncolumns : number of columns\n",
    "fig, axes = plt.subplots(nrows=1, ncols=2, figsize=(12, 4))\n",
    "\n",
    "# LEFT FIGURE: Answer (iris.target)\n",
    "for i, data in iris_tree_ans.groupby('cluster'):\n",
    "    #                       x-axis,  y-axis, specify the data with index name\n",
    "    ax = data.plot.scatter(x=iris_tree_ans.columns[0], y=iris_tree_ans.columns[1], color=colors[i],\n",
    "    #                                                           this number specify the position of the figure\n",
    "                            title='iris.target', label=f'cluster{i}', ax=axes.flatten()[0])\n",
    "\n",
    "# RIGHT FIGURE: k-means prediction\n",
    "for i, data in iris_tree.groupby('cluster'):\n",
    "    #                       x-axis,  y-axis, specify the data with index name\n",
    "    bx = data.plot.scatter(x=iris_tree.columns[0], y=iris_tree.columns[1], color=colors[i],\n",
    "    #                                                           this number specify the position of the figure\n",
    "                           title='prediction by Decision Tree', label=f'cluster{i}', ax=axes.flatten()[1])\n"
   ]
  },
  {
   "cell_type": "markdown",
   "metadata": {},
   "source": [
    "### クラスタの番号を付け替える(必要があれば。。。)\n",
    "\n",
    "* 答え　クラスタ0 (blue) →予測　クラスタ2 (green)\n",
    "* 答え　クラスタ1 (red) →予測　クラスタ1 (red)\n",
    "* 答え　クラスタ2 (green) →予測　クラスタ0 (blue)\n",
    "\n",
    "クラスタ番号を入れ替えて、df_predに保存する。"
   ]
  },
  {
   "cell_type": "code",
   "execution_count": null,
   "metadata": {},
   "outputs": [],
   "source": [
    "# 今回は必要なかった。\n",
    "# df_pred = pd.DataFrame(y_pred).replace([0, 1, 2], [2, 1, 0])"
   ]
  },
  {
   "cell_type": "code",
   "execution_count": null,
   "metadata": {},
   "outputs": [],
   "source": [
    "#(4) 正解率を求める\n",
    "ac_score = metrics.accuracy_score(y_test, pred_tree)\n",
    "print('Decision Tree 正解率：',ac_score) \n",
    "\n",
    "# k-means法 -> 0.893\n",
    "# SVM -> 0.97\n",
    "# さらに正解率が上がってる!!"
   ]
  },
  {
   "cell_type": "markdown",
   "metadata": {},
   "source": [
    "## クロスバリデーションしてみる"
   ]
  },
  {
   "cell_type": "code",
   "execution_count": null,
   "metadata": {},
   "outputs": [],
   "source": [
    "from sklearn.model_selection import cross_val_score\n",
    "clf = tree.DecisionTreeClassifier(max_depth=3) # 決定木モデル（最大深さ3）\n",
    "\n",
    "# 交差検証\n",
    "scores = cross_val_score(clf, iris.data, iris.target)\n",
    "\n",
    "# 各分割におけるスコア\n",
    "print('Cross-Validation scores: {}'.format(scores))\n",
    "# スコアの平均値\n",
    "\n",
    "print('Average score: {}'.format(np.mean(scores)))"
   ]
  },
  {
   "cell_type": "markdown",
   "metadata": {},
   "source": [
    "クロスバリデーションすると、SVMと決定木はだいたい同じ正解率だった。"
   ]
  }
 ],
 "metadata": {
  "kernelspec": {
   "display_name": "Python 3 (ipykernel)",
   "language": "python",
   "name": "python3"
  },
  "language_info": {
   "codemirror_mode": {
    "name": "ipython",
    "version": 3
   },
   "file_extension": ".py",
   "mimetype": "text/x-python",
   "name": "python",
   "nbconvert_exporter": "python",
   "pygments_lexer": "ipython3",
   "version": "3.9.18"
  }
 },
 "nbformat": 4,
 "nbformat_minor": 4
}
