{
 "cells": [
  {
   "cell_type": "markdown",
   "metadata": {},
   "source": [
    "# **データマイニングと情報可視化: レポート**\n",
    "# **Data mining and information visualization: Assignment**\n",
    "<font size=\"4\">\n",
    "第4回　2023年12月26日(火)<br>\n",
    "データマイニング手法2-1：クラスター分析（講義と分析手法の基礎）<br>\n",
    "Method 2-1: Clustering analysis (Lecture and basic skills)<br>\n",
    "</font>\n",
    "<span style=\"color: red;font-weight:bold; font-size:15pt;\" >締め切り 2023年12月29日(金)　23：59 JST</span>"
   ]
  },
  {
   "cell_type": "markdown",
   "metadata": {},
   "source": [
    "## (0) 名前と学籍番号を表示してください。/ Please display your name and student ID."
   ]
  },
  {
   "cell_type": "code",
   "execution_count": 409,
   "metadata": {},
   "outputs": [
    {
     "name": "stdout",
     "output_type": "stream",
     "text": [
      "一瀬遥希\n",
      "1TE22028G\n"
     ]
    }
   ],
   "source": [
    "# print 関数を使って下さい / Use print function.\n",
    "print('一瀬遥希')\n",
    "print('1TE22028G')"
   ]
  },
  {
   "cell_type": "markdown",
   "metadata": {
    "tags": []
   },
   "source": [
    "## (1) Marketing\n",
    "(1)マスマーケティングとone-to-oneマーケティングの違いを説明してください。<br>\n",
    "Please explain on the difference between Mass-marketing and one-to-one marketing.<br>\n",
    "(2)それぞれどのような場合に有効な広告手法か、説明してください。<br>\n",
    "Please explain when each is an effective advertising method.<br>\n",
    "<br>"
   ]
  },
  {
   "cell_type": "markdown",
   "metadata": {},
   "source": [
    "(1)対象を特定せず、すべての消費者を対象として行うマーケティング戦略、活動。\n",
    "\n",
    "\n",
    "(2)一人一人の消費者のニーズや購買履歴に合わせて、個別に展開されるマーケティング戦略、活動。\n",
    "\n"
   ]
  },
  {
   "cell_type": "markdown",
   "metadata": {},
   "source": [
    "## (2) 必要なライブラリをインポートしてください。 / Import libraries."
   ]
  },
  {
   "cell_type": "code",
   "execution_count": 410,
   "metadata": {},
   "outputs": [],
   "source": [
    "# まずはライブラリをインポート / Import the libraries.\n",
    "import numpy as np\n",
    "from numpy.random import normal,rand\n",
    "\n",
    "import scipy as sp\n",
    "from pandas import Series, DataFrame\n",
    "import pandas as pd\n",
    "\n",
    "import matplotlib.pyplot as plt\n",
    "import matplotlib as mpl\n",
    "import seaborn as sns\n",
    "%matplotlib inline\n",
    "\n",
    "import sklearn"
   ]
  },
  {
   "cell_type": "markdown",
   "metadata": {},
   "source": [
    "## (3) CSVファイル'w4_rep_data.csv'を読み込んで、最初の10行を表示してください。\n",
    "Load a csv file, w4_rep_data.csv, then display the first 10 rows of the DataFrame, df.\n"
   ]
  },
  {
   "cell_type": "code",
   "execution_count": 411,
   "metadata": {},
   "outputs": [],
   "source": [
    "df = pd.read_csv('data/w4_rep_data.csv')"
   ]
  },
  {
   "cell_type": "markdown",
   "metadata": {},
   "source": [
    "## (4) CSVファイルから読み込んだDataFrameの列と行の数を表示してください。\n",
    "Please show the numbers of rows and columns in the DataFrame."
   ]
  },
  {
   "cell_type": "code",
   "execution_count": 412,
   "metadata": {},
   "outputs": [
    {
     "name": "stdout",
     "output_type": "stream",
     "text": [
      "行: 45\n",
      "列: 7\n"
     ]
    }
   ],
   "source": [
    "# The number of columns\n",
    "print(\"行:\",df.shape[0])\n",
    "\n",
    "# The number of rows\n",
    "print(\"列:\",df.shape[1])"
   ]
  },
  {
   "cell_type": "markdown",
   "metadata": {},
   "source": [
    "## (5) 'Name'の列を削除してください。/ Remove the column, named 'Name'.\n",
    "[Remove columns: drop](https://note.nkmk.me/python-pandas-drop/)<br>\n",
    "[Week 2: drop](Ex_Week2.ipynb#drop): Delete columns / rows"
   ]
  },
  {
   "cell_type": "code",
   "execution_count": 413,
   "metadata": {},
   "outputs": [],
   "source": [
    "df.drop(columns='Name', inplace=True)"
   ]
  },
  {
   "cell_type": "markdown",
   "metadata": {},
   "source": [
    "## (6) 欠損値の数を数える / Count the number of NaN\n",
    "列のすべての要素が欠損値である列はどれですか？\n",
    "\n",
    "[Week 4: Count NaN](Ex_Week4.ipynb#countnan)"
   ]
  },
  {
   "cell_type": "code",
   "execution_count": 414,
   "metadata": {},
   "outputs": [
    {
     "name": "stdout",
     "output_type": "stream",
     "text": [
      "Math           7\n",
      "Phys           8\n",
      "Chemistry      6\n",
      "History       45\n",
      "Literature     4\n",
      "Politics       3\n",
      "dtype: int64\n"
     ]
    }
   ],
   "source": [
    "# 列ごとに欠損値の数を数える / Count the number of NaN by column\n",
    "print(df.isnull().sum())"
   ]
  },
  {
   "cell_type": "code",
   "execution_count": 415,
   "metadata": {},
   "outputs": [
    {
     "name": "stdout",
     "output_type": "stream",
     "text": [
      "Math          False\n",
      "Phys          False\n",
      "Chemistry     False\n",
      "History        True\n",
      "Literature    False\n",
      "Politics      False\n",
      "dtype: bool\n"
     ]
    }
   ],
   "source": [
    "# 列のすべての要素が欠損値である列はどれですか？ / Which columns have all elements of the columns missing values?\n",
    "print(df.isnull().all())"
   ]
  },
  {
   "cell_type": "markdown",
   "metadata": {},
   "source": [
    "## (7) 列を削除 / Delete a column\n",
    "(6)ですべての要素が欠損値だった列を削除して、別の名前のDataFrameに格納してください。<br>\n",
    "最初の5行を表示して、処理がうまくいっているか確認してください。<br>\n",
    "Delete the columns where all elements were missing values in (6) and store them in a DataFrame with a different name.<br>\n",
    "Display the first five rows to verify that the process is working.<br>\n",
    "<br>\n",
    "[Week 4: Count NaN](Ex_Week4.ipynb#drop_column)<br>\n",
    "[Week 4: Remove specific columns or rows](Ex_Week4.ipynb#removenan_subset)"
   ]
  },
  {
   "cell_type": "code",
   "execution_count": 416,
   "metadata": {},
   "outputs": [
    {
     "data": {
      "text/html": [
       "<div>\n",
       "<style scoped>\n",
       "    .dataframe tbody tr th:only-of-type {\n",
       "        vertical-align: middle;\n",
       "    }\n",
       "\n",
       "    .dataframe tbody tr th {\n",
       "        vertical-align: top;\n",
       "    }\n",
       "\n",
       "    .dataframe thead th {\n",
       "        text-align: right;\n",
       "    }\n",
       "</style>\n",
       "<table border=\"1\" class=\"dataframe\">\n",
       "  <thead>\n",
       "    <tr style=\"text-align: right;\">\n",
       "      <th></th>\n",
       "      <th>Math</th>\n",
       "      <th>Phys</th>\n",
       "      <th>Chemistry</th>\n",
       "      <th>Literature</th>\n",
       "      <th>Politics</th>\n",
       "    </tr>\n",
       "  </thead>\n",
       "  <tbody>\n",
       "    <tr>\n",
       "      <th>0</th>\n",
       "      <td>76.0</td>\n",
       "      <td>91.0</td>\n",
       "      <td>70.0</td>\n",
       "      <td>50.0</td>\n",
       "      <td>32.0</td>\n",
       "    </tr>\n",
       "    <tr>\n",
       "      <th>1</th>\n",
       "      <td>69.0</td>\n",
       "      <td>82.0</td>\n",
       "      <td>78.0</td>\n",
       "      <td>35.0</td>\n",
       "      <td>45.0</td>\n",
       "    </tr>\n",
       "    <tr>\n",
       "      <th>2</th>\n",
       "      <td>72.0</td>\n",
       "      <td>83.0</td>\n",
       "      <td>76.0</td>\n",
       "      <td>43.0</td>\n",
       "      <td>39.0</td>\n",
       "    </tr>\n",
       "    <tr>\n",
       "      <th>3</th>\n",
       "      <td>81.0</td>\n",
       "      <td>NaN</td>\n",
       "      <td>72.0</td>\n",
       "      <td>47.0</td>\n",
       "      <td>31.0</td>\n",
       "    </tr>\n",
       "    <tr>\n",
       "      <th>4</th>\n",
       "      <td>80.0</td>\n",
       "      <td>83.0</td>\n",
       "      <td>69.0</td>\n",
       "      <td>43.0</td>\n",
       "      <td>38.0</td>\n",
       "    </tr>\n",
       "  </tbody>\n",
       "</table>\n",
       "</div>"
      ],
      "text/plain": [
       "   Math  Phys  Chemistry  Literature  Politics\n",
       "0  76.0  91.0       70.0        50.0      32.0\n",
       "1  69.0  82.0       78.0        35.0      45.0\n",
       "2  72.0  83.0       76.0        43.0      39.0\n",
       "3  81.0   NaN       72.0        47.0      31.0\n",
       "4  80.0  83.0       69.0        43.0      38.0"
      ]
     },
     "execution_count": 416,
     "metadata": {},
     "output_type": "execute_result"
    }
   ],
   "source": [
    "df2=df.drop(columns='History')\n",
    "df2.head()"
   ]
  },
  {
   "cell_type": "markdown",
   "metadata": {},
   "source": [
    "## (8) 特定の列における欠損値の削除 / Remove NaN in a specific column\n",
    "(7)で得られたDataFrameに対して、'Phys'の列に欠損値がある行を削除して、別名のDataFrameに格納してください。<br>\n",
    "最初の5行を表示して、(7)で得られたDataFrameと見比べて、'Phys'の欠損値があった3行目が新しいDataFrameでなくなっているのを確認してください。<br>\n",
    "\n",
    "In the DataFrame obtained in (7), remove the rows which have NaN in the 'Phys' column and store them in a DataFrame with a different name.<br>\n",
    "Display the first 5 rows, then verify that the third row which had NaN in 'Phys' column was removed.<br>\n",
    "Please verify that \n",
    "\n",
    "[Week 4: Remove NaN in a specific rows](Ex_Week4.ipynb#removenan_subset)"
   ]
  },
  {
   "cell_type": "code",
   "execution_count": 417,
   "metadata": {},
   "outputs": [
    {
     "data": {
      "text/html": [
       "<div>\n",
       "<style scoped>\n",
       "    .dataframe tbody tr th:only-of-type {\n",
       "        vertical-align: middle;\n",
       "    }\n",
       "\n",
       "    .dataframe tbody tr th {\n",
       "        vertical-align: top;\n",
       "    }\n",
       "\n",
       "    .dataframe thead th {\n",
       "        text-align: right;\n",
       "    }\n",
       "</style>\n",
       "<table border=\"1\" class=\"dataframe\">\n",
       "  <thead>\n",
       "    <tr style=\"text-align: right;\">\n",
       "      <th></th>\n",
       "      <th>Math</th>\n",
       "      <th>Phys</th>\n",
       "      <th>Chemistry</th>\n",
       "      <th>Literature</th>\n",
       "      <th>Politics</th>\n",
       "    </tr>\n",
       "  </thead>\n",
       "  <tbody>\n",
       "    <tr>\n",
       "      <th>0</th>\n",
       "      <td>76.0</td>\n",
       "      <td>91.0</td>\n",
       "      <td>70.0</td>\n",
       "      <td>50.0</td>\n",
       "      <td>32.0</td>\n",
       "    </tr>\n",
       "    <tr>\n",
       "      <th>1</th>\n",
       "      <td>69.0</td>\n",
       "      <td>82.0</td>\n",
       "      <td>78.0</td>\n",
       "      <td>35.0</td>\n",
       "      <td>45.0</td>\n",
       "    </tr>\n",
       "    <tr>\n",
       "      <th>2</th>\n",
       "      <td>72.0</td>\n",
       "      <td>83.0</td>\n",
       "      <td>76.0</td>\n",
       "      <td>43.0</td>\n",
       "      <td>39.0</td>\n",
       "    </tr>\n",
       "    <tr>\n",
       "      <th>4</th>\n",
       "      <td>80.0</td>\n",
       "      <td>83.0</td>\n",
       "      <td>69.0</td>\n",
       "      <td>43.0</td>\n",
       "      <td>38.0</td>\n",
       "    </tr>\n",
       "    <tr>\n",
       "      <th>5</th>\n",
       "      <td>80.0</td>\n",
       "      <td>83.0</td>\n",
       "      <td>42.0</td>\n",
       "      <td>39.0</td>\n",
       "      <td>35.0</td>\n",
       "    </tr>\n",
       "  </tbody>\n",
       "</table>\n",
       "</div>"
      ],
      "text/plain": [
       "   Math  Phys  Chemistry  Literature  Politics\n",
       "0  76.0  91.0       70.0        50.0      32.0\n",
       "1  69.0  82.0       78.0        35.0      45.0\n",
       "2  72.0  83.0       76.0        43.0      39.0\n",
       "4  80.0  83.0       69.0        43.0      38.0\n",
       "5  80.0  83.0       42.0        39.0      35.0"
      ]
     },
     "execution_count": 417,
     "metadata": {},
     "output_type": "execute_result"
    }
   ],
   "source": [
    "df3 = df2.dropna(subset=['Phys'])\n",
    "df3.head()"
   ]
  },
  {
   "cell_type": "markdown",
   "metadata": {},
   "source": [
    "## (9) 欠損値の削除 / Remove NaN\n",
    "(7)で得られたDataFrameに対して、一つでも欠損値のある行を削除して、別名のDataFrameに格納してください。<br>\n",
    "欠損値の数がゼロになっているのを確認してください。<br>\n",
    "\n",
    "In the DataFrame obtained in (7), remove the rows which have at least one NaN, then store them in a DataFrame with a different name.<br>\n",
    "Please verify that the number of NaN is zero.<br>\n",
    "\n",
    "[Week 4: Remove NaN](Ex_Week4.ipynb#removenan)"
   ]
  },
  {
   "cell_type": "code",
   "execution_count": 418,
   "metadata": {},
   "outputs": [
    {
     "name": "stdout",
     "output_type": "stream",
     "text": [
      "Math          0\n",
      "Phys          0\n",
      "Chemistry     0\n",
      "Literature    0\n",
      "Politics      0\n",
      "dtype: int64\n"
     ]
    }
   ],
   "source": [
    "df4 = df2.dropna(how='any')\n",
    "print(df4.isnull().sum(axis=0))"
   ]
  },
  {
   "cell_type": "markdown",
   "metadata": {},
   "source": [
    "## (10) 平均を求める / Calculate averages.\n",
    "`Chemistry`と`Literature`の平均を求めて、表示してください。<br>\n",
    "Calculate the averages of `Chemistry` and `Literature`, then display the results.<br>\n",
    "<br>\n",
    "<b>(9)でNaNを削除したデータを別名で格納してあるので、そのDataFrameを使いましょう。<br>\n",
    "To calculate the averages, use a new DataFrame which stores the data without NaN as you did in  (8).</b><br>\n",
    "<br>\n",
    "[Week 4: Average](Ex_Week4.ipynb#average)"
   ]
  },
  {
   "cell_type": "code",
   "execution_count": 419,
   "metadata": {},
   "outputs": [
    {
     "name": "stdout",
     "output_type": "stream",
     "text": [
      "45.19230769230769\n",
      "76.42307692307692\n"
     ]
    }
   ],
   "source": [
    "# average of Chemistry, mu_Chemistry\n",
    "mu_Chemistry = df4['Chemistry'].mean()\n",
    "print(mu_Chemistry)\n",
    "\n",
    "# average of Literature, mu_Literature\n",
    "mu_Literature = df4['Literature'].mean()\n",
    "print(mu_Literature)\n"
   ]
  },
  {
   "cell_type": "markdown",
   "metadata": {},
   "source": [
    "## (11) 標準偏差を求める / Calculate standard deviations (std).\n",
    "`Chemistry`と`Literature`の標準偏差を求めて、表示してください。<br>\n",
    "Calculate the standard deviations of `Chemistry` and `Literature`, then display the results.<br>\n",
    "<br>\n",
    "<b>(9)でNaNを削除したデータを別名で格納してあるので、そのDataFrameを使いましょう。<br>\n",
    "To calculate the averages, use a new DataFrame which stores the data without NaN as you did in  (8).</b><br>\n",
    "<br>\n",
    "[Week 4: Standard deviation](Ex_Week4.ipynb#std)"
   ]
  },
  {
   "cell_type": "code",
   "execution_count": 420,
   "metadata": {},
   "outputs": [
    {
     "name": "stdout",
     "output_type": "stream",
     "text": [
      "13.49079458228975\n",
      "21.782879657057425\n"
     ]
    }
   ],
   "source": [
    "# std of Chemistry, std_Chemistry\n",
    "std_Chemistry = df4['Chemistry'].std()\n",
    "print(std_Chemistry)\n",
    "\n",
    "# std of Literature, std_Literature\n",
    "std_Literature = df4['Literature'].std()\n",
    "print(std_Literature)\n"
   ]
  },
  {
   "cell_type": "markdown",
   "metadata": {},
   "source": [
    "## (12) データの標準化\n",
    "上で求めた平均と標準偏差で、`Chemistry`と`Literature`を標準化してください。<br>\n",
    "標準化したデータは、別名の配列(DataFrame/リスト)に格納してください。<br><br>\n",
    "Standardize the data, `Chemistry` and `Literature`, with the averages and standard deviations obtained above. <br>\n",
    "Then, store them in a DataFrame or a list with a different name.<br>\n",
    "\n",
    "<b>(9)でNaNを削除したデータを別名で格納してあるので、そのDataFrameを使いましょう。<br>\n",
    "To calculate the averages, use a new DataFrame which stores the data without NaN as you did in  (8).</b><br>\n",
    "\n",
    "[Week 4: Standardization](Ex_Week4.ipynb#standardization)"
   ]
  },
  {
   "cell_type": "code",
   "execution_count": 421,
   "metadata": {},
   "outputs": [
    {
     "data": {
      "text/html": [
       "<div>\n",
       "<style scoped>\n",
       "    .dataframe tbody tr th:only-of-type {\n",
       "        vertical-align: middle;\n",
       "    }\n",
       "\n",
       "    .dataframe tbody tr th {\n",
       "        vertical-align: top;\n",
       "    }\n",
       "\n",
       "    .dataframe thead th {\n",
       "        text-align: right;\n",
       "    }\n",
       "</style>\n",
       "<table border=\"1\" class=\"dataframe\">\n",
       "  <thead>\n",
       "    <tr style=\"text-align: right;\">\n",
       "      <th></th>\n",
       "      <th>Chemistry</th>\n",
       "    </tr>\n",
       "  </thead>\n",
       "  <tbody>\n",
       "    <tr>\n",
       "      <th>0</th>\n",
       "      <td>1.838861</td>\n",
       "    </tr>\n",
       "    <tr>\n",
       "      <th>1</th>\n",
       "      <td>2.431858</td>\n",
       "    </tr>\n",
       "    <tr>\n",
       "      <th>2</th>\n",
       "      <td>2.283608</td>\n",
       "    </tr>\n",
       "    <tr>\n",
       "      <th>4</th>\n",
       "      <td>1.764736</td>\n",
       "    </tr>\n",
       "    <tr>\n",
       "      <th>5</th>\n",
       "      <td>-0.236629</td>\n",
       "    </tr>\n",
       "  </tbody>\n",
       "</table>\n",
       "</div>"
      ],
      "text/plain": [
       "   Chemistry\n",
       "0   1.838861\n",
       "1   2.431858\n",
       "2   2.283608\n",
       "4   1.764736\n",
       "5  -0.236629"
      ]
     },
     "execution_count": 421,
     "metadata": {},
     "output_type": "execute_result"
    }
   ],
   "source": [
    "Chemistry_standardized = (df4['Chemistry'] - mu_Chemistry) / std_Chemistry\n",
    "df_Chemistry_standardized = pd.DataFrame(Chemistry_standardized)\n",
    "df_Chemistry_standardized.head()"
   ]
  },
  {
   "cell_type": "code",
   "execution_count": 422,
   "metadata": {},
   "outputs": [
    {
     "data": {
      "text/html": [
       "<div>\n",
       "<style scoped>\n",
       "    .dataframe tbody tr th:only-of-type {\n",
       "        vertical-align: middle;\n",
       "    }\n",
       "\n",
       "    .dataframe tbody tr th {\n",
       "        vertical-align: top;\n",
       "    }\n",
       "\n",
       "    .dataframe thead th {\n",
       "        text-align: right;\n",
       "    }\n",
       "</style>\n",
       "<table border=\"1\" class=\"dataframe\">\n",
       "  <thead>\n",
       "    <tr style=\"text-align: right;\">\n",
       "      <th></th>\n",
       "      <th>Literature</th>\n",
       "    </tr>\n",
       "  </thead>\n",
       "  <tbody>\n",
       "    <tr>\n",
       "      <th>0</th>\n",
       "      <td>-1.213020</td>\n",
       "    </tr>\n",
       "    <tr>\n",
       "      <th>1</th>\n",
       "      <td>-1.901635</td>\n",
       "    </tr>\n",
       "    <tr>\n",
       "      <th>2</th>\n",
       "      <td>-1.534374</td>\n",
       "    </tr>\n",
       "    <tr>\n",
       "      <th>4</th>\n",
       "      <td>-1.534374</td>\n",
       "    </tr>\n",
       "    <tr>\n",
       "      <th>5</th>\n",
       "      <td>-1.718004</td>\n",
       "    </tr>\n",
       "  </tbody>\n",
       "</table>\n",
       "</div>"
      ],
      "text/plain": [
       "   Literature\n",
       "0   -1.213020\n",
       "1   -1.901635\n",
       "2   -1.534374\n",
       "4   -1.534374\n",
       "5   -1.718004"
      ]
     },
     "execution_count": 422,
     "metadata": {},
     "output_type": "execute_result"
    }
   ],
   "source": [
    "Literature_standardized = (df4['Literature'] - mu_Literature) / std_Literature\n",
    "df_Literature_standardized = pd.DataFrame(Literature_standardized)\n",
    "df_Literature_standardized.head()"
   ]
  },
  {
   "cell_type": "markdown",
   "metadata": {},
   "source": [
    "## (13) 可視化 / Visualization\n",
    "標準化する前の`Chemistry`と`Literature`のデータと、標準化したあとのデータを散布図でプロットしてください。<br>\n",
    "\n",
    "標準化する前のグラフのプロット範囲は、<br>\n",
    "0 < x < 100, <br>\n",
    "0 < y < 100, <br>\n",
    "標準化した後のグラフのプロット範囲は、<br>\n",
    "-5 < x < 5, <br>\n",
    "-5 < y < 5. <br>\n",
    "とし、x軸とy軸の比率が等しい正方形の図を作成してください。<br><br>\n",
    "\n",
    "Plot the data of `Chemistry` and `Literature` before and after the standardization with a scattering plot.<br>\n",
    "The range of the axes before standardization are<br>\n",
    "0 < x < 100, <br>\n",
    "0 < y < 100, <br>\n",
    "and after the standardization are<br>\n",
    "-5 < x < 5, <br>\n",
    "-5 < y < 5. <br>\n",
    "Then draw a square figure with equal axis ratios.<br><br> \n",
    "[Week 4: Scattering plot](Ex_Week4.ipynb#scatterplot)"
   ]
  },
  {
   "cell_type": "code",
   "execution_count": 423,
   "metadata": {},
   "outputs": [
    {
     "data": {
      "image/png": "[encoded data removed]",
      "text/plain": [
       "<Figure size 640x480 with 1 Axes>"
      ]
     },
     "metadata": {},
     "output_type": "display_data"
    }
   ],
   "source": [
    "# Before Standardization, Chemistry vs. Literature\n",
    "plt.scatter(df4['Chemistry'], df4['Literature'])\n",
    "plt.title('Before Standardization')\n",
    "plt.xlabel('Chemistry')\n",
    "plt.ylabel('Literature')\n",
    "plt.xlim(0, 100)\n",
    "plt.ylim(0, 100)\n",
    "plt.gca().set_aspect('equal', adjustable='box')\n",
    "plt.show()"
   ]
  },
  {
   "cell_type": "code",
   "execution_count": 424,
   "metadata": {},
   "outputs": [
    {
     "data": {
      "image/png": "[encoded data removed]",
      "text/plain": [
       "<Figure size 640x480 with 1 Axes>"
      ]
     },
     "metadata": {},
     "output_type": "display_data"
    }
   ],
   "source": [
    "# After Standardization, Chemistry vs. Literature\n",
    "plt.scatter(df_Chemistry_standardized['Chemistry'], df_Literature_standardized['Literature'])\n",
    "plt.title('After Standardization')\n",
    "plt.xlabel('Chemistry')\n",
    "plt.ylabel('Literature')\n",
    "plt.xlim(-5, 5)\n",
    "plt.ylim(-5, 5)\n",
    "plt.gca().set_aspect('equal', adjustable='box')\n",
    "plt.show()"
   ]
  },
  {
   "cell_type": "markdown",
   "metadata": {},
   "source": [
    "## (14) クラスタリング分析について / Clustering Analysis\n",
    "以下のいずれかについて自分で調べて、手短にまとめてください。 / Please summarize briefly one of the topics below.\n",
    "* クラスタリング分析が役に立つ例を1つ <br>\n",
    "One example of application of clustering analysis.\n",
    "* 階層型と非階層型のクラスタリング分析について、それぞれの長所と短所<br>\n",
    "Advantages and disadvantages of Hierarchical and Non-hierarchical clustering analysis."
   ]
  },
  {
   "cell_type": "markdown",
   "metadata": {},
   "source": [
    "・クラスタリング分析が役立つ例<br>\n",
    "市場セグメンテーション: 類似した購買行動を示す顧客を同じクラスタにグループ化して、適切なマーケティング戦略を展開する<br>\n",
    "画像セグメンテーション: 画像内の類似した領域を同じクラスタに分類して、物体や特定の構造を検出しやすくする<br>\n",
    "文書クラスタリング: 似たようなトピックを持つ文書を同じクラスタにグループ化して、情報検索やテキストマイニングを改善する\n",
    "\n",
    "\n",
    "・階層型<br>\n",
    "長所：<br>\n",
    "クラスタ数を自由に設定できる<br>\n",
    "分析結果が、デンドログラムで表現されるため、視覚的にも理解がしやすい<br>\n",
    "短所：<br>\n",
    "データ全てを総当たりで計算するため、計算量が大きい<br>\n",
    "\n",
    "・非階層型<br>\n",
    "長所：<br>\n",
    "階層型クラスター分析よりも計算が簡略化され、効率的<br>\n",
    "短所：<br>\n",
    "基準値やクラスター数を人の手で設定する必要があり、最適なクラスタ数を決定するのが難しい"
   ]
  },
  {
   "cell_type": "markdown",
   "metadata": {},
   "source": [
    "## おまけ問題 / Optional problem\n",
    "(12)の問題で用いたデータ(Chemistry & Literature)を、Scikit-learnで、標準化してみてください。<br>\n",
    "グラフにプロットして、元のデータと比べてみましょう。<br>\n",
    "Please standardize data (Chemistry & Literature) with Scikit-learn.<br>\n",
    "Plot the standardize data and the original data with scattering plot.<br>"
   ]
  },
  {
   "cell_type": "code",
   "execution_count": 425,
   "metadata": {},
   "outputs": [
    {
     "data": {
      "text/html": [
       "<div>\n",
       "<style scoped>\n",
       "    .dataframe tbody tr th:only-of-type {\n",
       "        vertical-align: middle;\n",
       "    }\n",
       "\n",
       "    .dataframe tbody tr th {\n",
       "        vertical-align: top;\n",
       "    }\n",
       "\n",
       "    .dataframe thead th {\n",
       "        text-align: right;\n",
       "    }\n",
       "</style>\n",
       "<table border=\"1\" class=\"dataframe\">\n",
       "  <thead>\n",
       "    <tr style=\"text-align: right;\">\n",
       "      <th></th>\n",
       "      <th>Chemistry</th>\n",
       "      <th>Literature</th>\n",
       "    </tr>\n",
       "  </thead>\n",
       "  <tbody>\n",
       "    <tr>\n",
       "      <th>0</th>\n",
       "      <td>1.875277</td>\n",
       "      <td>-1.237043</td>\n",
       "    </tr>\n",
       "    <tr>\n",
       "      <th>1</th>\n",
       "      <td>2.480018</td>\n",
       "      <td>-1.939294</td>\n",
       "    </tr>\n",
       "    <tr>\n",
       "      <th>2</th>\n",
       "      <td>2.328833</td>\n",
       "      <td>-1.564760</td>\n",
       "    </tr>\n",
       "    <tr>\n",
       "      <th>3</th>\n",
       "      <td>1.799685</td>\n",
       "      <td>-1.564760</td>\n",
       "    </tr>\n",
       "    <tr>\n",
       "      <th>4</th>\n",
       "      <td>-0.241315</td>\n",
       "      <td>-1.752027</td>\n",
       "    </tr>\n",
       "  </tbody>\n",
       "</table>\n",
       "</div>"
      ],
      "text/plain": [
       "   Chemistry  Literature\n",
       "0   1.875277   -1.237043\n",
       "1   2.480018   -1.939294\n",
       "2   2.328833   -1.564760\n",
       "3   1.799685   -1.564760\n",
       "4  -0.241315   -1.752027"
      ]
     },
     "execution_count": 425,
     "metadata": {},
     "output_type": "execute_result"
    }
   ],
   "source": [
    "from sklearn.preprocessing import StandardScaler\n",
    "\n",
    "scaler = StandardScaler()\n",
    "\n",
    "x_standardized = scaler.fit_transform(df4[['Chemistry','Literature']])\n",
    "df_x_standardized = pd.DataFrame(x_standardized, columns=['Chemistry','Literature'])\n",
    "\n",
    "df_x_standardized.head()"
   ]
  },
  {
   "cell_type": "code",
   "execution_count": 426,
   "metadata": {},
   "outputs": [
    {
     "data": {
      "image/png": "[encoded data removed]",
      "text/plain": [
       "<Figure size 640x480 with 1 Axes>"
      ]
     },
     "metadata": {},
     "output_type": "display_data"
    }
   ],
   "source": [
    "plt.scatter(df_x_standardized['Chemistry'], df_x_standardized['Literature'])\n",
    "plt.title('After Standardization')\n",
    "plt.xlabel('Chemistry')\n",
    "plt.ylabel('Literature')\n",
    "plt.xlim(-5, 5)\n",
    "plt.ylim(-5, 5)\n",
    "plt.gca().set_aspect('equal', adjustable='box')\n",
    "plt.show()"
   ]
  }
 ],
 "metadata": {
  "kernelspec": {
   "display_name": "Python 3 (ipykernel)",
   "language": "python",
   "name": "python3"
  },
  "language_info": {
   "codemirror_mode": {
    "name": "ipython",
    "version": 3
   },
   "file_extension": ".py",
   "mimetype": "text/x-python",
   "name": "python",
   "nbconvert_exporter": "python",
   "pygments_lexer": "ipython3",
   "version": "3.11.5"
  },
  "vscode": {
   "interpreter": {
    "hash": "2d310e2983d537d510a7a53853bdcb5d6cbd221511b8cd3f035011352eca6267"
   }
  }
 },
 "nbformat": 4,
 "nbformat_minor": 4
}
