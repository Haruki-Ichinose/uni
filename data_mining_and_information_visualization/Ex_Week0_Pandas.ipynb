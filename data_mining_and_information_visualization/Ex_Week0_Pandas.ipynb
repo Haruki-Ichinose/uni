{
 "cells": [
  {
   "cell_type": "markdown",
   "metadata": {},
   "source": [
    "# Basics of Pandas\n",
    "\n",
    "[参考サイト：Pandas 基礎とよく使う機能メモ](https://qiita.com/ryo111/items/144446bedb9aa75b0acc)　コンパクトにまとまってる。<br>\n",
    "[参考サイト：pandas 入門 - pandasによるデータ処理の基礎](https://www.yunabe.jp/docs/pandas_basics.html)　説明が丁寧。<br>"
   ]
  },
  {
   "cell_type": "code",
   "execution_count": null,
   "metadata": {},
   "outputs": [],
   "source": [
    "# まずはライブラリをインポート / Import the libraries.\n",
    "import numpy as np\n",
    "import numpy.random as random\n",
    "import scipy as sp\n",
    "from pandas import Series, DataFrame\n",
    "import pandas as pd\n",
    "\n",
    "# 可視化ライブラリ / Visualization libraries\n",
    "import matplotlib.pyplot as plt\n",
    "import matplotlib as mpl\n",
    "import seaborn as sns\n",
    "%matplotlib inline\n",
    "\n",
    "# 機械学習ライブラリ (念のため)/ Machine learning library (may not be used, but just in case..)\n",
    "import sklearn\n",
    "\n",
    "# 小数第3位まで表示 / display up to the 3rd decimal place\n",
    "%precision 3"
   ]
  },
  {
   "cell_type": "markdown",
   "metadata": {},
   "source": [
    "## Series @ Pandas\n",
    "[参考サイト：Pandasの基本的なデータ構造Seriesの基礎と活用方法](https://deepage.net/features/pandas-series.html)"
   ]
  },
  {
   "cell_type": "code",
   "execution_count": null,
   "metadata": {},
   "outputs": [],
   "source": [
    "a = pd.Series([1,2,3]) # 配列から生成\n",
    "\n",
    "# Display a\n",
    "a\n",
    "\n",
    "# Please change the values as you like."
   ]
  },
  {
   "cell_type": "code",
   "execution_count": null,
   "metadata": {},
   "outputs": [],
   "source": [
    "array = [1., 2., 3.]\n",
    "b = pd.Series(array)\n",
    "\n",
    "# Display b\n",
    "b\n",
    "\n",
    "# Please change the values as you like."
   ]
  },
  {
   "cell_type": "code",
   "execution_count": null,
   "metadata": {},
   "outputs": [],
   "source": [
    "# NumPyの１次元配列から生成することもできます。 / You can create an array of Series from Numpy 1 dimensional array.\n",
    "np_array = np.array([1,2,3])\n",
    "np_array\n",
    "c = pd.Series(np_array)\n",
    "\n",
    "# Display c\n",
    "c"
   ]
  },
  {
   "cell_type": "code",
   "execution_count": null,
   "metadata": {},
   "outputs": [],
   "source": [
    "# You can create an array of Series from dictionary object\n",
    "dic = {\"Tokyo\": 100, \"Osaka\": 250, \"Nagoya\": 10} # 辞書オブジェクトの生成\n",
    "d = pd.Series(dic)\n",
    "\n",
    "# Display d\n",
    "d"
   ]
  },
  {
   "cell_type": "code",
   "execution_count": null,
   "metadata": {},
   "outputs": [],
   "source": [
    "# 値だけを入れることもできます。/ You can simply store values.\n",
    "e = pd.Series(1) # 1だけを入れる\n",
    "\n",
    "# Display e\n",
    "e"
   ]
  },
  {
   "cell_type": "code",
   "execution_count": null,
   "metadata": {},
   "outputs": [],
   "source": [
    "# 文字列も格納できます。/ You can store strings.\n",
    "f = pd.Series([\"A\", \"B\", \"C\"])\n",
    "\n",
    "# Display f\n",
    "f"
   ]
  },
  {
   "cell_type": "code",
   "execution_count": null,
   "metadata": {},
   "outputs": [],
   "source": [
    "# You can store a mixture of integers, floats, strings.\n",
    "g = pd.Series(['A', 1, 1.0, None])\n",
    "\n",
    "# Display f\n",
    "g"
   ]
  },
  {
   "cell_type": "code",
   "execution_count": null,
   "metadata": {},
   "outputs": [],
   "source": [
    "# インデックスの指定 / # You can specify the index.\n",
    "series = pd.Series([5,4,3,2,1])\n",
    "series.index # indexの表示 / Display the indices"
   ]
  },
  {
   "cell_type": "code",
   "execution_count": null,
   "metadata": {},
   "outputs": [],
   "source": [
    "# You can specify the index with arange function of Numpy.\n",
    "series_2 = pd.Series([5,4,3,2,1], index=np.arange(5))\n",
    "print(series_2)\n",
    "series_2.index"
   ]
  },
  {
   "cell_type": "code",
   "execution_count": null,
   "metadata": {},
   "outputs": [],
   "source": [
    "# You can specify the index with strings.\n",
    "series_3 = pd.Series([5,4,3,2,1], index=['a','b','c','d','e']) # a,b,c,d,eとインデックスをつける\n",
    "print(series_3)\n",
    "series_3.index"
   ]
  },
  {
   "cell_type": "code",
   "execution_count": null,
   "metadata": {},
   "outputs": [],
   "source": [
    "# You can rename the index.\n",
    "series_2 = pd.Series([5,4,3,2,1], index=np.arange(5))\n",
    "print(series_2)\n",
    "series_2.index\n",
    "series_2.index = ['a', 'b', 'c', 'd','e']\n",
    "print(series_2)"
   ]
  },
  {
   "cell_type": "code",
   "execution_count": null,
   "metadata": {},
   "outputs": [],
   "source": [
    "# Seriesの要素の中で、特定の要素を指定できます。\n",
    "# Extract a specific element\n",
    "series_2 = pd.Series([5,4,3,2,1], index=np.arange(5))\n",
    "\n",
    "# 1番目の要素を表示 / Display the first element of the array, series_2.\n",
    "print(series_2[0])"
   ]
  },
  {
   "cell_type": "code",
   "execution_count": null,
   "metadata": {},
   "outputs": [],
   "source": [
    "# 3番目の要素を表示してください。 / Please display the third element of the array, series_2.\n",
    "\n"
   ]
  },
  {
   "cell_type": "code",
   "execution_count": null,
   "metadata": {},
   "outputs": [],
   "source": [
    "# コロンを使って、複数個の要素を指定できます。\n",
    "# Extract multiple specific elements with slice\n",
    "print(series_2[1:3])\n",
    "\n",
    "# 3~5行目を表示してください。行番号は０から始まることに注意しましょう。\n",
    "# Please display the 3-5th elements. Please note that the index number starts from 0.\n",
    "\n"
   ]
  },
  {
   "cell_type": "code",
   "execution_count": null,
   "metadata": {},
   "outputs": [],
   "source": [
    "# series_3 の全要素を表示します。 / Display all of the elements in series_3.\n",
    "print(series_3)\n",
    "\n",
    "# インデックス名で要素を指定できます。\n",
    "# Extract a specific element by an index of a string.\n",
    "\n",
    "\n",
    "# Specify the element in the row \"a\"\n",
    "print(series_3['a'])\n",
    "\n",
    "# You can simply specify it with \".a\" instead of ['a'].\n",
    "print(series_3.a)"
   ]
  },
  {
   "cell_type": "code",
   "execution_count": null,
   "metadata": {},
   "outputs": [],
   "source": [
    "# \"d\"行の要素をインデックス名で表示してください。\n",
    "# Please display the element in the row \"d\" with the index.\n",
    "\n"
   ]
  },
  {
   "cell_type": "code",
   "execution_count": null,
   "metadata": {},
   "outputs": [],
   "source": [
    "series_3[['a','c']] # 複数抜き出す場合はリストにする必要あり"
   ]
  },
  {
   "cell_type": "markdown",
   "metadata": {},
   "source": [
    "## Seriesの簡単な操作 / Simple operations of Series"
   ]
  },
  {
   "cell_type": "code",
   "execution_count": null,
   "metadata": {},
   "outputs": [],
   "source": [
    "# Display series\n",
    "series"
   ]
  },
  {
   "cell_type": "code",
   "execution_count": null,
   "metadata": {},
   "outputs": [],
   "source": [
    "# addition\n",
    "series + 1"
   ]
  },
  {
   "cell_type": "code",
   "execution_count": null,
   "metadata": {},
   "outputs": [],
   "source": [
    "# another Series array is added to the array, series.\n",
    "series + pd.Series([1,1,2,2,2])"
   ]
  },
  {
   "cell_type": "code",
   "execution_count": null,
   "metadata": {},
   "outputs": [],
   "source": [
    "# multiplication of a Series array\n",
    "series * 3"
   ]
  },
  {
   "cell_type": "code",
   "execution_count": null,
   "metadata": {},
   "outputs": [],
   "source": [
    "# you can apply a Series array to functions.\n",
    "# sum up all of the elements in the array.\n",
    "series.sum()"
   ]
  },
  {
   "cell_type": "code",
   "execution_count": null,
   "metadata": {},
   "outputs": [],
   "source": [
    "# Calculate standard deviation of the elements in the array.\n",
    "series.std()"
   ]
  },
  {
   "cell_type": "markdown",
   "metadata": {},
   "source": [
    "### NumPy関数の適用 / You can apply Numpy function to Series."
   ]
  },
  {
   "cell_type": "code",
   "execution_count": null,
   "metadata": {},
   "outputs": [],
   "source": [
    "np.sum(series) # 合計を求める / sum up the elements of the array."
   ]
  },
  {
   "cell_type": "code",
   "execution_count": null,
   "metadata": {},
   "outputs": [],
   "source": [
    "# apply the array to logarithmic function\n",
    "np.log(series)"
   ]
  },
  {
   "cell_type": "code",
   "execution_count": null,
   "metadata": {},
   "outputs": [],
   "source": [
    "# You can add elements as follows.\n",
    "series = pd.Series([0,0,0,0,0])\n",
    "print(series)\n",
    "# number of elements is 5.\n",
    "\n",
    "series[7] = 10\n",
    "print(series)\n",
    "# number of elements became 6.\n",
    "\n",
    "series['a'] = 11\n",
    "print(series)\n",
    "# number of elements became 7."
   ]
  },
  {
   "cell_type": "code",
   "execution_count": null,
   "metadata": {},
   "outputs": [],
   "source": [
    "# You can change the value of a specific element.\n",
    "series[2] = 10\n",
    "print(series)"
   ]
  },
  {
   "cell_type": "markdown",
   "metadata": {},
   "source": [
    "## 時系列データの取り扱い / TimeSeries data with Pandas"
   ]
  },
  {
   "cell_type": "code",
   "execution_count": null,
   "metadata": {},
   "outputs": [],
   "source": [
    "data = pd.date_range('2018/05/26', periods=10,freq='D') # 時系列データの作成\n",
    "# Display the elements of 'data'.\n",
    "data"
   ]
  },
  {
   "cell_type": "code",
   "execution_count": null,
   "metadata": {},
   "outputs": [],
   "source": [
    "date_series = pd.Series(data)\n",
    "# Display the elements of 'data_series'.\n",
    "print(date_series)"
   ]
  },
  {
   "cell_type": "code",
   "execution_count": null,
   "metadata": {},
   "outputs": [],
   "source": [
    "# dataをインデックスとして指定することも可能 / You can use the elements of a Series array as an index of an Series array, date_series_2.\n",
    "date_series_2 = pd.Series(np.random.randn(10),index=data) \n",
    "print(date_series_2)\n",
    "\n",
    "# Series配列 date_series_2 のインデックスに、Series配列 data の要素が入っているのが分かるでしょう。\n",
    "# You will see the series, date_series_2, has indices that are given by a Series array, data."
   ]
  },
  {
   "cell_type": "markdown",
   "metadata": {},
   "source": [
    "## DataFrame @ Pandas\n",
    "[参考サイト：Pandasのデータを格納するオブジェクトDataFrameを理解する](https://deepage.net/features/pandas-dataframe.html)\n"
   ]
  },
  {
   "cell_type": "markdown",
   "metadata": {},
   "source": [
    "## DataFrame配列の作り方 / Create a DataFrame array"
   ]
  },
  {
   "cell_type": "code",
   "execution_count": null,
   "metadata": {},
   "outputs": [],
   "source": [
    "# Create a 2D array.\n",
    "twod_array = [[0,1,2],[3,4,5]]\n",
    "print(twod_array)\n",
    "# Convert it to DataFrame type\n",
    "pd.DataFrame(twod_array)"
   ]
  },
  {
   "cell_type": "code",
   "execution_count": null,
   "metadata": {},
   "outputs": [],
   "source": [
    "# You can create a DataFrame array as follows.\n",
    "a = pd.DataFrame([[1,1,1,],[2,1,2],[3,2,3]],index=[\"one\",\"two\",\"three\"], columns=[\"a\",\"b\",\"c\"])\n",
    "a"
   ]
  },
  {
   "cell_type": "markdown",
   "metadata": {},
   "source": [
    "## 辞書データからDataFrame配列を作る / Craete a DataFrame array from dictionary data"
   ]
  },
  {
   "cell_type": "code",
   "execution_count": null,
   "metadata": {},
   "outputs": [],
   "source": [
    "# Create a dictionary.\n",
    "dic_arr = {'a':[1,2,3],'b':[4,5,6]}\n",
    "print(dic_arr)\n",
    "# Convert it to DataFrame type\n",
    "pd.DataFrame(dic_arr)"
   ]
  },
  {
   "cell_type": "code",
   "execution_count": null,
   "metadata": {},
   "outputs": [],
   "source": [
    "list_arr = {'a': ['Tokyo','Kanagawa','Chiba'],'b':['Saitama','Tochigi','Ibaraki']}\n",
    "pd.DataFrame(list_arr)"
   ]
  },
  {
   "cell_type": "code",
   "execution_count": null,
   "metadata": {},
   "outputs": [],
   "source": [
    "tup_arr = {'a':(1,2,3),'b':(4,5,6)}\n",
    "pd.DataFrame(tup_arr)"
   ]
  },
  {
   "cell_type": "code",
   "execution_count": null,
   "metadata": {},
   "outputs": [],
   "source": [
    "# You can create a DataFrame array from a numpy array.\n",
    "df = pd.DataFrame(np.arange(100).reshape(20, 5))"
   ]
  },
  {
   "cell_type": "code",
   "execution_count": null,
   "metadata": {},
   "outputs": [],
   "source": [
    "# 1次元データを扱うSeriesを辞書形式でつなげてDataFrameを作ることもできます。このとき辞書のキーがカラム名になります。\n",
    "# You can combine one dimensional array of Series in dictionary type. Then create a DataFrame with column names given from the dictionary keys.\n",
    "state = pd.Series([\"Tokyo\", \"Osaka\", \"Aichi\", \"Hiroshima\", \"Fukuoka\"])\n",
    "print(state)\n",
    "population = pd.Series([13515, 8839, 7483, 2844, 5102])\n",
    "print(population)\n",
    "num_household = pd.Series([6691, 3918, 3060, 1209, 2197])\n",
    "print(num_household)\n",
    "\n",
    "statistic = pd.DataFrame({\"state\" : state, \"population\": population,\"num_household\":num_household })\n",
    "print(statistic)"
   ]
  },
  {
   "cell_type": "markdown",
   "metadata": {},
   "source": [
    "## 辞書データをインデックスに入れる / Set the indices from dictionary datat"
   ]
  },
  {
   "cell_type": "code",
   "execution_count": null,
   "metadata": {},
   "outputs": [],
   "source": [
    "state_data = pd.DataFrame({\"population\": population,\"num_household\":num_household })\n",
    "state_data.index = state\n",
    "print(state_data)"
   ]
  },
  {
   "cell_type": "markdown",
   "metadata": {},
   "source": [
    "## 複数の辞書データからDataFrame配列を作る / You can create a DataFrame array with mutiple dictionary arrays."
   ]
  },
  {
   "cell_type": "code",
   "execution_count": null,
   "metadata": {},
   "outputs": [],
   "source": [
    "# You can create a DataFrame array with mutiple dictionary arrays.\n",
    "statistic_dict = {\"population\" : {\"Tokyo\": 13515, \"Osaka\": 8839, \"Aichi\": 7483, \"Hiroshima\": 2844, \"Fukuoka\": 5102 },\n",
    "                  \"num_household\": {\"Osaka\":3918, \"Aichi\":3060,\"Tokyo\":6691, \"Hiroshima\":1209,\"Fukuoka\": 2197}}\n",
    "statistic_2 = pd.DataFrame(statistic_dict)\n",
    "print(statistic_2)"
   ]
  },
  {
   "cell_type": "markdown",
   "metadata": {},
   "source": [
    "<a id=\"head\"></a>"
   ]
  },
  {
   "cell_type": "markdown",
   "metadata": {},
   "source": [
    "## 最初の5行を表示 / Display the first 5 lines"
   ]
  },
  {
   "cell_type": "code",
   "execution_count": null,
   "metadata": {},
   "outputs": [],
   "source": [
    "# Display the first 5 lines\n",
    "df.head()"
   ]
  },
  {
   "cell_type": "markdown",
   "metadata": {},
   "source": [
    "<a id=\"tail\"></a>"
   ]
  },
  {
   "cell_type": "markdown",
   "metadata": {},
   "source": [
    "## 最後の5行を表示 / Display the last 5 lines"
   ]
  },
  {
   "cell_type": "code",
   "execution_count": null,
   "metadata": {},
   "outputs": [],
   "source": [
    "# Display the last 5 lines\n",
    "df.tail()"
   ]
  },
  {
   "cell_type": "markdown",
   "metadata": {},
   "source": [
    "## 配列の転置 / Transpose an array"
   ]
  },
  {
   "cell_type": "code",
   "execution_count": null,
   "metadata": {},
   "outputs": [],
   "source": [
    "# 配列の転置 / Transpose an array\n",
    "statistic_2t = statistic_2.T\n",
    "print(statistic_2t)"
   ]
  },
  {
   "cell_type": "markdown",
   "metadata": {},
   "source": [
    "<a id=\"shape\"></a>"
   ]
  },
  {
   "cell_type": "markdown",
   "metadata": {},
   "source": [
    "## DataFrameの行や列の数を数える。 / Check the numbers of lows and columns"
   ]
  },
  {
   "cell_type": "code",
   "execution_count": null,
   "metadata": {},
   "outputs": [],
   "source": [
    "# Check the numbers of lows and columns\n",
    "df.shape"
   ]
  },
  {
   "cell_type": "code",
   "execution_count": null,
   "metadata": {},
   "outputs": [],
   "source": [
    "# Get the number of rows\n",
    "len(df)"
   ]
  },
  {
   "cell_type": "code",
   "execution_count": null,
   "metadata": {},
   "outputs": [],
   "source": [
    "# Get the number of columns\n",
    "df.columns"
   ]
  },
  {
   "cell_type": "code",
   "execution_count": null,
   "metadata": {},
   "outputs": [],
   "source": [
    "# Get the total number of elements\n",
    "df.size"
   ]
  },
  {
   "cell_type": "markdown",
   "metadata": {},
   "source": [
    "## Index\n",
    "[参考サイト：PandasのIndexの理解と使い方まとめ](https://deepage.net/features/pandas-index.html)"
   ]
  },
  {
   "cell_type": "code",
   "execution_count": null,
   "metadata": {},
   "outputs": [],
   "source": [
    "a.index"
   ]
  },
  {
   "cell_type": "code",
   "execution_count": null,
   "metadata": {},
   "outputs": [],
   "source": [
    "a.columns"
   ]
  },
  {
   "cell_type": "code",
   "execution_count": null,
   "metadata": {},
   "outputs": [],
   "source": [
    "a.rename(index={\"two\":\"eight\"})"
   ]
  },
  {
   "cell_type": "code",
   "execution_count": null,
   "metadata": {},
   "outputs": [],
   "source": [
    "a"
   ]
  },
  {
   "cell_type": "markdown",
   "metadata": {},
   "source": [
    "インデックスはコロン`:`を用いて、複数行指定することができる。スライスと呼びます。<br>\n",
    "You can specify multiple lines / rows by using `:`, called slicing."
   ]
  },
  {
   "cell_type": "code",
   "execution_count": null,
   "metadata": {},
   "outputs": [],
   "source": [
    "a.rename(index={\"two\":\"eight\"}, inplace=True)\n",
    "a"
   ]
  },
  {
   "cell_type": "code",
   "execution_count": null,
   "metadata": {},
   "outputs": [],
   "source": [
    "a.index[:1]"
   ]
  },
  {
   "cell_type": "code",
   "execution_count": null,
   "metadata": {},
   "outputs": [],
   "source": [
    "a.index[1:]"
   ]
  },
  {
   "cell_type": "code",
   "execution_count": null,
   "metadata": {},
   "outputs": [],
   "source": [
    "# 始点と終点を同時に設定することも可能\n",
    "# You can specify the start and end of the slice.\n",
    "a.index[1:2] "
   ]
  },
  {
   "cell_type": "code",
   "execution_count": null,
   "metadata": {},
   "outputs": [],
   "source": [
    "# TEST DATA\n",
    "import pandas as pd\n",
    "from pandas import DataFrame\n",
    " \n",
    "df1=DataFrame([[1,2,3],[4,5,6],[7,8,9]],\n",
    "              columns=['aa','bb','cc'],\n",
    "              index=['AA','BB','CC'])\n",
    " \n",
    "df2=DataFrame([[100,200],[400,500],[700,800]],\n",
    "              columns=['dd','ee'],\n",
    "              index=['AA','BB','CC'])\n",
    "print(df1)\n",
    "print(df2)"
   ]
  },
  {
   "cell_type": "markdown",
   "metadata": {},
   "source": [
    "<a id=\"concat\"></a>"
   ]
  },
  {
   "cell_type": "markdown",
   "metadata": {},
   "source": [
    "## DataFrameの結合 / Combine arrays of DataFrame\n",
    "[参考サイト：DataFrameを横方向に結合する concat、merge、join](http://ailaby.com/dataframe_merge/)"
   ]
  },
  {
   "cell_type": "code",
   "execution_count": null,
   "metadata": {
    "tags": []
   },
   "outputs": [],
   "source": [
    "# concat, merge, join. All of them work in a same way...\n",
    "# concat\n",
    "print(pd.concat([df1, df2], axis=1))\n",
    "\n",
    "# merge\n",
    "print(pd.merge(df1, df2, right_index=True, left_index=True))\n",
    "# add df2 from the left\n",
    "print(pd.merge(df2, df1, right_index=True, left_index=True))\n",
    "\n",
    "# join\n",
    "print(df1.join([df2]))\n",
    "# add df2 from the left\n",
    "print(df2.join([df1]))"
   ]
  },
  {
   "cell_type": "markdown",
   "metadata": {},
   "source": [
    "## DataFrameの抽出 / Extract a specific column or row\n",
    "[参考サイト：Pandas でデータフレームから特定の行・列を取得する](https://pythondatascience.plavox.info/pandas/%E8%A1%8C%E3%83%BB%E5%88%97%E3%81%AE%E6%8A%BD%E5%87%BA)"
   ]
  },
  {
   "cell_type": "code",
   "execution_count": null,
   "metadata": {},
   "outputs": [],
   "source": [
    "df3 = df1.join([df2])\n",
    "print(df3)\n",
    "\n",
    "# aa の行を抽出 / Extract a column 'aa'\n",
    "print(df3['aa'])\n",
    "print(df3.aa) # This works as well."
   ]
  },
  {
   "cell_type": "markdown",
   "metadata": {},
   "source": [
    "## 特定の複数行を抽出 / Extract multiple specific columns or rows\n",
    "`:` で行番号を指定することで、特定の区間の行を抽出できます。行番号は 0 行目から始まる点に注意しましょう。<br>\n",
    "range関数などと同じで、df[始点：終点]で指定します。終点は含まれないことに気を付けましょう。<br>\n",
    "[Week1: np.arange](Ex_Week1.ipynb#nparange)<br>\n",
    "[Week1: range](Ex_Week1.ipynb#range)<br>\n",
    "<br>\n",
    "You can extract specific columns with colon, :, which is called slice. Please note that the index starts from 0.<br>\n",
    "Same as range function, the range is specified with df[start:stop]. Please note that the stop is not included.<br>\n",
    "\n",
    "\n",
    "\n"
   ]
  },
  {
   "cell_type": "code",
   "execution_count": null,
   "metadata": {},
   "outputs": [],
   "source": [
    "# 特定の区間の行を抽出する / Extract specifig columns\n",
    "# 1 行目から 3 行目を抽出\n",
    "print(df3[1:3])\n",
    "\n",
    "# 先頭から 3 行目までを抽出\n",
    "print(df3[:3])\n"
   ]
  },
  {
   "cell_type": "code",
   "execution_count": null,
   "metadata": {},
   "outputs": [],
   "source": [
    "# 行名が \"AA\" の列を抽出\n",
    "print(df3.loc[\"AA\"])\n",
    " "
   ]
  },
  {
   "cell_type": "code",
   "execution_count": null,
   "metadata": {},
   "outputs": [],
   "source": [
    "# 列 \"aa\", \"bb\" の 2 列を抽出\n",
    "print(df3.loc[:,['aa','bb']])\n"
   ]
  },
  {
   "cell_type": "code",
   "execution_count": null,
   "metadata": {},
   "outputs": [],
   "source": [
    "# 行名 = \"BB\" ～ \"CC\" の \"bb\" 列と \"dd\" 列を取得\n",
    "print(df3.loc['BB':'CC',['bb','dd']])\n"
   ]
  },
  {
   "cell_type": "code",
   "execution_count": null,
   "metadata": {},
   "outputs": [],
   "source": [
    "# 行名 = \"CC\" の \"A\" 列と \"B\" 列を取得\n",
    "print(df3.loc['CC',['cc','dd']])\n"
   ]
  },
  {
   "cell_type": "markdown",
   "metadata": {},
   "source": [
    "## at, iat, loc, iloc\n",
    "[参考サイト：pandasで任意の位置の値を取得・変更するat, iat, loc, iloc](https://note.nkmk.me/python-pandas-at-iat-loc-iloc/)"
   ]
  },
  {
   "cell_type": "code",
   "execution_count": null,
   "metadata": {},
   "outputs": [],
   "source": [
    "import pandas as pd\n",
    "\n",
    "df = pd.read_csv('data/wx_sample_pandas_normal.csv', index_col=0)\n",
    "print(df)"
   ]
  },
  {
   "cell_type": "code",
   "execution_count": null,
   "metadata": {},
   "outputs": [],
   "source": [
    "print(df.index.values)\n",
    "# ['Alice' 'Bob' 'Charlie' 'Dave' 'Ellen' 'Frank']\n",
    "\n",
    "print(df.columns.values)\n",
    "# ['age' 'state' 'point']"
   ]
  },
  {
   "cell_type": "code",
   "execution_count": null,
   "metadata": {},
   "outputs": [],
   "source": [
    "# You can extract a specific element\n",
    "print(df.at['Bob', 'age'])\n",
    "print(df.at['Dave', 'state'])\n",
    "\n",
    "# You can change the value of a specific element\n",
    "df.at['Bob', 'age'] = 60\n",
    "print(df.at['Bob', 'age'])\n",
    "\n",
    "# you can specify an element with the index number\n",
    "#print(df.at['Bob', 'age'])\n",
    "print(df.iat[1, 0])\n",
    "\n",
    "#print(df.at['Dave', 'state'])\n",
    "print(df.iat[3, 1])\n",
    "\n",
    "# You can change the value of a specific element\n",
    "#df.at['Bob', 'age'] = 60\n",
    "df.iat[1, 0] = 42\n",
    "print(df.iat[1, 0])"
   ]
  },
  {
   "cell_type": "code",
   "execution_count": null,
   "metadata": {},
   "outputs": [],
   "source": [
    "# You can extract multiple columns or rows with loc.\n",
    "print(df.loc['Bob':'Dave', 'age'])\n",
    "print(type(df.loc['Bob':'Dave', 'age']))\n",
    "\n",
    "# You can extract multiple columns or rows with iloc with index numbers.\n",
    "print(df.iloc[1:4, 0])\n",
    "print(type(df.iloc[1:4, 0]))\n"
   ]
  },
  {
   "cell_type": "markdown",
   "metadata": {},
   "source": [
    "## 番号とラベルで位置を指定する / Specify a row or a column by the index number.\n",
    "インデックス番号は０から始まることに注意しましょう。<br>\n",
    "Please note that the index number starts from 0."
   ]
  },
  {
   "cell_type": "code",
   "execution_count": null,
   "metadata": {},
   "outputs": [],
   "source": [
    "print(df)\n",
    "\n",
    "# Specify an index of a row\n",
    "print(df.index[2])\n",
    "# Charlie\n",
    "\n",
    "# Specify an index of a column\n",
    "print(df.columns[1])\n",
    "# state"
   ]
  },
  {
   "cell_type": "markdown",
   "metadata": {},
   "source": [
    "これとatまたはlocを利用して、番号とラベルの組み合わせで位置を指定できる。<br>\n",
    "You can specify an element with the functions above and the label.<br>"
   ]
  },
  {
   "cell_type": "code",
   "execution_count": null,
   "metadata": {},
   "outputs": [],
   "source": [
    "print(df.at[df.index[2], 'age'])\n",
    "# Charlie's age is 18\n",
    "\n",
    "print(df.loc[['Alice', 'Dave'], df.columns[1]])\n",
    "# States of Alice and Dave are NY and TX."
   ]
  },
  {
   "cell_type": "markdown",
   "metadata": {},
   "source": [
    "## 条件を指定して抽出 / Extract columns or rows under a certain condition\n",
    "[参考サイト：条件を指定して行・列を取得する](https://pythondatascience.plavox.info/pandas/%E8%A1%8C%E3%83%BB%E5%88%97%E3%81%AE%E6%8A%BD%E5%87%BA)"
   ]
  },
  {
   "cell_type": "code",
   "execution_count": null,
   "metadata": {},
   "outputs": [],
   "source": [
    "df[df.age > 30]"
   ]
  },
  {
   "cell_type": "code",
   "execution_count": null,
   "metadata": {},
   "outputs": [],
   "source": [
    "df[df.point > 65]"
   ]
  },
  {
   "cell_type": "markdown",
   "metadata": {},
   "source": [
    "## `isin`関数を使うと、特定の要素を含む行を抽出できます。\n",
    "## You can extract specific rows by using `isin` function\n",
    "\n",
    "[Python pandas データ選択処理をちょっと詳しく<中編>](http://sinhrks.hatenablog.com/entry/2014/11/15/230705)<br>\n",
    "[ISIN @ qiita](https://qiita.com/pandaLA/items/cdad58a1c58fde230de5)<br>\n",
    "[isin @ Pandas documentation](https://pandas.pydata.org/pandas-docs/stable/reference/api/pandas.DataFrame.isin.html)"
   ]
  },
  {
   "cell_type": "code",
   "execution_count": null,
   "metadata": {},
   "outputs": [],
   "source": [
    "# データフレーム df2 を作成\n",
    "df2 = df.copy()\n",
    "print(df2)\n",
    "\n",
    "# \"state\" 列に \"CA\" を値に持つ行を抽出\n",
    "df2[df2['state'].isin(['CA'])]\n",
    "print(df2[df2['state'].isin(['CA'])])"
   ]
  },
  {
   "cell_type": "markdown",
   "metadata": {},
   "source": [
    "<a id=\"groupby\"></a>"
   ]
  },
  {
   "cell_type": "markdown",
   "metadata": {},
   "source": [
    "## 要素ごとにまとめる Groupby\n",
    "[参考サイト：Pandasのgroupbyを使った要素をグループ化して処理をする方法](https://deepage.net/features/pandas-groupby.html)"
   ]
  },
  {
   "cell_type": "code",
   "execution_count": null,
   "metadata": {},
   "outputs": [],
   "source": [
    "# classify elements\n",
    "df2_group = df2.groupby('state')\n",
    "\n",
    "# display each elements of the groups\n",
    "df2_group.groups\n",
    "\n",
    "# Extract the rows which have \"CA\" in the column \"state\".\n",
    "df2_group.get_group('CA')"
   ]
  },
  {
   "cell_type": "code",
   "execution_count": null,
   "metadata": {},
   "outputs": [],
   "source": [
    "# それぞれのグループごとに演算を行う。 / You can apply a function to each group.\n",
    "df2.groupby('state')['age'].mean()"
   ]
  },
  {
   "cell_type": "markdown",
   "metadata": {},
   "source": [
    "## よく使う関数: isnull (Pandas.Series)\n",
    "## Useful function: isnull (Pandas.Series)\n",
    "\n",
    "欠損値の取り扱いについては、第4週で扱う予定です。<br>\n",
    "Pandasでまとまっていたほうがいいかな、と思って、載せてありますが、第4週の演習問題と一部重複しています。<br>\n",
    "<br>\n",
    "データを処理するときにデータのかけている項目がある場合があります。これをPandasで読み込むと、欠損値(NaN;Not a Number)として扱われます。<br>\n",
    "欠損値のままだとデータ処理がしづらいので、欠損値を適切に処理する必要があります。<br>\n",
    "<br>\n",
    "We will learn how to deal with Not a Number (NaN) in Week 4.<br>\n",
    "There are some overlap of the contents between this part and the exercise of Week 4.<br>\n",
    "<br>\n",
    "When you obtain a set of data, it often happens that there are some blanks (missing values).<br>\n",
    "If you load a file with Pandas, these blanks will be interpreted as NaN (Not a Number).<br>\n",
    "NaN causes some trouble to analyze data, so you need to carry out some data processing.<br>\n",
    "\n",
    "* 補完 / Complement\n",
    "* 置換 / Replace\n",
    "* 抽出 / Extract \n",
    "\n",
    "[参考サイト：欠損値の確認 @ note.nkmk.me](https://note.nkmk.me/python-pandas-nan-judge-count/)<br>\n",
    "[参考サイト：pandasで欠損値NaNを除外（削除）・置換（穴埋め）・抽出 @ note.nkmk.me](https://note.nkmk.me/python-pandas-nan-dropna-fillna/)<br>"
   ]
  },
  {
   "cell_type": "markdown",
   "metadata": {},
   "source": [
    "まず、データファイルを読み込む。<br>\n",
    "Load a data file.<br>"
   ]
  },
  {
   "cell_type": "code",
   "execution_count": null,
   "metadata": {},
   "outputs": [],
   "source": [
    "df = pd.read_csv('data/w4_sample_pandas_normal_nan.csv')\n",
    "print(df)"
   ]
  },
  {
   "cell_type": "markdown",
   "metadata": {},
   "source": [
    "### 欠損値かどうかをチェック\n",
    "### Check if it is NaN or not"
   ]
  },
  {
   "cell_type": "code",
   "execution_count": null,
   "metadata": {},
   "outputs": [],
   "source": [
    "# The output is the same size of an array with elements of True or False\n",
    "# True : zero, NaN\n",
    "# False :  nonzero\n",
    "print(df.isnull())\n",
    "\n",
    "# You can judge by column\n",
    "print(df.isnull().all())"
   ]
  },
  {
   "cell_type": "markdown",
   "metadata": {},
   "source": [
    "<a id=\"countnan\"></a>"
   ]
  },
  {
   "cell_type": "markdown",
   "metadata": {},
   "source": [
    "### 欠損値の数を数える\n",
    "### Count the number of NaN"
   ]
  },
  {
   "cell_type": "code",
   "execution_count": null,
   "metadata": {},
   "outputs": [],
   "source": [
    "# 列ごと / by column\n",
    "print(df.isnull().sum())\n",
    "\n",
    "# 行ごと / by row\n",
    "print(df.isnull().sum(axis=1))"
   ]
  },
  {
   "cell_type": "markdown",
   "metadata": {},
   "source": [
    "### 欠損値でない要素の数を数える\n",
    "### Count the number of elements that is not NaN"
   ]
  },
  {
   "cell_type": "code",
   "execution_count": null,
   "metadata": {},
   "outputs": [],
   "source": [
    "# 列ごと / by column\n",
    "print(df.count())\n",
    "\n",
    "# 行ごと / by row\n",
    "print(df.count(axis=1))"
   ]
  },
  {
   "cell_type": "markdown",
   "metadata": {},
   "source": [
    "### すべての値が欠損値である行を削除する\n",
    "### Remove columns in which all of the elements are NaN"
   ]
  },
  {
   "cell_type": "code",
   "execution_count": null,
   "metadata": {},
   "outputs": [],
   "source": [
    "print(df.dropna(how='all'))"
   ]
  },
  {
   "cell_type": "markdown",
   "metadata": {},
   "source": [
    "### すべての値が欠損値である列を削除する\n",
    "### Remove rows in which all of the elements are NaN"
   ]
  },
  {
   "cell_type": "code",
   "execution_count": null,
   "metadata": {},
   "outputs": [],
   "source": [
    "print(df.dropna(how='all', axis=1))"
   ]
  },
  {
   "cell_type": "markdown",
   "metadata": {},
   "source": [
    "### 配列中のすべての欠損値の数を数える\n",
    "### Count the total number of NaN in an array"
   ]
  },
  {
   "cell_type": "code",
   "execution_count": null,
   "metadata": {},
   "outputs": [],
   "source": [
    "print(df.isnull().sum().sum())"
   ]
  },
  {
   "cell_type": "markdown",
   "metadata": {},
   "source": [
    "<a id=\"removenan\"></a>"
   ]
  },
  {
   "cell_type": "markdown",
   "metadata": {},
   "source": [
    "### 欠損値が一つでも含まれる列を削除する\n",
    "### Remove rows which has more than one NaN"
   ]
  },
  {
   "cell_type": "code",
   "execution_count": null,
   "metadata": {},
   "outputs": [],
   "source": [
    "# すべての値が欠損値である行と、すべての値が欠損値である列を削除\n",
    "df2 = df.dropna(how='all').dropna(how='all', axis=1)\n",
    "\n",
    "# df2に対して、欠損値が一つでも含まれている列を削除\n",
    "print(df2.dropna(how='any'))"
   ]
  },
  {
   "cell_type": "markdown",
   "metadata": {},
   "source": [
    "### 欠損値が一つでも含まれる行を削除する\n",
    "### Remove columns which has more than one NaN"
   ]
  },
  {
   "cell_type": "code",
   "execution_count": null,
   "metadata": {},
   "outputs": [],
   "source": [
    "print(df2.dropna(how='any', axis=1))"
   ]
  },
  {
   "cell_type": "markdown",
   "metadata": {},
   "source": [
    "### 特定の行・列に欠損値がある列・行を削除する\n",
    "### Remove specific columns or rows which has more than on NaN"
   ]
  },
  {
   "cell_type": "code",
   "execution_count": null,
   "metadata": {},
   "outputs": [],
   "source": [
    "print(df.dropna(subset=['age']))"
   ]
  },
  {
   "cell_type": "markdown",
   "metadata": {},
   "source": [
    "### 欠損値の補間 / Interpolation of NaN\n",
    "[参考サイト：pandasで欠損値NaNを前後の値から補間するinterpolate](https://note.nkmk.me/python-pandas-interpolate/)"
   ]
  },
  {
   "cell_type": "code",
   "execution_count": null,
   "metadata": {},
   "outputs": [],
   "source": [
    "# Original data\n",
    "df = pd.DataFrame({'col1': [0, pd.np.nan, pd.np.nan, 3, 4],\n",
    "                   'col2': [pd.np.nan, 1, 2, pd.np.nan, pd.np.nan],\n",
    "                   'col3': [4, pd.np.nan, pd.np.nan, 7, 10]})\n",
    "\n",
    "print(df)"
   ]
  },
  {
   "cell_type": "code",
   "execution_count": null,
   "metadata": {},
   "outputs": [],
   "source": [
    "# デフォルトでは各列に対して線形補間を行う。下端の欠損値には同じ値が繰り返される。上端の欠損値はそのまま。\n",
    "# Interpolate NaN linearly as default\n",
    "print(df.interpolate())"
   ]
  },
  {
   "cell_type": "code",
   "execution_count": null,
   "metadata": {},
   "outputs": [],
   "source": [
    "# 引数axis=1とすると各行に対して補間される。右端の欠損値には同じ値が繰り返される。左端の欠損値はそのまま。\n",
    "print(df.interpolate(axis=1))"
   ]
  },
  {
   "cell_type": "code",
   "execution_count": null,
   "metadata": {},
   "outputs": [],
   "source": [
    "# 引数inplaceでオブジェクト自体を更新するかどうかを指定できる。 / You can specify whether you update the object with the interpolated array.\n",
    "df_copy = df.copy()\n",
    "df_copy.interpolate(inplace=True)\n",
    "print(df_copy)"
   ]
  },
  {
   "cell_type": "markdown",
   "metadata": {},
   "source": [
    "<a id=\"replace\"></a>"
   ]
  },
  {
   "cell_type": "markdown",
   "metadata": {},
   "source": [
    "### 欠損値の置換 / Replacement of NaN"
   ]
  },
  {
   "cell_type": "markdown",
   "metadata": {},
   "source": [
    "#### 欠損値を０で置換\n",
    "#### Replace NaN with 0"
   ]
  },
  {
   "cell_type": "code",
   "execution_count": null,
   "metadata": {},
   "outputs": [],
   "source": [
    "print(df.fillna(0))"
   ]
  },
  {
   "cell_type": "markdown",
   "metadata": {},
   "source": [
    "#### 特定の行だけ欠損値を平均値で置換\n",
    "#### Replace NaN with a mean value of the column specifically."
   ]
  },
  {
   "cell_type": "code",
   "execution_count": null,
   "metadata": {},
   "outputs": [],
   "source": [
    "#print(df.fillna(df.mean().loc[\"age\"]))\n",
    "print(df.fillna({'name': 'XXX', 'age': df[\"age\"].mean(), 'point': df[\"point\"].mean()}))"
   ]
  },
  {
   "cell_type": "markdown",
   "metadata": {},
   "source": [
    "### 欠損値の抽出 / Extraction of NaN\n",
    "特定の列に欠損値が含まれている行を選択して確認したい場合、列のisnull()メソッドで欠損値がTrue、それ以外がFalseとなるpandas.Seriesを取得し、ブールインデックス参照で抽出する。\n"
   ]
  },
  {
   "cell_type": "code",
   "execution_count": null,
   "metadata": {},
   "outputs": [],
   "source": [
    "print(df)\n",
    "\n",
    "print(df['point'].isnull())\n",
    "\n",
    "print(df[df['point'].isnull()])\n"
   ]
  },
  {
   "cell_type": "markdown",
   "metadata": {},
   "source": [
    "特定の行に欠損値が含まれている列を選択する場合も考え方は同じ。行名（行ラベル）で選択する場合は`loc[]`、位置で選択する場合は`iloc[]`を使う。"
   ]
  },
  {
   "cell_type": "code",
   "execution_count": null,
   "metadata": {},
   "outputs": [],
   "source": [
    "print(df.iloc[2].isnull())\n",
    "\n",
    "print(df.loc[:, df.iloc[2].isnull()])\n"
   ]
  },
  {
   "cell_type": "markdown",
   "metadata": {},
   "source": [
    "## DataFrame をCSVに書き込む / Output DataFrame to a CSC file\n",
    "[PandasのデータフレームをCSVに書き込む](https://qiita.com/ryu19maki/items/e5a3b470795de883a09a)"
   ]
  },
  {
   "cell_type": "code",
   "execution_count": null,
   "metadata": {},
   "outputs": [],
   "source": [
    "suits = pd.DataFrame([[90, \"a\", 88],\n",
    "                  [100, \"b\", 95],\n",
    "                  [80, \"a\", 85],\n",
    "                  [70, \"c\", 80]])\n",
    "# you can name the index of each row.\n",
    "suits.index=[\"Harvey\", \"Mike\", \"Louis\", \"Harold\"]\n",
    "suits.columns=[\"Math\", \"Phys\", \"Biology\"]\n",
    "\n",
    "suits.to_csv(\"data/suits_m.csv\", index=False)"
   ]
  },
  {
   "cell_type": "markdown",
   "metadata": {},
   "source": [
    "## CSVから、DataFrame形式でデータを読み込む / Load data as DataFrame from a CSV file\n",
    "[CSVをDataFrameとして読み込む](https://note.nkmk.me/python-pandas-read-csv-tsv/)"
   ]
  },
  {
   "cell_type": "code",
   "execution_count": null,
   "metadata": {},
   "outputs": [],
   "source": [
    "suits = pd.read_csv(\"data/suits_m.csv\")"
   ]
  }
 ],
 "metadata": {
  "kernelspec": {
   "display_name": "Python 3 (ipykernel)",
   "language": "python",
   "name": "python3"
  },
  "language_info": {
   "codemirror_mode": {
    "name": "ipython",
    "version": 3
   },
   "file_extension": ".py",
   "mimetype": "text/x-python",
   "name": "python",
   "nbconvert_exporter": "python",
   "pygments_lexer": "ipython3",
   "version": "3.9.18"
  }
 },
 "nbformat": 4,
 "nbformat_minor": 4
}
