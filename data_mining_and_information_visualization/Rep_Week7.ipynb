{
 "cells": [
  {
   "cell_type": "markdown",
   "metadata": {},
   "source": [
    "# **データマイニングと情報可視化: レポート**\n",
    "# **Data mining and information visualization: Assignment**\n",
    "<font size=\"4\">\n",
    "第7回　2023年1月30日(火)<br>\n",
    "データマイニング手法3-2：回帰分析（データ解析と可視化）<br>\n",
    "Method 3-2: Regression (Analyze data &amp; visualization)<br>\n",
    "</font>\n",
    "\n",
    "<span style=\"color: red;font-weight:bold; font-size:15pt;\" >レポート: 締め切り 2024年2月2日(金)　23:59 JST</span>"
   ]
  },
  {
   "cell_type": "markdown",
   "metadata": {},
   "source": [
    "## (0) 名前と学籍番号を表示してください。/ Please display your name and student ID."
   ]
  },
  {
   "cell_type": "code",
   "execution_count": 1,
   "metadata": {},
   "outputs": [
    {
     "name": "stdout",
     "output_type": "stream",
     "text": [
      "一瀬遥希\n",
      "1TE22028G\n"
     ]
    }
   ],
   "source": [
    "# print 関数を使って下さい / Use print function.\n",
    "print(\"一瀬遥希\")\n",
    "print(\"1TE22028G\")"
   ]
  },
  {
   "cell_type": "markdown",
   "metadata": {},
   "source": [
    "## (1) ロジスティック回帰分析とは / What is Logistic Regression??\n",
    "線形回帰分析とロジスティック回帰分析の違いを説明してください。<br>\n",
    "それぞれ、どのようなデータの分析に適しているか、簡潔に述べてください。<br>\n",
    "Please explain the difference between linear regression analysis and logistic regression analysis. <br>\n",
    "Briefly describe the type of data that each is suitable for analyzing."
   ]
  },
  {
   "cell_type": "markdown",
   "metadata": {},
   "source": [
    "### \n",
    "線形回帰分析は1つもしくは複数の説明変数と目的変数の関係を数式としてモデル化するもので、ロジスティック回帰分析は説明変数から目的変数が起こる確率を求めるものである。なお、このロジスティック回帰分析の目的変数は線形回帰分析とは異なり、2値の結果を示すようになっている。<br>\n",
    "そのため、線形回帰分析では様々な変数との相関をみながら分析できることから、売上予測や住宅価格の予想などに適していて、ロジスティック回帰分析は確率を算出できることから顧客の購入可能性や患者の疾患の診断に適していると考えられる。"
   ]
  },
  {
   "cell_type": "markdown",
   "metadata": {},
   "source": [
    "## (2) 必要なライブラリをインポートしてください。 / Import libraries."
   ]
  },
  {
   "cell_type": "code",
   "execution_count": 2,
   "metadata": {},
   "outputs": [],
   "source": [
    "# まずはライブラリをインポート / Import the libraries.\n",
    "import numpy as np\n",
    "import numpy.random as random\n",
    "import scipy as sp\n",
    "from pandas import Series, DataFrame\n",
    "import pandas as pd\n",
    "\n",
    "# 可視化ライブラリ / Visualization libraries\n",
    "import matplotlib.pyplot as plt\n",
    "import matplotlib as mpl\n",
    "import seaborn as sns\n",
    "%matplotlib inline\n",
    "\n",
    "# 機械学習ライブラリ / Machine learning library\n",
    "import sklearn\n",
    "\n",
    "from sklearn.metrics import confusion_matrix"
   ]
  },
  {
   "cell_type": "markdown",
   "metadata": {},
   "source": [
    "# 問題設定 / Problem setting\n",
    "\n",
    "5つの列を持つデータセットがあります。<br>\n",
    "ここで、与えられたパラメータで人が車を買うかどうかを予測できるモデルを構築しましょう。<br>\n",
    "\n",
    "We have a Data set having 5 columns. <br>\n",
    "Now we have to build a model that can predict whether on the given parameter a person will buy a car or not.<br>\n",
    "\n",
    "* User ID: ユーザーID\n",
    "* Gender: 性別\n",
    "* Age: 年齢\n",
    "* AnnualSalary: 推定年収 ($) / Estimated annual salary ($)\n",
    "* Purchased: 車を買ったかどうか (0: 買わなかった、1:買った) / Whether the user bought a car or not (0: did't buy, 1: did buy)\n",
    "\n",
    "その他参考サイト<br>\n",
    "[Logistic regression](https://realpython.com/logistic-regression-python/)<br>\n",
    "https://datatofish.com/logistic-regression-python/"
   ]
  },
  {
   "cell_type": "markdown",
   "metadata": {},
   "source": [
    "## (3) CSVファイル(w7_car_data_nan.csv)を読み込む / Load a csv file, w7_car_data_nan.csv\n",
    "\n",
    "初めの5行を表示してください。<br>\n",
    "Please display the first 5 rows.<br>\n",
    "[Week 2: readcsv](Ex_Week2.ipynb#readcsv)<br>\n",
    "[Week 2: head](Ex_Week2.ipynb#head)<br>"
   ]
  },
  {
   "cell_type": "code",
   "execution_count": 3,
   "metadata": {},
   "outputs": [],
   "source": [
    "df = pd.read_csv('data/w7_car_data_nan.csv')"
   ]
  },
  {
   "cell_type": "markdown",
   "metadata": {},
   "source": [
    "## (4) それぞれの項目のデータ数をチェック / Check the number of data in each column.\n",
    "\n",
    "[Week 7: count](Ex_Week7.ipynb#count)"
   ]
  },
  {
   "cell_type": "code",
   "execution_count": 4,
   "metadata": {},
   "outputs": [
    {
     "data": {
      "text/plain": [
       "User ID         997\n",
       "Gender          995\n",
       "Age             993\n",
       "AnnualSalary    994\n",
       "Purchased       996\n",
       "dtype: int64"
      ]
     },
     "execution_count": 4,
     "metadata": {},
     "output_type": "execute_result"
    }
   ],
   "source": [
    "df.count()"
   ]
  },
  {
   "cell_type": "markdown",
   "metadata": {},
   "source": [
    "## (5) 欠損値が全部でいくつあるか確認して、欠損値を一つでも含む行をすべて削除\n",
    "Count the total number of NaN, then delete all rows that contain even one NaN.\n",
    "\n",
    "欠損値を削除した結果は、別の名前のデータフレームに格納してください。<br>\n",
    "The result of removing NaN should be stored in a data frame with a different name.\n",
    "\n",
    "[Week 4: isnull](Ex_Week4.ipynb#isnull)<br>\n",
    "[Week 4: removenan](Ex_Week4.ipynb#removenan)"
   ]
  },
  {
   "cell_type": "code",
   "execution_count": 5,
   "metadata": {},
   "outputs": [
    {
     "name": "stdout",
     "output_type": "stream",
     "text": [
      "User ID         3\n",
      "Gender          5\n",
      "Age             7\n",
      "AnnualSalary    6\n",
      "Purchased       4\n",
      "dtype: int64\n",
      "User ID         0\n",
      "Gender          0\n",
      "Age             0\n",
      "AnnualSalary    0\n",
      "Purchased       0\n",
      "dtype: int64\n"
     ]
    }
   ],
   "source": [
    "# 欠損値の数の合計 / the total number of NaN\n",
    "print(df.isnull().sum())\n",
    "\n",
    "# 欠損値を一つでも含む行をすべて削除 / Delete all rows that contain even one NaN\n",
    "df2 = df.dropna(how='any')\n",
    "\n",
    "# 欠損値の数がゼロになることを確認 / Verify there is no NaN.\n",
    "print(df2.isnull().sum())\n"
   ]
  },
  {
   "cell_type": "code",
   "execution_count": 6,
   "metadata": {},
   "outputs": [
    {
     "data": {
      "text/plain": [
       "(977, 5)"
      ]
     },
     "execution_count": 6,
     "metadata": {},
     "output_type": "execute_result"
    }
   ],
   "source": [
    "df2.shape"
   ]
  },
  {
   "cell_type": "markdown",
   "metadata": {
    "tags": []
   },
   "source": [
    "## (6) 性別ごとに車を買った人と買わなかった人の数を棒グラフでプロット\n",
    "Plot a bar chart showing the number of people who bought and did not buy a car by gender.<br>\n",
    "\n",
    "**欠損値を削除した後のDataFrameを使いましょう。**\n",
    "<br>\n",
    "**Let's use the DataFrame AFTER removing missing values.**\n",
    "\n",
    "[Week 7: barchart](Ex_Week7.ipynb#barchart)"
   ]
  },
  {
   "cell_type": "code",
   "execution_count": 7,
   "metadata": {},
   "outputs": [
    {
     "data": {
      "text/plain": [
       "<Axes: xlabel='Purchased', ylabel='count'>"
      ]
     },
     "execution_count": 7,
     "metadata": {},
     "output_type": "execute_result"
    },
    {
     "data": {
      "image/png": "[encoded data removed]",
      "text/plain": [
       "<Figure size 400x300 with 1 Axes>"
      ]
     },
     "metadata": {},
     "output_type": "display_data"
    }
   ],
   "source": [
    "plt.figure(figsize=(4,3))\n",
    "sns.countplot(x='Purchased', hue='Gender', data=df2)"
   ]
  },
  {
   "cell_type": "markdown",
   "metadata": {
    "tags": []
   },
   "source": [
    "## (7) 車を買った人と買わなかった人の年収のヒストグラムをプロット\n",
    "Plot histograms of annual salary for those who bought a car and those who did not.<br>\n",
    "\n",
    "**欠損値を削除した後のDataFrameを使いましょう。**<br>\n",
    "**Let's use the DataFrame AFTER removing missing values.**\n",
    "\n",
    "[Week 7: barchart](Ex_Week7.ipynb#barchart)"
   ]
  },
  {
   "cell_type": "code",
   "execution_count": 30,
   "metadata": {},
   "outputs": [
    {
     "data": {
      "image/png": "[encoded data removed]",
      "text/plain": [
       "<Figure size 640x480 with 2 Axes>"
      ]
     },
     "metadata": {},
     "output_type": "display_data"
    }
   ],
   "source": [
    "import matplotlib.pyplot as plt\n",
    "import seaborn as sns\n",
    "\n",
    "\n",
    "bin_count = 15\n",
    "\n",
    "# X軸とY軸の範囲を共有\n",
    "fig, axes = plt.subplots(1, 2, sharex=True, sharey=True)\n",
    "\n",
    "# 車を購入した顧客の年収のヒストグラム\n",
    "sns.histplot(df2[df2['Purchased'] == 1]['AnnualSalary'], ax=axes[0], bins=bin_count)\n",
    "axes[0].set_title('Purchased a Car')\n",
    "\n",
    "# 車を購入しなかった顧客の年収のヒストグラム\n",
    "sns.histplot(df2[df2['Purchased'] == 0]['AnnualSalary'], ax=axes[1], bins=bin_count)\n",
    "axes[1].set_title('Did Not Purchase a Car')\n",
    "\n",
    "# グラフの表示\n",
    "plt.show()\n"
   ]
  },
  {
   "cell_type": "markdown",
   "metadata": {
    "tags": []
   },
   "source": [
    "## (8) 車を買った人と買わなかった人の年収の平均と標準偏差を計算して表示\n",
    "Calculate the average and the standard deviation of the annual salary for those who bought a car and those who did not.<br>\n",
    "\n",
    "**欠損値を削除した後のDataFrameを使いましょう。**<br>\n",
    "**Let's use the DataFrame AFTER removing missing values.**\n",
    "\n",
    "[Week 7: barchart](Ex_Week7.ipynb#barchart)"
   ]
  },
  {
   "cell_type": "code",
   "execution_count": 9,
   "metadata": {},
   "outputs": [
    {
     "name": "stdout",
     "output_type": "stream",
     "text": [
      "87774.23469387754\n",
      "41347.5466718534\n",
      "62584.61538461538\n",
      "24013.340382649418\n"
     ]
    }
   ],
   "source": [
    "# Average and standard deviation of the annual salary of the customers who bought a car.\n",
    "\n",
    "print(df2[df2['Purchased'] == 1]['AnnualSalary'].mean())\n",
    "print(df2[df2['Purchased'] == 1]['AnnualSalary'].std())\n",
    "\n",
    "# Average and standard deviation of the annual salary of the customers who didn't by a car.\n",
    "\n",
    "print(df2[df2['Purchased'] == 0]['AnnualSalary'].mean())\n",
    "print(df2[df2['Purchased'] == 0]['AnnualSalary'].std())\n"
   ]
  },
  {
   "cell_type": "markdown",
   "metadata": {},
   "source": [
    "## (9) クロス集計 / Crosstab\n",
    "性別ごとに、車を買った人と買わなかった人をクロス集計してください。<br>\n",
    "Cross tabulate the number of people who bought and did not buy a car for females and males.<br>\n",
    "\n",
    "[Week 7: Crosstab](Ex_Week7.ipynb#crosstab)"
   ]
  },
  {
   "cell_type": "code",
   "execution_count": 10,
   "metadata": {},
   "outputs": [
    {
     "data": {
      "text/html": [
       "<div>\n",
       "<style scoped>\n",
       "    .dataframe tbody tr th:only-of-type {\n",
       "        vertical-align: middle;\n",
       "    }\n",
       "\n",
       "    .dataframe tbody tr th {\n",
       "        vertical-align: top;\n",
       "    }\n",
       "\n",
       "    .dataframe thead th {\n",
       "        text-align: right;\n",
       "    }\n",
       "</style>\n",
       "<table border=\"1\" class=\"dataframe\">\n",
       "  <thead>\n",
       "    <tr style=\"text-align: right;\">\n",
       "      <th></th>\n",
       "      <th>User ID</th>\n",
       "      <th>Gender</th>\n",
       "      <th>Age</th>\n",
       "      <th>AnnualSalary</th>\n",
       "      <th>Purchased</th>\n",
       "    </tr>\n",
       "  </thead>\n",
       "  <tbody>\n",
       "    <tr>\n",
       "      <th>0</th>\n",
       "      <td>1.0</td>\n",
       "      <td>Male</td>\n",
       "      <td>32.0</td>\n",
       "      <td>100000.0</td>\n",
       "      <td>1.0</td>\n",
       "    </tr>\n",
       "    <tr>\n",
       "      <th>1</th>\n",
       "      <td>2.0</td>\n",
       "      <td>Female</td>\n",
       "      <td>38.0</td>\n",
       "      <td>63500.0</td>\n",
       "      <td>0.0</td>\n",
       "    </tr>\n",
       "    <tr>\n",
       "      <th>2</th>\n",
       "      <td>3.0</td>\n",
       "      <td>Male</td>\n",
       "      <td>20.0</td>\n",
       "      <td>74000.0</td>\n",
       "      <td>0.0</td>\n",
       "    </tr>\n",
       "    <tr>\n",
       "      <th>3</th>\n",
       "      <td>4.0</td>\n",
       "      <td>Female</td>\n",
       "      <td>48.0</td>\n",
       "      <td>119000.0</td>\n",
       "      <td>1.0</td>\n",
       "    </tr>\n",
       "    <tr>\n",
       "      <th>4</th>\n",
       "      <td>5.0</td>\n",
       "      <td>Male</td>\n",
       "      <td>41.0</td>\n",
       "      <td>108500.0</td>\n",
       "      <td>1.0</td>\n",
       "    </tr>\n",
       "  </tbody>\n",
       "</table>\n",
       "</div>"
      ],
      "text/plain": [
       "   User ID  Gender   Age  AnnualSalary  Purchased\n",
       "0      1.0    Male  32.0      100000.0        1.0\n",
       "1      2.0  Female  38.0       63500.0        0.0\n",
       "2      3.0    Male  20.0       74000.0        0.0\n",
       "3      4.0  Female  48.0      119000.0        1.0\n",
       "4      5.0    Male  41.0      108500.0        1.0"
      ]
     },
     "execution_count": 10,
     "metadata": {},
     "output_type": "execute_result"
    }
   ],
   "source": [
    "df2.head()"
   ]
  },
  {
   "cell_type": "code",
   "execution_count": 11,
   "metadata": {},
   "outputs": [
    {
     "data": {
      "text/plain": [
       "(977, 5)"
      ]
     },
     "execution_count": 11,
     "metadata": {},
     "output_type": "execute_result"
    }
   ],
   "source": [
    "df2.shape"
   ]
  },
  {
   "cell_type": "code",
   "execution_count": 12,
   "metadata": {},
   "outputs": [
    {
     "data": {
      "text/html": [
       "<div>\n",
       "<style scoped>\n",
       "    .dataframe tbody tr th:only-of-type {\n",
       "        vertical-align: middle;\n",
       "    }\n",
       "\n",
       "    .dataframe tbody tr th {\n",
       "        vertical-align: top;\n",
       "    }\n",
       "\n",
       "    .dataframe thead th {\n",
       "        text-align: right;\n",
       "    }\n",
       "</style>\n",
       "<table border=\"1\" class=\"dataframe\">\n",
       "  <thead>\n",
       "    <tr style=\"text-align: right;\">\n",
       "      <th></th>\n",
       "      <th>1.0</th>\n",
       "      <th>0.0</th>\n",
       "    </tr>\n",
       "  </thead>\n",
       "  <tbody>\n",
       "    <tr>\n",
       "      <th>Male</th>\n",
       "      <td>288</td>\n",
       "      <td>212</td>\n",
       "    </tr>\n",
       "    <tr>\n",
       "      <th>Female</th>\n",
       "      <td>297</td>\n",
       "      <td>180</td>\n",
       "    </tr>\n",
       "  </tbody>\n",
       "</table>\n",
       "</div>"
      ],
      "text/plain": [
       "        1.0  0.0\n",
       "Male    288  212\n",
       "Female  297  180"
      ]
     },
     "execution_count": 12,
     "metadata": {},
     "output_type": "execute_result"
    }
   ],
   "source": [
    "# Purchased, 0:didn't by a car, 1:bought a car\n",
    "\n",
    "purchased_ct = pd.crosstab(df2['Gender'], df2['Purchased'])\n",
    "purchased_ct.index = [\"Male\", \"Female\"]\n",
    "purchased_ct.columns = [1.0,0.0]\n",
    "purchased_ct"
   ]
  },
  {
   "cell_type": "markdown",
   "metadata": {},
   "source": [
    "## (10) データを標準化 / Standardize the data\n",
    "\n",
    "'Age'と'AnnualSalary'を標準化（平均 0・分散 1）し、新しい列に保存します。<br>\n",
    "<b>欠損値を削除したした後のDataFrameを使うように注意してください。</b><br>\n",
    "4週目で習った方法を使ってください。できる人はScikit-learnのStandardScalerを使っても構いません。<br>\n",
    "\n",
    "Standardize 'Age' and 'EstimatedSalary' (mean 0, variance 1) and save them in new columns.<br>\n",
    "**Be careful to use the DataFrame AFTER deleting NaN.**<br>\n",
    "Use the method you learned in week 4. You may use Scikit-learn's StandardScaler, if you can. <br>\n",
    "\n",
    "[Week 4: standardization](Ex_Week4.ipynb#standardization)"
   ]
  },
  {
   "cell_type": "code",
   "execution_count": 13,
   "metadata": {},
   "outputs": [
    {
     "name": "stderr",
     "output_type": "stream",
     "text": [
      "C:\\Users\\harui\\AppData\\Local\\Temp\\ipykernel_31712\\1576067408.py:6: SettingWithCopyWarning: \n",
      "A value is trying to be set on a copy of a slice from a DataFrame.\n",
      "Try using .loc[row_indexer,col_indexer] = value instead\n",
      "\n",
      "See the caveats in the documentation: https://pandas.pydata.org/pandas-docs/stable/user_guide/indexing.html#returning-a-view-versus-a-copy\n",
      "  df2[['Age_scale', 'AS_scale']] = scaler.transform(df2[['Age', 'AnnualSalary']])\n",
      "C:\\Users\\harui\\AppData\\Local\\Temp\\ipykernel_31712\\1576067408.py:6: SettingWithCopyWarning: \n",
      "A value is trying to be set on a copy of a slice from a DataFrame.\n",
      "Try using .loc[row_indexer,col_indexer] = value instead\n",
      "\n",
      "See the caveats in the documentation: https://pandas.pydata.org/pandas-docs/stable/user_guide/indexing.html#returning-a-view-versus-a-copy\n",
      "  df2[['Age_scale', 'AS_scale']] = scaler.transform(df2[['Age', 'AnnualSalary']])\n"
     ]
    },
    {
     "data": {
      "text/html": [
       "<div>\n",
       "<style scoped>\n",
       "    .dataframe tbody tr th:only-of-type {\n",
       "        vertical-align: middle;\n",
       "    }\n",
       "\n",
       "    .dataframe tbody tr th {\n",
       "        vertical-align: top;\n",
       "    }\n",
       "\n",
       "    .dataframe thead th {\n",
       "        text-align: right;\n",
       "    }\n",
       "</style>\n",
       "<table border=\"1\" class=\"dataframe\">\n",
       "  <thead>\n",
       "    <tr style=\"text-align: right;\">\n",
       "      <th></th>\n",
       "      <th>User ID</th>\n",
       "      <th>Gender</th>\n",
       "      <th>Age</th>\n",
       "      <th>AnnualSalary</th>\n",
       "      <th>Purchased</th>\n",
       "      <th>Age_scale</th>\n",
       "      <th>AS_scale</th>\n",
       "    </tr>\n",
       "  </thead>\n",
       "  <tbody>\n",
       "    <tr>\n",
       "      <th>0</th>\n",
       "      <td>1.0</td>\n",
       "      <td>Male</td>\n",
       "      <td>32.0</td>\n",
       "      <td>100000.0</td>\n",
       "      <td>1.0</td>\n",
       "      <td>-0.750885</td>\n",
       "      <td>0.794539</td>\n",
       "    </tr>\n",
       "    <tr>\n",
       "      <th>1</th>\n",
       "      <td>2.0</td>\n",
       "      <td>Female</td>\n",
       "      <td>38.0</td>\n",
       "      <td>63500.0</td>\n",
       "      <td>0.0</td>\n",
       "      <td>-0.190375</td>\n",
       "      <td>-0.267422</td>\n",
       "    </tr>\n",
       "    <tr>\n",
       "      <th>2</th>\n",
       "      <td>3.0</td>\n",
       "      <td>Male</td>\n",
       "      <td>20.0</td>\n",
       "      <td>74000.0</td>\n",
       "      <td>0.0</td>\n",
       "      <td>-1.871905</td>\n",
       "      <td>0.038073</td>\n",
       "    </tr>\n",
       "    <tr>\n",
       "      <th>3</th>\n",
       "      <td>4.0</td>\n",
       "      <td>Female</td>\n",
       "      <td>48.0</td>\n",
       "      <td>119000.0</td>\n",
       "      <td>1.0</td>\n",
       "      <td>0.743809</td>\n",
       "      <td>1.347341</td>\n",
       "    </tr>\n",
       "    <tr>\n",
       "      <th>4</th>\n",
       "      <td>5.0</td>\n",
       "      <td>Male</td>\n",
       "      <td>41.0</td>\n",
       "      <td>108500.0</td>\n",
       "      <td>1.0</td>\n",
       "      <td>0.089880</td>\n",
       "      <td>1.041845</td>\n",
       "    </tr>\n",
       "  </tbody>\n",
       "</table>\n",
       "</div>"
      ],
      "text/plain": [
       "   User ID  Gender   Age  AnnualSalary  Purchased  Age_scale  AS_scale\n",
       "0      1.0    Male  32.0      100000.0        1.0  -0.750885  0.794539\n",
       "1      2.0  Female  38.0       63500.0        0.0  -0.190375 -0.267422\n",
       "2      3.0    Male  20.0       74000.0        0.0  -1.871905  0.038073\n",
       "3      4.0  Female  48.0      119000.0        1.0   0.743809  1.347341\n",
       "4      5.0    Male  41.0      108500.0        1.0   0.089880  1.041845"
      ]
     },
     "execution_count": 13,
     "metadata": {},
     "output_type": "execute_result"
    }
   ],
   "source": [
    "# データを標準化 / Standardize the data\n",
    "# 名前をAge_scaleとAS_scaleに変更 / Change the column names to Age_scale and AS_scale\n",
    "from sklearn.preprocessing import StandardScaler\n",
    "scaler = StandardScaler()\n",
    "scaler.fit(df2[['Age', 'AnnualSalary']])\n",
    "df2[['Age_scale', 'AS_scale']] = scaler.transform(df2[['Age', 'AnnualSalary']])\n",
    "\n",
    "# 最初の5行を表示して確認 / Display the first 5 rows and verify you have done correctly.\n",
    "df2.head()"
   ]
  },
  {
   "cell_type": "code",
   "execution_count": 14,
   "metadata": {},
   "outputs": [
    {
     "data": {
      "text/plain": [
       "(977, 7)"
      ]
     },
     "execution_count": 14,
     "metadata": {},
     "output_type": "execute_result"
    }
   ],
   "source": [
    "df2.shape"
   ]
  },
  {
   "cell_type": "markdown",
   "metadata": {},
   "source": [
    "## (11) 性別のデータを数字に変換 / Convert the data in the column, Gender, into integers.\n",
    "\n",
    "男性は1、女性は0、の列を作って、データフレームに追加してください。<br>\n",
    "Convert 'Male' to 1 and 'Female' to 0, and store it in a Series. Then add it to the data frame.<br>\n",
    "\n",
    "\n",
    "[Week 7: Convert string: 文字列を数字に変換](Ex_Week7.ipynb#convert_str)<br>\n",
    "[pandasでカテゴリ変数をダミー変数に変換: get_dummies](https://note.nkmk.me/python-pandas-get-dummies/)"
   ]
  },
  {
   "cell_type": "code",
   "execution_count": 15,
   "metadata": {},
   "outputs": [
    {
     "name": "stdout",
     "output_type": "stream",
     "text": [
      "    Male\n",
      "0   True\n",
      "1  False\n",
      "2   True\n",
      "3  False\n",
      "4   True\n",
      "   User ID  Gender   Age  AnnualSalary  Purchased  Age_scale  AS_scale   Male\n",
      "0      1.0    Male  32.0      100000.0        1.0  -0.750885  0.794539   True\n",
      "1      2.0  Female  38.0       63500.0        0.0  -0.190375 -0.267422  False\n",
      "2      3.0    Male  20.0       74000.0        0.0  -1.871905  0.038073   True\n",
      "3      4.0  Female  48.0      119000.0        1.0   0.743809  1.347341  False\n",
      "4      5.0    Male  41.0      108500.0        1.0   0.089880  1.041845   True\n"
     ]
    }
   ],
   "source": [
    "Gender = pd.get_dummies(df2[\"Gender\"], drop_first=True)\n",
    "print(Gender.head())\n",
    "\n",
    "# 元のデータフレームに追加したい\n",
    "\n",
    "df2 = pd.concat([df2, Gender], axis=1)\n",
    "print(df2.head())\n",
    "\n"
   ]
  },
  {
   "cell_type": "markdown",
   "metadata": {},
   "source": [
    "## (12) 目的変数と説明変数をDataFrameに格納 / Store the objective and explanatory variable to DataFrames.\n",
    "\n",
    "説明変数として'Age_scale'、'ES_scale'、数値化された性別を、目的変数として'Purchased'をDataFrameに格納します。<br>\n",
    "標準化した後のDataFrameを使うように気を付けましょう。<br>\n",
    "使う変数がデータフレームの何列目にあるか、注意しましょう。<br>\n",
    "Store 'Age_scale','ES_scale', and the numeric gender as explanatory variable and Purchased as objective variable.<br>\n",
    "Please extract DataFrame by using the DataFrame after deleting NaN.<br>\n",
    "Note carefully what columns the data you are using  are in.\n",
    "\n",
    "[Week 7: Convert objective variable to Series](Ex_Week7.ipynb#obj_series)"
   ]
  },
  {
   "cell_type": "code",
   "execution_count": 16,
   "metadata": {},
   "outputs": [],
   "source": [
    "# 説明変数のデータフレーム / DataFrame for explanatory variable\n",
    "# \"Age_scale\",\"AS_scale\",\"Male\"を説明変数としてxに格納する\n",
    "\n",
    "x = df2[[\"Age_scale\", \"AS_scale\", \"Male\"]]\n",
    "\n",
    "# 目的変数のデータフレーム / DataFrame for objective varialble\n",
    "y = df2[\"Purchased\"]\n"
   ]
  },
  {
   "cell_type": "markdown",
   "metadata": {},
   "source": [
    "## (13) 分割したデータを訓練データと検証データ（7:3）に分割して、データ件数を確認\n",
    "Sprit the original data set into training data and test data (for evaluation), then check the number of data after spritting the dataset.\n",
    "\n",
    "[Week 7: Sprit data](Ex_Week7.ipynb#sprit_data)<br>\n",
    "[Week 2: len](Ex_Week2.ipynb#shape)"
   ]
  },
  {
   "cell_type": "code",
   "execution_count": 17,
   "metadata": {},
   "outputs": [],
   "source": [
    "# ロジスティック回帰分析に必要なパッケージ\n",
    "from sklearn.linear_model import LogisticRegression\n",
    "from sklearn.model_selection import train_test_split"
   ]
  },
  {
   "cell_type": "code",
   "execution_count": 18,
   "metadata": {},
   "outputs": [
    {
     "name": "stdout",
     "output_type": "stream",
     "text": [
      "683\n",
      "294\n"
     ]
    }
   ],
   "source": [
    "# Split the data\n",
    "x_train, x_test, y_train, y_test = train_test_split(x, y, test_size=0.3, random_state=1)\n",
    "\n",
    "# 訓練用と検証用データの行数を表示してください。\n",
    "# Display the number of rows for training and test\n",
    "# 訓練データの数\n",
    "print(len(x_train))\n",
    "\n",
    "# 検証データの数\n",
    "print(len(y_test))\n"
   ]
  },
  {
   "cell_type": "markdown",
   "metadata": {},
   "source": [
    "## (14) インスタンスを作成してモデリング\n",
    "Create an instance, then apply Logistic regression"
   ]
  },
  {
   "cell_type": "code",
   "execution_count": 19,
   "metadata": {},
   "outputs": [],
   "source": [
    "logmodel = LogisticRegression()"
   ]
  },
  {
   "cell_type": "code",
   "execution_count": 20,
   "metadata": {},
   "outputs": [
    {
     "data": {
      "text/html": [
       "<style>#sk-container-id-1 {color: black;}#sk-container-id-1 pre{padding: 0;}#sk-container-id-1 div.sk-toggleable {background-color: white;}#sk-container-id-1 label.sk-toggleable__label {cursor: pointer;display: block;width: 100%;margin-bottom: 0;padding: 0.3em;box-sizing: border-box;text-align: center;}#sk-container-id-1 label.sk-toggleable__label-arrow:before {content: \"▸\";float: left;margin-right: 0.25em;color: #696969;}#sk-container-id-1 label.sk-toggleable__label-arrow:hover:before {color: black;}#sk-container-id-1 div.sk-estimator:hover label.sk-toggleable__label-arrow:before {color: black;}#sk-container-id-1 div.sk-toggleable__content {max-height: 0;max-width: 0;overflow: hidden;text-align: left;background-color: #f0f8ff;}#sk-container-id-1 div.sk-toggleable__content pre {margin: 0.2em;color: black;border-radius: 0.25em;background-color: #f0f8ff;}#sk-container-id-1 input.sk-toggleable__control:checked~div.sk-toggleable__content {max-height: 200px;max-width: 100%;overflow: auto;}#sk-container-id-1 input.sk-toggleable__control:checked~label.sk-toggleable__label-arrow:before {content: \"▾\";}#sk-container-id-1 div.sk-estimator input.sk-toggleable__control:checked~label.sk-toggleable__label {background-color: #d4ebff;}#sk-container-id-1 div.sk-label input.sk-toggleable__control:checked~label.sk-toggleable__label {background-color: #d4ebff;}#sk-container-id-1 input.sk-hidden--visually {border: 0;clip: rect(1px 1px 1px 1px);clip: rect(1px, 1px, 1px, 1px);height: 1px;margin: -1px;overflow: hidden;padding: 0;position: absolute;width: 1px;}#sk-container-id-1 div.sk-estimator {font-family: monospace;background-color: #f0f8ff;border: 1px dotted black;border-radius: 0.25em;box-sizing: border-box;margin-bottom: 0.5em;}#sk-container-id-1 div.sk-estimator:hover {background-color: #d4ebff;}#sk-container-id-1 div.sk-parallel-item::after {content: \"\";width: 100%;border-bottom: 1px solid gray;flex-grow: 1;}#sk-container-id-1 div.sk-label:hover label.sk-toggleable__label {background-color: #d4ebff;}#sk-container-id-1 div.sk-serial::before {content: \"\";position: absolute;border-left: 1px solid gray;box-sizing: border-box;top: 0;bottom: 0;left: 50%;z-index: 0;}#sk-container-id-1 div.sk-serial {display: flex;flex-direction: column;align-items: center;background-color: white;padding-right: 0.2em;padding-left: 0.2em;position: relative;}#sk-container-id-1 div.sk-item {position: relative;z-index: 1;}#sk-container-id-1 div.sk-parallel {display: flex;align-items: stretch;justify-content: center;background-color: white;position: relative;}#sk-container-id-1 div.sk-item::before, #sk-container-id-1 div.sk-parallel-item::before {content: \"\";position: absolute;border-left: 1px solid gray;box-sizing: border-box;top: 0;bottom: 0;left: 50%;z-index: -1;}#sk-container-id-1 div.sk-parallel-item {display: flex;flex-direction: column;z-index: 1;position: relative;background-color: white;}#sk-container-id-1 div.sk-parallel-item:first-child::after {align-self: flex-end;width: 50%;}#sk-container-id-1 div.sk-parallel-item:last-child::after {align-self: flex-start;width: 50%;}#sk-container-id-1 div.sk-parallel-item:only-child::after {width: 0;}#sk-container-id-1 div.sk-dashed-wrapped {border: 1px dashed gray;margin: 0 0.4em 0.5em 0.4em;box-sizing: border-box;padding-bottom: 0.4em;background-color: white;}#sk-container-id-1 div.sk-label label {font-family: monospace;font-weight: bold;display: inline-block;line-height: 1.2em;}#sk-container-id-1 div.sk-label-container {text-align: center;}#sk-container-id-1 div.sk-container {/* jupyter's `normalize.less` sets `[hidden] { display: none; }` but bootstrap.min.css set `[hidden] { display: none !important; }` so we also need the `!important` here to be able to override the default hidden behavior on the sphinx rendered scikit-learn.org. See: https://github.com/scikit-learn/scikit-learn/issues/21755 */display: inline-block !important;position: relative;}#sk-container-id-1 div.sk-text-repr-fallback {display: none;}</style><div id=\"sk-container-id-1\" class=\"sk-top-container\"><div class=\"sk-text-repr-fallback\"><pre>LogisticRegression()</pre><b>In a Jupyter environment, please rerun this cell to show the HTML representation or trust the notebook. <br />On GitHub, the HTML representation is unable to render, please try loading this page with nbviewer.org.</b></div><div class=\"sk-container\" hidden><div class=\"sk-item\"><div class=\"sk-estimator sk-toggleable\"><input class=\"sk-toggleable__control sk-hidden--visually\" id=\"sk-estimator-id-1\" type=\"checkbox\" checked><label for=\"sk-estimator-id-1\" class=\"sk-toggleable__label sk-toggleable__label-arrow\">LogisticRegression</label><div class=\"sk-toggleable__content\"><pre>LogisticRegression()</pre></div></div></div></div></div>"
      ],
      "text/plain": [
       "LogisticRegression()"
      ]
     },
     "execution_count": 20,
     "metadata": {},
     "output_type": "execute_result"
    }
   ],
   "source": [
    "logmodel.fit(x_train, y_train)"
   ]
  },
  {
   "cell_type": "markdown",
   "metadata": {},
   "source": [
    "## (15) 結果のアウトプット / Output the result"
   ]
  },
  {
   "cell_type": "code",
   "execution_count": 21,
   "metadata": {},
   "outputs": [
    {
     "name": "stdout",
     "output_type": "stream",
     "text": [
      "[2.32662509]\n",
      "[1.0706613]\n",
      "[0.27417072]\n",
      "[-0.89910042]\n"
     ]
    }
   ],
   "source": [
    "# 偏回帰係数 / partial regression coefficient：Age_scale\n",
    "print(logmodel.coef_[:,0])\n",
    "\n",
    "# 偏回帰係数 / partial regression coefficient：Salary_scale\n",
    "print(logmodel.coef_[:,1])\n",
    "\n",
    "# 偏回帰係数 / partial regression coefficient：Gender\n",
    "print(logmodel.coef_[:,2])\n",
    "\n",
    "# 回帰定数\n",
    "print(logmodel.intercept_)\n"
   ]
  },
  {
   "cell_type": "markdown",
   "metadata": {},
   "source": [
    "## (16) テスト用データを使って、車を買うか買わないかを予測\n",
    "Predict whether to buy or not to buy a car using data for testing.\n",
    "\n",
    "予測の結果を表示してください。<br>\n",
    "Display the prediction.<br>\n",
    "\n",
    "[Week 7: Prediction](Ex_Week7.ipynb#predict)"
   ]
  },
  {
   "cell_type": "code",
   "execution_count": 22,
   "metadata": {},
   "outputs": [
    {
     "name": "stdout",
     "output_type": "stream",
     "text": [
      "[0. 0. 0. 1. 1. 0. 1. 1. 1. 0. 1. 1. 0. 0. 0. 0. 0. 0. 0. 0. 1. 1. 1. 0.\n",
      " 1. 0. 0. 0. 0. 1. 0. 1. 0. 0. 1. 1. 0. 0. 1. 0. 1. 0. 1. 0. 0. 0. 1. 0.\n",
      " 1. 0. 0. 1. 1. 1. 1. 0. 0. 1. 0. 0. 1. 1. 1. 0. 1. 0. 0. 1. 0. 0. 0. 0.\n",
      " 0. 1. 1. 0. 0. 0. 0. 0. 0. 1. 1. 0. 1. 1. 1. 0. 0. 1. 1. 1. 0. 1. 0. 1.\n",
      " 1. 1. 0. 0. 1. 1. 1. 0. 0. 1. 0. 1. 1. 0. 1. 0. 1. 1. 1. 0. 1. 1. 0. 0.\n",
      " 1. 1. 0. 0. 0. 1. 1. 0. 0. 0. 0. 1. 0. 1. 0. 1. 1. 0. 0. 0. 0. 1. 1. 0.\n",
      " 0. 0. 0. 1. 1. 0. 0. 0. 1. 1. 0. 0. 1. 1. 1. 0. 0. 0. 1. 0. 0. 1. 0. 0.\n",
      " 1. 1. 0. 1. 0. 1. 0. 1. 0. 0. 0. 1. 0. 0. 0. 1. 1. 0. 0. 0. 0. 1. 1. 1.\n",
      " 1. 1. 0. 1. 1. 0. 1. 0. 0. 0. 0. 0. 1. 0. 1. 0. 0. 1. 1. 0. 1. 0. 0. 0.\n",
      " 0. 0. 1. 0. 0. 1. 0. 0. 0. 1. 1. 0. 0. 1. 0. 1. 1. 1. 0. 0. 0. 0. 1. 0.\n",
      " 1. 0. 0. 1. 1. 0. 1. 1. 0. 0. 1. 0. 0. 0. 0. 0. 1. 0. 0. 0. 0. 0. 0. 1.\n",
      " 0. 0. 1. 1. 1. 0. 1. 0. 0. 1. 0. 1. 1. 0. 0. 1. 0. 1. 1. 0. 0. 1. 0. 1.\n",
      " 0. 1. 0. 0. 1. 1.]\n"
     ]
    }
   ],
   "source": [
    "# テスト用データを使って、車を買うか買わないかを予測\n",
    "\n",
    "predictions = logmodel.predict(x_test)\n",
    "\n",
    "# 予測結果を表示\n",
    "print(predictions)"
   ]
  },
  {
   "cell_type": "markdown",
   "metadata": {},
   "source": [
    "## (17) 混合行列を表示してください。 / Display confusion matrix\n",
    "\n",
    "<table>\n",
    "<tr>\n",
    "    <td>True Negative </td>\n",
    "    <td>False Potisive</td>\n",
    "</tr>\n",
    "<tr>\n",
    "    <td>False Negative</td>\n",
    "    <td>True Positive </td>\n",
    "</tr>\n",
    "</table>\n",
    "\n",
    "True positive: (We predicted a positive result and it was positive)　本当の陽性<br>\n",
    "True negative: (We predicted a negative result and it was negative)　本当の陰性<br>\n",
    "False positive: (We predicted a positive result and it was negative)　偽陽性<br>\n",
    "False negative: (We predicted a negative result and it was positive)　偽陰性<br>\n",
    "\n",
    "       \n",
    "[参考サイト：混合行列 @ note.nkmk.me](https://note.nkmk.me/python-sklearn-confusion-matrix-score/)<br>\n",
    "[参考サイト：混合行列](https://qiita.com/TsutomuNakamura/items/a1a6a02cb9bb0dcbb37f)"
   ]
  },
  {
   "cell_type": "code",
   "execution_count": 23,
   "metadata": {},
   "outputs": [
    {
     "name": "stdout",
     "output_type": "stream",
     "text": [
      "[[138  22]\n",
      " [ 28 106]]\n"
     ]
    }
   ],
   "source": [
    "from sklearn.metrics import confusion_matrix\n",
    "\n",
    "print(confusion_matrix(y_test, predictions))"
   ]
  },
  {
   "cell_type": "markdown",
   "metadata": {
    "tags": []
   },
   "source": [
    "## (19) ある顧客が車を買う確率を求める\n",
    "Find the probability that a given customer will buy a car.\n",
    "\n",
    "ある顧客の説明変数の値は以下のようになっています。この顧客が車を買う確率を求めなさい。<br>\n",
    "The values of the explanatory variables for a given customer are as follows. Find the probability that this customer will buy a car.\n",
    "\n",
    "* Gender = Male\n",
    "* Age = 40\n",
    "* AnnualSalary \t: 100000 ($)"
   ]
  },
  {
   "cell_type": "code",
   "execution_count": 24,
   "metadata": {},
   "outputs": [
    {
     "name": "stdout",
     "output_type": "stream",
     "text": [
      "The probability of the customer purchasing a car is: 0.55\n"
     ]
    }
   ],
   "source": [
    "# 新しい顧客データをDataFrameとして作成。\n",
    "new_customer_df = pd.DataFrame({\n",
    "    'Age': [40],\n",
    "    'AnnualSalary': [100000],\n",
    "    'Male': [1]  \n",
    "})\n",
    "\n",
    "# 'Age' と 'AnnualSalary' 列を標準化\n",
    "new_customer_df[['Age', 'AnnualSalary']] = scaler.transform(new_customer_df[['Age', 'AnnualSalary']])\n",
    "\n",
    "# 標準化されたデータにモデルが学習時に使用した特徴量名を割り当てる\n",
    "new_customer_df.rename(columns={'Age': 'Age_scale', 'AnnualSalary': 'AS_scale'}, inplace=True)\n",
    "\n",
    "# モデルで確率を予測\n",
    "a = logmodel.predict_proba(new_customer_df)\n",
    "\n",
    "# 購入する確率を表示\n",
    "print(f\"The probability of the customer purchasing a car is: {a[0][1]:.2f}\")\n"
   ]
  }
 ],
 "metadata": {
  "kernelspec": {
   "display_name": "Python 3 (ipykernel)",
   "language": "python",
   "name": "python3"
  },
  "language_info": {
   "codemirror_mode": {
    "name": "ipython",
    "version": 3
   },
   "file_extension": ".py",
   "mimetype": "text/x-python",
   "name": "python",
   "nbconvert_exporter": "python",
   "pygments_lexer": "ipython3",
   "version": "3.11.5"
  }
 },
 "nbformat": 4,
 "nbformat_minor": 4
}
