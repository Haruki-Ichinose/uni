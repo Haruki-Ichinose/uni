{
 "cells": [
  {
   "cell_type": "markdown",
   "metadata": {},
   "source": [
    "# **データマイニングと情報可視化: 演習**\n",
    "# **Data mining and information visualization: Exercise**\n",
    "<font size=\"4\">\n",
    "第5回　2024年1月16日(火)<br>\n",
    "データマイニング手法2-2：クラスター分析（データ解析と可視化）<br>\n",
    "Method 2-2: Clustering analysis (Analyze data &amp; visualization)<br>\n",
    "</font>\n",
    "\n",
    "[レポート / Assignment](Rep_Week5.ipynb) : <span style=\"color: black;font-weight:bold;\" >締め切り 2024年1月19日(金)　23：59 JST</span>"
   ]
  },
  {
   "cell_type": "markdown",
   "metadata": {},
   "source": [
    "### 講義動画\n",
    "* [Week 1](https://youtu.be/TFwTK-dzcbM): Pythonの基礎\n",
    "* [Week 2](https://youtu.be/JuwffIC-S10): Pandasの基礎、集合の演算\n",
    "* [Week 3](https://youtu.be/iSSVr5tb5KQ): Pandas・集合の復習、Matplotlibで散布図のプロット、マーケットバスケット分析\n",
    "* [Week 4](https://youtu.be/pGtmhge8cog): データ加工とデータの標準化、Matplotlibによるデータ可視化\n",
    "* [Week 5](https://youtu.be/lk5JyzsaDFc): クラスタリングのデータ解析(実践)"
   ]
  },
  {
   "cell_type": "markdown",
   "metadata": {},
   "source": [
    "### おすすめ書籍 @ 九大図書館蔵書\n",
    "* [東京大学のデータサイエンティスト育成講座 : Pythonで手を動かして学ぶデータ分析](http://hdl.handle.net/2324/1001684368)\n",
    "* [Pythonによるデータマイニングと機械学習](http://hdl.handle.net/2324/1001680874)\n",
    "* [Pythonではじめる機械学習 : scikit-learnで学ぶ特徴量エンジニアリングと機械学習の基礎](http://hdl.handle.net/2324/1001632671)"
   ]
  },
  {
   "cell_type": "markdown",
   "metadata": {},
   "source": [
    "### k-means法のおすすめサイト&動画\n",
    "* [K-Means Clustering on Handwritten Digits](https://johnloeber.com/docs/kmeans.html)\n",
    "* [scikit-learn でクラスタ分析 (K-means 法)@Python でデータサイエンス](https://pythondatascience.plavox.info/scikit-learn/%E3%82%AF%E3%83%A9%E3%82%B9%E3%82%BF%E5%88%86%E6%9E%90-k-means)\n",
    "* [【機械学習】K-meansを勉強してみる](https://qiita.com/shuva/items/bcf700bd32ae2bbb63c7)\n",
    "* [【機械学習】クラスタリングとは何か(k-means)＠ヨビノリ](https://www.youtube.com/watch?v=8yptHd0JDlw)\n",
    "* [【完全版】この動画1本で機械学習実装（Python）の基礎を習得！忙しい人のための速習コース](https://www.youtube.com/watch?v=okpRV08-svw)\n"
   ]
  },
  {
   "cell_type": "code",
   "execution_count": 13,
   "metadata": {},
   "outputs": [
    {
     "data": {
      "text/plain": [
       "'%.3f'"
      ]
     },
     "execution_count": 13,
     "metadata": {},
     "output_type": "execute_result"
    }
   ],
   "source": [
    "# まずはライブラリをインポート / Import the libraries.\n",
    "import numpy as np\n",
    "import numpy.random as random\n",
    "import scipy as sp\n",
    "from pandas import Series, DataFrame\n",
    "import pandas as pd\n",
    "\n",
    "# 可視化ライブラリ / Visualization libraries\n",
    "import matplotlib.pyplot as plt\n",
    "import matplotlib as mpl\n",
    "import seaborn as sns\n",
    "%matplotlib inline\n",
    "\n",
    "# 機械学習ライブラリ / Machine learning library\n",
    "import sklearn\n",
    "\n",
    "# k-means法を使うためのインポート / Import a library for k-means method\n",
    "from sklearn.cluster import KMeans\n",
    "\n",
    "# 小数第3位まで表示 / display up to the 3rd decimal place\n",
    "%precision 3"
   ]
  },
  {
   "cell_type": "markdown",
   "metadata": {},
   "source": [
    "## Basics of Pandas\n",
    "今日の演習で使うPandasの関数を練習しましょう。<br>\n",
    "Let's practice some of functions in Pandas library.<br>\n",
    "\n",
    "[Read CSV with index](https://note.nkmk.me/python-pandas-read-csv-tsv/): インデックスがあるときのcsvファイルの読み込み"
   ]
  },
  {
   "cell_type": "markdown",
   "metadata": {},
   "source": [
    "#### headerがあるcsvファイル（w5_header.csv）を読み込む。/ Load a csv file, w5_header.csv, which has a header as follows.<br>\n",
    "a,b,c,d<br>\n",
    "11,12,13,14<br>\n",
    "21,22,23,24<br>\n",
    "31,32,33,34<br>\n",
    "\n",
    "[Week 2: read csv](Ex_Week2.ipynb#readcsv)"
   ]
  },
  {
   "cell_type": "code",
   "execution_count": 14,
   "metadata": {},
   "outputs": [
    {
     "data": {
      "text/html": [
       "<div>\n",
       "<style scoped>\n",
       "    .dataframe tbody tr th:only-of-type {\n",
       "        vertical-align: middle;\n",
       "    }\n",
       "\n",
       "    .dataframe tbody tr th {\n",
       "        vertical-align: top;\n",
       "    }\n",
       "\n",
       "    .dataframe thead th {\n",
       "        text-align: right;\n",
       "    }\n",
       "</style>\n",
       "<table border=\"1\" class=\"dataframe\">\n",
       "  <thead>\n",
       "    <tr style=\"text-align: right;\">\n",
       "      <th></th>\n",
       "      <th>a</th>\n",
       "      <th>b</th>\n",
       "      <th>c</th>\n",
       "      <th>d</th>\n",
       "    </tr>\n",
       "  </thead>\n",
       "  <tbody>\n",
       "    <tr>\n",
       "      <th>0</th>\n",
       "      <td>11</td>\n",
       "      <td>12</td>\n",
       "      <td>13</td>\n",
       "      <td>14</td>\n",
       "    </tr>\n",
       "    <tr>\n",
       "      <th>1</th>\n",
       "      <td>21</td>\n",
       "      <td>22</td>\n",
       "      <td>23</td>\n",
       "      <td>24</td>\n",
       "    </tr>\n",
       "    <tr>\n",
       "      <th>2</th>\n",
       "      <td>31</td>\n",
       "      <td>32</td>\n",
       "      <td>33</td>\n",
       "      <td>34</td>\n",
       "    </tr>\n",
       "  </tbody>\n",
       "</table>\n",
       "</div>"
      ],
      "text/plain": [
       "    a   b   c   d\n",
       "0  11  12  13  14\n",
       "1  21  22  23  24\n",
       "2  31  32  33  34"
      ]
     },
     "execution_count": 14,
     "metadata": {},
     "output_type": "execute_result"
    }
   ],
   "source": [
    "df1 = pd.read_csv('data/w5_header.csv')\n",
    "df1.head()"
   ]
  },
  {
   "cell_type": "markdown",
   "metadata": {},
   "source": [
    "#### headerとindexがある以下のようなcsvファイルを読み込む。/ Load a csv file which has a header and an index as follows.<br>\n",
    ",a,b,c,d<br>\n",
    "ONE,11,12,13,14<br>\n",
    "TWO,21,22,23,24<br>\n",
    "THREE,31,32,33,34<br>"
   ]
  },
  {
   "cell_type": "markdown",
   "metadata": {},
   "source": [
    "オプションなしで読み込むとどうなるでしょうか??"
   ]
  },
  {
   "cell_type": "code",
   "execution_count": 15,
   "metadata": {},
   "outputs": [
    {
     "data": {
      "text/html": [
       "<div>\n",
       "<style scoped>\n",
       "    .dataframe tbody tr th:only-of-type {\n",
       "        vertical-align: middle;\n",
       "    }\n",
       "\n",
       "    .dataframe tbody tr th {\n",
       "        vertical-align: top;\n",
       "    }\n",
       "\n",
       "    .dataframe thead th {\n",
       "        text-align: right;\n",
       "    }\n",
       "</style>\n",
       "<table border=\"1\" class=\"dataframe\">\n",
       "  <thead>\n",
       "    <tr style=\"text-align: right;\">\n",
       "      <th></th>\n",
       "      <th>Unnamed: 0</th>\n",
       "      <th>a</th>\n",
       "      <th>b</th>\n",
       "      <th>c</th>\n",
       "      <th>d</th>\n",
       "    </tr>\n",
       "  </thead>\n",
       "  <tbody>\n",
       "    <tr>\n",
       "      <th>0</th>\n",
       "      <td>ONE</td>\n",
       "      <td>11</td>\n",
       "      <td>12</td>\n",
       "      <td>13</td>\n",
       "      <td>14</td>\n",
       "    </tr>\n",
       "    <tr>\n",
       "      <th>1</th>\n",
       "      <td>TWO</td>\n",
       "      <td>21</td>\n",
       "      <td>22</td>\n",
       "      <td>23</td>\n",
       "      <td>24</td>\n",
       "    </tr>\n",
       "    <tr>\n",
       "      <th>2</th>\n",
       "      <td>THREE</td>\n",
       "      <td>31</td>\n",
       "      <td>32</td>\n",
       "      <td>33</td>\n",
       "      <td>34</td>\n",
       "    </tr>\n",
       "  </tbody>\n",
       "</table>\n",
       "</div>"
      ],
      "text/plain": [
       "  Unnamed: 0   a   b   c   d\n",
       "0        ONE  11  12  13  14\n",
       "1        TWO  21  22  23  24\n",
       "2      THREE  31  32  33  34"
      ]
     },
     "execution_count": 15,
     "metadata": {},
     "output_type": "execute_result"
    }
   ],
   "source": [
    "df2 = pd.read_csv('data/w5_header_index.csv')\n",
    "df2.head()"
   ]
  },
  {
   "cell_type": "markdown",
   "metadata": {},
   "source": [
    "<a id=\"readcsv_index\"></a>"
   ]
  },
  {
   "cell_type": "markdown",
   "metadata": {},
   "source": [
    "オプションを付けてみます。/ Add an option, 'index_col=0'."
   ]
  },
  {
   "cell_type": "code",
   "execution_count": 16,
   "metadata": {},
   "outputs": [
    {
     "data": {
      "text/html": [
       "<div>\n",
       "<style scoped>\n",
       "    .dataframe tbody tr th:only-of-type {\n",
       "        vertical-align: middle;\n",
       "    }\n",
       "\n",
       "    .dataframe tbody tr th {\n",
       "        vertical-align: top;\n",
       "    }\n",
       "\n",
       "    .dataframe thead th {\n",
       "        text-align: right;\n",
       "    }\n",
       "</style>\n",
       "<table border=\"1\" class=\"dataframe\">\n",
       "  <thead>\n",
       "    <tr style=\"text-align: right;\">\n",
       "      <th></th>\n",
       "      <th>a</th>\n",
       "      <th>b</th>\n",
       "      <th>c</th>\n",
       "      <th>d</th>\n",
       "    </tr>\n",
       "  </thead>\n",
       "  <tbody>\n",
       "    <tr>\n",
       "      <th>ONE</th>\n",
       "      <td>11</td>\n",
       "      <td>12</td>\n",
       "      <td>13</td>\n",
       "      <td>14</td>\n",
       "    </tr>\n",
       "    <tr>\n",
       "      <th>TWO</th>\n",
       "      <td>21</td>\n",
       "      <td>22</td>\n",
       "      <td>23</td>\n",
       "      <td>24</td>\n",
       "    </tr>\n",
       "    <tr>\n",
       "      <th>THREE</th>\n",
       "      <td>31</td>\n",
       "      <td>32</td>\n",
       "      <td>33</td>\n",
       "      <td>34</td>\n",
       "    </tr>\n",
       "  </tbody>\n",
       "</table>\n",
       "</div>"
      ],
      "text/plain": [
       "        a   b   c   d\n",
       "ONE    11  12  13  14\n",
       "TWO    21  22  23  24\n",
       "THREE  31  32  33  34"
      ]
     },
     "execution_count": 16,
     "metadata": {},
     "output_type": "execute_result"
    }
   ],
   "source": [
    "df2 = pd.read_csv('data/w5_header_index.csv', index_col=0)\n",
    "df2.head()"
   ]
  },
  {
   "cell_type": "markdown",
   "metadata": {},
   "source": [
    "<a id=\"concat\"></a>"
   ]
  },
  {
   "cell_type": "markdown",
   "metadata": {},
   "source": [
    "## DataFrameの結合 / Combine DataFrame arrays\n",
    "\n",
    "上下に結合させましょう。<br>\n",
    "Combine DataFrame vertically.\n",
    "\n",
    "[Week 0 Exercise of Pandas: concat](Ex_Week0_Pandas.ipynb#concat)<br>\n",
    "[pandas.DataFrame, Seriesを連結するconcat@note.nkmk.me](https://note.nkmk.me/python-pandas-concat/)"
   ]
  },
  {
   "cell_type": "code",
   "execution_count": 17,
   "metadata": {},
   "outputs": [
    {
     "data": {
      "text/html": [
       "<div>\n",
       "<style scoped>\n",
       "    .dataframe tbody tr th:only-of-type {\n",
       "        vertical-align: middle;\n",
       "    }\n",
       "\n",
       "    .dataframe tbody tr th {\n",
       "        vertical-align: top;\n",
       "    }\n",
       "\n",
       "    .dataframe thead th {\n",
       "        text-align: right;\n",
       "    }\n",
       "</style>\n",
       "<table border=\"1\" class=\"dataframe\">\n",
       "  <thead>\n",
       "    <tr style=\"text-align: right;\">\n",
       "      <th></th>\n",
       "      <th>a</th>\n",
       "      <th>b</th>\n",
       "      <th>c</th>\n",
       "      <th>d</th>\n",
       "    </tr>\n",
       "  </thead>\n",
       "  <tbody>\n",
       "    <tr>\n",
       "      <th>0</th>\n",
       "      <td>11</td>\n",
       "      <td>12</td>\n",
       "      <td>13</td>\n",
       "      <td>14</td>\n",
       "    </tr>\n",
       "    <tr>\n",
       "      <th>1</th>\n",
       "      <td>21</td>\n",
       "      <td>22</td>\n",
       "      <td>23</td>\n",
       "      <td>24</td>\n",
       "    </tr>\n",
       "    <tr>\n",
       "      <th>2</th>\n",
       "      <td>31</td>\n",
       "      <td>32</td>\n",
       "      <td>33</td>\n",
       "      <td>34</td>\n",
       "    </tr>\n",
       "    <tr>\n",
       "      <th>ONE</th>\n",
       "      <td>11</td>\n",
       "      <td>12</td>\n",
       "      <td>13</td>\n",
       "      <td>14</td>\n",
       "    </tr>\n",
       "    <tr>\n",
       "      <th>TWO</th>\n",
       "      <td>21</td>\n",
       "      <td>22</td>\n",
       "      <td>23</td>\n",
       "      <td>24</td>\n",
       "    </tr>\n",
       "    <tr>\n",
       "      <th>THREE</th>\n",
       "      <td>31</td>\n",
       "      <td>32</td>\n",
       "      <td>33</td>\n",
       "      <td>34</td>\n",
       "    </tr>\n",
       "  </tbody>\n",
       "</table>\n",
       "</div>"
      ],
      "text/plain": [
       "        a   b   c   d\n",
       "0      11  12  13  14\n",
       "1      21  22  23  24\n",
       "2      31  32  33  34\n",
       "ONE    11  12  13  14\n",
       "TWO    21  22  23  24\n",
       "THREE  31  32  33  34"
      ]
     },
     "execution_count": 17,
     "metadata": {},
     "output_type": "execute_result"
    }
   ],
   "source": [
    "df120 = pd.concat([df1, df2], axis=0)\n",
    "df120"
   ]
  },
  {
   "cell_type": "markdown",
   "metadata": {},
   "source": [
    "水平に結合させましょう。<br>\n",
    "Combine DataFrame horizontally."
   ]
  },
  {
   "cell_type": "code",
   "execution_count": 18,
   "metadata": {},
   "outputs": [
    {
     "data": {
      "text/html": [
       "<div>\n",
       "<style scoped>\n",
       "    .dataframe tbody tr th:only-of-type {\n",
       "        vertical-align: middle;\n",
       "    }\n",
       "\n",
       "    .dataframe tbody tr th {\n",
       "        vertical-align: top;\n",
       "    }\n",
       "\n",
       "    .dataframe thead th {\n",
       "        text-align: right;\n",
       "    }\n",
       "</style>\n",
       "<table border=\"1\" class=\"dataframe\">\n",
       "  <thead>\n",
       "    <tr style=\"text-align: right;\">\n",
       "      <th></th>\n",
       "      <th>a</th>\n",
       "      <th>b</th>\n",
       "      <th>c</th>\n",
       "      <th>d</th>\n",
       "      <th>a</th>\n",
       "      <th>b</th>\n",
       "      <th>c</th>\n",
       "      <th>d</th>\n",
       "    </tr>\n",
       "  </thead>\n",
       "  <tbody>\n",
       "    <tr>\n",
       "      <th>0</th>\n",
       "      <td>11.0</td>\n",
       "      <td>12.0</td>\n",
       "      <td>13.0</td>\n",
       "      <td>14.0</td>\n",
       "      <td>NaN</td>\n",
       "      <td>NaN</td>\n",
       "      <td>NaN</td>\n",
       "      <td>NaN</td>\n",
       "    </tr>\n",
       "    <tr>\n",
       "      <th>1</th>\n",
       "      <td>21.0</td>\n",
       "      <td>22.0</td>\n",
       "      <td>23.0</td>\n",
       "      <td>24.0</td>\n",
       "      <td>NaN</td>\n",
       "      <td>NaN</td>\n",
       "      <td>NaN</td>\n",
       "      <td>NaN</td>\n",
       "    </tr>\n",
       "    <tr>\n",
       "      <th>2</th>\n",
       "      <td>31.0</td>\n",
       "      <td>32.0</td>\n",
       "      <td>33.0</td>\n",
       "      <td>34.0</td>\n",
       "      <td>NaN</td>\n",
       "      <td>NaN</td>\n",
       "      <td>NaN</td>\n",
       "      <td>NaN</td>\n",
       "    </tr>\n",
       "    <tr>\n",
       "      <th>ONE</th>\n",
       "      <td>NaN</td>\n",
       "      <td>NaN</td>\n",
       "      <td>NaN</td>\n",
       "      <td>NaN</td>\n",
       "      <td>11.0</td>\n",
       "      <td>12.0</td>\n",
       "      <td>13.0</td>\n",
       "      <td>14.0</td>\n",
       "    </tr>\n",
       "    <tr>\n",
       "      <th>TWO</th>\n",
       "      <td>NaN</td>\n",
       "      <td>NaN</td>\n",
       "      <td>NaN</td>\n",
       "      <td>NaN</td>\n",
       "      <td>21.0</td>\n",
       "      <td>22.0</td>\n",
       "      <td>23.0</td>\n",
       "      <td>24.0</td>\n",
       "    </tr>\n",
       "    <tr>\n",
       "      <th>THREE</th>\n",
       "      <td>NaN</td>\n",
       "      <td>NaN</td>\n",
       "      <td>NaN</td>\n",
       "      <td>NaN</td>\n",
       "      <td>31.0</td>\n",
       "      <td>32.0</td>\n",
       "      <td>33.0</td>\n",
       "      <td>34.0</td>\n",
       "    </tr>\n",
       "  </tbody>\n",
       "</table>\n",
       "</div>"
      ],
      "text/plain": [
       "          a     b     c     d     a     b     c     d\n",
       "0      11.0  12.0  13.0  14.0   NaN   NaN   NaN   NaN\n",
       "1      21.0  22.0  23.0  24.0   NaN   NaN   NaN   NaN\n",
       "2      31.0  32.0  33.0  34.0   NaN   NaN   NaN   NaN\n",
       "ONE     NaN   NaN   NaN   NaN  11.0  12.0  13.0  14.0\n",
       "TWO     NaN   NaN   NaN   NaN  21.0  22.0  23.0  24.0\n",
       "THREE   NaN   NaN   NaN   NaN  31.0  32.0  33.0  34.0"
      ]
     },
     "execution_count": 18,
     "metadata": {},
     "output_type": "execute_result"
    }
   ],
   "source": [
    "df121 = pd.concat([df1, df2], axis=1)\n",
    "df121"
   ]
  },
  {
   "cell_type": "markdown",
   "metadata": {},
   "source": [
    "#### サンプルデータ（w5_suits.csv）を読み込みます。\n",
    "\n",
    "ヘッダーとインデックスがあるファイルを読み込んでみましょう。<br>\n",
    "1列目がインデックスになるようにオプションを付けてください。"
   ]
  },
  {
   "cell_type": "code",
   "execution_count": 19,
   "metadata": {},
   "outputs": [],
   "source": [
    "# The file name is 'data/w5_suits.csv'.\n",
    "\n"
   ]
  },
  {
   "cell_type": "markdown",
   "metadata": {},
   "source": [
    "#### DataFrame'suits'から、Phys と Mathの列を抽出して、横に結合してください。<br>\n",
    "Extract the columns, Phys and Math, and concatenate them along columns."
   ]
  },
  {
   "cell_type": "code",
   "execution_count": 20,
   "metadata": {},
   "outputs": [],
   "source": [
    "# オブジェクトを連結する / Concatenate pandas objects along a particular axis \n",
    "# axis = 0: 行を縦に連結 / concatenate along index\n",
    "# axis = 1: 列を横に連結 / concatenate along columns\n"
   ]
  },
  {
   "cell_type": "code",
   "execution_count": 21,
   "metadata": {},
   "outputs": [],
   "source": [
    "# .head()で確認 / Please verify the result with .head().\n",
    "\n"
   ]
  },
  {
   "cell_type": "markdown",
   "metadata": {},
   "source": [
    "## 欠損値の確認\n",
    "Check if it is NaN or not<br>\n",
    "\n",
    "[Week 2 欠損値の確認: isnull](Ex_Week4.ipynb#isnull)<br>\n",
    "[参考サイト：欠損値の確認 @ note.nkmk.me](https://note.nkmk.me/python-pandas-nan-judge-count/)"
   ]
  },
  {
   "cell_type": "code",
   "execution_count": 22,
   "metadata": {},
   "outputs": [],
   "source": [
    "# Count the number of NaN.\n"
   ]
  },
  {
   "cell_type": "markdown",
   "metadata": {},
   "source": [
    "## 欠損値を0で置換してください。/ Replace NaN with 0.\n",
    "[Week 4: Replace NaN](Ex_Week4.ipynb#replace)"
   ]
  },
  {
   "cell_type": "code",
   "execution_count": null,
   "metadata": {},
   "outputs": [],
   "source": []
  },
  {
   "cell_type": "markdown",
   "metadata": {},
   "source": [
    "## 欠損値をその列の平均値で置換してください。/ Replace NaN with the average of the column.\n",
    "[Week 4: Replace NaN](Ex_Week4.ipynb#replace)"
   ]
  },
  {
   "cell_type": "code",
   "execution_count": 23,
   "metadata": {},
   "outputs": [],
   "source": [
    "# まず、suits_mf の Phys の平均点を出しましょう。/ First, please calculate the average score of Phys in a DataFrame array, suits_mf.\n",
    "\n",
    "\n",
    "# 'Phys' の行のNaNをその平均値で置換 / Replace NaN with the average.\n",
    "# fillna({column: value})\n",
    "\n"
   ]
  },
  {
   "cell_type": "markdown",
   "metadata": {},
   "source": [
    "## CVSファイルに出力 / Output the DataFrame to a CSV file\n",
    "このDataFrameをCSVに出力して下さい。<br>\n",
    "Please output this DataFrame to a CSV file.\n",
    "\n",
    "[pandasでcsvファイルの書き出し](https://note.nkmk.me/python-pandas-to-csv/)"
   ]
  },
  {
   "cell_type": "code",
   "execution_count": 24,
   "metadata": {},
   "outputs": [
    {
     "ename": "NameError",
     "evalue": "name 'suits' is not defined",
     "output_type": "error",
     "traceback": [
      "\u001b[1;31m---------------------------------------------------------------------------\u001b[0m",
      "\u001b[1;31mNameError\u001b[0m                                 Traceback (most recent call last)",
      "Cell \u001b[1;32mIn[24], line 1\u001b[0m\n\u001b[1;32m----> 1\u001b[0m suits\u001b[38;5;241m.\u001b[39mto_csv(\u001b[38;5;124m'\u001b[39m\u001b[38;5;124mdata/w5_suits_mod.csv\u001b[39m\u001b[38;5;124m'\u001b[39m)\n",
      "\u001b[1;31mNameError\u001b[0m: name 'suits' is not defined"
     ]
    }
   ],
   "source": [
    "suits.to_csv('data/w5_suits_mod.csv')"
   ]
  },
  {
   "cell_type": "markdown",
   "metadata": {},
   "source": [
    "<a id=PandasPlot></a>"
   ]
  },
  {
   "cell_type": "markdown",
   "metadata": {},
   "source": [
    "### Pandas でプロット / Draw a figure with Pandas\n",
    "[Pandasのplotメソッドでグラフを作成する@note.nkmk.me](https://note.nkmk.me/python-pandas-plot/)"
   ]
  },
  {
   "cell_type": "code",
   "execution_count": null,
   "metadata": {},
   "outputs": [],
   "source": [
    "suits.plot()"
   ]
  },
  {
   "cell_type": "code",
   "execution_count": null,
   "metadata": {},
   "outputs": [],
   "source": [
    "ax = suits.plot.scatter(x='Phys', y='Math',color='red')\n",
    "suits.plot.scatter(x='Phys', y='English', color='blue',ax=ax)"
   ]
  },
  {
   "cell_type": "markdown",
   "metadata": {},
   "source": [
    "<a id=kmeans></a>"
   ]
  },
  {
   "cell_type": "markdown",
   "metadata": {},
   "source": [
    "## k-means法 / k-means method\n",
    "\n",
    "クラスタリングの目的は、与えられたデータを類似性の高いグループに分けることです。クラスターとは「集団」や「群れ」という意味です。<br>\n",
    "たとえば車体形状などを持った自動車のデータ群をクラスタリングすると、軽自動車とトラックはその車体形状が違うので、異なる特徴を持った別々のクラスターに分割されるといったイメージです。<br>\n",
    "クラスタリングで最も広く使われている手法は**k-means法**と呼ばれ、以下の手順で実現します。<br>\n",
    "仮に、最終的に作りたいクラスタの数を3とします。<br>\n",
    "<br>\n",
    "Clustering is used to classify a given set of data into groups depending on the similarity.<br>\n",
    "One of the most common method for clustering is **k-means method**. The analysis procedure is shown below.<br>\n",
    "Now, let's  classify a sample data into three groups.<br>\n",
    "\n",
    "- step1. 入力データをプロットする。/ Plot the original data.\n",
    "- step2. ランダムに3つの点をプロットする。/ Choose the centers of cluster randomly (three points in this case).\n",
    "- step3. 各ランダム点を、クラスター1、クラスター2、クラスター3の重心点とラベリングする。/ Label the points as cluster 0, 1, and 2.\n",
    "- step4. 入力データの各点について、3つの重心点の中で最も近いものを選び、その番号を自身の所属クラスター番号とする。/ Each data points are assigned to the closest center of cluster.\n",
    "- step5. すべての入力データについてクラスター番号が決まった後、それぞれのクラスターの重心（平均）を計算する。/ Calculate the centers of mass of the clusters.\n",
    "- step6. step5で求めた3つの重心を新しいクラスターの重心点とする。/ Set the centers of mass of the clusters as the new centers of clusters.\n",
    "    - step7. step4からstep6を繰り返す。ただし、繰り返し上限回数に達するか、または重心の移動距離が十分に小さくなったら終了とする。/ Repeat step 4-6 untill the change of the positions of the centers of clusters are sufficiently small.\n",
    "\n",
    "<img src=\"img/w5_kmeans.png\" width=\"1200px\"><br>"
   ]
  },
  {
   "cell_type": "markdown",
   "metadata": {},
   "source": [
    "### データの読み込み\n",
    "scikit-learn で、サンプルデータを生成するライブラリがあります。それを使ってみましょう。"
   ]
  },
  {
   "cell_type": "markdown",
   "metadata": {},
   "source": [
    "#### (1) make_blobs によるサンプルデータの生成\n",
    "[make_blobs](http://taustation.com/scikit-learn-make-blobs/): サンプルデータの生成 / Creating sample data\n",
    "\n",
    "代表的なオプションはこちら。\n",
    "* n_samples: 整数で指定した場合、生成されるサンプルの総数で戻り値Xの行数になる。配列で指定した場合、その要素数がクラスターの数となり、各要素はクラスターのデータ数となる。デフォルトは100。\n",
    "* random_state: 同じ値を使うと、同じ乱数データが出力される。\n",
    "* centers: クラスタの数を指定\n",
    "* n_features: 生成するデータセットの列数を指定\n",
    "より詳細なオプションはこちらを参照。\n",
    "[make_blobsによる分類用データの生成](https://sabopy.com/py/scikit-learn-1/)"
   ]
  },
  {
   "cell_type": "code",
   "execution_count": null,
   "metadata": {},
   "outputs": [],
   "source": [
    "# データ取得のためのインポート / Import a library for producing sample data\n",
    "from sklearn.datasets import make_blobs\n",
    "\n",
    "# X: 2列のデータ(クラスタリング用の2変数)\n",
    "# y: どのクラスタに属するか、という答え（検証用データで検証した時、答え合わせに使う。)\n",
    "X, y = make_blobs(n_samples=200, random_state=10, centers=8, n_features=2)\n",
    "\n",
    "# make_blobsの出力はnumpy.ndarray\n",
    "# typeで確認してみましょう\n"
   ]
  },
  {
   "cell_type": "markdown",
   "metadata": {},
   "source": [
    "#### (2) CSVファイルからの読み込み\n",
    "make_blobsはよくわからん、という人は、CSVファイルに出力したサンプルデータ(w5_clusterdata.csv)を読み込んでください。<br>\n",
    "クラスタ用データXは1列目と2列目、クラスタ番号データyは3列目を用います。<br>\n",
    "\n",
    "[Week 2: readcsv @ Pandas](Ex_Week2.ipynb#readcsv)<br>\n",
    "[CSVをDataFrameとして読み込む @ Pandas](https://note.nkmk.me/python-pandas-read-csv-tsv/)<br>\n",
    "[loadtxt @ Numpy](https://note.nkmk.me/python-numpy-loadtxt-genfromtxt-savetxt/): note.nkmk.me<br>"
   ]
  },
  {
   "cell_type": "code",
   "execution_count": null,
   "metadata": {},
   "outputs": [],
   "source": [
    "XX = np.loadtxt('data/w5_clusterdata.csv', delimiter=',')\n",
    "# XX.shape\n",
    "# type(XX)\n",
    "\n",
    "X = XX[:, 0:2]\n",
    "y = XX[:, 2]\n",
    "\n",
    "X.shape\n",
    "y.shape\n",
    "# X\n"
   ]
  },
  {
   "cell_type": "markdown",
   "metadata": {},
   "source": [
    "### 可視化 : 散布図\n",
    "Visualization : Scattering plot<br>\n",
    "2変数の場合には、いくつのクラスタに分けて分析するべきか、グラフにプロットして考えると簡単でしょう。<br>\n",
    "3変数以上の場合には、エルボー法などを使ったほうがよい。<br>\n",
    "<br>\n",
    "[Week 4: Scattering plot](Ex_Week4.ipynb#scatterplot)<br>\n",
    "[Supplement: Scattering plot](Ex_S_Matplotlib.ipynb#scatterplot)<br>\n",
    "[Matplotlibで出力した図を高解像度で保存する方法](https://analytics-note.xyz/programming/matplotlib-save-dpi/)"
   ]
  },
  {
   "cell_type": "code",
   "execution_count": null,
   "metadata": {},
   "outputs": [],
   "source": [
    "# グラフを描画 / Plot a data\n",
    "# colorのオプションで色付けができる / You can specify the color of the scattering dots.\n",
    "plt.scatter(X[:,0],X[:,1],color='red')\n",
    "\n",
    "plt.xlabel('X')\n",
    "plt.ylabel('Y')\n",
    "# プロット範囲を指定する。 / Specify the ranges of the axes.\n",
    "# plt.axis('square')\n",
    "# plt.xlim(-14,10)\n",
    "# plt.ylim(-13,11)\n",
    "\n",
    "plt.gca().set_aspect('equal')\n",
    "# \n",
    "# plt.savefig(\"img/w5_sample.png\", format=\"png\")\n",
    "plt.show()\n"
   ]
  },
  {
   "cell_type": "markdown",
   "metadata": {},
   "source": [
    "<a id=kmeans_2></a>"
   ]
  },
  {
   "cell_type": "markdown",
   "metadata": {},
   "source": [
    "## k-meansクラスから初期化したインスタンスを作ります。\n",
    "## Create an initialized instance from k-means class.\n",
    "\n",
    "```\n",
    "kmeans = KMeans(init='random',n_clusters=5)\n",
    "```\n",
    "\n",
    "Parameters\n",
    "* `init`: 初期化の方法 / Initialization\n",
    "    * `random` : k-means method\n",
    "    * `k-means++` : k-means++ method\n",
    "* `n_clusters` : クラスタ数 / number of clusters\n",
    "\n",
    "\n",
    "KMeansクラスのオブジェクトを作ったら`fit`メソッドを実行します。<br>\n",
    "クラスターの重心が計算され、`predict`メソッドを実行することでクラスター番号が予測されます。<br>\n",
    "`fit`と`predict`を一連の処理として実行する`fit_predict`メソッドもありますが、基本的に構築したモデルを保存する可能性のある場合は、`fit`メソッドを単独で実施するのがよいでしょう。<br>\n",
    "<br>\n",
    "Create an instance of KMeans class, then carry out `fit` method.<br>\n",
    "The centers of mass of clusters are calculated. Then predict the cluster number of each data point by executing `predict` method.<br>\n",
    "There is a method, `fit_predict`, which carry out both `fit` and `predict` at the same time. But it may be better to excute these method separately for further analysis.<br>"
   ]
  },
  {
   "cell_type": "code",
   "execution_count": null,
   "metadata": {},
   "outputs": [],
   "source": [
    "# サンプルデータなので、今は標準化はしません。 / This sample data doesn't have to be standardized.\n",
    "\n",
    "# KMeansクラスの初期化 / Initialize KMeans class\n",
    "# クラスターの数は5に指定 / Specify the number of clusters to be 5\n",
    "# kmeans = KMeans(init='k-means++',n_clusters=8)\n",
    "kmeans = KMeans(init='random',n_clusters=8)\n",
    "\n",
    "# クラスターの重心を計算 / Calculate the center of mass of clusters\n",
    "kmeans.fit(X)\n",
    "# クラスター番号を予測 / Predict the cluster number.\n",
    "y_pred = kmeans.predict(X)"
   ]
  },
  {
   "cell_type": "code",
   "execution_count": null,
   "metadata": {},
   "outputs": [],
   "source": [
    "# もともとmake_blobsでサンプルデータを作った時に一緒に生成した答え\n",
    "print(y)\n",
    "\n",
    "# 予測したクラスタ番号\n",
    "print(y_pred)"
   ]
  },
  {
   "cell_type": "markdown",
   "metadata": {},
   "source": [
    "<a id=merge_data></a>"
   ]
  },
  {
   "cell_type": "markdown",
   "metadata": {},
   "source": [
    "## データをDataFrameにまとめる"
   ]
  },
  {
   "cell_type": "code",
   "execution_count": null,
   "metadata": {},
   "outputs": [],
   "source": [
    "# concatでデータを横に結合(axis=1を指定) / Combine the columns of data laterally.\n",
    "# 元のDataFrameの1行目、2行目のデータと、予測したクラスタ番号の列を結合して、新しいDataFrameを作ります。\n",
    "# Merge the the first and the second columns with the predicted cluster numbers into a DataFrame.\n",
    "merge_data = pd.concat([pd.DataFrame(X[:,0]), pd.DataFrame(X[:,1]), pd.DataFrame(y_pred)], axis=1)\n",
    "\n",
    "# 上記のデータにて、X軸をfeature1、Y軸をfeature2、クラスター番号をclusterと列名指定\n",
    "# Set x-axis to be feature1, y-axis to be feature2, cluster number is cluster.\n",
    "merge_data.columns = ['feature1','feature2','cluster']"
   ]
  },
  {
   "cell_type": "markdown",
   "metadata": {},
   "source": [
    "<a id=cluster_visualization></a>"
   ]
  },
  {
   "cell_type": "markdown",
   "metadata": {},
   "source": [
    "## クラスタリング結果のグラフ化 / Visualization\n",
    "[Week 2: groupby](Ex_Week2.ipynb#groupby)<br>\n",
    "[Matplotlibで指定可能な色の名前](https://pythondatascience.plavox.info/matplotlib/%E8%89%B2%E3%81%AE%E5%90%8D%E5%89%8D)<br>\n",
    "[legendの位置を制御(1)](https://python.atelierkobato.com/axes_legend/)<br>\n",
    "[legendの位置を制御(2)](https://www.yutaka-note.com/entry/matplotlib_legend)"
   ]
  },
  {
   "cell_type": "markdown",
   "metadata": {},
   "source": [
    "### k-means++ でやってみましょう。"
   ]
  },
  {
   "cell_type": "code",
   "execution_count": null,
   "metadata": {},
   "outputs": [],
   "source": [
    "# サンプルデータなので、今は標準化はしません。 / This sample data doesn't have to be standardized.\n",
    "\n",
    "# KMeansクラスの初期化 / Initialize KMeans class\n",
    "# クラスターの数は5に指定 / Specify the number of clusters to be 5\n",
    "# kmeans = KMeans(init='k-means++',n_clusters=8)\n",
    "kmeans = KMeans(init='k-means++',n_clusters=8)   #initのオプションを'random' -> 'k-means++' に変えるだけ!!\n",
    "\n",
    "# クラスターの重心を計算 / Calculate the center of mass of clusters\n",
    "kmeans.fit(X)\n",
    "\n",
    "# クラスター番号を予測 / Predict the cluster number.\n",
    "y_pred_kpp = kmeans.predict(X)\n",
    "\n",
    "# データを結合\n",
    "merge_data_kpp = pd.concat([pd.DataFrame(X[:,0]), pd.DataFrame(X[:,1]), pd.DataFrame(y_pred_kpp)], axis=1)\n",
    "# データの列にインデックスを付ける\n",
    "merge_data_kpp.columns = ['feature1','feature2','cluster']"
   ]
  },
  {
   "cell_type": "code",
   "execution_count": null,
   "metadata": {},
   "outputs": [],
   "source": [
    "# データを散布図にプロット\n",
    "\n",
    "ax = None\n",
    "\n",
    "# colors = ['blue', 'red', 'green', 'cyan', 'orange']\n",
    "colors = ['blue', 'red', 'green', 'cyan', 'orange', 'lime', 'black', 'magenta']\n",
    "\n",
    "for i, data in merge_data_kpp.groupby('cluster'):\n",
    "    ax = data.plot.scatter(x='feature1', y='feature2', color=colors[i],\n",
    "                                           label=f'cluster{i}', ax=ax)\n",
    "\n",
    "# ax.legend(loc = \"upper right\")\n",
    "ax.legend(loc='upper left', bbox_to_anchor=(1, 1))\n",
    "ax.set_aspect('equal', adjustable='box')\n",
    "plt.savefig(\"w5_kmeanspp.png\", format=\"png\", dpi=300)"
   ]
  },
  {
   "cell_type": "markdown",
   "metadata": {},
   "source": [
    "<a id=iris></a>"
   ]
  },
  {
   "cell_type": "markdown",
   "metadata": {},
   "source": [
    "## アヤメのデータセットで解析 / Clustering analysis with a sample data set of iris.\n",
    "\n",
    "Scikit-learnでは、いくつかサンプルデータが用意されていて、解析を試すのに使えるようになっています。<br>\n",
    "今回は、その中でも、使われることの多い、アヤメのデータセットを使って、k-means法を試してみます。<br>\n",
    "<br>\n",
    "Scikit-learn provides several sample data sets to practise analysis data.<br>\n",
    "This week, we use one of the most popular sample data, iris, and apply k\n",
    "\n",
    "\n",
    "[参考サイト: iris(アヤメ)のデータセットをpandasとseabornを使って可視化する](https://kenyu-life.com/2019/05/14/iris/)<br>\n",
    "[参考サイト: 機械学習入門！クラスタリングの解説とPythonによるk-means実装](https://www.sejuku.net/blog/60630)<br>\n",
    "[参考サイト: データサイエンティストによる統計入門 ― k平均法でデータをクラスタリングしてみよう！](https://employment.en-japan.com/engineerhub/entry/2018/04/10/110000)"
   ]
  },
  {
   "cell_type": "markdown",
   "metadata": {},
   "source": [
    "<a id=load_iris></a>"
   ]
  },
  {
   "cell_type": "markdown",
   "metadata": {},
   "source": [
    "## アヤメのデータの読み込み / Load a sample dataset of iris"
   ]
  },
  {
   "cell_type": "code",
   "execution_count": null,
   "metadata": {},
   "outputs": [],
   "source": [
    "# scikit-learn のデータセットを読み込むためのインポート / Import 'datasets' to use datasets of scikit-learn.\n",
    "from sklearn import datasets\n",
    "\n",
    "#対象データを読み込み\n",
    "iris = datasets.load_iris()"
   ]
  },
  {
   "cell_type": "markdown",
   "metadata": {},
   "source": [
    "### データの種類を確認 / Check the type of data\n",
    "\n",
    "<!--\n",
    "[Week 2: type](Ex_Week2.ipynb#type)<br>\n",
    "-->"
   ]
  },
  {
   "cell_type": "code",
   "execution_count": null,
   "metadata": {},
   "outputs": [],
   "source": [
    "type(iris)"
   ]
  },
  {
   "cell_type": "markdown",
   "metadata": {
    "tags": []
   },
   "source": [
    "### Bunch という型になっているのが分かります。/ You can see that iris is not DataFrame, but Bunch.\n",
    "\n",
    "Bunch という型は、辞書型の一種です。<br>\n",
    "そのまま解析することもできますが、DataFrameとは書き方がちょっと変わってくるので、DataFrameに変換して解析しましょう。<br>\n",
    "課題では、そのまま解析できる人はそれでも構いません。<br>\n",
    "[参考サイト：scikit-learnのサンプルデータセットの一覧と使い方](https://note.nkmk.me/python-sklearn-datasets-load-fetch/)\n",
    "<br>\n",
    "\n",
    "Bunch is a subclass of dictionary type.<br>\n",
    "You can analyze data as Bunch type, but you will need different commands to do so.<br>\n",
    "It would be helpful to learn to convert Bunch type data into DataFrame.<br>\n",
    "In the assignment of this week, if you can analyze data with Bunch type, it is fine, too.<br>\n"
   ]
  },
  {
   "cell_type": "markdown",
   "metadata": {},
   "source": [
    "* `iris.feasure_names`: 説明変数のインデックスが格納されています。/ Index of the explanatory variables\n",
    "* `iris.data`: 説明変数（アヤメのデータ）/ The explanatory variables (data of iris)\n",
    "    - sepal length: 花のがくの長さ\n",
    "    - sepal width: 花のがくの幅\n",
    "    - petal length: 花弁の長さ\n",
    "    - petal width: 花弁の幅"
   ]
  },
  {
   "cell_type": "code",
   "execution_count": null,
   "metadata": {},
   "outputs": [],
   "source": [
    "print(iris.feature_names)"
   ]
  },
  {
   "cell_type": "markdown",
   "metadata": {},
   "source": [
    "<img src=\"img/w5_iris.jpg\" width=\"700px\">\n",
    "\n",
    "[参考サイト: iris(アヤメ)のデータセットをpandasとseabornを使って可視化する](https://kenyu-life.com/2019/05/14/iris/)<br>"
   ]
  },
  {
   "cell_type": "markdown",
   "metadata": {
    "tags": []
   },
   "source": [
    "### DataFrame に変換 / Convert loaded data from Bunch to DataFrame\n",
    "\n",
    "`feasure_names`を使って、`index`と`columns`を指定できます。<br>\n",
    "You can set Index of the DataFrame with `feasure_names`.<br>"
   ]
  },
  {
   "cell_type": "code",
   "execution_count": null,
   "metadata": {},
   "outputs": [],
   "source": [
    "iris_df = pd.DataFrame(iris.data, columns=iris.feature_names)\n",
    "iris_df.head()"
   ]
  },
  {
   "cell_type": "code",
   "execution_count": null,
   "metadata": {},
   "outputs": [],
   "source": [
    "# 先頭の5行を表示\n",
    "iris_df.head()\n",
    "# iris_df.shape\n",
    "\n",
    "# sepal : 花のがく\n",
    "# petal : 花弁、はなびら\n",
    "# target: アヤメの種類 / types of iris"
   ]
  },
  {
   "cell_type": "markdown",
   "metadata": {},
   "source": [
    "目的変数をDataFrameに変換して、説明変数のDataFrameに結合させておきます。<br>\n",
    "あとで、クラスタリングの結果と目的変数に格納されている答えを比較するときに使います。<br>\n",
    "The objective variable is converted to DataFrame, then merged with the DataFrame of the explanatory variables.<br>\n",
    "We will use it later when we compare the results obtained with k-means method and the answers stored in the objective variable.\n",
    "* `iris.target` : 目的変数(アヤメの種類)/ an objective variable\n",
    "    - 0: Setosa\n",
    "    - 1: Versicolor\n",
    "    - 2: Versinica"
   ]
  },
  {
   "cell_type": "code",
   "execution_count": null,
   "metadata": {},
   "outputs": [],
   "source": [
    "iris.target"
   ]
  },
  {
   "cell_type": "markdown",
   "metadata": {
    "tags": []
   },
   "source": [
    "### DataFrame に変換 / Convert loaded data from Bunch to DataFrame\n",
    "\n",
    "`feasure_names`を使って、`index`と`columns`を指定できます。<br>\n",
    "You can set Index of the DataFrame with `feasure_names`.<br>"
   ]
  },
  {
   "cell_type": "markdown",
   "metadata": {},
   "source": [
    "<a id=obj_series></a>"
   ]
  },
  {
   "cell_type": "code",
   "execution_count": null,
   "metadata": {},
   "outputs": [],
   "source": [
    "# 目的変数をDataFrameに変換\n",
    "df_target = pd.DataFrame(iris.target, columns=['species'])\n",
    "\n",
    "# 説明変数のDataFrameに結合させて、iris_ansというDataFrameに格納\n",
    "iris_ans = pd.concat([iris_df, df_target.species], axis=1)\n",
    "\n",
    "# .head()で確認\n",
    "iris_ans.head()"
   ]
  },
  {
   "cell_type": "markdown",
   "metadata": {},
   "source": [
    "### データを確認\n",
    "target に格納されていたアヤメの種類ごとに、がくや花弁の長さで散布図を書いてみましょう。\n",
    "<br>\n",
    "Let's plot a scattering plot with the data of petals and sepals by species."
   ]
  },
  {
   "cell_type": "code",
   "execution_count": null,
   "metadata": {},
   "outputs": [],
   "source": [
    "g_ans = iris_ans.groupby('species')\n",
    "\n",
    "# Setosa\n",
    "group00 = g_ans.get_group(0) \n",
    "#  Versicolor\n",
    "group01 = g_ans.get_group(1)\n",
    "# 2: Versinica\n",
    "group02 = g_ans.get_group(2)\n",
    "\n",
    "# 0th columns: sepal length: 花のがくの長さ\n",
    "# 1st columns: sepal width: 花のがくの幅\n",
    "# 2nd columns: petal length: 花弁の長さ\n",
    "# 3rd columns: petal width: 花弁の幅\n",
    "ax = group00.plot.scatter(x=group00.columns[1], y=group00.columns[2],color='red', label='Setosa')\n",
    "ax = group01.plot.scatter(x=group01.columns[1], y=group01.columns[2],color='blue', label='Versicolor', ax=ax)\n",
    "ax = group02.plot.scatter(x=group02.columns[1], y=group02.columns[2],color='green', label='Versinica', ax=ax)\n",
    "plt.xlabel('sepal length (mm)')\n",
    "plt.ylabel('sepal width (mm)')\n",
    "# plt.savefig(\"w5_setalL_setalW.png\", format=\"png\")"
   ]
  },
  {
   "cell_type": "markdown",
   "metadata": {},
   "source": [
    "### データの整理 / Data processing\n",
    "データのレコード数や変数の数、欠損データを確認しておきましょう。<br>\n",
    "Let's check the size of DataFrame, number of columns and NaN.<br>\n",
    "<br>\n",
    "欠損値の扱い方はこちら。/ How to deal with NaN.<br>\n",
    "[Week 4: isnull](Ex_Week4.ipynb#isnull)<br>\n",
    "`print`文と`format`の使い方はこちら。/ How to use `print` and `format`.<br>\n",
    "[Week 2: print](Ex_Week2.ipynb#print)<br>\n",
    "[Week 3: format](Ex_Week3.ipynb#format)<br>"
   ]
  },
  {
   "cell_type": "code",
   "execution_count": null,
   "metadata": {},
   "outputs": [],
   "source": [
    "# use isnull function\n",
    "# The output is the same size of an array with elements of True or False\n",
    "# True : zero, NaN\n",
    "# False :  nonzero\n",
    "\n"
   ]
  },
  {
   "cell_type": "code",
   "execution_count": null,
   "metadata": {},
   "outputs": [],
   "source": [
    "# The number of NaN in each colums\n"
   ]
  },
  {
   "cell_type": "code",
   "execution_count": null,
   "metadata": {},
   "outputs": [],
   "source": [
    "# The number of True items in the whole array\n",
    "\n"
   ]
  },
  {
   "cell_type": "markdown",
   "metadata": {},
   "source": [
    "## k-meansクラスからirisデータセット向けに設定したインスタンスを作ります。\n",
    "## Create an instance for iris data set from k-means class.\n",
    "\n",
    "プログラムコードはこちら。 / Here is the code line.\n",
    "\n",
    "```\n",
    "kmeans = KMeans(n_clusters=3, max_iter=30, init=\"random\", n_jobs=-1)\n",
    "```\n",
    "\n",
    "オプションには以下のような意味があります。\n",
    "* n_clusters: クラスタの数 / number of clusters\n",
    "* max_iter: 学習のループ回数 / number of iteration\n",
    "* init: 平均の初期値の決め方 / how to determine initial position of the center of cluster.\n",
    "* n_jobs: k-meansを何並列にするか(-1ならばpcのコア数分だけ並列してくれます）/how many cores in your CPU is used for the analysis\n",
    "\n",
    "その他オプションの詳細はこちら<br>\n",
    "[scikit-learn でクラスタ分析 (K-means 法)@Pythonでデータサイエンス](https://pythondatascience.plavox.info/scikit-learn/%E3%82%AF%E3%83%A9%E3%82%B9%E3%82%BF%E5%88%86%E6%9E%90-k-means)"
   ]
  },
  {
   "cell_type": "code",
   "execution_count": null,
   "metadata": {},
   "outputs": [],
   "source": [
    "from sklearn.cluster import KMeans\n",
    "# KMeansクラスの初期化 / Initialize KMeans class\n",
    "# この例では 3 つのグループに分割 (メルセンヌツイスターの乱数の種を 10 とする)\n",
    "#kmeans = KMeans(n_clusters=3, random_state=10).fit(iris_df)\n",
    "kmeans = KMeans(n_clusters=3, max_iter=30, init=\"random\")\n",
    "\n",
    "# K-means クラスタリングをおこなう / Clustering with k-means method\n",
    "# (1) fit 関数で学習する / Learning with 'fit' function\n",
    "# cluster = kmeans.fit_predict(iris.values[:,0:4])\n",
    "#### 大事なポイント!!!\n",
    "# DataFrameのままだと.fitに入れられないので、.valuesを使って、Numpy array に変換しておきます。\n",
    "# クラスタリングは、使う変数を自分で選んでもよい。\n",
    "# 今は0行目から3行目まで使います。\n",
    "kmeans.fit(iris_df.values[:,0:4])\n",
    "\n",
    "# (2) クラスター番号を予測 / Predict the cluster number.\n",
    "y_pred = kmeans.predict(iris_df.values[:,0:4])\n"
   ]
  },
  {
   "cell_type": "markdown",
   "metadata": {},
   "source": [
    "## クラスター番号をDataFrame 'iris_df'に追加する。/ Add a column 'cluster' to a DataFrame, 'iris_df'."
   ]
  },
  {
   "cell_type": "code",
   "execution_count": null,
   "metadata": {},
   "outputs": [],
   "source": [
    "# Copy data\n",
    "# iris_df_k = pd.DataFrame(iris_df.values[:,0:4])\n",
    "iris_df_k = iris_df\n",
    "# iris_df_k.shape\n",
    "# Add a column, cluster.\n",
    "iris_df_k['cluster'] = y_pred\n",
    "iris_df_k.tail(5)"
   ]
  },
  {
   "cell_type": "markdown",
   "metadata": {},
   "source": [
    "## 各クラスタに属するサンプル数の分布 / Number of elements in each cluster"
   ]
  },
  {
   "cell_type": "code",
   "execution_count": null,
   "metadata": {},
   "outputs": [],
   "source": [
    "iris_df_k['cluster'].value_counts()"
   ]
  },
  {
   "cell_type": "code",
   "execution_count": null,
   "metadata": {},
   "outputs": [],
   "source": [
    "# もともとデータセットに含まれていた答えの分布\n",
    "#　　 - 0: Setosa\n",
    "#     - 1: Versicolor\n",
    "#     - 2: Versinica\n",
    "iris_ans['species'].value_counts()"
   ]
  },
  {
   "cell_type": "markdown",
   "metadata": {},
   "source": [
    "### クラスタ番号０の各項目の平均値 / Average of each column in cluster 0"
   ]
  },
  {
   "cell_type": "code",
   "execution_count": null,
   "metadata": {},
   "outputs": [],
   "source": [
    "iris_df_k[iris_df_k['cluster']==1].mean() # クラスタ番号 = 0"
   ]
  },
  {
   "cell_type": "code",
   "execution_count": null,
   "metadata": {},
   "outputs": [],
   "source": [
    "iris_ans[iris_ans['species']==0].mean() # クラスタ番号 = 0"
   ]
  },
  {
   "cell_type": "markdown",
   "metadata": {},
   "source": [
    "### クラスタ番号1の各項目の平均値 / Average of each column in cluster 1"
   ]
  },
  {
   "cell_type": "code",
   "execution_count": null,
   "metadata": {},
   "outputs": [],
   "source": []
  },
  {
   "cell_type": "markdown",
   "metadata": {},
   "source": [
    "### クラスタ番号2の各項目の平均値 / Average of each column in cluster 2"
   ]
  },
  {
   "cell_type": "code",
   "execution_count": null,
   "metadata": {},
   "outputs": [],
   "source": []
  },
  {
   "cell_type": "markdown",
   "metadata": {},
   "source": [
    "## 可視化 : 散布図\n",
    "## Visualization : Scattering plot\n",
    "\n",
    "Pandasでプロットします。Matplotlibとちょっと書き方が違うので、気を付けましょう!!<br>\n",
    "詳しくは下記リンクを参照してください。<br>\n",
    "[Pandas でプロット](https://note.nkmk.me/python-pandas-plot/)：基本的なプロットの仕方はこちら。<br>\n",
    "[Pandasのplotの全引数を解説](https://own-search-and-study.xyz/2016/08/03/pandas%E3%81%AEplot%E3%81%AE%E5%85%A8%E5%BC%95%E6%95%B0%E3%82%92%E4%BD%BF%E3%81%84%E3%81%93%E3%81%AA%E3%81%99/): 図を色々カスタマイズできます。わかりやすい。<br>\n",
    "<br>\n",
    "To plot data with Pandas, it is different from what we do with matplotlib.<br>\n",
    "Please see the reference below.<br>\n",
    "[plot.scatter @ Pandas](https://pandas.pydata.org/pandas-docs/stable/reference/api/pandas.DataFrame.plot.scatter.html)"
   ]
  },
  {
   "cell_type": "code",
   "execution_count": null,
   "metadata": {},
   "outputs": [],
   "source": [
    "# クラスタリング結果のグラフ化 / Visualization\n",
    "ax = None\n",
    "\n",
    "data_group = iris_df_k.groupby('cluster')\n",
    "\n",
    "group0 = data_group.get_group(0)\n",
    "group1 = data_group.get_group(1)\n",
    "group2 = data_group.get_group(2)\n",
    "\n",
    "# group0.head()\n",
    "\n",
    "ax = group0.plot.scatter(x=group0.columns[0], y=group0.columns[1],color='red', label='cluster0')\n",
    "ax = group1.plot.scatter(x=group1.columns[0], y=group1.columns[1],color='blue', label='cluster1', ax=ax)\n",
    "ax = group2.plot.scatter(x=group2.columns[0], y=group2.columns[1],color='green', label='cluster2', ax=ax)"
   ]
  },
  {
   "cell_type": "code",
   "execution_count": null,
   "metadata": {},
   "outputs": [],
   "source": [
    "df_target = pd.DataFrame(iris.target, columns=['species'])\n",
    "type(df_target)\n",
    "iris_ans = pd.concat([iris_df, df_target.species], axis=1)"
   ]
  },
  {
   "cell_type": "code",
   "execution_count": null,
   "metadata": {},
   "outputs": [],
   "source": [
    "# 答えのクラスタをプロットしてみましょう。\n",
    "\n",
    "g_ans = iris_ans.groupby('species')\n",
    "\n",
    "group00 = g_ans.get_group(0)\n",
    "group01 = g_ans.get_group(1)\n",
    "group02 = g_ans.get_group(2)\n",
    "\n",
    "ax = group00.plot.scatter(x=group00.columns[0], y=group00.columns[1],color='red', label='cluster0')\n",
    "ax = group01.plot.scatter(x=group01.columns[0], y=group01.columns[1],color='blue', label='cluster1', ax=ax)\n",
    "ax = group02.plot.scatter(x=group02.columns[0], y=group02.columns[1],color='green', label='cluster2', ax=ax)"
   ]
  },
  {
   "cell_type": "code",
   "execution_count": null,
   "metadata": {},
   "outputs": [],
   "source": [
    "# クラスタリング結果のグラフ化 / Visualization\n",
    "# For文を使ってかっこよく書くと。。。/ Make the code smarter with for statement\n",
    "ax = None\n",
    "\n",
    "colors = ['red', 'blue', 'green']\n",
    "for i, data in iris_df_k.groupby('cluster'):\n",
    "    ax = data.plot.scatter(x=iris_df_k.columns[2], y=iris_df_k.columns[1], color=colors[i],\n",
    "                           title='k-means', label=f'cluster{i}', ax=ax)"
   ]
  },
  {
   "cell_type": "code",
   "execution_count": null,
   "metadata": {},
   "outputs": [],
   "source": [
    "# クラスタリング結果のグラフ化 / Visualization\n",
    "ax = None\n",
    "bx = None\n",
    "cx = None\n",
    "colors = ['blue', 'red', 'green']\n",
    "\n",
    "# figsize : figureの縦横の大きさ(横、縦) / Size of figure (widthe, height)\n",
    "# nrows : number of rows\n",
    "# ncolumns : number of columns\n",
    "fig, axes = plt.subplots(nrows=1, ncols=3, figsize=(18, 4))\n",
    "\n",
    "# LEFT FIGURE: Sepal length vs. sepal width\n",
    "for i, data in iris_df_k.groupby('cluster'):\n",
    "    #                       x-axis,  y-axis, specify the data with index name\n",
    "    ax = data.plot.scatter(x=iris_df_k.columns[0], y=iris_df_k.columns[1], color=colors[i],\n",
    "    #                                                           this number specify the position of the figure\n",
    "                           title='k-means', label=f'cluster{i}', ax=axes.flatten()[0])\n",
    "# CENTER FIGURE: Sepal length vs. petal length\n",
    "for i, data in iris_df_k.groupby('cluster'):\n",
    "    #                       x-axis,  y-axis, specify the data with index name\n",
    "    bx = data.plot.scatter(x=iris_df_k.columns[0], y=iris_df_k.columns[2], color=colors[i],\n",
    "    #                                                           this number specify the position of the figure\n",
    "                            title='k-means', label=f'cluster{i}', ax=axes.flatten()[1])\n",
    "\n",
    "# RIGHT FIGURE: Sepal length vs. petal width\n",
    "for i, data in iris_df_k.groupby('cluster'):\n",
    "    #                       x-axis,  y-axis, specify the data with index name\n",
    "    cx = data.plot.scatter(x=iris_df_k.columns[0], y=iris_df_k.columns[3], color=colors[i],\n",
    "    #                                                           this number specify the position of the figure\n",
    "                            title='k-means', label=f'cluster{i}', ax=axes.flatten()[2])\n",
    "\n"
   ]
  },
  {
   "cell_type": "markdown",
   "metadata": {},
   "source": [
    "## 横軸を変えてプロットしてみましょう。 / Change the values of x axis, and plot figures.\n",
    "がくの長さと幅、花弁の長さと幅、全部で4種類のデータがあります。<br>\n",
    "上では、横軸をがくの長さにしてプロットしましたが、他の組み合わせで図を書いてみましょう。<br>\n",
    "<br>\n",
    "In the DataFrame, iris_df_k, therea are four columns of data, sepal length, sepal width, petal length, and petal width.<br>\n",
    "We plot data with sepal length as x-axis.<br>\n",
    "Please change the data with different combinations of columns.<br>"
   ]
  },
  {
   "cell_type": "code",
   "execution_count": null,
   "metadata": {},
   "outputs": [],
   "source": [
    "\n",
    "\n",
    "\n",
    "\n",
    "\n",
    "\n",
    "\n",
    "\n",
    "\n"
   ]
  },
  {
   "cell_type": "markdown",
   "metadata": {},
   "source": [
    "## k-means法以外の手法 / Other methods\n",
    "\n",
    "最後に、クラスタリング手法の体系化について補足します。本章で学んだk-means法は**非階層型**といわれるクラスタリング手法に属していますが、それとは別に**階層型**のクラスタリング（hierarchical clustering）に属する手法があります。\n",
    "\n",
    "Scikit-learnでは`sklearn.cluster`モジュールの`AgglomerativeClustering`クラスで実行できます。系統樹図（デンドログラム：dendrogram）といった用語と合わせて調べるとよいでしょう。\n",
    "\n",
    "また、クラスタリング手法の他の分け方に**ソフトクラスタリング**があります。k-means法は**ハードクラスタリング**に分類され、それぞれのデータに対してクラスター番号は一意に決まりましたが、ソフトクラスタリングでは各クラスターへの所属確率が計算できます。たとえば、クラスター1に所属する確率は70%で、クラスター2に所属する確率は30%という感じです。\n",
    "\n",
    "顧客の趣味嗜好のクラスタリングは、ハードクラスタリングよりもソフトクラスタリングの方が理に適っているかもしれません。目的により使い分けましょう。ソフトクラスタリングは、`sklearn.mixture`モジュールの`GaussianMixture`クラスなどで実行できます。\n",
    "\n",
    "As we learned in the class, there two types of clustering, Hierarchical and Non-hierarchical clusterings.\n",
    "The k-means method is one of the Non-hierarchical clustering analysis.\n",
    "For Hierarchical clustering analysis, we can use `AgglomerativeClustering` class of `sklearn.cluster` module in the library, Scikit-learn.<br>\n",
    "Please look into the detail with a keyword such as dendrogram.<br>\n",
    "<br>\n",
    "In the Non-hierarchical clustering analysis, There are two types of methods, soft and hard clustering.<br>\n",
    "The k-means method is a hard clustering, while Gaussian Mixture method is soft clustering.<br>\n",
    "You need to choose carefully the method for analysis of your data depending on what you want to know.<br>"
   ]
  },
  {
   "cell_type": "markdown",
   "metadata": {},
   "source": [
    "## k-means++ で解析してみよう!! / Let's try k-means++!!\n",
    "上のデータを、k-means++ で解析しなおしてみて、結果を比べてみましょう。"
   ]
  },
  {
   "cell_type": "code",
   "execution_count": null,
   "metadata": {},
   "outputs": [],
   "source": [
    "# まずデータを用意 / Prepare an original DataFrame.\n",
    "iris_df_kpp = iris_df\n",
    "iris_df.type"
   ]
  },
  {
   "cell_type": "code",
   "execution_count": null,
   "metadata": {},
   "outputs": [],
   "source": [
    "# KMeansクラスの初期化 / Initialize KMeans class\n",
    "# この例では 3 つのグループに分割 / Set the number of clusters to be 3.\n",
    "kmeans = KMeans(n_clusters=3, init='k-means++', n_init=5, max_iter=300, tol=1e-04, random_state=0)\n",
    "\n",
    "# K-means クラスタリングをおこなう / Clustering with k-means method.\n",
    "kmeans.fit(iris_df_kpp)\n",
    "\n",
    "# クラスター番号を予測 / Predict the cluster number.\n",
    "y_pred2 = kmeans.predict(iris_df_kpp)\n",
    "\n",
    "# suits_kpp にクラスター番号のデータを追加。index は、cluster_kpp.　Add a columns to the DataFrame, suits_kpp.\n",
    "iris_df_kpp['cluster_kpp'] = y_pred2\n",
    "# iris_df_kpp.tail(5)"
   ]
  },
  {
   "cell_type": "code",
   "execution_count": null,
   "metadata": {},
   "outputs": [],
   "source": [
    "# クラスタリング結果のグラフ化 / Visualization\n",
    "ax = None\n",
    "bx = None\n",
    "cx = None\n",
    "dx = None\n",
    "ex = None\n",
    "fx = None\n",
    "colors = ['blue', 'red', 'green']\n",
    "\n",
    "# figsize : figureの縦横の大きさ(横、縦) / Size of figure (widthe, height)\n",
    "# nrows : number of rows\n",
    "# ncolumns : number of columns\n",
    "fig, axes = plt.subplots(nrows=2, ncols=3, figsize=(18, 10))\n",
    "\n",
    "# UPPER ROW: k-means\n",
    "# LEFT FIGURE: Sepal length vs. sepal width\n",
    "for i, data in iris_df_k.groupby('cluster'):\n",
    "    #                       x-axis,  y-axis, specify the data with index name\n",
    "    ax = data.plot.scatter(x=iris_df_k.columns[0], y=iris_df_k.columns[1], color=colors[i],\n",
    "    #                                                           this number specify the position of the figure\n",
    "                           title='k-means', label=f'cluster{i}', ax=axes.flatten()[0])\n",
    "# CENTER FIGURE: Sepal length vs. petal length\n",
    "for i, data in iris_df_k.groupby('cluster'):\n",
    "    #                       x-axis,  y-axis, specify the data with index name\n",
    "    bx = data.plot.scatter(x=iris_df_k.columns[0], y=iris_df_k.columns[2], color=colors[i],\n",
    "    #                                                           this number specify the position of the figure\n",
    "                            title='k-means', label=f'cluster{i}', ax=axes.flatten()[1])\n",
    "\n",
    "# RIGHT FIGURE: Sepal length vs. petal width\n",
    "for i, data in iris_df_k.groupby('cluster'):\n",
    "    #                       x-axis,  y-axis, specify the data with index name\n",
    "    cx = data.plot.scatter(x=iris_df_k.columns[0], y=iris_df_k.columns[3], color=colors[i],\n",
    "    #                                                           this number specify the position of the figure\n",
    "                            title='k-means', label=f'cluster{i}', ax=axes.flatten()[2])\n",
    "# LOWER ROW: k-means++\n",
    "# LEFT FIGURE: Sepal length vs. sepal width\n",
    "for i, data in iris_df_kpp.groupby('cluster'):\n",
    "    #                       x-axis,  y-axis, specify the data with index name\n",
    "    dx = data.plot.scatter(x=iris_df_kpp.columns[0], y=iris_df_kpp.columns[1], color=colors[i],\n",
    "    #                                                           this number specify the position of the figure\n",
    "                           title='k-means++', label=f'cluster{i}', ax=axes.flatten()[3])\n",
    "# CENTER FIGURE: Sepal length vs. petal length\n",
    "for i, data in iris_df_kpp.groupby('cluster'):\n",
    "    #                       x-axis,  y-axis, specify the data with index name\n",
    "    ex = data.plot.scatter(x=iris_df_kpp.columns[0], y=iris_df_kpp.columns[2], color=colors[i],\n",
    "    #                                                           this number specify the position of the figure\n",
    "                            title='k-means++', label=f'cluster{i}', ax=axes.flatten()[4])\n",
    "\n",
    "# RIGHT FIGURE: Sepal length vs. petal width\n",
    "for i, data in iris_df_kpp.groupby('cluster'):\n",
    "    #                       x-axis,  y-axis, specify the data with index name\n",
    "    fx = data.plot.scatter(x=iris_df_kpp.columns[0], y=iris_df_kpp.columns[3], color=colors[i],\n",
    "    #                                                           this number specify the position of the figure\n",
    "                            title='k-means++', label=f'cluster{i}', ax=axes.flatten()[5])\n",
    "\n"
   ]
  },
  {
   "cell_type": "markdown",
   "metadata": {},
   "source": [
    "## おまけ：以下のグラフについて、k-meansとk-means++のデータと並べて、(3x3) のsubplot で表示してください。\n",
    "## Optional: Please plot the following data with those obtained by k-means and k-means++ methods. Use subplot (3x3).\n",
    "\n",
    "* sepal length vs. sepal width\n",
    "* sepal length vs. petal length\n",
    "* sepal length vs. petal width\n"
   ]
  },
  {
   "cell_type": "code",
   "execution_count": null,
   "metadata": {},
   "outputs": [],
   "source": []
  },
  {
   "cell_type": "code",
   "execution_count": null,
   "metadata": {},
   "outputs": [],
   "source": []
  }
 ],
 "metadata": {
  "kernelspec": {
   "display_name": "Python 3 (ipykernel)",
   "language": "python",
   "name": "python3"
  },
  "language_info": {
   "codemirror_mode": {
    "name": "ipython",
    "version": 3
   },
   "file_extension": ".py",
   "mimetype": "text/x-python",
   "name": "python",
   "nbconvert_exporter": "python",
   "pygments_lexer": "ipython3",
   "version": "3.11.5"
  }
 },
 "nbformat": 4,
 "nbformat_minor": 4
}
