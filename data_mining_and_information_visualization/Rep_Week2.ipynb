{
 "cells": [
  {
   "cell_type": "markdown",
   "metadata": {},
   "source": [
    "# **データマイニングと情報可視化: レポート**\n",
    "# **Data mining and information visualization: Assignment**\n",
    "<font size=\"4\">\n",
    "第2回　データマイニング手法1-1：マーケットバスケット分析（講義と分析手法の基礎）<br>\n",
    "Method 1-1: Market basket analysis (Lecture and basic skills)<br>\n",
    "</font>\n",
    "<span style=\"color: red;font-weight:bold; font-size:15pt;\" >締め切り 2023年12月15日(金)　23:59 JST</span>"
   ]
  },
  {
   "cell_type": "markdown",
   "metadata": {},
   "source": [
    "## (0) 名前と学籍番号を表示してください。/ Please display your name and student ID."
   ]
  },
  {
   "cell_type": "code",
   "execution_count": 22,
   "metadata": {},
   "outputs": [
    {
     "name": "stdout",
     "output_type": "stream",
     "text": [
      "一瀬遥希\n",
      "1TE22028G\n"
     ]
    }
   ],
   "source": [
    "# print 関数を使って下さい / Use print function.\n",
    "print(\"一瀬遥希\")\n",
    "print(\"1TE22028G\")"
   ]
  },
  {
   "cell_type": "markdown",
   "metadata": {},
   "source": [
    "## (1) リストと集合\n",
    "リストと集合の違いを2つ挙げて、説明してください。"
   ]
  },
  {
   "cell_type": "markdown",
   "metadata": {},
   "source": [
    "#### (1)重複要素の取り扱い<br>\n",
    "リストは同じ要素を複数持つことができるのに対し、集合は同じ要素は重複できない。\n",
    "\n",
    "\n",
    "#### (2)順序とインデックス<br>\n",
    "リストは順序を保持しているため、各要素に0から始まるインデックスでアクセスできるが、集合は順序を持たないため、インデックスで各要素にアクセスすることはできない。\n"
   ]
  },
  {
   "cell_type": "markdown",
   "metadata": {},
   "source": [
    "## (2) 必要なライブラリをインストールしてください。 / Import libraries."
   ]
  },
  {
   "cell_type": "code",
   "execution_count": 23,
   "metadata": {},
   "outputs": [],
   "source": [
    "# Numpy, Scipy, Pandas, DataFrame and Series from Pandas\n",
    "# Matplotlib\n",
    "\n",
    "import numpy as np\n",
    "import scipy as sp\n",
    "import pandas as pd\n",
    "from pandas import Series, DataFrame\n",
    "\n",
    "import matplotlib.pyplot as plt\n",
    "import matplotlib as mpl"
   ]
  },
  {
   "cell_type": "markdown",
   "metadata": {},
   "source": [
    "## (3) CSV ファイル(data/w2_Rep_data.csv)をDataFrame`Height`として読み込んで下さい。<br>\n",
    "## Please load a CSV file, data/w2_Rep_data.csv, as a DataFrame, `Height`.\n",
    "\n",
    "ファイルを読み込んだ後、最初の5行を表示してください。<br>\n",
    "After loading a CSV file, please display the first 5 lines of the DataFrame, 'Height'.<br>\n",
    "\n",
    "Number: 個人番号/identification number<br>\n",
    "Class: クラス<br>\n",
    "Gender: 性別(1：男子/M、2：女子/F、0：不明/Unknown)<br>\n",
    "Height: 身長<br>\n",
    "Weight: 体重"
   ]
  },
  {
   "cell_type": "code",
   "execution_count": 24,
   "metadata": {},
   "outputs": [
    {
     "name": "stdout",
     "output_type": "stream",
     "text": [
      "<class 'pandas.core.frame.DataFrame'>\n"
     ]
    },
    {
     "data": {
      "text/html": [
       "<div>\n",
       "<style scoped>\n",
       "    .dataframe tbody tr th:only-of-type {\n",
       "        vertical-align: middle;\n",
       "    }\n",
       "\n",
       "    .dataframe tbody tr th {\n",
       "        vertical-align: top;\n",
       "    }\n",
       "\n",
       "    .dataframe thead th {\n",
       "        text-align: right;\n",
       "    }\n",
       "</style>\n",
       "<table border=\"1\" class=\"dataframe\">\n",
       "  <thead>\n",
       "    <tr style=\"text-align: right;\">\n",
       "      <th></th>\n",
       "      <th>Number</th>\n",
       "      <th>Class</th>\n",
       "      <th>Gender</th>\n",
       "      <th>Height</th>\n",
       "      <th>Weight</th>\n",
       "    </tr>\n",
       "  </thead>\n",
       "  <tbody>\n",
       "    <tr>\n",
       "      <th>0</th>\n",
       "      <td>1</td>\n",
       "      <td>A</td>\n",
       "      <td>M</td>\n",
       "      <td>183.87</td>\n",
       "      <td>85.54</td>\n",
       "    </tr>\n",
       "    <tr>\n",
       "      <th>1</th>\n",
       "      <td>2</td>\n",
       "      <td>A</td>\n",
       "      <td>M</td>\n",
       "      <td>179.54</td>\n",
       "      <td>80.94</td>\n",
       "    </tr>\n",
       "    <tr>\n",
       "      <th>2</th>\n",
       "      <td>3</td>\n",
       "      <td>A</td>\n",
       "      <td>M</td>\n",
       "      <td>173.62</td>\n",
       "      <td>72.99</td>\n",
       "    </tr>\n",
       "    <tr>\n",
       "      <th>3</th>\n",
       "      <td>4</td>\n",
       "      <td>A</td>\n",
       "      <td>M</td>\n",
       "      <td>167.83</td>\n",
       "      <td>62.86</td>\n",
       "    </tr>\n",
       "    <tr>\n",
       "      <th>4</th>\n",
       "      <td>5</td>\n",
       "      <td>A</td>\n",
       "      <td>M</td>\n",
       "      <td>174.38</td>\n",
       "      <td>75.47</td>\n",
       "    </tr>\n",
       "  </tbody>\n",
       "</table>\n",
       "</div>"
      ],
      "text/plain": [
       "   Number Class Gender  Height  Weight\n",
       "0       1     A      M  183.87   85.54\n",
       "1       2     A      M  179.54   80.94\n",
       "2       3     A      M  173.62   72.99\n",
       "3       4     A      M  167.83   62.86\n",
       "4       5     A      M  174.38   75.47"
      ]
     },
     "execution_count": 24,
     "metadata": {},
     "output_type": "execute_result"
    }
   ],
   "source": [
    "Height = pd.read_csv('data/w2_Rep_data.csv')\n",
    "print(type(Height))\n",
    "\n",
    "Height.head()"
   ]
  },
  {
   "cell_type": "markdown",
   "metadata": {},
   "source": [
    "## (4) データフレーム（Height）の列の数、行の数を示してください。\n",
    "## Please show the numbers of lines and rows of the DataFrame, Height.\n",
    "\n",
    "[Week 2: shape](Ex_Week2.ipynb#shape)"
   ]
  },
  {
   "cell_type": "code",
   "execution_count": 25,
   "metadata": {},
   "outputs": [
    {
     "name": "stdout",
     "output_type": "stream",
     "text": [
      "列の数 5\n",
      "行の数 200\n"
     ]
    }
   ],
   "source": [
    "# 列の数 / Number of columns\n",
    "print(\"列の数\", len(Height.columns))\n",
    "\n",
    "# 行の数 / Number of rows\n",
    "print(\"行の数\",len(Height))"
   ]
  },
  {
   "cell_type": "markdown",
   "metadata": {},
   "source": [
    "## (5) 始めの10行を表示してください。\n",
    "Display the first 10 lines.<br>\n",
    "\n",
    "[Week 2: head](Ex_Week2.ipynb#head)"
   ]
  },
  {
   "cell_type": "code",
   "execution_count": 26,
   "metadata": {},
   "outputs": [
    {
     "data": {
      "text/html": [
       "<div>\n",
       "<style scoped>\n",
       "    .dataframe tbody tr th:only-of-type {\n",
       "        vertical-align: middle;\n",
       "    }\n",
       "\n",
       "    .dataframe tbody tr th {\n",
       "        vertical-align: top;\n",
       "    }\n",
       "\n",
       "    .dataframe thead th {\n",
       "        text-align: right;\n",
       "    }\n",
       "</style>\n",
       "<table border=\"1\" class=\"dataframe\">\n",
       "  <thead>\n",
       "    <tr style=\"text-align: right;\">\n",
       "      <th></th>\n",
       "      <th>Number</th>\n",
       "      <th>Class</th>\n",
       "      <th>Gender</th>\n",
       "      <th>Height</th>\n",
       "      <th>Weight</th>\n",
       "    </tr>\n",
       "  </thead>\n",
       "  <tbody>\n",
       "    <tr>\n",
       "      <th>0</th>\n",
       "      <td>1</td>\n",
       "      <td>A</td>\n",
       "      <td>M</td>\n",
       "      <td>183.87</td>\n",
       "      <td>85.54</td>\n",
       "    </tr>\n",
       "    <tr>\n",
       "      <th>1</th>\n",
       "      <td>2</td>\n",
       "      <td>A</td>\n",
       "      <td>M</td>\n",
       "      <td>179.54</td>\n",
       "      <td>80.94</td>\n",
       "    </tr>\n",
       "    <tr>\n",
       "      <th>2</th>\n",
       "      <td>3</td>\n",
       "      <td>A</td>\n",
       "      <td>M</td>\n",
       "      <td>173.62</td>\n",
       "      <td>72.99</td>\n",
       "    </tr>\n",
       "    <tr>\n",
       "      <th>3</th>\n",
       "      <td>4</td>\n",
       "      <td>A</td>\n",
       "      <td>M</td>\n",
       "      <td>167.83</td>\n",
       "      <td>62.86</td>\n",
       "    </tr>\n",
       "    <tr>\n",
       "      <th>4</th>\n",
       "      <td>5</td>\n",
       "      <td>A</td>\n",
       "      <td>M</td>\n",
       "      <td>174.38</td>\n",
       "      <td>75.47</td>\n",
       "    </tr>\n",
       "    <tr>\n",
       "      <th>5</th>\n",
       "      <td>6</td>\n",
       "      <td>A</td>\n",
       "      <td>M</td>\n",
       "      <td>171.38</td>\n",
       "      <td>68.83</td>\n",
       "    </tr>\n",
       "    <tr>\n",
       "      <th>6</th>\n",
       "      <td>7</td>\n",
       "      <td>A</td>\n",
       "      <td>0</td>\n",
       "      <td>171.10</td>\n",
       "      <td>68.51</td>\n",
       "    </tr>\n",
       "    <tr>\n",
       "      <th>7</th>\n",
       "      <td>8</td>\n",
       "      <td>A</td>\n",
       "      <td>M</td>\n",
       "      <td>169.39</td>\n",
       "      <td>66.44</td>\n",
       "    </tr>\n",
       "    <tr>\n",
       "      <th>8</th>\n",
       "      <td>9</td>\n",
       "      <td>A</td>\n",
       "      <td>M</td>\n",
       "      <td>174.26</td>\n",
       "      <td>74.05</td>\n",
       "    </tr>\n",
       "    <tr>\n",
       "      <th>9</th>\n",
       "      <td>10</td>\n",
       "      <td>A</td>\n",
       "      <td>M</td>\n",
       "      <td>171.87</td>\n",
       "      <td>70.40</td>\n",
       "    </tr>\n",
       "  </tbody>\n",
       "</table>\n",
       "</div>"
      ],
      "text/plain": [
       "   Number Class Gender  Height  Weight\n",
       "0       1     A      M  183.87   85.54\n",
       "1       2     A      M  179.54   80.94\n",
       "2       3     A      M  173.62   72.99\n",
       "3       4     A      M  167.83   62.86\n",
       "4       5     A      M  174.38   75.47\n",
       "5       6     A      M  171.38   68.83\n",
       "6       7     A      0  171.10   68.51\n",
       "7       8     A      M  169.39   66.44\n",
       "8       9     A      M  174.26   74.05\n",
       "9      10     A      M  171.87   70.40"
      ]
     },
     "execution_count": 26,
     "metadata": {},
     "output_type": "execute_result"
    }
   ],
   "source": [
    "Height.head(10)"
   ]
  },
  {
   "cell_type": "markdown",
   "metadata": {},
   "source": [
    "## (6) 最後の10行を表示してください。\n",
    "Display the last 10 lines.<br>\n",
    "\n",
    "[Week 2: tail](Ex_Week2.ipynb#tail)"
   ]
  },
  {
   "cell_type": "code",
   "execution_count": 27,
   "metadata": {},
   "outputs": [
    {
     "data": {
      "text/html": [
       "<div>\n",
       "<style scoped>\n",
       "    .dataframe tbody tr th:only-of-type {\n",
       "        vertical-align: middle;\n",
       "    }\n",
       "\n",
       "    .dataframe tbody tr th {\n",
       "        vertical-align: top;\n",
       "    }\n",
       "\n",
       "    .dataframe thead th {\n",
       "        text-align: right;\n",
       "    }\n",
       "</style>\n",
       "<table border=\"1\" class=\"dataframe\">\n",
       "  <thead>\n",
       "    <tr style=\"text-align: right;\">\n",
       "      <th></th>\n",
       "      <th>Number</th>\n",
       "      <th>Class</th>\n",
       "      <th>Gender</th>\n",
       "      <th>Height</th>\n",
       "      <th>Weight</th>\n",
       "    </tr>\n",
       "  </thead>\n",
       "  <tbody>\n",
       "    <tr>\n",
       "      <th>190</th>\n",
       "      <td>191</td>\n",
       "      <td>D</td>\n",
       "      <td>F</td>\n",
       "      <td>151.75</td>\n",
       "      <td>44.42</td>\n",
       "    </tr>\n",
       "    <tr>\n",
       "      <th>191</th>\n",
       "      <td>192</td>\n",
       "      <td>D</td>\n",
       "      <td>F</td>\n",
       "      <td>156.83</td>\n",
       "      <td>49.86</td>\n",
       "    </tr>\n",
       "    <tr>\n",
       "      <th>192</th>\n",
       "      <td>193</td>\n",
       "      <td>D</td>\n",
       "      <td>F</td>\n",
       "      <td>153.08</td>\n",
       "      <td>47.09</td>\n",
       "    </tr>\n",
       "    <tr>\n",
       "      <th>193</th>\n",
       "      <td>194</td>\n",
       "      <td>D</td>\n",
       "      <td>F</td>\n",
       "      <td>156.21</td>\n",
       "      <td>49.83</td>\n",
       "    </tr>\n",
       "    <tr>\n",
       "      <th>194</th>\n",
       "      <td>195</td>\n",
       "      <td>D</td>\n",
       "      <td>F</td>\n",
       "      <td>166.90</td>\n",
       "      <td>59.19</td>\n",
       "    </tr>\n",
       "    <tr>\n",
       "      <th>195</th>\n",
       "      <td>196</td>\n",
       "      <td>D</td>\n",
       "      <td>F</td>\n",
       "      <td>165.62</td>\n",
       "      <td>58.19</td>\n",
       "    </tr>\n",
       "    <tr>\n",
       "      <th>196</th>\n",
       "      <td>197</td>\n",
       "      <td>D</td>\n",
       "      <td>F</td>\n",
       "      <td>152.40</td>\n",
       "      <td>46.42</td>\n",
       "    </tr>\n",
       "    <tr>\n",
       "      <th>197</th>\n",
       "      <td>198</td>\n",
       "      <td>D</td>\n",
       "      <td>F</td>\n",
       "      <td>163.24</td>\n",
       "      <td>54.93</td>\n",
       "    </tr>\n",
       "    <tr>\n",
       "      <th>198</th>\n",
       "      <td>199</td>\n",
       "      <td>D</td>\n",
       "      <td>F</td>\n",
       "      <td>161.39</td>\n",
       "      <td>53.05</td>\n",
       "    </tr>\n",
       "    <tr>\n",
       "      <th>199</th>\n",
       "      <td>200</td>\n",
       "      <td>D</td>\n",
       "      <td>F</td>\n",
       "      <td>152.28</td>\n",
       "      <td>45.76</td>\n",
       "    </tr>\n",
       "  </tbody>\n",
       "</table>\n",
       "</div>"
      ],
      "text/plain": [
       "     Number Class Gender  Height  Weight\n",
       "190     191     D      F  151.75   44.42\n",
       "191     192     D      F  156.83   49.86\n",
       "192     193     D      F  153.08   47.09\n",
       "193     194     D      F  156.21   49.83\n",
       "194     195     D      F  166.90   59.19\n",
       "195     196     D      F  165.62   58.19\n",
       "196     197     D      F  152.40   46.42\n",
       "197     198     D      F  163.24   54.93\n",
       "198     199     D      F  161.39   53.05\n",
       "199     200     D      F  152.28   45.76"
      ]
     },
     "execution_count": 27,
     "metadata": {},
     "output_type": "execute_result"
    }
   ],
   "source": [
    "Height.tail(10)"
   ]
  },
  {
   "cell_type": "markdown",
   "metadata": {},
   "source": [
    "## (7) Numberの列を削除して、その結果をHeight2に格納してください。最初の5行を表示して、きちんとできていることを確認してください。\n",
    "Remove the column, 'Number', then store the result to the DataFrame, Height2.<br>\n",
    "Make sure that you drop the column by displaying the first 5 lines.<br>\n",
    "\n",
    "デフォルトでは元のDataFrameは変更されず、新しいDataFrameが返される。引数inplaceをTrueにすると元のDataFrameが変更される。<br>\n",
    "一回削除して、もう一回dropしようとすると、その列は存在しません、とエラーが出る。<br>\n",
    "<br>\n",
    "By default, the original DataFrame is not modified and a new DataFrame is returned. If the inplace argument is set to True, the original DataFrame is modified. <BR>\n",
    "When you delete a column and try to drop it again, you will get an error saying that the column does not exist. <br>\n",
    "\n",
    "\n",
    "[Remove columns: drop](https://note.nkmk.me/python-pandas-drop/)<br>\n",
    "[Week 2: tail](Ex_Week2.ipynb#tail)<br>\n",
    "[Week 2: drop](Ex_Week2.ipynb#drop)"
   ]
  },
  {
   "cell_type": "code",
   "execution_count": 28,
   "metadata": {},
   "outputs": [
    {
     "data": {
      "text/html": [
       "<div>\n",
       "<style scoped>\n",
       "    .dataframe tbody tr th:only-of-type {\n",
       "        vertical-align: middle;\n",
       "    }\n",
       "\n",
       "    .dataframe tbody tr th {\n",
       "        vertical-align: top;\n",
       "    }\n",
       "\n",
       "    .dataframe thead th {\n",
       "        text-align: right;\n",
       "    }\n",
       "</style>\n",
       "<table border=\"1\" class=\"dataframe\">\n",
       "  <thead>\n",
       "    <tr style=\"text-align: right;\">\n",
       "      <th></th>\n",
       "      <th>Class</th>\n",
       "      <th>Gender</th>\n",
       "      <th>Height</th>\n",
       "      <th>Weight</th>\n",
       "    </tr>\n",
       "  </thead>\n",
       "  <tbody>\n",
       "    <tr>\n",
       "      <th>0</th>\n",
       "      <td>A</td>\n",
       "      <td>M</td>\n",
       "      <td>183.87</td>\n",
       "      <td>85.54</td>\n",
       "    </tr>\n",
       "    <tr>\n",
       "      <th>1</th>\n",
       "      <td>A</td>\n",
       "      <td>M</td>\n",
       "      <td>179.54</td>\n",
       "      <td>80.94</td>\n",
       "    </tr>\n",
       "    <tr>\n",
       "      <th>2</th>\n",
       "      <td>A</td>\n",
       "      <td>M</td>\n",
       "      <td>173.62</td>\n",
       "      <td>72.99</td>\n",
       "    </tr>\n",
       "    <tr>\n",
       "      <th>3</th>\n",
       "      <td>A</td>\n",
       "      <td>M</td>\n",
       "      <td>167.83</td>\n",
       "      <td>62.86</td>\n",
       "    </tr>\n",
       "    <tr>\n",
       "      <th>4</th>\n",
       "      <td>A</td>\n",
       "      <td>M</td>\n",
       "      <td>174.38</td>\n",
       "      <td>75.47</td>\n",
       "    </tr>\n",
       "  </tbody>\n",
       "</table>\n",
       "</div>"
      ],
      "text/plain": [
       "  Class Gender  Height  Weight\n",
       "0     A      M  183.87   85.54\n",
       "1     A      M  179.54   80.94\n",
       "2     A      M  173.62   72.99\n",
       "3     A      M  167.83   62.86\n",
       "4     A      M  174.38   75.47"
      ]
     },
     "execution_count": 28,
     "metadata": {},
     "output_type": "execute_result"
    }
   ],
   "source": [
    "Height2 = Height.drop('Number',axis=1)\n",
    "Height2.head()"
   ]
  },
  {
   "cell_type": "markdown",
   "metadata": {},
   "source": [
    "## (8) 身長の点が180以上のデータ行だけ抽出して表示してください。\n",
    "Extract rows in which Height is higher than 180.<br>\n",
    "[Week 2: extract](Ex_Week2.ipynb#extract)"
   ]
  },
  {
   "cell_type": "code",
   "execution_count": 29,
   "metadata": {},
   "outputs": [
    {
     "data": {
      "text/html": [
       "<div>\n",
       "<style scoped>\n",
       "    .dataframe tbody tr th:only-of-type {\n",
       "        vertical-align: middle;\n",
       "    }\n",
       "\n",
       "    .dataframe tbody tr th {\n",
       "        vertical-align: top;\n",
       "    }\n",
       "\n",
       "    .dataframe thead th {\n",
       "        text-align: right;\n",
       "    }\n",
       "</style>\n",
       "<table border=\"1\" class=\"dataframe\">\n",
       "  <thead>\n",
       "    <tr style=\"text-align: right;\">\n",
       "      <th></th>\n",
       "      <th>Number</th>\n",
       "      <th>Class</th>\n",
       "      <th>Gender</th>\n",
       "      <th>Height</th>\n",
       "      <th>Weight</th>\n",
       "    </tr>\n",
       "  </thead>\n",
       "  <tbody>\n",
       "    <tr>\n",
       "      <th>0</th>\n",
       "      <td>1</td>\n",
       "      <td>A</td>\n",
       "      <td>M</td>\n",
       "      <td>183.87</td>\n",
       "      <td>85.54</td>\n",
       "    </tr>\n",
       "    <tr>\n",
       "      <th>55</th>\n",
       "      <td>56</td>\n",
       "      <td>B</td>\n",
       "      <td>M</td>\n",
       "      <td>180.18</td>\n",
       "      <td>82.35</td>\n",
       "    </tr>\n",
       "    <tr>\n",
       "      <th>56</th>\n",
       "      <td>57</td>\n",
       "      <td>B</td>\n",
       "      <td>M</td>\n",
       "      <td>188.11</td>\n",
       "      <td>86.87</td>\n",
       "    </tr>\n",
       "  </tbody>\n",
       "</table>\n",
       "</div>"
      ],
      "text/plain": [
       "    Number Class Gender  Height  Weight\n",
       "0        1     A      M  183.87   85.54\n",
       "55      56     B      M  180.18   82.35\n",
       "56      57     B      M  188.11   86.87"
      ]
     },
     "execution_count": 29,
     "metadata": {},
     "output_type": "execute_result"
    }
   ],
   "source": [
    "Height[Height.Height>=180]"
   ]
  },
  {
   "cell_type": "markdown",
   "metadata": {},
   "source": [
    "## (9) 身長が160以下の女子の人数と男子の人数を示してください。\n",
    "Please show the number of male and female whose height is less than 160.<br>\n",
    "[Week 2: extract](Ex_Week2.ipynb#extract)"
   ]
  },
  {
   "cell_type": "code",
   "execution_count": 30,
   "metadata": {},
   "outputs": [
    {
     "name": "stdout",
     "output_type": "stream",
     "text": [
      "54\n",
      "7\n"
     ]
    }
   ],
   "source": [
    "# For female students\n",
    "print(len(Height[(Height.Height <= 160) & (Height['Gender']=='F')]))\n",
    "\n",
    "# For male students\n",
    "print(len(Height[(Height.Height <= 160) & (Height['Gender']=='M')]))"
   ]
  },
  {
   "cell_type": "markdown",
   "metadata": {},
   "source": [
    "## (10) GROUPBYとGET_GROUPを使って、クラスごとのデータをDataFrameに分けてください。\n",
    "## Use GROUPBY and GET_GROUP to separate data by class into DataFrames.\n",
    "\n",
    "各クラスのデータを格納するDataFrame名は以下のようにしてください。<br>\n",
    "Please create DataFrame to store data of each class as follows.<br>\n",
    "* Class A: df_A\n",
    "* Class B: df_B\n",
    "* Class C: df_C\n",
    "* Class D: df_D\n",
    "\n",
    "[Week 2: groupby](Ex_Week2.ipynb#groupby)"
   ]
  },
  {
   "cell_type": "code",
   "execution_count": 31,
   "metadata": {},
   "outputs": [],
   "source": [
    "# Use Groupby to make groups by class\n",
    "Height_group = Height.groupby('Class')\n",
    "\n",
    "# Use Get_Group to create DataFrame for each class\n",
    "Height_A = Height_group.get_group('A')\n",
    "Height_B = Height_group.get_group('B')\n",
    "Height_C = Height_group.get_group('C')\n",
    "Height_D = Height_group.get_group('D')\n"
   ]
  },
  {
   "cell_type": "markdown",
   "metadata": {},
   "source": [
    "## (11) クラスごとの体重の平均を求めてください。\n",
    "## Calculate the average of Weight for each class, from A to D.\n",
    "\n",
    "[Week 2: average](Ex_Week2.ipynb#average)"
   ]
  },
  {
   "cell_type": "code",
   "execution_count": 32,
   "metadata": {},
   "outputs": [
    {
     "name": "stdout",
     "output_type": "stream",
     "text": [
      "58.46900000000001\n",
      "59.642399999999995\n",
      "59.94540000000001\n",
      "57.23060000000001\n"
     ]
    }
   ],
   "source": [
    "A_Weight_mean = Height_A['Weight'].mean()\n",
    "B_Weight_mean = Height_B['Weight'].mean()\n",
    "C_Weight_mean = Height_C['Weight'].mean()\n",
    "D_Weight_mean = Height_D['Weight'].mean()\n",
    "print(A_Weight_mean)\n",
    "print(B_Weight_mean)\n",
    "print(C_Weight_mean)\n",
    "print(D_Weight_mean)\n"
   ]
  },
  {
   "cell_type": "markdown",
   "metadata": {},
   "source": [
    "## おまけ問題 1 / Optional problem No. 1\n",
    "男性、女性ごとに、体重を横軸、身長を縦軸の散布図を描いてください。図に凡例を入れてください。<br>\n",
    "(できたら)相関係数を計算して、相関の強さを調べて性別による違いを考察してください。<br>\n",
    "<br>\n",
    "Please draw figures, Weight vs. Height by sex with a scattering plot. \n",
    "Add legends in the figure.<br>\n",
    "Examine the correlation coefficient and discuss the strength of the correlation between subjects, if you can. <br>\n",
    "\n",
    "[Week 2: extract](Ex_Week2.ipynb#extract)"
   ]
  },
  {
   "cell_type": "code",
   "execution_count": 33,
   "metadata": {},
   "outputs": [
    {
     "data": {
      "image/png": "[encoded data removed]",
      "text/plain": [
       "<Figure size 640x480 with 1 Axes>"
      ]
     },
     "metadata": {},
     "output_type": "display_data"
    },
    {
     "name": "stdout",
     "output_type": "stream",
     "text": [
      "相関係数: 0.9852766859351031\n"
     ]
    }
   ],
   "source": [
    "data_M = Height[Height['Gender']=='M']\n",
    "\n",
    "plt.scatter(x='Weight', y='Height', data=data_M, label='Male', alpha=0.5)\n",
    "plt.legend()\n",
    "plt.title('Scatter Plot of Height vs. Weight (Male)')\n",
    "plt.xlabel('Weight')\n",
    "plt.ylabel('Height')\n",
    "plt.grid(True)\n",
    "plt.show()\n",
    "correlation_coefficient = data_M['Height'].corr(data_M['Weight'])\n",
    "print(f'相関係数: {correlation_coefficient}')"
   ]
  },
  {
   "cell_type": "code",
   "execution_count": 34,
   "metadata": {},
   "outputs": [
    {
     "data": {
      "image/png": "[encoded data removed]",
      "text/plain": [
       "<Figure size 640x480 with 1 Axes>"
      ]
     },
     "metadata": {},
     "output_type": "display_data"
    },
    {
     "name": "stdout",
     "output_type": "stream",
     "text": [
      "相関係数: 0.9786026631283975\n"
     ]
    }
   ],
   "source": [
    "data_F = Height[Height['Gender']=='F']\n",
    "\n",
    "plt.scatter(x='Weight', y='Height', data=data_F, label='Female', alpha=0.5)\n",
    "plt.legend()\n",
    "plt.title('Scatter Plot of Height vs. Weight (Female)')\n",
    "plt.xlabel('Weight')\n",
    "plt.ylabel('Height')\n",
    "plt.grid(True)\n",
    "plt.show()\n",
    "correlation_coefficient = data_F['Height'].corr(data_F['Weight'])\n",
    "print(f'相関係数: {correlation_coefficient}')"
   ]
  },
  {
   "cell_type": "markdown",
   "metadata": {},
   "source": [
    "男性と女性どちらも身長と体重に非常に強い正の相関が見られるが、相関係数で比較を行うと、男性の方が身長と体重の相関がわずかに強いことが分かる。"
   ]
  },
  {
   "cell_type": "markdown",
   "metadata": {},
   "source": [
    "## 集合型 / Set"
   ]
  },
  {
   "cell_type": "markdown",
   "metadata": {},
   "source": [
    "## (11) 整数で、25から120までの、3の倍数からなる集合型Aと、8の倍数からなる集合型Bを作ってください。\n",
    "`np.arange`や`range`を使うといいでしょう。<br>\n",
    "With integers, create a set type A consisting of multiples of 3 and a set type B consisting of multiples of 8 from 25 to 120.<br>\n",
    "It would be easier if you use `np.arange` or `range`.<br>\n",
    "<br>\n",
    "<b>arange関数を使った後、リストのままにする人が多いですから、set関数を使って、集合にするのを忘れないように気を付けてください。</b><br>\n",
    "There are some people who leave it as a list after using the arange function, so be careful not to forget to use the set function to make it a set. <br>\n",
    "\n",
    "[Week 1: arange](Ex_Week1.ipynb#arange)<br>\n",
    "[Week 1: range](Ex_Week1.ipynb#range)<br>\n",
    "[Week 2: set](Ex_Week2.ipynb#set_func)<br>"
   ]
  },
  {
   "cell_type": "code",
   "execution_count": 35,
   "metadata": {},
   "outputs": [
    {
     "name": "stdout",
     "output_type": "stream",
     "text": [
      "{27, 30, 33, 36, 39, 42, 45, 48, 51, 54, 57, 60, 63, 66, 69, 72, 75, 78, 81, 84, 87, 90, 93, 96, 99, 102, 105, 108, 111, 114, 117, 120}\n",
      "{32, 64, 96, 40, 72, 104, 48, 80, 112, 56, 88, 120}\n"
     ]
    }
   ],
   "source": [
    "list=[]\n",
    "A = set(list)\n",
    "for n in range(25,121):\n",
    "    if n % 3 ==0:\n",
    "        A.add(n)\n",
    "print(A)\n",
    "\n",
    "list=[]\n",
    "B = set(list)\n",
    "for n in range(25,121):\n",
    "    if n % 8 == 0:\n",
    "        B.add(n)\n",
    "print(B)"
   ]
  },
  {
   "cell_type": "markdown",
   "metadata": {},
   "source": [
    "### (12) 集合の演算 / Set operations\n",
    "(11)のSet AとSet Bの和と積を計算して、それぞれの要素数を表示してください。<br>\n",
    "Please carry out union and intersection of Set A and B given in (11).<br>\n",
    "Then display the number of elements of those results.<br>\n",
    "\n",
    "[Week 2: intersection](Ex_Week2.ipynb#setinsec)"
   ]
  },
  {
   "cell_type": "code",
   "execution_count": 36,
   "metadata": {},
   "outputs": [
    {
     "name": "stdout",
     "output_type": "stream",
     "text": [
      "{27, 30, 32, 33, 36, 39, 40, 42, 45, 48, 51, 54, 56, 57, 60, 63, 64, 66, 69, 72, 75, 78, 80, 81, 84, 87, 88, 90, 93, 96, 99, 102, 104, 105, 108, 111, 112, 114, 117, 120}\n",
      "和の要素数 40\n",
      "{96, 48, 72, 120}\n",
      "積の要素数 4\n"
     ]
    }
   ],
   "source": [
    "# Intersection of A and B\n",
    "union=A.union(B)\n",
    "print(union)\n",
    "print(\"和の要素数\", len(union))\n",
    "\n",
    "# Difference between A and B\n",
    "intersection=A.intersection(B)\n",
    "print(intersection)\n",
    "print(\"積の要素数\", len(intersection))"
   ]
  },
  {
   "cell_type": "markdown",
   "metadata": {},
   "source": [
    "### (13) 集合：要素の削除 / Set: Remove an element\n",
    "(11)のSet Aのそれぞれについて、最大値をその集合から削除してください。<br>\n",
    "削除前後の最大値を表示して、最大値が変わっていることを確認してください。<br>\n",
    "Remove the maximum number from set A given in (11). <br>\n",
    "Show the maximum number before and after removing the maximum number so that you can verify that the maximum number was changed.<br>\n",
    "\n",
    "[Week 2: setremove](Ex_Week2.ipynb#setremove)<br>"
   ]
  },
  {
   "cell_type": "code",
   "execution_count": 37,
   "metadata": {},
   "outputs": [
    {
     "name": "stdout",
     "output_type": "stream",
     "text": [
      "削除前の最大値: 120\n",
      "削除後の最大値: 117\n"
     ]
    }
   ],
   "source": [
    "max_before = max(A)\n",
    "print(\"削除前の最大値:\", max_before)\n",
    "\n",
    "A.remove(max_before)\n",
    "\n",
    "max_after = max(A)\n",
    "print(\"削除後の最大値:\", max_after)"
   ]
  },
  {
   "cell_type": "markdown",
   "metadata": {},
   "source": [
    "## おまけ問題 2 / Optional problem No. 2\n",
    "### 2つの整数の最大公約数を求める関数を作って実行してください。\n",
    "### Please make a function which gives the greatest common divisor of two integers. Then run a code with calling the function.\n",
    "\n",
    "[Week 1: Function](Ex_Week1.ipynb#function)<br>"
   ]
  },
  {
   "cell_type": "code",
   "execution_count": 38,
   "metadata": {},
   "outputs": [
    {
     "data": {
      "text/plain": [
       "37"
      ]
     },
     "execution_count": 38,
     "metadata": {},
     "output_type": "execute_result"
    }
   ],
   "source": [
    "def gcd(a, b):\n",
    "    a = abs(a)\n",
    "    b = abs(b)\n",
    "\n",
    "    if a == 0:\n",
    "        return b\n",
    "\n",
    "    if b == 0:\n",
    "        return a\n",
    "\n",
    "    while b:\n",
    "        a, b = b, a % b\n",
    "    return a\n",
    "    \n",
    "gcd(481,629)"
   ]
  },
  {
   "cell_type": "markdown",
   "metadata": {},
   "source": [
    "# 提出する前に。。。/ Before you submit your answer file...\n",
    "\n",
    "すべての提出課題は、一番最初から最後のセルまで、私が実行して確認します。<br>\n",
    "<span style=\"color: red;font-weight:bold; font-size:12pt;\" >全てのセルがきちんと実行されることを確認してから、ファイルを提出してください。</span><br>\n",
    "うまく動かない場合には、どこで詰まったか、【エラーをよく読んで、どこでうまく行かなくなったか】説明文を記入してください。<br>\n",
    "説明文もなく実行できないセルがあれば、それ以降のセルは点数が付きません。<br>\n",
    "<br>\n",
    "I will make check your codes from the very first to the very last cell.<br>\n",
    "<span style=\"color: red;font-weight:bold; font-size:12pt;\" >Please make sure that ALL of the cells run properly.</span><br>\n",
    "If it doesn’t work well, read errors carefully, and explain where you have a trouble.<br>\n",
    "If any cell fails to run without any explanation, the subsequent cells will not be scored.\n"
   ]
  },
  {
   "cell_type": "code",
   "execution_count": null,
   "metadata": {},
   "outputs": [],
   "source": []
  }
 ],
 "metadata": {
  "kernelspec": {
   "display_name": "Python 3 (ipykernel)",
   "language": "python",
   "name": "python3"
  },
  "language_info": {
   "codemirror_mode": {
    "name": "ipython",
    "version": 3
   },
   "file_extension": ".py",
   "mimetype": "text/x-python",
   "name": "python",
   "nbconvert_exporter": "python",
   "pygments_lexer": "ipython3",
   "version": "3.11.5"
  }
 },
 "nbformat": 4,
 "nbformat_minor": 4
}
