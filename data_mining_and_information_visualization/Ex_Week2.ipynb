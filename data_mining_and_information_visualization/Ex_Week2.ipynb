{
 "cells": [
  {
   "cell_type": "markdown",
   "metadata": {
    "slideshow": {
     "slide_type": "slide"
    }
   },
   "source": [
    "# **データマイニングと情報可視化: 演習**\n",
    "# **Data mining and information visualization: Exercise**\n",
    "<font size=\"4\">\n",
    "第2回　2023年12月12日(火)\n",
    "データマイニング手法1-1：マーケットバスケット分析（講義と分析手法の基礎）<br>\n",
    "Method 1-1: Market basket analysis (Lecture and basic skills)<br>\n",
    "</font>\n",
    "\n",
    "[レポート / Assignment](Rep_Week2.ipynb) : \n",
    "<span style=\"color: red;font-weight:bold; font-size:15pt;\" >締め切り 2023年12月15日(金)　23:59 JST</span>"
   ]
  },
  {
   "cell_type": "markdown",
   "metadata": {
    "slideshow": {
     "slide_type": "slide"
    }
   },
   "source": [
    "# **プログラミングのコツ / Tips for Programming**\n",
    "\n",
    "## **いきなり全部書こうとしない。できるだけ簡単な状況から始める。**\n",
    "## **Start from a simple setup. Write a code step by step!! Run it step by step!!**\n",
    "できるだけ簡単な状況を設定して、少しずつ入れたい要素を足していきます。<br>\n",
    "結果を`print`文で出力するか、グラフに出力するなどして、うまく動いていることを確認しながら、一歩ずつ進めます。<br>\n",
    "**入れたい要素を少しずつ入れて、実行する。また少し足して、実行する。**<br>\n",
    "もしうまく行かなくなったら、直前に入れたものをコメントアウトして、一歩手前に戻る。<br>\n",
    "というのを繰り返していきます。<br>\n",
    "いきなりゼロから、最終的なところまで書いてから、うまく動かないと、どこで詰まっているかわかりません。<br>\n",
    "これは**プログラミングの、きほんの「き」** です。<br>\n",
    "特に、プログラミング初級者の人は、一歩ずつ進めるのを心掛けましょう。<br>\n",
    "<br>\n",
    "たとえて言うなら、調味料は一つずつ入れて、その都度味見する、という感じです。<br>\n",
    "砂糖を入れて味見、塩を入れて味見、しょうゆを入れて味見!!!<br>"
   ]
  },
  {
   "cell_type": "markdown",
   "metadata": {
    "slideshow": {
     "slide_type": "skip"
    }
   },
   "source": [
    "Start from a simple setup. Then add elements one by one.<br>\n",
    "**Write a code step by step, and excute step by step so that you can find what is wrong immediately.**<br>\n",
    "You can use `print` function to output data and see whether the code is working as you intend or not.<br>\n",
    "You can also draw graphs to check if the code is working correctly.<br>\n",
    "If it doesn't work as you intend, you can comment out the code you just added in the previous step, and see if you can come back to the right process.<br>\n",
    "Then think about what was wrong in the code you added.<br>\n",
    "Add an element, then excute the code. If it works fine, then add again another element, then excute it.<br>\n",
    "**If it doesn't work well, come back to the previous step and find a problem. Then excute the code again.**<br>\n",
    "You repeat this process until it works as you intend.<br>\n",
    "If you write a whole program at once, it is really hard to find out what is wrong in the code.<br>\n",
    "This is the most important tip for programming.<br>\n",
    "<br>\n",
    "For example, when you cook, you don't put seasonings at once.<br>\n",
    "You put sugar little by little, and taste it. If it's not enough, you add a little more, then taste it again.<br>\n",
    "That's exactly you should do for programming!!"
   ]
  },
  {
   "cell_type": "markdown",
   "metadata": {
    "slideshow": {
     "slide_type": "subslide"
    }
   },
   "source": [
    "## **お手本のコードを活用する / Use sample codes.**\n",
    "教科書や参考書に解析の仕方がコード付きで載っています。<br>\n",
    "ゼロから自分で書こうとせずに、教科書のコードを参考にして、自分の解析に書き換えて使いましょう。<br>\n",
    "特に、データマイニングや機械学習は、すでにたくさんの便利な組み込み関数が用意されています。<br>\n",
    "参考書を見ながら、うまくそれらを活用しましょう。<br>\n",
    "ただ単に丸写しして、動けばOK、ではなく、個々のラインでどのような処理が行われているか、考えながら、サンプルコードを確認しましょう<br>\n",
    "ここをこう変えたらどうかな、ああしたらどうかな、と考えて、ちょっとずつ自分で書き換えてみましょう。<br>"
   ]
  },
  {
   "cell_type": "markdown",
   "metadata": {
    "slideshow": {
     "slide_type": "skip"
    }
   },
   "source": [
    "The books on data mining and machine learning usually give a lot of sample code, often downloadable from the websites.<br>\n",
    "You don't have to write everything by yourself.<br>\n",
    "Please use those sample codes to write your own code effectively.<br>\n",
    "By checking codes line by line, make sure what kind of processing each line is doing.<br>\n",
    "Then change codes by imagining what would happen if you change here or there...<br>"
   ]
  },
  {
   "cell_type": "markdown",
   "metadata": {
    "slideshow": {
     "slide_type": "subslide"
    }
   },
   "source": [
    "## **とにかく書く!!書く!!書く!!/ Keep writing codes!!! Write, write, and write!!!**\n",
    "プログラミングも言語です。思ったようなコードを書けるようになるには、書き続けるしかありません。<br>\n",
    "こうしたらどうなるかな??ああしたらどうなるかな??と思って、プログラムをいじってみましょう!!!<br>\n",
    "<br>\n",
    "Programming is a language. To get better writing codes, the best way is just keep writing!!!<br>\n",
    "Try to do anything you want, and find a way to realize what you want to do with your code!!"
   ]
  },
  {
   "cell_type": "markdown",
   "metadata": {
    "slideshow": {
     "slide_type": "subslide"
    }
   },
   "source": [
    "## **うまく動かないときにすべきこと　その1**\n",
    "**When you have a trouble... Tip No. 1**<br>\n",
    "<br>\n",
    "エラーをよく読む。<br>\n",
    "英語でエラーが出ると、そこでもうわからない気分になってしまうことがあります。<br>\n",
    "**落ち着いてエラーを注意深く読みましょう。**<br>\n",
    "それでもよくわからなかったら、エラーをコピーして、検索してみましょう。<br>\n",
    "どんなエラーなのか、検索するとわかることも多いです。<br>\n",
    "また、どう対処したらいいかも書いてあることがよくあります。<br>"
   ]
  },
  {
   "cell_type": "markdown",
   "metadata": {
    "slideshow": {
     "slide_type": "skip"
    }
   },
   "source": [
    "Read errors carefully!!<br>\n",
    "Especially for Japanese students, they may feel hopeless when they got some error in English.<br>\n",
    "**Take a deep breath, and read errors carefully.**<br>\n",
    "It is also helpful to google errors.<br>\n",
    "You often find a way how to avoid errors.<br>"
   ]
  },
  {
   "cell_type": "markdown",
   "metadata": {
    "slideshow": {
     "slide_type": "subslide"
    }
   },
   "source": [
    "## **うまく動かないときにすべきこと　その2**\n",
    "**When you have a trouble... Tip No.2**<br>\n",
    "\n",
    "少しずつ書き足していく場合には、うまく行かなくなったら、まず直前の状態に戻る。<br>\n",
    "書き足した部分をコメントアウトして、その直前にうまく行っていた状態に戻れるかどうか、確認します。<br>\n",
    "それで元の状態に戻れたときには、改めて、書き足した部分のどこがおかしいか、考えてみましょう。<br>"
   ]
  },
  {
   "cell_type": "markdown",
   "metadata": {
    "slideshow": {
     "slide_type": "skip"
    }
   },
   "source": [
    "Comment out the lines you added after you have had the correct results.<br>\n",
    "Verify that you come back to the right version.<br>\n",
    "If you come back to the right version, think about what you have done wrong in the added lines.<br>\n",
    "If you can't come back to the right version, keep comment out lines until your code works correctly.<br>"
   ]
  },
  {
   "cell_type": "markdown",
   "metadata": {
    "slideshow": {
     "slide_type": "subslide"
    }
   },
   "source": [
    "## **うまく動かないときにすべきこと　その3**\n",
    "**When you have a trouble... Tip No.3**<br>\n",
    "\n",
    "`print`文で出力する。<br>\n",
    "思ったような結果にならないときには、まず途中にブリント文を挿入して、途中経過を出力させます。<br>\n",
    "変数が時々書き換えられていたり、式が思ったような計算しているかどうか、確認することができます。<br>\n",
    "特に、for文の途中で処理が止まる場合には、for文の中に、<br>\n",
    "```\n",
    "for i in range(100):\n",
    "    処理を色々。。。\n",
    "    print('i=',i, x[i]) \n",
    "```\n",
    "とすると、どこで止まっているか、分かります。<br>\n",
    "もしi=50で止まっていたら、実はデータが50までしかなくて、処理が止まってしまっていた、ということもあります。<br>"
   ]
  },
  {
   "cell_type": "markdown",
   "metadata": {
    "slideshow": {
     "slide_type": "skip"
    }
   },
   "source": [
    "Output data with `print`.<br>\n",
    "When you can't have a result as you intended, you can output data in the middle of the code.<br>\n",
    "You can change the place where you output data so that you can find out when the data become wrong.<br>\n",
    "Especially, when a processing stop during a for statement, you can insert print function as follows.<br>\n",
    "\n",
    "```\n",
    "for i in range(100):\n",
    "    processes...\n",
    "    print('i=',i, x[i]) \n",
    "```\n",
    "\n",
    "By outputting the index, you will see until when the for statement stops.<br>\n",
    "If it stops at i=50, it might be because the data has only 50 lines.<br>"
   ]
  },
  {
   "cell_type": "markdown",
   "metadata": {
    "slideshow": {
     "slide_type": "slide"
    }
   },
   "source": [
    "## 必要なライブラリのインポート"
   ]
  },
  {
   "cell_type": "code",
   "execution_count": null,
   "metadata": {
    "slideshow": {
     "slide_type": "fragment"
    }
   },
   "outputs": [],
   "source": [
    "# 以下のライブラリを使うので、あらかじめ読み込んでおいてください。/ Please load the following libraries.\n",
    "import numpy as np\n",
    "import scipy as sp\n",
    "import pandas as pd\n",
    "from pandas import Series, DataFrame\n",
    "\n",
    "# 可視化ライブラリ / Visualization libraries\n",
    "import matplotlib.pyplot as plt\n",
    "import matplotlib as mpl\n",
    "import seaborn as sns\n",
    "sns.set()\n",
    "%matplotlib inline\n",
    "\n",
    "# 小数第3位まで表示 / display up to the 3rd decimal place\n",
    "%precision 3"
   ]
  },
  {
   "cell_type": "markdown",
   "metadata": {
    "slideshow": {
     "slide_type": "subslide"
    }
   },
   "source": [
    "## ファイルの入力 / Read data\n",
    "ファイルを開くには、`open()`文を使います。<br>\n",
    "読み込みモード`\"r\"`で開きます。<br>\n",
    "`encoding`は、ファイルの文字コードです。`UTF-8`や`SJIS`などがあります。基本的には`UTF-8`を使いましょう。<br>\n",
    "ファイルからテキストを読み込むには、`readline()`を使います。<br>\n",
    "ファイルの中身をまとめて読み込むには、`readlines()`を使います。<br>\n",
    "ファイルを閉じるには、`close()`を使います。\n",
    "\n",
    "`\\n`　は改行を意味しています。<br>\n",
    "[.strip](https://www.sejuku.net/blog/50412): 空白や改行を削除する関数です。"
   ]
  },
  {
   "cell_type": "code",
   "execution_count": null,
   "metadata": {
    "slideshow": {
     "slide_type": "subslide"
    }
   },
   "outputs": [],
   "source": [
    "#　ファイルから入力 / load data from a file\n",
    "# まとめて読んでから１行ずつ表示する / read at once and display line by line\n",
    "\n",
    "f = open(\"data/w2_sample1.txt\",\"r\", encoding=\"utf-8\")\n",
    "lines = f.readlines()\n",
    "print(\"まとめて表示する / Display at once\")\n",
    "print(lines)\n",
    "\n",
    "print(\"１行ずつ表示する / display line by line\")\n",
    "for line in lines:\n",
    "    line = line.strip()\n",
    "    print(line)\n",
    "f.close()\n",
    "\n"
   ]
  },
  {
   "cell_type": "code",
   "execution_count": null,
   "metadata": {
    "slideshow": {
     "slide_type": "subslide"
    }
   },
   "outputs": [],
   "source": [
    "# for文を使って、一行ずつ読み込むコードに書き換えてみよう\n",
    "# Rewrite the code to read data line by line. Use For structure.\n",
    "f = open(\"data/w2_sample1.txt\",\"r\", encoding=\"utf-8\")\n",
    "line = f.readline()\n",
    "while line:\n",
    "    print(line)\n",
    "    line = f.readline()\n",
    "#     lines = lines.append(line)\n",
    "f.close()\n",
    "\n",
    "type(line)"
   ]
  },
  {
   "cell_type": "markdown",
   "metadata": {
    "slideshow": {
     "slide_type": "subslide"
    }
   },
   "source": [
    "## ファイルの出力 / Output data\n",
    "ファイルを開くには、`open()`文を使います。<br>\n",
    "書き込みモード`\"w\"`で開きます。<br>\n",
    "文字列を書き出すには、`writeline()`を使います。<br>\n",
    "リストなど集合変数をまとめてすべて書き出すには、`writelines()`を使います。<br>\n",
    "ファイルを閉じるには、`close()`を使います。<br>"
   ]
  },
  {
   "cell_type": "markdown",
   "metadata": {
    "slideshow": {
     "slide_type": "skip"
    }
   },
   "source": [
    "Open a file with `open()`.<br>\n",
    "If you want to output data, specify the write mode `\"w\"`.<br>\n",
    "To output strings, use `writeline()` command.<br>\n",
    "To output an aggregate variables, such as a list, at once, use `writelines()` command.<br>\n",
    "To close the file, use `close()` command."
   ]
  },
  {
   "cell_type": "code",
   "execution_count": null,
   "metadata": {
    "slideshow": {
     "slide_type": "subslide"
    }
   },
   "outputs": [],
   "source": [
    "#　ファイルへ出力 / Write data to a file\n",
    "# 数値を文字列に変換してから、ファイルへ書き出す / convert a value to a string, then write to a file\n",
    "\n",
    "# str() は、作業変数 p を文字列に変換する / str() converts variable p into a string\n",
    "\n",
    "f = open(\"data/w2_sample2.txt\",\"w\", encoding=\"utf-8\")\n",
    "score=[48, 52, 33, 88, 55, 77, 93, 44, 67, 85, 91, 75]\n",
    "for p in score:\n",
    "    print(\"Score=\", p)\n",
    "    f.write(str(p) + \"\\n\")  # \\n は改行制御文字です。出力時に改行を入れます。/ You can insert a new line with /n.\n",
    "f.close()\n"
   ]
  },
  {
   "cell_type": "markdown",
   "metadata": {
    "slideshow": {
     "slide_type": "skip"
    }
   },
   "source": [
    "<a id=\"print\"></a>"
   ]
  },
  {
   "cell_type": "markdown",
   "metadata": {
    "slideshow": {
     "slide_type": "subslide"
    }
   },
   "source": [
    "## print 文で結果を表示する / Display a result with `print`\n",
    "`.format` は、文字列の中に数字を埋め込んでprint文で表示させるのに使います。小数点以下何桁を表示するか、も指定できます。<br>\n",
    "You can embed a value in a string with print command by `.format`. You can also specify which decimal place to be displayed."
   ]
  },
  {
   "cell_type": "code",
   "execution_count": null,
   "metadata": {
    "slideshow": {
     "slide_type": "fragment"
    }
   },
   "outputs": [],
   "source": [
    "myvar = 2018\n",
    "print(\"This is the {}th year.\".format(myvar))\n",
    "\n",
    "# What will happen if you write it as follows??\n",
    "# myvar = 2018\n",
    "# print(\"This is the {:.3f}th year.\".format(myvar))\n",
    "\n",
    "myvar = 0.573668\n",
    "print(\"The probability to win this game is estimated to be {:.3f}.\".format(myvar))"
   ]
  },
  {
   "cell_type": "markdown",
   "metadata": {
    "slideshow": {
     "slide_type": "skip"
    }
   },
   "source": [
    "<a id=\"datatype\"></a>"
   ]
  },
  {
   "cell_type": "markdown",
   "metadata": {
    "slideshow": {
     "slide_type": "slide"
    }
   },
   "source": [
    "## Data type @ Pandas\n",
    "Pandas には、二種類のデータ型があります。<br>\n",
    "There are two types of data arrays.<br>\n",
    "\n",
    "* Series\n",
    "* DataFrame\n",
    "\n",
    "Pandasの練習用のファイルを用意しました。SeriesとDataFrameに慣れる練習に使ってください。<br>\n",
    "Here is the exercise ipynb file for Pandas. Please use it for practising Pandas.<br>\n",
    "[Pandas練習用ファイル/ Exercise for Pandas](Ex_Week0_Pandas.ipynb)<br>\n",
    "<br>\n",
    "\n",
    "[参考サイト：Pandasの基本的なデータ構造Seriesの基礎と活用方法](https://deepage.net/features/pandas-series.html)　説明が丁寧。自分で手を動かしながら学びやすい。<br>\n"
   ]
  },
  {
   "cell_type": "markdown",
   "metadata": {
    "slideshow": {
     "slide_type": "subslide"
    }
   },
   "source": [
    "他にも、検索するといろいろなサイトが出てきます。Pandasの基礎を見ておいてください。<br>\n",
    "There are many helpful websites on basics of Pandas. Please check the basics by yourself.<br>\n",
    "<br>\n",
    "[参考サイト：Pandas 基礎とよく使う機能メモ](https://qiita.com/ryo111/items/144446bedb9aa75b0acc)　コンパクトにまとまってる。<br>\n",
    "[参考サイト：pandas 入門 - pandasによるデータ処理の基礎](https://www.yunabe.jp/docs/pandas_basics.html)　説明が丁寧。<br>"
   ]
  },
  {
   "cell_type": "markdown",
   "metadata": {
    "slideshow": {
     "slide_type": "subslide"
    }
   },
   "source": [
    "### Series\n",
    "1次元データです。Seriesオブジェクトを作るには、Seriesを使います。<br>\n",
    "Series is a one dimensional array. Use Series to creat a Series object.<br>"
   ]
  },
  {
   "cell_type": "code",
   "execution_count": null,
   "metadata": {
    "slideshow": {
     "slide_type": "fragment"
    }
   },
   "outputs": [],
   "source": [
    "ser = pd.Series([90, 100, 80, 70])\n",
    "ser\n",
    "type(ser)"
   ]
  },
  {
   "cell_type": "markdown",
   "metadata": {
    "slideshow": {
     "slide_type": "skip"
    }
   },
   "source": [
    "<a id=\"DataFrame\"></a>"
   ]
  },
  {
   "cell_type": "markdown",
   "metadata": {
    "slideshow": {
     "slide_type": "subslide"
    }
   },
   "source": [
    "### DataFrame\n",
    "2次元データです。DataFrameオブジェクトを作るには、DataFrameを使います。<br>\n",
    "DataFrame is a two dimensional array. Use DataFrame to creat a DataFrame object.<br>"
   ]
  },
  {
   "cell_type": "code",
   "execution_count": null,
   "metadata": {
    "slideshow": {
     "slide_type": "fragment"
    }
   },
   "outputs": [],
   "source": [
    "suits = pd.DataFrame([[90, \"a\", 88],\n",
    "                  [100, \"b\", 95],\n",
    "                  [80, \"a\", 85],\n",
    "                  [70, \"c\", 80]])\n",
    "print(suits)\n",
    "type(suits)"
   ]
  },
  {
   "cell_type": "markdown",
   "metadata": {
    "slideshow": {
     "slide_type": "skip"
    }
   },
   "source": [
    "<a id=\"index\"></a>"
   ]
  },
  {
   "cell_type": "code",
   "execution_count": null,
   "metadata": {
    "slideshow": {
     "slide_type": "subslide"
    }
   },
   "outputs": [],
   "source": [
    "# .index: 行に名前を付ける\n",
    "# .index: you can name the index of each row.\n",
    "suits.index=[\"Harvey\", \"Mike\", \"Louis\", \"Harold\"]\n",
    "suits"
   ]
  },
  {
   "cell_type": "code",
   "execution_count": null,
   "metadata": {
    "slideshow": {
     "slide_type": "fragment"
    }
   },
   "outputs": [],
   "source": [
    "# .columns: 列に名前を付ける\n",
    "# .columns: you can name the index of each column.\n",
    "suits.columns=[\"Math\", \"Phys\", \"Biology\"]\n",
    "suits"
   ]
  },
  {
   "cell_type": "markdown",
   "metadata": {
    "slideshow": {
     "slide_type": "subslide"
    }
   },
   "source": [
    "## 要素を抽出 / Extract elements in a DataFrame array"
   ]
  },
  {
   "cell_type": "code",
   "execution_count": null,
   "metadata": {
    "slideshow": {
     "slide_type": "fragment"
    }
   },
   "outputs": [],
   "source": [
    "# Math の列を抽出 / Extract a column 'Math'.\n",
    "#print(suits['Math'])\n",
    "print(suits.Math) # This works as well.\n",
    "suits_Math = suits.Math\n"
   ]
  },
  {
   "cell_type": "code",
   "execution_count": null,
   "metadata": {
    "slideshow": {
     "slide_type": "fragment"
    }
   },
   "outputs": [],
   "source": [
    "# Biology の列を抽出してください。 / Please extract a column 'Biology'.\n",
    "\n"
   ]
  },
  {
   "cell_type": "code",
   "execution_count": null,
   "metadata": {
    "slideshow": {
     "slide_type": "subslide"
    }
   },
   "outputs": [],
   "source": [
    "# 複数列を抽出することもできます。/ Extract multiple columns.\n",
    "\n"
   ]
  },
  {
   "cell_type": "code",
   "execution_count": null,
   "metadata": {
    "slideshow": {
     "slide_type": "subslide"
    }
   },
   "outputs": [],
   "source": [
    "# \"Phys\" と \"Biology\"　の行を抽出してください。\n",
    "# Extract columns, \"Phys\" and \"Biology\".\n"
   ]
  },
  {
   "cell_type": "markdown",
   "metadata": {
    "slideshow": {
     "slide_type": "skip"
    }
   },
   "source": [
    "<a id=\"average\"></a>"
   ]
  },
  {
   "cell_type": "markdown",
   "metadata": {
    "slideshow": {
     "slide_type": "subslide"
    }
   },
   "source": [
    "## 平均値を計算する / Calculate average"
   ]
  },
  {
   "cell_type": "code",
   "execution_count": null,
   "metadata": {
    "slideshow": {
     "slide_type": "fragment"
    }
   },
   "outputs": [],
   "source": [
    "# .mean()\n",
    "# average of 'Math'\n",
    "\n"
   ]
  },
  {
   "cell_type": "code",
   "execution_count": null,
   "metadata": {
    "slideshow": {
     "slide_type": "fragment"
    }
   },
   "outputs": [],
   "source": [
    "# .std()\n",
    "# 'Biology'の平均を計算してください。\n",
    "# Calculate average of 'Biology'.\n"
   ]
  },
  {
   "cell_type": "markdown",
   "metadata": {},
   "source": [
    "<a id=\"extract\"></a>"
   ]
  },
  {
   "cell_type": "markdown",
   "metadata": {
    "slideshow": {
     "slide_type": "subslide"
    }
   },
   "source": [
    "## 条件を指定して抽出 / Extract columns or rows under a certain condition\n",
    "[参考サイト：条件を指定して行・列を取得する](https://pythondatascience.plavox.info/pandas/%E8%A1%8C%E3%83%BB%E5%88%97%E3%81%AE%E6%8A%BD%E5%87%BA)"
   ]
  },
  {
   "cell_type": "code",
   "execution_count": null,
   "metadata": {
    "slideshow": {
     "slide_type": "fragment"
    }
   },
   "outputs": [],
   "source": [
    "# 'Math'の点が80点以上の行を抽出してください。\n",
    "# Extract rows in which the score of 'Biology' is higher than 80.\n",
    "suits80 = suits[suits.Math >= 80]"
   ]
  },
  {
   "cell_type": "code",
   "execution_count": null,
   "metadata": {
    "slideshow": {
     "slide_type": "fragment"
    }
   },
   "outputs": [],
   "source": [
    "# 'Biology'の点が90点以上の行を抽出してください。\n",
    "# Extract rows in which the score of 'Biology' is higher than 90.\n",
    "\n"
   ]
  },
  {
   "cell_type": "markdown",
   "metadata": {
    "slideshow": {
     "slide_type": "subslide"
    }
   },
   "source": [
    "## `isin`関数を使うと、特定の要素を含む行を抽出できます。\n",
    "## You can extract specific rows by using `isin` function\n",
    "\n",
    "[Python pandas データ選択処理をちょっと詳しく<中編>](http://sinhrks.hatenablog.com/entry/2014/11/15/230705)<br>\n",
    "[ISIN @ qiita](https://qiita.com/pandaLA/items/cdad58a1c58fde230de5)<br>\n",
    "[isin @ Pandas documentation](https://pandas.pydata.org/pandas-docs/stable/reference/api/pandas.DataFrame.isin.html)"
   ]
  },
  {
   "cell_type": "code",
   "execution_count": null,
   "metadata": {
    "slideshow": {
     "slide_type": "fragment"
    }
   },
   "outputs": [],
   "source": [
    "print(suits)\n",
    "\n",
    "# \"Phys\" 列に \"a\" を値に持つ行を抽出 / Extract rows that have 'a'.\n",
    "suits2 = suits[suits['Phys'].isin(['a'])]\n",
    "print(suits2)"
   ]
  },
  {
   "cell_type": "markdown",
   "metadata": {},
   "source": [
    "<a id=\"readcsv\"></a>"
   ]
  },
  {
   "cell_type": "markdown",
   "metadata": {
    "slideshow": {
     "slide_type": "subslide"
    }
   },
   "source": [
    "## CSVデータを読み込む / Read a CSV data file\n",
    "CSV形式のファイルをPandasで読み込むと、`DataFrame`で扱われます。<br>\n",
    "When a data set is imported from a CSV file with Pandas, the data array was handled as `DataFrame` type.<br>\n",
    "<br>\n",
    "[CSVをDataFrameとして読み込む](https://note.nkmk.me/python-pandas-read-csv-tsv/)"
   ]
  },
  {
   "cell_type": "code",
   "execution_count": null,
   "metadata": {
    "slideshow": {
     "slide_type": "fragment"
    }
   },
   "outputs": [],
   "source": [
    "student_data_math = pd.read_csv('data/w2_student-mat.csv')"
   ]
  },
  {
   "cell_type": "markdown",
   "metadata": {},
   "source": [
    "<a id=\"type\"></a>"
   ]
  },
  {
   "cell_type": "markdown",
   "metadata": {
    "slideshow": {
     "slide_type": "fragment"
    }
   },
   "source": [
    "## データの型を確認する / Check the type of variable.\n",
    "student_data_math のデータ型を確認してみましょう。<br>\n",
    "Let's check the data type of student_data_math."
   ]
  },
  {
   "cell_type": "code",
   "execution_count": null,
   "metadata": {
    "slideshow": {
     "slide_type": "fragment"
    }
   },
   "outputs": [],
   "source": [
    "type(student_data_math)"
   ]
  },
  {
   "cell_type": "markdown",
   "metadata": {
    "slideshow": {
     "slide_type": "skip"
    }
   },
   "source": [
    "<a id=\"head\"></a>"
   ]
  },
  {
   "cell_type": "markdown",
   "metadata": {
    "slideshow": {
     "slide_type": "subslide"
    }
   },
   "source": [
    "## よく使う関数 1: head() @ Pandas\n",
    "## Useful function 1: head() @ Pandas\n",
    "`head()`を使ってデータを確認する。Pandasの`DataFrame`や`Series`型のデータの先頭の5行分のデータを抜き出します。<br>\n",
    "[HEAD @ Ex_Week0_Pandas.ipynb](Ex_Week0_Pandas.ipynb#head)<br>\n",
    "[Pandas入門 head @ crieit.net](https://crieit.net/posts/pandas-head)<br>\n",
    "<br>\n",
    "Check the data with .head command`head()` which displays the first 5 lines of an array with data type of Pandas' `DataFrame` or `Series`.<br>\n",
    "[head @ Pandas.pydata.org](https://pandas.pydata.org/pandas-docs/stable/reference/api/pandas.DataFrame.head.html)"
   ]
  },
  {
   "cell_type": "code",
   "execution_count": null,
   "metadata": {
    "slideshow": {
     "slide_type": "subslide"
    }
   },
   "outputs": [],
   "source": [
    "student_data_math.head()"
   ]
  },
  {
   "cell_type": "markdown",
   "metadata": {
    "slideshow": {
     "slide_type": "subslide"
    }
   },
   "source": [
    "任意の数を表示させる場合は、`df.head(100)`などのように引数を渡します。<br>\n",
    "先頭から10行のデータを抜き出してみましょう。<br>\n",
    "<br>\n",
    "You can display the first n lines with the command .head(n).<br>\n",
    "The default number of lines is 5.<br>\n",
    "Let's display the first 10 lines of the data file.<br>"
   ]
  },
  {
   "cell_type": "code",
   "execution_count": null,
   "metadata": {
    "slideshow": {
     "slide_type": "subslide"
    }
   },
   "outputs": [],
   "source": [
    "# Please display the first 10 lines of the array, student_data_math.\n",
    "student_data_math.head(3)"
   ]
  },
  {
   "cell_type": "markdown",
   "metadata": {
    "slideshow": {
     "slide_type": "subslide"
    }
   },
   "source": [
    "CSVのデータの区切り文字は、デフォルトでは「,」です。<br>\n",
    "よくデータを見てみると、データの区切り文字は「;」（セミコロン）となっています。<br>\n",
    "区切り文字を変えるには、read＿csvのバラメータとして「sep='区切り文字'」を指定します。<br>\n",
    "<br>\n",
    "Default delimiter of CSV files is \",\".<br>\n",
    "But in this data, the delimiter is \";\". <br>\n",
    "You can specify a delimiter with \"sep=';' as an option of import command, read_csv.\n"
   ]
  },
  {
   "cell_type": "code",
   "execution_count": null,
   "metadata": {
    "slideshow": {
     "slide_type": "subslide"
    }
   },
   "outputs": [],
   "source": [
    "# データの読み込み / Read data\n",
    "# 区切りに\";\"がついているので注意する。区切り文字にセミコロンを指定する。\n",
    "# Please note that there are delimiter, \";\", between the items in the data file.\n",
    "student_data_math = pd.read_csv('data/w2_student-mat.csv', sep=';')"
   ]
  },
  {
   "cell_type": "markdown",
   "metadata": {
    "slideshow": {
     "slide_type": "subslide"
    }
   },
   "source": [
    "もう一度データを確認します。/ Check the data."
   ]
  },
  {
   "cell_type": "code",
   "execution_count": null,
   "metadata": {
    "slideshow": {
     "slide_type": "fragment"
    }
   },
   "outputs": [],
   "source": [
    "# 最初の5行を表示する。 / Take a look at the data with .head().\n"
   ]
  },
  {
   "cell_type": "markdown",
   "metadata": {
    "slideshow": {
     "slide_type": "skip"
    }
   },
   "source": [
    "<a id=\"tail\"></a>"
   ]
  },
  {
   "cell_type": "markdown",
   "metadata": {
    "slideshow": {
     "slide_type": "subslide"
    }
   },
   "source": [
    "## よく使う関数 2: tail() @ Pandas\n",
    "## Useful function 2: tail() @ Pandas\n",
    "末尾からデータを取り出すには、`tail()`を使います。<br>\n",
    "[TAIL @ Ex_Week0_Pandas.ipynb](Ex_Week0_Pandas.ipynb#tail)<br>\n",
    "[Pandas入門 tail @ crieit.net](https://crieit.net/posts/pandas-tail)<br>\n",
    "You can display the last 5 lines of the data file with `tail()`.<br>\n",
    "[tail @ Pandas.pydata.org](https://pandas.pydata.org/pandas-docs/stable/reference/api/pandas.DataFrame.tail.html)"
   ]
  },
  {
   "cell_type": "code",
   "execution_count": null,
   "metadata": {
    "slideshow": {
     "slide_type": "subslide"
    }
   },
   "outputs": [],
   "source": [
    "# student_data_mathの下から10行分のデータを抜き出してみましょう / Let's display the last 10 lines of student_data_math.\n"
   ]
  },
  {
   "cell_type": "markdown",
   "metadata": {
    "slideshow": {
     "slide_type": "skip"
    }
   },
   "source": [
    "<a id=\"shape\"></a>"
   ]
  },
  {
   "cell_type": "markdown",
   "metadata": {
    "slideshow": {
     "slide_type": "subslide"
    }
   },
   "source": [
    "## よく使う関数 3: shape / size / len @ Pandas\n",
    "## Useful function 3: shape / size / len @ Pandas\n",
    "\n",
    "[SHAPE @ Ex_Week0_Pandas.ipynb](Ex_Week0_Pandas.ipynb#shape)<br>\n",
    "\n",
    "例えば、df という配列に対して、以下の関数を用いて、配列の行数を列数を調べることができます。<br>\n",
    "データを処理するときに、いくつのデータがあるか調べるために、よく使います。<br>\n",
    "For example, you can apply the following functions to an array, df, to know the number of rows and columns.<br>\n",
    "To analyze data, we often use these functions to know how many items, customers, or baskets, in an array.<br>\n",
    "* 行数を調べる / Get the number of rows: `len(df)`\n",
    "* 列数を調べる / Get the number of columns: `len(df.columns)`\n",
    "* 行数と列数を調べる / Get the number of rows and columns: `df.shape`\n",
    "* 要素数を調べる / Get the number of elements: `df.size`\n"
   ]
  },
  {
   "cell_type": "markdown",
   "metadata": {
    "slideshow": {
     "slide_type": "subslide"
    }
   },
   "source": [
    "`print`などと併せると効果的です。<br>\n",
    "student_data_math　は何人分のデータが含まれているでしょうか?？<br>\n",
    "<br>\n",
    "It is helpful to use it with `print` command.<br>\n",
    "How many student's data is included in the data file \"student_data_math\"??"
   ]
  },
  {
   "cell_type": "code",
   "execution_count": null,
   "metadata": {
    "slideshow": {
     "slide_type": "subslide"
    }
   },
   "outputs": [],
   "source": [
    "# student_data_math\n",
    "# len(df)\n",
    "\n",
    "\n",
    "# len(df.columns)\n",
    "\n",
    "\n",
    "# df.shape\n",
    "\n",
    "\n",
    "# df.size\n",
    "\n"
   ]
  },
  {
   "cell_type": "markdown",
   "metadata": {
    "slideshow": {
     "slide_type": "subslide"
    }
   },
   "source": [
    "** データの属性説明 **\n",
    "\n",
    "1 school - 学校（binary: \"GP\" - Gabriel Pereira or \"MS\" - Mousinho da Silveira）<br>\n",
    "2 sex - 性（binary: \"F\" - female or \"M\" - male）<br>\n",
    "3 age - 年齢（numeric: from 15 to 22）<br>\n",
    "4 address - 住所のタイプ / Type of the residence（binary: \"U\" - urban or \"R\" - rural）<br>\n",
    "5 famsize - 家族の人数 / Number of family members（binary: \"LE3\" - less or equal to 3 or \"GT3\" - greater than 3）<br>\n",
    "6 Pstatus - 両親と同居しているかどうか / Live with their parents or not（binary: \"T\" - living together or \"A\" - apart）<br>\n",
    "7 Medu - 母親の学歴 / Education of their mother（numeric: 0 - none,  1 - primary education（4th grade）, 2 ? 5th to 9th grade, 3 ? secondary education or 4 ? higher education）<br>\n",
    "8 Fedu - 父親の学歴 / Education of their father（numeric: 0 - none,  1 - primary education（4th grade）, 2 ? 5th to 9th grade, 3 ? secondary education or 4 ? higher education）<br>\n",
    "9 Mjob - 母親の仕事 / Profession of their mother（nominal: \"teacher\", \"health\" care related, civil \"services\"（e.g. administrative or police）, \"at_home\" or \"other\"）<br>\n",
    "10 Fjob - 父親の仕事 / Profession of their mother（nominal: \"teacher\", \"health\" care related, civil \"services\"（e.g. administrative or police）, \"at_home\" or \"other\"）<br>\n",
    "11 reason - 学校を選んだ理由 / Reason to choose the school（nominal: close to \"home\", school \"reputation\", \"course\" preference or \"other\"）<br>\n",
    "12 guardian - 生徒の保護者 / Guardian（nominal: \"mother\", \"father\" or \"other\"）<br>\n",
    "13 traveltime - 通学時間 / Commuting time（numeric: 1 - <15 min., 2 - 15 to 30 min., 3 - 30 min. to 1 hour, or 4 - >1 hour）<br>\n",
    "14 studytime - 週の勉強時間 / How many hours of study in a week（numeric: 1 - <2 hours, 2 - 2 to 5 hours, 3 - 5 to 10 hours, or 4 - >10 hours）<br>\n",
    "15 failures - 過去の落第回数 / How many failures（numeric: n if 1<=n<3, else 4）<br>\n",
    "16 schoolsup - 追加の教育サポート / Additional education support（binary: yes or no）<br>\n",
    "17 famsup - 家族の教育サポート / Education support by their family （binary: yes or no）<br>\n",
    "18 paid - 追加の有料クラス（Math or Portuguese）/ Additional class charged（binary: yes or no）<br>\n",
    "19 activities - 学校外の活動 / Extra activity out of school（binary: yes or no）<br>\n",
    "20 nursery - 保育園に通ったことがあるかどうか / Have they been to nursing day care?（binary: yes or no）<br>\n",
    "21 higher - 高い教育を受けたいかどうか / Want to have higher education（binary: yes or no）<br>\n",
    "22 internet - 家でインターネットのアクセスができるかどうか / Have internet access?（binary: yes or no）<br>\n",
    "23 romantic - 恋愛関係 / Have steady partners?（binary: yes or no）<br>\n",
    "24 famrel - 家族との関係性 / Relation with their family（numeric: from 1 - very bad to 5 - excellent）<br>\n",
    "25 freetime - 学校後の自由時間 / Free time after school（numeric: from 1 - very low to 5 - very high）<br>\n",
    "26 goout - 友人と遊ぶかどうか / Hang around with friends?（numeric: from 1 - very low to 5 - very high）<br>\n",
    "27 Dalc - 平日のアルコール摂取量 / Alchol intake during weekdays（numeric: from 1 - very low to 5 - very high）<br>\n",
    "28 Walc - 週末のアルコール摂取量 / Alchol intake during weekends（numeric: from 1 - very low to 5 - very high）<br>\n",
    "29 health - 現在の健康状態 / Current health condition（numeric: from 1 - very bad to 5 - very good）<br>\n",
    "30 absences - 学校の欠席数 / Number of absences（numeric: from 0 to 93）<br>\n",
    "31 G1 - 一期の成績 / Grade in the first semester（numeric: from 0 to 20）<br>\n",
    "31 G2 - 二期の成績 / Grade in the second semester（numeric: from 0 to 20）<br>\n",
    "32 G3 - 最終の成績 / Grade throughout the year（numeric: from 0 to 20, output target）"
   ]
  },
  {
   "cell_type": "code",
   "execution_count": null,
   "metadata": {
    "slideshow": {
     "slide_type": "subslide"
    }
   },
   "outputs": [],
   "source": [
    "# すべてのカラムの情報等チェック / Check the information of all of the columns\n",
    "student_data_math.info()"
   ]
  },
  {
   "cell_type": "markdown",
   "metadata": {
    "slideshow": {
     "slide_type": "subslide"
    }
   },
   "source": [
    "`mean()` を使って、年齢の平均値を出す / Calclate the average age of the students with 'mean()'."
   ]
  },
  {
   "cell_type": "code",
   "execution_count": null,
   "metadata": {
    "slideshow": {
     "slide_type": "fragment"
    }
   },
   "outputs": [],
   "source": [
    "# 全員分の年齢: student_data_math['age']\n",
    "\n",
    "\n",
    "# 男性の年齢の平均値 -> 男性のデータを抽出してから平均値を計算\n",
    "# Extract male data, then calculate the average\n",
    "\n"
   ]
  },
  {
   "cell_type": "markdown",
   "metadata": {
    "slideshow": {
     "slide_type": "subslide"
    }
   },
   "source": [
    "`mean()` を使って、欠席数の平均値を出す / Calclate the average number of absences of the students with 'mean()'."
   ]
  },
  {
   "cell_type": "code",
   "execution_count": null,
   "metadata": {
    "slideshow": {
     "slide_type": "fragment"
    }
   },
   "outputs": [],
   "source": [
    "# 欠席数 (Number of absences): student_data_math['absences']\n",
    "\n"
   ]
  },
  {
   "cell_type": "markdown",
   "metadata": {
    "slideshow": {
     "slide_type": "skip"
    }
   },
   "source": [
    "<a id=\"groupby\"></a>"
   ]
  },
  {
   "cell_type": "markdown",
   "metadata": {
    "slideshow": {
     "slide_type": "subslide"
    }
   },
   "source": [
    "## よく使う関数 4: groupby @ Pandas\n",
    "## Useful function 4: groupby @ Pandas\n",
    "[groupby @ Ex_Week0_Pandas.ipynb](Ex_Week0_Pandas.ipynb#groupby)<br>\n",
    "<br>\n",
    "`groupby()` 使って、グループ分けしてから平均値を出す<br>\n",
    "Classify the data with a certain condition, then calculate the average age of each group.<br>\n",
    "[参考サイト：Pandasのgroupbyを使った要素をグループ化して処理をする方法](https://deepage.net/features/pandas-groupby.html)"
   ]
  },
  {
   "cell_type": "code",
   "execution_count": null,
   "metadata": {
    "slideshow": {
     "slide_type": "subslide"
    }
   },
   "outputs": [],
   "source": [
    "# Classify elements\n",
    "student_data_math_group = student_data_math.groupby('sex')\n",
    "type(student_data_math_group)\n"
   ]
  },
  {
   "cell_type": "markdown",
   "metadata": {},
   "source": [
    "### 女性のデータだけ抽出してみましょう。 / Extract female data."
   ]
  },
  {
   "cell_type": "code",
   "execution_count": null,
   "metadata": {},
   "outputs": [],
   "source": [
    "# Extract the rows which have \"F\" in the column \"sex\".\n",
    "Math_F = student_data_math_group.get_group('F')\n",
    "Math_F.head()"
   ]
  },
  {
   "cell_type": "markdown",
   "metadata": {
    "slideshow": {
     "slide_type": "subslide"
    }
   },
   "source": [
    "年齢の平均値を、性別ごとに平均値を出す。 / Calculate the averages of the age of the students by sex."
   ]
  },
  {
   "cell_type": "code",
   "execution_count": null,
   "metadata": {
    "slideshow": {
     "slide_type": "fragment"
    }
   },
   "outputs": [],
   "source": [
    "student_data_math.groupby('sex').mean()"
   ]
  },
  {
   "cell_type": "code",
   "execution_count": null,
   "metadata": {
    "slideshow": {
     "slide_type": "fragment"
    }
   },
   "outputs": [],
   "source": [
    "student_data_math_group = student_data_math.groupby('age')\n",
    "\n",
    "student_data_math_group['G3'].mean()\n",
    "\n",
    "# This works in a same way.\n",
    "student_data_math.groupby('age')['G3'].mean()\n"
   ]
  },
  {
   "cell_type": "markdown",
   "metadata": {
    "slideshow": {
     "slide_type": "subslide"
    }
   },
   "source": [
    "最終の成績 G3 を、性別ごとに平均値を出してください。<br>\n",
    "Please calculate the average of the final score by sex."
   ]
  },
  {
   "cell_type": "code",
   "execution_count": null,
   "metadata": {
    "slideshow": {
     "slide_type": "fragment"
    }
   },
   "outputs": [],
   "source": [
    "\n"
   ]
  },
  {
   "cell_type": "markdown",
   "metadata": {},
   "source": [
    "<a id=\"drop\"></a>"
   ]
  },
  {
   "cell_type": "markdown",
   "metadata": {},
   "source": [
    "## よく使う関数 5: drop @ Pandas\n",
    "Useful function 5: drop @ Pandas\n",
    "\n",
    "famrel の列を削除する。<br>\n",
    "列を削除するときは、オプションaxis=1を付ける。デフォルトはaxis=0で行を削除する。<br>\n",
    "もともとのDataFrameに削除した結果を反映させるには、オプション inplace=True を付ける。<br>\n",
    "[Remove columns: drop](https://note.nkmk.me/python-pandas-drop/)"
   ]
  },
  {
   "cell_type": "code",
   "execution_count": null,
   "metadata": {},
   "outputs": [],
   "source": [
    "# Delete a column with an option, axis=1.\n",
    "# With an option inplace, you can replace the output result with the original DataFrame.\n",
    "student_data_math.drop('famrel', axis=1, inplace=True)"
   ]
  },
  {
   "cell_type": "code",
   "execution_count": null,
   "metadata": {},
   "outputs": [],
   "source": [
    "# Delete a row with an option, axis=0 (by default).\n",
    "student_data_math.drop(2, axis=0, inplace=True)"
   ]
  },
  {
   "cell_type": "code",
   "execution_count": null,
   "metadata": {},
   "outputs": [],
   "source": [
    "# headで確認\n"
   ]
  },
  {
   "cell_type": "markdown",
   "metadata": {
    "slideshow": {
     "slide_type": "skip"
    }
   },
   "source": [
    "<a id=\"extract\"></a>"
   ]
  },
  {
   "cell_type": "markdown",
   "metadata": {
    "slideshow": {
     "slide_type": "subslide"
    }
   },
   "source": [
    "## データを抽出 / Extract data as a list"
   ]
  },
  {
   "cell_type": "code",
   "execution_count": null,
   "metadata": {
    "slideshow": {
     "slide_type": "subslide"
    }
   },
   "outputs": [],
   "source": [
    "# 女子学生の最終スコア(G3)を抽出してみよう。/ Extract G3 of the female students.\n",
    "score_fg3 = list(student_data_math[student_data_math['sex']=='F'].G3)\n",
    "print(score_fg3)\n",
    "\n",
    "# 女子学生の人数はいくら? / How many female students?\n",
    "print(len(score_fg3))\n",
    "\n",
    "# 女子学生の最終成績を計算してみよう。 / Calculate the mean score of the female students.\n",
    "# student_data_math.groupby('sex')['G3'].mean()　で得られた結果と同じになりましたか??\n",
    "# Is it same with the result obtained with 'student_data_math.groupby('sex')['G3'].mean()'??\n",
    "sum(score_fg3)/len(score_fg3)\n"
   ]
  },
  {
   "cell_type": "code",
   "execution_count": null,
   "metadata": {
    "slideshow": {
     "slide_type": "subslide"
    }
   },
   "outputs": [],
   "source": [
    "# 同じことを男子学生に対してやってみよう。/ Obtain the mean score of the male students as you did for the female students.\n",
    "# 男子学生の最終スコア(G3)を抽出してみよう。/ Extract G3 of the male students.\n",
    "score_mg3 = list(student_data_math[student_data_math['sex']=='M'].G3)\n",
    "print(score_mg3)\n",
    "\n",
    "# 男子学生の人数はいくら? / How many male students?\n",
    "print(len(score_mg3))\n",
    "\n",
    "# 男子学生の最終成績を計算してみよう。 / Calculate the mean score of the female students.\n",
    "# Is it same with the result obtained with 'student_data_math.groupby('sex')['G3'].mean()'??\n",
    "sum(score_mg3)/len(score_mg3)\n"
   ]
  },
  {
   "cell_type": "markdown",
   "metadata": {},
   "source": [
    "### 行を抽出するために、複数条件を課すこともあります。\n",
    "[参考サイト：pandasで複数条件のAND, OR, NOTから行を抽出（選択）](https://note.nkmk.me/python-pandas-multiple-conditions/)"
   ]
  },
  {
   "cell_type": "code",
   "execution_count": null,
   "metadata": {
    "slideshow": {
     "slide_type": "subslide"
    }
   },
   "outputs": [],
   "source": [
    "# 最終成績'G3'の男子学生の平均値より点の高い男子学生のデータ行を抽出してください。\n",
    "# Please extract the rows of male students' data which have 'G3' score highter than the 'G3' average of male students.\n",
    "G3_mean = student_data_math.groupby('sex')['G3'].mean()\n",
    "print(G3_mean.F)\n",
    "#type(G3_mean)\n",
    "\n",
    "G3_mean_M = G3_mean.M\n",
    "print(type(G3_mean_M))"
   ]
  },
  {
   "cell_type": "code",
   "execution_count": null,
   "metadata": {},
   "outputs": [],
   "source": [
    "# (student_data_math['sex']=='M') & (student_data_math.G3>=G3_mean_M) \n",
    "student_data_math[(student_data_math['sex']=='M') & (student_data_math.G3>=G3_mean_M) ]"
   ]
  },
  {
   "cell_type": "markdown",
   "metadata": {
    "slideshow": {
     "slide_type": "skip"
    }
   },
   "source": [
    "<a id=\"set\"></a>"
   ]
  },
  {
   "cell_type": "markdown",
   "metadata": {
    "slideshow": {
     "slide_type": "slide"
    }
   },
   "source": [
    "## **集合型 / Sets**\n",
    "もっともよく使う配列の型は、リスト型だと思います。<br>\n",
    "リスト型は、複数の値を格納し、要素はインデックスによって、順番が決まっています。<br>\n",
    "要素に入れる値は、何が入ってもいいので、同じ値が何回も入ることもあります。<br>\n",
    "[【Python入門】listの使い方とメソッドまとめ](https://www.sejuku.net/blog/2363)<br>\n",
    "<br>\n",
    "set型も同じく複数の値を格納できる型ですが、リスト型とは以下のような違いがあります。\n",
    "* 重複した要素がない\n",
    "* 要素に順番がない\n",
    "\n",
    "つまり、集合を扱うための型です。<br>\n",
    "集合型は、集合を扱うので、同じ要素が重複することができません。<br>\n",
    "\n",
    "集合型に関する参考サイト\n",
    "* [【Python入門】すぐわかる！set型（集合型）の基本まとめ](https://www.sejuku.net/blog/21923)\n",
    "* [リスト-集合型の相互変換](https://www.headboost.jp/python-converting-set-and-list/)\n"
   ]
  },
  {
   "cell_type": "markdown",
   "metadata": {
    "slideshow": {
     "slide_type": "subslide"
    }
   },
   "source": [
    "One of the most useful type of arrays is list type.<br>\n",
    "A list can store multiple values with indices.<br>\n",
    "You can put any values. The values can be identical.<br>\n",
    "<br>\n",
    "On the other hand, a set is **unordered** collection of **unique** elements.<br>\n",
    "The important differences between lists and sets are as follows.<br>\n",
    "* Elements are UNIQUE.\n",
    "* Elements don't have indices.\n",
    "\n",
    "For more details on sets, check the following lins.\n",
    "* [Sets @ Python documentation](https://docs.python.org/2/library/sets.html)\n",
    "* [Python Sets @ w3schools.com](https://www.w3schools.com/python/python_sets.asp)"
   ]
  },
  {
   "cell_type": "markdown",
   "metadata": {},
   "source": [
    "<a id=\"set_func\"></a>"
   ]
  },
  {
   "cell_type": "code",
   "execution_count": null,
   "metadata": {
    "slideshow": {
     "slide_type": "subslide"
    }
   },
   "outputs": [],
   "source": [
    "# 集合型の配列を作ってみましょう。/ Define a set with some integers.\n",
    "# set の引数に、重複した数字がありますね。/ Please note that there are 1, 2, and 3 exist twice in an input of the function set.\n",
    "# 出力では重複がなくっています。/ By printing the elements of myset, you can see that there are only three elements, instead of 6.\n",
    "myset = set([1,2,3,3,2,1])\n",
    "print(myset)"
   ]
  },
  {
   "cell_type": "code",
   "execution_count": null,
   "metadata": {
    "slideshow": {
     "slide_type": "fragment"
    }
   },
   "outputs": [],
   "source": [
    "# myset をリスト型に変換してみましょう。 / Convert myset to list type.\n",
    "mylist = list(myset)\n",
    "print(mylist)\n",
    "\n",
    "mylist = list([1,2,3,3,2,1])\n",
    "print(mylist)\n",
    "print(len(mylist))\n"
   ]
  },
  {
   "cell_type": "code",
   "execution_count": null,
   "metadata": {
    "slideshow": {
     "slide_type": "fragment"
    }
   },
   "outputs": [],
   "source": [
    "myset = set(mylist)\n",
    "print(myset)\n",
    "print(len(myset))\n",
    "\n",
    "# リスト型だと6つあった要素が、集合型に変換したら、要素数が3つになりました。\n",
    "# 要素の重複が許されないためですね。\n",
    "# There are 6 elements in mylist, but after converting mylist to set type, \n",
    "# myset has only 3 elements because the overlap of elements is not allowed."
   ]
  },
  {
   "cell_type": "markdown",
   "metadata": {
    "slideshow": {
     "slide_type": "skip"
    }
   },
   "source": [
    "<a id=\"setope\"></a>"
   ]
  },
  {
   "cell_type": "markdown",
   "metadata": {
    "slideshow": {
     "slide_type": "subslide"
    }
   },
   "source": [
    "### **集合の演算 / Set operations**\n",
    "集合の演算は、和・差・積などがありますが、マーケットバスケット分析の授業では主に積を使います。<br>\n",
    "主な集合演算は、下の表をご覧ください。<br>\n",
    "[【Python入門】すぐわかる！set型（集合型）の基本まとめ](https://www.sejuku.net/blog/21923)<br>\n",
    "<br>\n",
    "There are mainly three types of set operations, union, intersection, and difference.<br>\n",
    "For Market Basket Analysis in Week 3, we mainly use intersection.<br>\n",
    "The various types of set operations are listed below.<br>\n",
    "Please take a look at the following website for more detail on set operations.<br>\n",
    "[Set operations @ OnlineMathLearning.com](https://www.onlinemathlearning.com/union-set.html)<br>\n"
   ]
  },
  {
   "cell_type": "markdown",
   "metadata": {
    "slideshow": {
     "slide_type": "subslide"
    }
   },
   "source": [
    "\n",
    "\n",
    "|  Function  |  Alternative syntax  | Description |\n",
    "| ---- | ---- | ---- |\n",
    "|  a.add(x) | ---- | Add element x to the set a  |\n",
    "|  a.clear() | ---- | Reset the set a to an empty state, discarding all of the elements  |\n",
    "|  a.remove(x) | ---- | Remove element x from the set a |\n",
    "|  a.pop(x) | ---- | Remove an arbitrary element from the set a |\n",
    "|  a.union(b) | $$ a | b $$ | All of the unique elements in the sets a and b |\n",
    "|  a.update(b) | $$ a |= b $$ | Set the contents of a to be the union of the elements in a and b|\n",
    "|  a.intersection(b) | $$ a \\& b $$ | All of the unique elements both in the sets a and b |\n",
    "|  a.intersection_update(b) | $$ a \\&= b $$ | Set the contents of a to be the intersection of the sets a and b |\n",
    "|  a.difference(b) | $$ a - b $$ | The elements in a that are not in b |\n",
    "|  a.difference_update(b) | $$ a -= b $$ | Set a to the elements in a that are not in b|\n",
    "|  a.symmetric_difference(b) | $$ a \\hat{} b $$ | All of the elements in either a or b but not in both |\n",
    "|  a.symmetric_difference_update(b) | $$ a \\hat{} = b $$ | Set a to the elements in either a and b but not in both|\n"
   ]
  },
  {
   "cell_type": "markdown",
   "metadata": {
    "slideshow": {
     "slide_type": "skip"
    }
   },
   "source": [
    "<a id=\"setuni\"></a>"
   ]
  },
  {
   "cell_type": "markdown",
   "metadata": {
    "slideshow": {
     "slide_type": "subslide"
    }
   },
   "source": [
    "#### 集合の和 / set operation UNION\n",
    "AかBに属する要素すべて(重複なし)<br>\n",
    "All of the unique elements in the sets either A or B.<br>\n",
    "<img src=\"img/w2_union.png\" width=20%>"
   ]
  },
  {
   "cell_type": "code",
   "execution_count": null,
   "metadata": {
    "slideshow": {
     "slide_type": "subslide"
    }
   },
   "outputs": [],
   "source": [
    "a = {1, 2, 3, 4, 5}\n",
    "b = {3, 4, 5, 6, 7}\n",
    "\n",
    "print(a.union(b))\n",
    "print(a | b)"
   ]
  },
  {
   "cell_type": "code",
   "execution_count": null,
   "metadata": {
    "slideshow": {
     "slide_type": "fragment"
    }
   },
   "outputs": [],
   "source": [
    "a = {'fukuoka', 'oita', 'saga', 'nagasaki'}\n",
    "b = {'kumamoto', 'nagasaki', 'kagoshima'}\n",
    "c = ('fukuoka','miyazaki','kagoshima')\n",
    "\n",
    "print(a.union(b))\n",
    "print(b.union(c))"
   ]
  },
  {
   "cell_type": "code",
   "execution_count": null,
   "metadata": {
    "slideshow": {
     "slide_type": "subslide"
    }
   },
   "outputs": [],
   "source": [
    "# 自分で好きな集合を2つ作って、試してみましょう。文字列も集合の要素になることができます。\n",
    "# Please define two sets with any elements you like. The elements can be strings, not necessarily integers.\n",
    "\n",
    "myset1 = {'ringo', 'mikan', 'banana'}\n",
    "myset2 = {'baseball', 'basketball', 'mikan'}\n",
    "\n",
    "# 集合の和を計算してみましょう。/ Please carry out an operation of union of these sets.\n",
    "print(myset1.union(myset2))\n",
    "print(myset2.union(myset1))\n"
   ]
  },
  {
   "cell_type": "markdown",
   "metadata": {
    "slideshow": {
     "slide_type": "skip"
    }
   },
   "source": [
    "<a id=\"setinsec\"></a>"
   ]
  },
  {
   "cell_type": "markdown",
   "metadata": {
    "slideshow": {
     "slide_type": "subslide"
    }
   },
   "source": [
    "#### **集合の積 / set operation INTERSECTION**\n",
    "集合AとBの両方に属する要素すべて<br>\n",
    "All of the unique elements both in the sets A and B<br>\n",
    "<img src=\"img/w2_intersection.png\" width=20%>"
   ]
  },
  {
   "cell_type": "code",
   "execution_count": 2,
   "metadata": {
    "slideshow": {
     "slide_type": "subslide"
    }
   },
   "outputs": [
    {
     "name": "stdout",
     "output_type": "stream",
     "text": [
      "{3, 4, 5}\n",
      "{3, 4, 5}\n"
     ]
    }
   ],
   "source": [
    "a = {1, 2, 3, 4, 5}\n",
    "b = {3, 4, 5, 6, 7}\n",
    "\n",
    "print(a.intersection(b))\n",
    "print(a & b)"
   ]
  },
  {
   "cell_type": "code",
   "execution_count": 3,
   "metadata": {
    "slideshow": {
     "slide_type": "fragment"
    }
   },
   "outputs": [
    {
     "name": "stdout",
     "output_type": "stream",
     "text": [
      "{'nagasaki'}\n",
      "{'fukuoka'}\n"
     ]
    }
   ],
   "source": [
    "a = {'fukuoka', 'oita', 'saga', 'nagasaki'}\n",
    "b = {'kumamoto', 'nagasaki', 'kagoshima'}\n",
    "c = ('fukuoka','miyazaki','kagoshima')\n",
    "\n",
    "print(a.intersection(b))\n",
    "print(a.intersection(c))"
   ]
  },
  {
   "cell_type": "code",
   "execution_count": 4,
   "metadata": {
    "slideshow": {
     "slide_type": "subslide"
    }
   },
   "outputs": [
    {
     "name": "stdout",
     "output_type": "stream",
     "text": [
      "{'mikan'}\n"
     ]
    }
   ],
   "source": [
    "# 自分で好きな集合を2つ作って、試してみましょう。文字列も集合の要素になることができます。\n",
    "# Please define two sets with any elements you like. The elements can be strings, not necessarily integers.\n",
    "\n",
    "myset1 = {'ringo', 'mikan', 'banana'}\n",
    "myset2 = {'baseball', 'basketball', 'mikan'}\n",
    "\n",
    "# 集合の積を計算してみましょう。/ Please carry out an operation of intersection of these sets.\n",
    "print(myset2.intersection(myset1))\n"
   ]
  },
  {
   "cell_type": "markdown",
   "metadata": {
    "slideshow": {
     "slide_type": "skip"
    }
   },
   "source": [
    "<a id=\"setdiff\"></a>"
   ]
  },
  {
   "cell_type": "markdown",
   "metadata": {
    "slideshow": {
     "slide_type": "subslide"
    }
   },
   "source": [
    "#### **集合の差 / set operation DIFFERENCE**\n",
    "Aに属する要素のうち、Bに属さない要素すべて。<br>\n",
    "The elements in A that are not in B<br>\n",
    "<img src=\"img/w2_difference.png\" width=20%>"
   ]
  },
  {
   "cell_type": "code",
   "execution_count": 5,
   "metadata": {
    "slideshow": {
     "slide_type": "subslide"
    }
   },
   "outputs": [
    {
     "name": "stdout",
     "output_type": "stream",
     "text": [
      "{1, 2}\n",
      "{1, 2}\n"
     ]
    }
   ],
   "source": [
    "a = {1, 2, 3, 4, 5}\n",
    "b = {3, 4, 5, 6, 7}\n",
    "\n",
    "print(a.difference(b))\n",
    "print(a - b)"
   ]
  },
  {
   "cell_type": "code",
   "execution_count": 6,
   "metadata": {
    "slideshow": {
     "slide_type": "fragment"
    }
   },
   "outputs": [
    {
     "name": "stdout",
     "output_type": "stream",
     "text": [
      "{'fukuoka', 'oita', 'saga'}\n",
      "{'nagasaki', 'kumamoto'}\n"
     ]
    }
   ],
   "source": [
    "a = {'fukuoka', 'oita', 'saga', 'nagasaki'}\n",
    "b = {'kumamoto', 'nagasaki', 'kagoshima'}\n",
    "c = ('fukuoka','miyazaki','kagoshima')\n",
    "\n",
    "print(a.difference(b))\n",
    "print(b.difference(c))"
   ]
  },
  {
   "cell_type": "code",
   "execution_count": 7,
   "metadata": {
    "slideshow": {
     "slide_type": "subslide"
    }
   },
   "outputs": [],
   "source": [
    "# 自分で好きな集合を2つ作って、試してみましょう。文字列も集合の要素になることができます。\n",
    "# Please define two sets with any elements you like. The elements can be strings, not necessarily integers.\n",
    "\n",
    "\n",
    "# 集合の差を計算してみましょう。/ Please carry out an operation of difference of these sets.\n"
   ]
  },
  {
   "cell_type": "markdown",
   "metadata": {
    "slideshow": {
     "slide_type": "skip"
    }
   },
   "source": [
    "<a id=\"setsysdiff\"></a>"
   ]
  },
  {
   "cell_type": "markdown",
   "metadata": {
    "slideshow": {
     "slide_type": "subslide"
    }
   },
   "source": [
    "#### **集合の対称差 / set operation SYMMETRIC_DIFFERENCE**\n",
    "AかBに属する要素のうち、AとBの両方に属するものを除いたすべて。<br>\n",
    "The elements in A that are not in B<br>\n",
    "<img src=\"img/w2_symmetricdifference.png\" width=20%>"
   ]
  },
  {
   "cell_type": "code",
   "execution_count": 8,
   "metadata": {
    "slideshow": {
     "slide_type": "subslide"
    }
   },
   "outputs": [
    {
     "name": "stdout",
     "output_type": "stream",
     "text": [
      "{1, 2}\n",
      "{6, 7}\n",
      "{1, 2, 6, 7}\n",
      "{1, 2, 6, 7}\n"
     ]
    }
   ],
   "source": [
    "a = {1, 2, 3, 4, 5}\n",
    "b = {3, 4, 5, 6, 7}\n",
    "\n",
    "print(a-b)\n",
    "print(b-a)\n",
    "print(a.symmetric_difference(b))\n",
    "print(a^b)"
   ]
  },
  {
   "cell_type": "code",
   "execution_count": 9,
   "metadata": {
    "slideshow": {
     "slide_type": "fragment"
    }
   },
   "outputs": [
    {
     "name": "stdout",
     "output_type": "stream",
     "text": [
      "{'fukuoka', 'kumamoto', 'oita', 'kagoshima', 'saga'}\n",
      "{'fukuoka', 'nagasaki', 'kumamoto', 'miyazaki'}\n"
     ]
    }
   ],
   "source": [
    "a = {'fukuoka', 'oita', 'saga', 'nagasaki'}\n",
    "b = {'kumamoto', 'nagasaki', 'kagoshima'}\n",
    "c = ('fukuoka','miyazaki','kagoshima')\n",
    "\n",
    "print(a.symmetric_difference(b))\n",
    "print(b.symmetric_difference(c))"
   ]
  },
  {
   "cell_type": "code",
   "execution_count": 10,
   "metadata": {
    "slideshow": {
     "slide_type": "subslide"
    }
   },
   "outputs": [],
   "source": [
    "# 自分で好きな集合を2つ作って、試してみましょう。文字列も集合の要素になることができます。\n",
    "# Please define two sets with any elements you like. The elements can be strings, not necessarily integers.\n",
    "\n",
    "\n",
    "# 集合の対称差を計算してみましょう。/ Please carry out an operation of symmetric difference of these sets.\n",
    "\n",
    "\n"
   ]
  },
  {
   "cell_type": "markdown",
   "metadata": {
    "slideshow": {
     "slide_type": "skip"
    }
   },
   "source": [
    "<a id=\"setadd\"></a>"
   ]
  },
  {
   "cell_type": "markdown",
   "metadata": {
    "slideshow": {
     "slide_type": "subslide"
    }
   },
   "source": [
    "#### **要素の追加 / set operation ADD**\n",
    "集合型に要素を追加してみましょう。<br>\n",
    "Add some elements to a set, myset."
   ]
  },
  {
   "cell_type": "code",
   "execution_count": 11,
   "metadata": {
    "slideshow": {
     "slide_type": "subslide"
    }
   },
   "outputs": [
    {
     "name": "stdout",
     "output_type": "stream",
     "text": [
      "{1, 2, 3, 4, 5, 6, 7, 10}\n"
     ]
    }
   ],
   "source": [
    "myset3 = {1, 2, 3, 4, 5, 6, 7}\n",
    "myset3.add(10)\n",
    "print(myset3)\n",
    "\n",
    "# 要素に10が追加されました。 / The element, 10, was added to myset."
   ]
  },
  {
   "cell_type": "code",
   "execution_count": 12,
   "metadata": {
    "slideshow": {
     "slide_type": "fragment"
    }
   },
   "outputs": [
    {
     "name": "stdout",
     "output_type": "stream",
     "text": [
      "{1, 2, 3, 4, 5, 6, 7, 100, 10}\n"
     ]
    }
   ],
   "source": [
    "# 整数100を要素に足してください。 / Please add an integer, 100, to myset.\n",
    "myset3.add(100)\n",
    "print(myset3)\n"
   ]
  },
  {
   "cell_type": "markdown",
   "metadata": {
    "slideshow": {
     "slide_type": "fragment"
    }
   },
   "source": [
    "好きな要素を足してみましょう。要素が増えているかどうか、`print`文で確認してください。<br>\n",
    "Please add elements as much as you want. Please check if the elements are added with `print` function.<br>"
   ]
  },
  {
   "cell_type": "code",
   "execution_count": null,
   "metadata": {
    "slideshow": {
     "slide_type": "skip"
    }
   },
   "outputs": [],
   "source": []
  },
  {
   "cell_type": "markdown",
   "metadata": {
    "slideshow": {
     "slide_type": "skip"
    }
   },
   "source": [
    "<a id=\"setremove\"></a>"
   ]
  },
  {
   "cell_type": "markdown",
   "metadata": {
    "slideshow": {
     "slide_type": "subslide"
    }
   },
   "source": [
    "#### **要素の削除 / set operation REMOVE**\n",
    "集合型の要素を削除してみましょう。<br>\n",
    "Remove an elements from a set, myset."
   ]
  },
  {
   "cell_type": "code",
   "execution_count": 13,
   "metadata": {
    "slideshow": {
     "slide_type": "subslide"
    }
   },
   "outputs": [
    {
     "name": "stdout",
     "output_type": "stream",
     "text": [
      "{2, 3, 4, 5, 6, 7, 100, 10}\n"
     ]
    }
   ],
   "source": [
    "myset3.remove(1)\n",
    "print(myset3)\n",
    "\n",
    "# 要素3が削除されました。 / The element, 3, was removed from myset."
   ]
  },
  {
   "cell_type": "markdown",
   "metadata": {
    "slideshow": {
     "slide_type": "fragment"
    }
   },
   "source": [
    "残りの要素の中から、一つ削除してみましょう。<br>\n",
    "Please remove one of the element from the remainders."
   ]
  },
  {
   "cell_type": "code",
   "execution_count": 14,
   "metadata": {
    "slideshow": {
     "slide_type": "skip"
    }
   },
   "outputs": [
    {
     "name": "stdout",
     "output_type": "stream",
     "text": [
      "{2, 3, 4, 5, 6, 7, 100}\n"
     ]
    }
   ],
   "source": [
    "myset3.remove(10)\n",
    "print(myset3)"
   ]
  },
  {
   "cell_type": "markdown",
   "metadata": {},
   "source": [
    "#### **最大値と最小値 / MAX and MIN**"
   ]
  },
  {
   "cell_type": "code",
   "execution_count": 15,
   "metadata": {},
   "outputs": [
    {
     "name": "stdout",
     "output_type": "stream",
     "text": [
      "100\n",
      "2\n"
     ]
    }
   ],
   "source": [
    "# Find the maximum\n",
    "print(max(myset3))\n",
    "\n",
    "# Find the maximum\n",
    "print(min(myset3))\n"
   ]
  },
  {
   "cell_type": "markdown",
   "metadata": {
    "slideshow": {
     "slide_type": "slide"
    }
   },
   "source": [
    "## 発展問題\n",
    "1から100までの整数からなる集合を作って、奇数だけ削除してください。<br>\n",
    "Please create an set that consists of integers from 1 to 100. Then remove all of the odd numbers."
   ]
  },
  {
   "cell_type": "code",
   "execution_count": null,
   "metadata": {
    "slideshow": {
     "slide_type": "fragment"
    }
   },
   "outputs": [],
   "source": []
  }
 ],
 "metadata": {
  "celltoolbar": "Slideshow",
  "kernelspec": {
   "display_name": "Python 3 (ipykernel)",
   "language": "python",
   "name": "python3"
  },
  "language_info": {
   "codemirror_mode": {
    "name": "ipython",
    "version": 3
   },
   "file_extension": ".py",
   "mimetype": "text/x-python",
   "name": "python",
   "nbconvert_exporter": "python",
   "pygments_lexer": "ipython3",
   "version": "3.9.18"
  },
  "toc": {
   "base_numbering": 1,
   "nav_menu": {},
   "number_sections": true,
   "sideBar": true,
   "skip_h1_title": false,
   "title_cell": "Table of Contents",
   "title_sidebar": "Contents",
   "toc_cell": false,
   "toc_position": {},
   "toc_section_display": true,
   "toc_window_display": false
  },
  "vscode": {
   "interpreter": {
    "hash": "2a8dfe095fce2b5e88c64a2c3ee084c8e0e0d70b23e7b95b1cfb538be294c5c8"
   }
  }
 },
 "nbformat": 4,
 "nbformat_minor": 4
}
