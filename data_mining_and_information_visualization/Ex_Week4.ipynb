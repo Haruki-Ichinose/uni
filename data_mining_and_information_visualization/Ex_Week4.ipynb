{
 "cells": [
  {
   "cell_type": "markdown",
   "metadata": {},
   "source": [
    "# **データマイニングと情報可視化: 演習**\n",
    "# **Data mining and information visualization: Exercise**\n",
    "<font size=\"4\">\n",
    "第4回　2023年12月26日(火)<br>\n",
    "データマイニング手法2-1：クラスター分析（講義と分析手法の基礎）<br>\n",
    "Method 2-1: Clustering analysis (Lecture and basic skills)<br>\n",
    "</font>\n",
    "\n",
    "[レポート / Assignment](Rep_Week4.ipynb) : <span style=\"color: black;font-weight:bold;\" >締め切り 2023年12月29日(金)　23：59 JST</span>"
   ]
  },
  {
   "cell_type": "markdown",
   "metadata": {},
   "source": [
    "### 講義動画\n",
    "* [Week 1](https://youtu.be/TFwTK-dzcbM): Pythonの基礎\n",
    "* [Week 2](https://youtu.be/JuwffIC-S10): Pandasの基礎、集合の演算\n",
    "* [Week 3](https://youtu.be/iSSVr5tb5KQ): Pandas・集合の復習、Matplotlibで散布図のプロット、マーケットバスケット分析\n",
    "* [Week 4](https://youtu.be/pGtmhge8cog): データ加工とデータの標準化、Matplotlibによるデータ可視化"
   ]
  },
  {
   "cell_type": "markdown",
   "metadata": {},
   "source": [
    "### k-means法のおすすめサイト&動画\n",
    "* [scikit-learn でクラスタ分析 (K-means 法)@Python でデータサイエンス](https://pythondatascience.plavox.info/scikit-learn/%E3%82%AF%E3%83%A9%E3%82%B9%E3%82%BF%E5%88%86%E6%9E%90-k-means)\n",
    "* [【機械学習】K-meansを勉強してみる](https://qiita.com/shuva/items/bcf700bd32ae2bbb63c7)\n",
    "* [【機械学習】クラスタリングとは何か(k-means)＠ヨビノリ](https://www.youtube.com/watch?v=8yptHd0JDlw)\n",
    "* [【完全版】この動画1本で機械学習実装（Python）の基礎を習得！忙しい人のための速習コース](https://www.youtube.com/watch?v=okpRV08-svw)\n",
    "\n",
    "### Pandas のおすすめサイト&動画\n",
    "* [10分でPandasを学ぶ](https://qiita.com/tkazusa/items/23bc0142bf277d397260): Pandasの基礎\n",
    "* [10 Minutes to pandas @ Pandas documentation](https://pandas.pydata.org/pandas-docs/stable/user_guide/10min.html)\n",
    "* [Pythonの便利ライブラリ「Pandas入門講座」合併版｜Pandasの基本的なこと3時間で学べます](https://www.youtube.com/watch?v=XfoYeWCzjac):【Python超入門コースの次におすすめの入門講座】\n",
    "* [Pandas入門コース｜プログラミング初心者向け講座（再生リスト）](https://www.youtube.com/playlist?list=PLavQwENTsEBUcTIz5H8ZL6QUs6ClMpV8K)"
   ]
  },
  {
   "cell_type": "markdown",
   "metadata": {},
   "source": [
    "### Hans Rosling のおすすめ書籍とTED talk\n",
    "* [Factfulness : 10の思い込みを乗り越え、データを基に世界を正しく見る習慣](http://hdl.handle.net/2324/1001668762)@九大図書館\n",
    "* [私はこうして世界を理解できるようになった](http://hdl.handle.net/2324/1001685312)@九大図書館\n",
    "* [ハンス・ロスリング：10年の良いニュース？](https://www.ted.com/talks/hans_rosling_the_good_news_of_the_decade_we_re_winning_the_war_against_child_mortality)@TED\n",
    "* [ハンス・ロスリング：最高の統計を披露](https://www.ted.com/talks/hans_rosling_the_best_stats_you_ve_ever_seen?language=ja)@TED\n",
    "* [ハンス・ロスリング：貧困に対する新たな洞察を示します](https://www.ted.com/talks/hans_rosling_new_insights_on_poverty?language=ja)@TED\n",
    "* [ハンス・ロスリング：私のデータセットであなたのマインドセットを変えて見せます](https://www.ted.com/talks/hans_rosling_let_my_dataset_change_your_mindset?language=ja)@TED"
   ]
  },
  {
   "cell_type": "markdown",
   "metadata": {},
   "source": [
    "### 確率統計のおすすめ書籍\n",
    "\n",
    "* [文系のためのめっちゃやさしい統計](http://hdl.handle.net/2324/1001728151)@九大図書館\n",
    "* [高校数学でわかる統計学](http://hdl.handle.net/2324/1001470494)@九大図書館\n",
    "* [ふたたびの確率・統計, 永野 裕之 (著)](https://www.amazon.co.jp/【合本版】ふたたびの確率・統計-永野-裕之-ebook/dp/B07XLM72ZG/ref=sr_1_3?adgrpid=102908200063)\n",
    "\n",
    "理系学生向け：高年次基幹教育の数理統計学の授業で指定されている教科書は例えばこちら。\n",
    "* [概説　確率統計](http://hdl.handle.net/2324/1000713713)@九大図書館\n",
    "* [基礎統計学](http://hdl.handle.net/2324/1000695263)@九大図書館"
   ]
  },
  {
   "cell_type": "code",
   "execution_count": 543,
   "metadata": {},
   "outputs": [
    {
     "data": {
      "text/plain": [
       "'%.3f'"
      ]
     },
     "execution_count": 543,
     "metadata": {},
     "output_type": "execute_result"
    }
   ],
   "source": [
    "# まずはライブラリをインポート / Import the libraries.\n",
    "import numpy as np\n",
    "from numpy.random import normal,rand\n",
    "\n",
    "import scipy as sp\n",
    "from pandas import Series, DataFrame\n",
    "import pandas as pd\n",
    "\n",
    "# 可視化ライブラリ / Visualization libraries\n",
    "import matplotlib.pyplot as plt\n",
    "import matplotlib as mpl\n",
    "import seaborn as sns\n",
    "%matplotlib inline\n",
    "\n",
    "# 機械学習ライブラリ / Machine learning library\n",
    "import sklearn\n",
    "\n",
    "# 小数第3位まで表示 / display up to the 3rd decimal place\n",
    "%precision 3"
   ]
  },
  {
   "cell_type": "markdown",
   "metadata": {},
   "source": [
    "# データ加工 / Data processing"
   ]
  },
  {
   "cell_type": "markdown",
   "metadata": {},
   "source": [
    "### よく使う関数: isnull (Pandas)\n",
    "Useful function: isnull (Pandas)\n",
    "データを処理するときにデータの欠けている項目がある場合があります。これをPandasで読み込むと、欠損値(NaN;Not a Number)として扱われます。<br>\n",
    "欠損値のままだとデータ処理がしづらいので、欠損値を適切に処理する必要があります。<br>\n",
    "<br>\n",
    "When you obtain a set of data, it often happens that there are some blanks (missing values).<br>\n",
    "If you load a file with Pandas, these blanks will be interpreted as NaN (Not a Number).<br>\n",
    "NaN causes some trouble to analyze data, so you need to carry out some data processing.<br>\n",
    "\n",
    "* 補完 / Complement\n",
    "* 置換 / Replace\n",
    "* 抽出 / Extract\n",
    "\n",
    "[参考サイト：欠損値の確認 @ note.nkmk.me](https://note.nkmk.me/python-pandas-nan-judge-count/)<br>\n",
    "[参考サイト：pandasで欠損値NaNを除外（削除）・置換（穴埋め）・抽出 @ note.nkmk.me](https://note.nkmk.me/python-pandas-nan-dropna-fillna/)<br>"
   ]
  },
  {
   "cell_type": "markdown",
   "metadata": {},
   "source": [
    "まず、データファイル(w4_pandas_nan.csv)を読み込む。<br>\n",
    "Load a data file, named w4_pandas_nan.csv.<br>\n",
    "\n",
    "[Week 2: read csv](Ex_Week2.ipynb#readcsv)"
   ]
  },
  {
   "cell_type": "code",
   "execution_count": 544,
   "metadata": {},
   "outputs": [
    {
     "data": {
      "text/plain": [
       "(27, 6)"
      ]
     },
     "execution_count": 544,
     "metadata": {},
     "output_type": "execute_result"
    }
   ],
   "source": [
    "# 2週目でCSVを読み込みました。自分でやってみましょう。\n",
    "df = pd.read_csv('data/w4_pandas_nan.csv')\n",
    "\n",
    "# データサイズを確認 / Check the size of the DataFrame\n",
    "# .shape\n",
    "df.shape"
   ]
  },
  {
   "cell_type": "markdown",
   "metadata": {},
   "source": [
    "<a id=isnull></a>"
   ]
  },
  {
   "cell_type": "markdown",
   "metadata": {},
   "source": [
    "### 欠損値かどうかをチェック\n",
    "Check if the elements are NaN or not<br>\n",
    "<br>\n",
    "[参考サイト：欠損値の確認 @ note.nkmk.me](https://note.nkmk.me/python-pandas-nan-judge-count/)"
   ]
  },
  {
   "cell_type": "code",
   "execution_count": 545,
   "metadata": {},
   "outputs": [
    {
     "name": "stdout",
     "output_type": "stream",
     "text": [
      "name           3\n",
      "age            8\n",
      "state          6\n",
      "point          8\n",
      "occupation     6\n",
      "other         27\n",
      "dtype: int64\n"
     ]
    }
   ],
   "source": [
    "# .isnull()\n",
    "# 出力は元の配列と同じサイズの配列で表示されます。要素は True または False。\n",
    "# The output is the same size of an array with elements of True or False\n",
    "# True : zero, NaN\n",
    "# False :  nonzero\n",
    "# .isnull を使ってみましょう。\n",
    "\n",
    "print(df.isnull().sum())"
   ]
  },
  {
   "cell_type": "code",
   "execution_count": 546,
   "metadata": {},
   "outputs": [
    {
     "name": "stdout",
     "output_type": "stream",
     "text": [
      "name          False\n",
      "age           False\n",
      "state         False\n",
      "point         False\n",
      "occupation    False\n",
      "other          True\n",
      "dtype: bool\n"
     ]
    }
   ],
   "source": [
    "# オプションaxis=1(デフォルト)で、列のすべての要素がNaNだと、Trueを返す。\n",
    "# The output will be 'True' if all of the elements in a column is NaN\n",
    "print(df.isnull().all())"
   ]
  },
  {
   "cell_type": "code",
   "execution_count": 547,
   "metadata": {},
   "outputs": [
    {
     "name": "stdout",
     "output_type": "stream",
     "text": [
      "0     False\n",
      "1     False\n",
      "2     False\n",
      "3     False\n",
      "4     False\n",
      "5     False\n",
      "6     False\n",
      "7     False\n",
      "8     False\n",
      "9      True\n",
      "10    False\n",
      "11    False\n",
      "12    False\n",
      "13     True\n",
      "14    False\n",
      "15    False\n",
      "16    False\n",
      "17     True\n",
      "18    False\n",
      "19    False\n",
      "20    False\n",
      "21    False\n",
      "22    False\n",
      "23    False\n",
      "24    False\n",
      "25    False\n",
      "26    False\n",
      "dtype: bool\n"
     ]
    },
    {
     "data": {
      "text/plain": [
       "name           3\n",
       "age            8\n",
       "state          6\n",
       "point          8\n",
       "occupation     6\n",
       "other         27\n",
       "dtype: int64"
      ]
     },
     "execution_count": 547,
     "metadata": {},
     "output_type": "execute_result"
    }
   ],
   "source": [
    "# オプションaxis=1で、行のすべての要素がNaNだと、Trueを返す。\n",
    "# The output will be 'True' if all of the elements in a row is NaN\n",
    "print(df.isnull().all(axis=1))\n",
    "df.isnull().sum()"
   ]
  },
  {
   "cell_type": "markdown",
   "metadata": {},
   "source": [
    "<a id=drop_column></a>"
   ]
  },
  {
   "cell_type": "markdown",
   "metadata": {},
   "source": [
    "### 全ての要素がNaNである列を削除する\n",
    "Delete columns where all elements are NaN"
   ]
  },
  {
   "cell_type": "markdown",
   "metadata": {},
   "source": [
    "dropを使って'other' の列を削除する。<br>\n",
    "列を削除するときは、オプションaxis=1を付ける。デフォルトはaxis=1で行を削除する。<br>\n",
    "もともとのDataFrameに削除した結果を反映させるには、オプション inplace=True を付ける。<br>\n",
    "<br>\n",
    "Remove the column, 'other' with drop.<br>\n",
    "When you remove a column, please use option, axis=1.<br>\n",
    "To reflect the deleted result in the original DataFrame, add the option inplace=True. <br>\n",
    "<br>\n",
    "[Remove columns: drop](https://note.nkmk.me/python-pandas-drop/)"
   ]
  },
  {
   "cell_type": "code",
   "execution_count": 548,
   "metadata": {},
   "outputs": [],
   "source": [
    "# 自分でやってみましょう。/ Please drop the column, other, by yourself.\n",
    "df.drop(columns='other', inplace=True)\n",
    "\n",
    "# もともとのDataFrameに削除した結果を反映させてください。（オプション inplace=True を付ける。）\n",
    "\n"
   ]
  },
  {
   "cell_type": "markdown",
   "metadata": {},
   "source": [
    "dropna(how='all', axis=1)を使ってもよい。<br>\n",
    "You can also use 'dropna(how='all')' to remove a column whose all of the elements are NaN."
   ]
  },
  {
   "cell_type": "code",
   "execution_count": 549,
   "metadata": {},
   "outputs": [
    {
     "data": {
      "text/html": [
       "<div>\n",
       "<style scoped>\n",
       "    .dataframe tbody tr th:only-of-type {\n",
       "        vertical-align: middle;\n",
       "    }\n",
       "\n",
       "    .dataframe tbody tr th {\n",
       "        vertical-align: top;\n",
       "    }\n",
       "\n",
       "    .dataframe thead th {\n",
       "        text-align: right;\n",
       "    }\n",
       "</style>\n",
       "<table border=\"1\" class=\"dataframe\">\n",
       "  <thead>\n",
       "    <tr style=\"text-align: right;\">\n",
       "      <th></th>\n",
       "      <th>name</th>\n",
       "      <th>age</th>\n",
       "      <th>state</th>\n",
       "      <th>point</th>\n",
       "      <th>occupation</th>\n",
       "    </tr>\n",
       "  </thead>\n",
       "  <tbody>\n",
       "    <tr>\n",
       "      <th>0</th>\n",
       "      <td>Alice</td>\n",
       "      <td>24.0</td>\n",
       "      <td>NY</td>\n",
       "      <td>90.0</td>\n",
       "      <td>studt</td>\n",
       "    </tr>\n",
       "    <tr>\n",
       "      <th>1</th>\n",
       "      <td>Frank</td>\n",
       "      <td>30.0</td>\n",
       "      <td>HI</td>\n",
       "      <td>86.0</td>\n",
       "      <td>sales</td>\n",
       "    </tr>\n",
       "    <tr>\n",
       "      <th>2</th>\n",
       "      <td>Louis</td>\n",
       "      <td>49.0</td>\n",
       "      <td>NY</td>\n",
       "      <td>80.0</td>\n",
       "      <td>accountant</td>\n",
       "    </tr>\n",
       "    <tr>\n",
       "      <th>3</th>\n",
       "      <td>Sally</td>\n",
       "      <td>46.0</td>\n",
       "      <td>OR</td>\n",
       "      <td>89.0</td>\n",
       "      <td>driver</td>\n",
       "    </tr>\n",
       "    <tr>\n",
       "      <th>4</th>\n",
       "      <td>Cameron</td>\n",
       "      <td>31.0</td>\n",
       "      <td>NY</td>\n",
       "      <td>91.0</td>\n",
       "      <td>NaN</td>\n",
       "    </tr>\n",
       "    <tr>\n",
       "      <th>5</th>\n",
       "      <td>Isac</td>\n",
       "      <td>47.0</td>\n",
       "      <td>NaN</td>\n",
       "      <td>90.0</td>\n",
       "      <td>NaN</td>\n",
       "    </tr>\n",
       "    <tr>\n",
       "      <th>6</th>\n",
       "      <td>Charlie</td>\n",
       "      <td>NaN</td>\n",
       "      <td>CA</td>\n",
       "      <td>NaN</td>\n",
       "      <td>retail</td>\n",
       "    </tr>\n",
       "    <tr>\n",
       "      <th>7</th>\n",
       "      <td>Dave</td>\n",
       "      <td>68.0</td>\n",
       "      <td>TX</td>\n",
       "      <td>70.0</td>\n",
       "      <td>retired</td>\n",
       "    </tr>\n",
       "    <tr>\n",
       "      <th>8</th>\n",
       "      <td>Ellen</td>\n",
       "      <td>NaN</td>\n",
       "      <td>CA</td>\n",
       "      <td>88.0</td>\n",
       "      <td>director</td>\n",
       "    </tr>\n",
       "    <tr>\n",
       "      <th>9</th>\n",
       "      <td>NaN</td>\n",
       "      <td>NaN</td>\n",
       "      <td>NaN</td>\n",
       "      <td>NaN</td>\n",
       "      <td>NaN</td>\n",
       "    </tr>\n",
       "    <tr>\n",
       "      <th>10</th>\n",
       "      <td>Nathan</td>\n",
       "      <td>14.0</td>\n",
       "      <td>AL</td>\n",
       "      <td>NaN</td>\n",
       "      <td>studt</td>\n",
       "    </tr>\n",
       "    <tr>\n",
       "      <th>11</th>\n",
       "      <td>Rachel</td>\n",
       "      <td>25.0</td>\n",
       "      <td>TX</td>\n",
       "      <td>88.0</td>\n",
       "      <td>sales</td>\n",
       "    </tr>\n",
       "    <tr>\n",
       "      <th>12</th>\n",
       "      <td>Claire</td>\n",
       "      <td>36.0</td>\n",
       "      <td>OR</td>\n",
       "      <td>92.0</td>\n",
       "      <td>lawyer</td>\n",
       "    </tr>\n",
       "    <tr>\n",
       "      <th>13</th>\n",
       "      <td>NaN</td>\n",
       "      <td>NaN</td>\n",
       "      <td>NaN</td>\n",
       "      <td>NaN</td>\n",
       "      <td>NaN</td>\n",
       "    </tr>\n",
       "    <tr>\n",
       "      <th>14</th>\n",
       "      <td>David</td>\n",
       "      <td>42.0</td>\n",
       "      <td>MA</td>\n",
       "      <td>89.0</td>\n",
       "      <td>accountant</td>\n",
       "    </tr>\n",
       "    <tr>\n",
       "      <th>15</th>\n",
       "      <td>Vickey</td>\n",
       "      <td>57.0</td>\n",
       "      <td>MS</td>\n",
       "      <td>85.0</td>\n",
       "      <td>professor</td>\n",
       "    </tr>\n",
       "    <tr>\n",
       "      <th>16</th>\n",
       "      <td>Harvey</td>\n",
       "      <td>38.0</td>\n",
       "      <td>NY</td>\n",
       "      <td>92.0</td>\n",
       "      <td>lawyer</td>\n",
       "    </tr>\n",
       "    <tr>\n",
       "      <th>17</th>\n",
       "      <td>NaN</td>\n",
       "      <td>NaN</td>\n",
       "      <td>NaN</td>\n",
       "      <td>NaN</td>\n",
       "      <td>NaN</td>\n",
       "    </tr>\n",
       "    <tr>\n",
       "      <th>18</th>\n",
       "      <td>Elizabeth</td>\n",
       "      <td>NaN</td>\n",
       "      <td>MA</td>\n",
       "      <td>NaN</td>\n",
       "      <td>NaN</td>\n",
       "    </tr>\n",
       "    <tr>\n",
       "      <th>19</th>\n",
       "      <td>Katrina</td>\n",
       "      <td>30.0</td>\n",
       "      <td>OR</td>\n",
       "      <td>89.0</td>\n",
       "      <td>baker</td>\n",
       "    </tr>\n",
       "    <tr>\n",
       "      <th>20</th>\n",
       "      <td>Chris</td>\n",
       "      <td>76.0</td>\n",
       "      <td>TX</td>\n",
       "      <td>NaN</td>\n",
       "      <td>retired</td>\n",
       "    </tr>\n",
       "    <tr>\n",
       "      <th>21</th>\n",
       "      <td>Georgia</td>\n",
       "      <td>53.0</td>\n",
       "      <td>MA</td>\n",
       "      <td>83.0</td>\n",
       "      <td>professor</td>\n",
       "    </tr>\n",
       "    <tr>\n",
       "      <th>22</th>\n",
       "      <td>Tom</td>\n",
       "      <td>NaN</td>\n",
       "      <td>OR</td>\n",
       "      <td>91.0</td>\n",
       "      <td>sales</td>\n",
       "    </tr>\n",
       "    <tr>\n",
       "      <th>23</th>\n",
       "      <td>Hans</td>\n",
       "      <td>62.0</td>\n",
       "      <td>NaN</td>\n",
       "      <td>NaN</td>\n",
       "      <td>accountant</td>\n",
       "    </tr>\n",
       "    <tr>\n",
       "      <th>24</th>\n",
       "      <td>Darby</td>\n",
       "      <td>27.0</td>\n",
       "      <td>MA</td>\n",
       "      <td>83.0</td>\n",
       "      <td>baker</td>\n",
       "    </tr>\n",
       "    <tr>\n",
       "      <th>25</th>\n",
       "      <td>Billy</td>\n",
       "      <td>NaN</td>\n",
       "      <td>NaN</td>\n",
       "      <td>82.0</td>\n",
       "      <td>retail</td>\n",
       "    </tr>\n",
       "    <tr>\n",
       "      <th>26</th>\n",
       "      <td>Ally</td>\n",
       "      <td>36.0</td>\n",
       "      <td>NY</td>\n",
       "      <td>81.0</td>\n",
       "      <td>director</td>\n",
       "    </tr>\n",
       "  </tbody>\n",
       "</table>\n",
       "</div>"
      ],
      "text/plain": [
       "         name   age state  point  occupation\n",
       "0       Alice  24.0    NY   90.0       studt\n",
       "1       Frank  30.0    HI   86.0       sales\n",
       "2       Louis  49.0    NY   80.0  accountant\n",
       "3       Sally  46.0    OR   89.0      driver\n",
       "4     Cameron  31.0    NY   91.0         NaN\n",
       "5        Isac  47.0   NaN   90.0         NaN\n",
       "6     Charlie   NaN    CA    NaN      retail\n",
       "7        Dave  68.0    TX   70.0     retired\n",
       "8       Ellen   NaN    CA   88.0    director\n",
       "9         NaN   NaN   NaN    NaN         NaN\n",
       "10     Nathan  14.0    AL    NaN       studt\n",
       "11     Rachel  25.0    TX   88.0       sales\n",
       "12     Claire  36.0    OR   92.0      lawyer\n",
       "13        NaN   NaN   NaN    NaN         NaN\n",
       "14      David  42.0    MA   89.0  accountant\n",
       "15     Vickey  57.0    MS   85.0   professor\n",
       "16     Harvey  38.0    NY   92.0      lawyer\n",
       "17        NaN   NaN   NaN    NaN         NaN\n",
       "18  Elizabeth   NaN    MA    NaN         NaN\n",
       "19    Katrina  30.0    OR   89.0       baker\n",
       "20      Chris  76.0    TX    NaN     retired\n",
       "21    Georgia  53.0    MA   83.0   professor\n",
       "22        Tom   NaN    OR   91.0       sales\n",
       "23       Hans  62.0   NaN    NaN  accountant\n",
       "24      Darby  27.0    MA   83.0       baker\n",
       "25      Billy   NaN   NaN   82.0      retail\n",
       "26       Ally  36.0    NY   81.0    director"
      ]
     },
     "execution_count": 549,
     "metadata": {},
     "output_type": "execute_result"
    }
   ],
   "source": [
    "df.dropna(how='all', axis=1)"
   ]
  },
  {
   "cell_type": "markdown",
   "metadata": {},
   "source": [
    "<a id=\"countnan\"></a>"
   ]
  },
  {
   "cell_type": "markdown",
   "metadata": {},
   "source": [
    "### 欠損値の数を数える\n",
    "Count the number of NaN<br>\n",
    ".isnull() と .sum() を使います。<br>\n",
    ".sum() は、オプションaxis=0で列ごと、オプションaxis=1で行ごと、に和を取ります。<br>\n",
    "\n",
    "[参考サイト：欠損値の確認 @ note.nkmk.me](https://note.nkmk.me/python-pandas-nan-judge-count/)"
   ]
  },
  {
   "cell_type": "code",
   "execution_count": 550,
   "metadata": {},
   "outputs": [
    {
     "name": "stdout",
     "output_type": "stream",
     "text": [
      "name          3\n",
      "age           8\n",
      "state         6\n",
      "point         8\n",
      "occupation    6\n",
      "dtype: int64\n",
      "0     0\n",
      "1     0\n",
      "2     0\n",
      "3     0\n",
      "4     1\n",
      "5     2\n",
      "6     2\n",
      "7     0\n",
      "8     1\n",
      "9     5\n",
      "10    1\n",
      "11    0\n",
      "12    0\n",
      "13    5\n",
      "14    0\n",
      "15    0\n",
      "16    0\n",
      "17    5\n",
      "18    3\n",
      "19    0\n",
      "20    1\n",
      "21    0\n",
      "22    1\n",
      "23    2\n",
      "24    0\n",
      "25    2\n",
      "26    0\n",
      "dtype: int64\n"
     ]
    }
   ],
   "source": [
    "# 列ごと / by column\n",
    "# print(df.isnull().sum())\n",
    "print(df.isnull().sum(axis=0))\n",
    "\n",
    "# 行ごと / by row\n",
    "print(df.isnull().sum(axis=1))"
   ]
  },
  {
   "cell_type": "markdown",
   "metadata": {},
   "source": [
    "### 配列中のすべての欠損値の数を数える\n",
    "Count the total number of NaN in an array"
   ]
  },
  {
   "cell_type": "code",
   "execution_count": 551,
   "metadata": {},
   "outputs": [
    {
     "name": "stdout",
     "output_type": "stream",
     "text": [
      "31\n"
     ]
    }
   ],
   "source": [
    "# print(df.isnull().sum().sum())\n",
    "print(df.isnull().sum().sum())"
   ]
  },
  {
   "cell_type": "markdown",
   "metadata": {},
   "source": [
    "<a id=\"removenan_subset\"></a>"
   ]
  },
  {
   "cell_type": "markdown",
   "metadata": {},
   "source": [
    "### 特定の行・列に欠損値がある列・行を削除する\n",
    "### Remove specific columns or rows which has more than one NaN.\n",
    "\n",
    "欠損値を削除した結果は別名のDataFrameに格納する必要があります。<br>\n",
    "<b>削除したつもりで、元のDataFrameを使うと、NaNを含むDataFrameを扱うことになるので、注意してください。</b><br>\n",
    "<br>\n",
    "You need to store the data in a DataFrame with a different name.<br>\n",
    "<b>If you use the original DataFrame, it contains NaN. Please make sure to store it in a different DataFrame.</b><br>\n",
    "\n",
    "[Drop NaN](https://note.nkmk.me/python-pandas-nan-dropna-fillna/): 欠損値の削除・置換・抽出"
   ]
  },
  {
   "cell_type": "code",
   "execution_count": 552,
   "metadata": {},
   "outputs": [
    {
     "data": {
      "text/plain": [
       "(27, 4)"
      ]
     },
     "execution_count": 552,
     "metadata": {},
     "output_type": "execute_result"
    }
   ],
   "source": [
    "# age の列に欠損値がある行を削除\n",
    "df2 = df.dropna(subset=['age'])\n",
    "df2.shape\n",
    "\n",
    "\n",
    "# 1~5行目に欠損値がある列を削除\n",
    "df3 = df.dropna(subset=[0,1,2,3,4], axis=1)\n",
    "df3 = df.dropna(subset=df.index[0:5], axis=1)\n",
    "df3.shape\n"
   ]
  },
  {
   "cell_type": "markdown",
   "metadata": {},
   "source": [
    "### すべての値が欠損値である行と、すべての値が欠損値である列を削除して、df4という名前のDataFrameに格納する\n",
    "### Remove the rows in which all of the values are NaN and the colums in which all of the values are NaN, then store it in a DataFrame named df5\n",
    "\n",
    "[Drop NaN](https://note.nkmk.me/python-pandas-nan-dropna-fillna/): 欠損値の削除・置換・抽出"
   ]
  },
  {
   "cell_type": "code",
   "execution_count": 553,
   "metadata": {},
   "outputs": [
    {
     "name": "stderr",
     "output_type": "stream",
     "text": [
      "C:\\Users\\harui\\AppData\\Local\\Temp\\ipykernel_19396\\352485274.py:2: SettingWithCopyWarning: \n",
      "A value is trying to be set on a copy of a slice from a DataFrame\n",
      "\n",
      "See the caveats in the documentation: https://pandas.pydata.org/pandas-docs/stable/user_guide/indexing.html#returning-a-view-versus-a-copy\n",
      "  df.dropna(how='all').dropna(how='all', axis=1, inplace=True)\n"
     ]
    }
   ],
   "source": [
    "df4 = df.dropna(how='all').dropna(how='all', axis=1)\n",
    "df.dropna(how='all').dropna(how='all', axis=1, inplace=True)"
   ]
  },
  {
   "cell_type": "code",
   "execution_count": 554,
   "metadata": {},
   "outputs": [
    {
     "data": {
      "text/html": [
       "<div>\n",
       "<style scoped>\n",
       "    .dataframe tbody tr th:only-of-type {\n",
       "        vertical-align: middle;\n",
       "    }\n",
       "\n",
       "    .dataframe tbody tr th {\n",
       "        vertical-align: top;\n",
       "    }\n",
       "\n",
       "    .dataframe thead th {\n",
       "        text-align: right;\n",
       "    }\n",
       "</style>\n",
       "<table border=\"1\" class=\"dataframe\">\n",
       "  <thead>\n",
       "    <tr style=\"text-align: right;\">\n",
       "      <th></th>\n",
       "      <th>name</th>\n",
       "      <th>age</th>\n",
       "      <th>state</th>\n",
       "      <th>point</th>\n",
       "      <th>occupation</th>\n",
       "    </tr>\n",
       "  </thead>\n",
       "  <tbody>\n",
       "    <tr>\n",
       "      <th>0</th>\n",
       "      <td>Alice</td>\n",
       "      <td>24.0</td>\n",
       "      <td>NY</td>\n",
       "      <td>90.0</td>\n",
       "      <td>studt</td>\n",
       "    </tr>\n",
       "    <tr>\n",
       "      <th>1</th>\n",
       "      <td>Frank</td>\n",
       "      <td>30.0</td>\n",
       "      <td>HI</td>\n",
       "      <td>86.0</td>\n",
       "      <td>sales</td>\n",
       "    </tr>\n",
       "    <tr>\n",
       "      <th>2</th>\n",
       "      <td>Louis</td>\n",
       "      <td>49.0</td>\n",
       "      <td>NY</td>\n",
       "      <td>80.0</td>\n",
       "      <td>accountant</td>\n",
       "    </tr>\n",
       "    <tr>\n",
       "      <th>3</th>\n",
       "      <td>Sally</td>\n",
       "      <td>46.0</td>\n",
       "      <td>OR</td>\n",
       "      <td>89.0</td>\n",
       "      <td>driver</td>\n",
       "    </tr>\n",
       "    <tr>\n",
       "      <th>4</th>\n",
       "      <td>Cameron</td>\n",
       "      <td>31.0</td>\n",
       "      <td>NY</td>\n",
       "      <td>91.0</td>\n",
       "      <td>NaN</td>\n",
       "    </tr>\n",
       "    <tr>\n",
       "      <th>5</th>\n",
       "      <td>Isac</td>\n",
       "      <td>47.0</td>\n",
       "      <td>NaN</td>\n",
       "      <td>90.0</td>\n",
       "      <td>NaN</td>\n",
       "    </tr>\n",
       "    <tr>\n",
       "      <th>6</th>\n",
       "      <td>Charlie</td>\n",
       "      <td>NaN</td>\n",
       "      <td>CA</td>\n",
       "      <td>NaN</td>\n",
       "      <td>retail</td>\n",
       "    </tr>\n",
       "    <tr>\n",
       "      <th>7</th>\n",
       "      <td>Dave</td>\n",
       "      <td>68.0</td>\n",
       "      <td>TX</td>\n",
       "      <td>70.0</td>\n",
       "      <td>retired</td>\n",
       "    </tr>\n",
       "    <tr>\n",
       "      <th>8</th>\n",
       "      <td>Ellen</td>\n",
       "      <td>NaN</td>\n",
       "      <td>CA</td>\n",
       "      <td>88.0</td>\n",
       "      <td>director</td>\n",
       "    </tr>\n",
       "    <tr>\n",
       "      <th>10</th>\n",
       "      <td>Nathan</td>\n",
       "      <td>14.0</td>\n",
       "      <td>AL</td>\n",
       "      <td>NaN</td>\n",
       "      <td>studt</td>\n",
       "    </tr>\n",
       "  </tbody>\n",
       "</table>\n",
       "</div>"
      ],
      "text/plain": [
       "       name   age state  point  occupation\n",
       "0     Alice  24.0    NY   90.0       studt\n",
       "1     Frank  30.0    HI   86.0       sales\n",
       "2     Louis  49.0    NY   80.0  accountant\n",
       "3     Sally  46.0    OR   89.0      driver\n",
       "4   Cameron  31.0    NY   91.0         NaN\n",
       "5      Isac  47.0   NaN   90.0         NaN\n",
       "6   Charlie   NaN    CA    NaN      retail\n",
       "7      Dave  68.0    TX   70.0     retired\n",
       "8     Ellen   NaN    CA   88.0    director\n",
       "10   Nathan  14.0    AL    NaN       studt"
      ]
     },
     "execution_count": 554,
     "metadata": {},
     "output_type": "execute_result"
    }
   ],
   "source": [
    "df4.shape\n",
    "df.head(10)\n",
    "df4.head(10)"
   ]
  },
  {
   "cell_type": "markdown",
   "metadata": {},
   "source": [
    "<a id=\"removenan\"></a>"
   ]
  },
  {
   "cell_type": "markdown",
   "metadata": {},
   "source": [
    "### 欠損値が一つでも含まれる行を削除して、df5という名前のDataFrameに格納する\n",
    "### Remove rows which has more than one NaN, then store it in a DataFrame named df5.\n",
    "\n",
    "[Drop NaN](https://note.nkmk.me/python-pandas-nan-dropna-fillna/): 欠損値の削除・置換・抽出"
   ]
  },
  {
   "cell_type": "code",
   "execution_count": 555,
   "metadata": {},
   "outputs": [],
   "source": [
    "# df2に対して、欠損値が一つでも含まれている行を削除\n",
    "# Remove the columns which contains at least one NaN.\n",
    "df5 = df.dropna(how='any')\n",
    "df.dropna(how='any', inplace=True)"
   ]
  },
  {
   "cell_type": "code",
   "execution_count": 556,
   "metadata": {},
   "outputs": [
    {
     "data": {
      "text/plain": [
       "(14, 5)"
      ]
     },
     "execution_count": 556,
     "metadata": {},
     "output_type": "execute_result"
    }
   ],
   "source": [
    "df.shape"
   ]
  },
  {
   "cell_type": "markdown",
   "metadata": {},
   "source": [
    "<a id=\"replace\"></a>"
   ]
  },
  {
   "cell_type": "markdown",
   "metadata": {},
   "source": [
    "### 欠損値の置換 / Replacement of NaN"
   ]
  },
  {
   "cell_type": "markdown",
   "metadata": {},
   "source": [
    "### 欠損値を０で置換して、df6という名前のDataFrameに格納する\n",
    "### Replace NaN with 0, then store it in a DataFrame named df6.\n",
    "\n",
    "[Fill NaN](https://note.nkmk.me/python-pandas-nan-dropna-fillna/): 欠損値の削除・置換・抽出"
   ]
  },
  {
   "cell_type": "code",
   "execution_count": 557,
   "metadata": {},
   "outputs": [
    {
     "data": {
      "text/html": [
       "<div>\n",
       "<style scoped>\n",
       "    .dataframe tbody tr th:only-of-type {\n",
       "        vertical-align: middle;\n",
       "    }\n",
       "\n",
       "    .dataframe tbody tr th {\n",
       "        vertical-align: top;\n",
       "    }\n",
       "\n",
       "    .dataframe thead th {\n",
       "        text-align: right;\n",
       "    }\n",
       "</style>\n",
       "<table border=\"1\" class=\"dataframe\">\n",
       "  <thead>\n",
       "    <tr style=\"text-align: right;\">\n",
       "      <th></th>\n",
       "      <th>name</th>\n",
       "      <th>age</th>\n",
       "      <th>state</th>\n",
       "      <th>point</th>\n",
       "      <th>occupation</th>\n",
       "    </tr>\n",
       "  </thead>\n",
       "  <tbody>\n",
       "    <tr>\n",
       "      <th>0</th>\n",
       "      <td>Alice</td>\n",
       "      <td>24.0</td>\n",
       "      <td>NY</td>\n",
       "      <td>90.0</td>\n",
       "      <td>studt</td>\n",
       "    </tr>\n",
       "    <tr>\n",
       "      <th>1</th>\n",
       "      <td>Frank</td>\n",
       "      <td>30.0</td>\n",
       "      <td>HI</td>\n",
       "      <td>86.0</td>\n",
       "      <td>sales</td>\n",
       "    </tr>\n",
       "    <tr>\n",
       "      <th>2</th>\n",
       "      <td>Louis</td>\n",
       "      <td>49.0</td>\n",
       "      <td>NY</td>\n",
       "      <td>80.0</td>\n",
       "      <td>accountant</td>\n",
       "    </tr>\n",
       "    <tr>\n",
       "      <th>3</th>\n",
       "      <td>Sally</td>\n",
       "      <td>46.0</td>\n",
       "      <td>OR</td>\n",
       "      <td>89.0</td>\n",
       "      <td>driver</td>\n",
       "    </tr>\n",
       "    <tr>\n",
       "      <th>7</th>\n",
       "      <td>Dave</td>\n",
       "      <td>68.0</td>\n",
       "      <td>TX</td>\n",
       "      <td>70.0</td>\n",
       "      <td>retired</td>\n",
       "    </tr>\n",
       "  </tbody>\n",
       "</table>\n",
       "</div>"
      ],
      "text/plain": [
       "    name   age state  point  occupation\n",
       "0  Alice  24.0    NY   90.0       studt\n",
       "1  Frank  30.0    HI   86.0       sales\n",
       "2  Louis  49.0    NY   80.0  accountant\n",
       "3  Sally  46.0    OR   89.0      driver\n",
       "7   Dave  68.0    TX   70.0     retired"
      ]
     },
     "execution_count": 557,
     "metadata": {},
     "output_type": "execute_result"
    }
   ],
   "source": [
    "df6= df.fillna(0)\n",
    "df6.head()"
   ]
  },
  {
   "cell_type": "markdown",
   "metadata": {},
   "source": [
    "<a id=\"replace_ave\"></a>"
   ]
  },
  {
   "cell_type": "markdown",
   "metadata": {},
   "source": [
    "### 特定の列だけ欠損値を平均値で置換して、df7という名前のDataFrameに格納する\n",
    "### Replace NaN with a mean value of the column specifically, then store it in a DataFrame named df7."
   ]
  },
  {
   "cell_type": "code",
   "execution_count": 558,
   "metadata": {},
   "outputs": [],
   "source": [
    "# df.fillna(df.mean().loc[\"age\"])\n",
    "df7 = df.fillna({'name': 'XXX', 'age': df[\"age\"].mean()})\n"
   ]
  },
  {
   "cell_type": "markdown",
   "metadata": {},
   "source": [
    "### point行のNaNを、その行の平均値で置換して、df8という名前のDataFrameに格納する\n",
    "Replace NaN with a mean value of the column, 'point', then store it in a DataFrame named df8."
   ]
  },
  {
   "cell_type": "code",
   "execution_count": 559,
   "metadata": {},
   "outputs": [
    {
     "data": {
      "text/html": [
       "<div>\n",
       "<style scoped>\n",
       "    .dataframe tbody tr th:only-of-type {\n",
       "        vertical-align: middle;\n",
       "    }\n",
       "\n",
       "    .dataframe tbody tr th {\n",
       "        vertical-align: top;\n",
       "    }\n",
       "\n",
       "    .dataframe thead th {\n",
       "        text-align: right;\n",
       "    }\n",
       "</style>\n",
       "<table border=\"1\" class=\"dataframe\">\n",
       "  <thead>\n",
       "    <tr style=\"text-align: right;\">\n",
       "      <th></th>\n",
       "      <th>name</th>\n",
       "      <th>age</th>\n",
       "      <th>state</th>\n",
       "      <th>point</th>\n",
       "      <th>occupation</th>\n",
       "    </tr>\n",
       "  </thead>\n",
       "  <tbody>\n",
       "    <tr>\n",
       "      <th>0</th>\n",
       "      <td>Alice</td>\n",
       "      <td>24.0</td>\n",
       "      <td>NY</td>\n",
       "      <td>90.0</td>\n",
       "      <td>studt</td>\n",
       "    </tr>\n",
       "    <tr>\n",
       "      <th>1</th>\n",
       "      <td>Frank</td>\n",
       "      <td>30.0</td>\n",
       "      <td>HI</td>\n",
       "      <td>86.0</td>\n",
       "      <td>sales</td>\n",
       "    </tr>\n",
       "    <tr>\n",
       "      <th>2</th>\n",
       "      <td>Louis</td>\n",
       "      <td>49.0</td>\n",
       "      <td>NY</td>\n",
       "      <td>80.0</td>\n",
       "      <td>accountant</td>\n",
       "    </tr>\n",
       "    <tr>\n",
       "      <th>3</th>\n",
       "      <td>Sally</td>\n",
       "      <td>46.0</td>\n",
       "      <td>OR</td>\n",
       "      <td>89.0</td>\n",
       "      <td>driver</td>\n",
       "    </tr>\n",
       "    <tr>\n",
       "      <th>7</th>\n",
       "      <td>Dave</td>\n",
       "      <td>68.0</td>\n",
       "      <td>TX</td>\n",
       "      <td>70.0</td>\n",
       "      <td>retired</td>\n",
       "    </tr>\n",
       "    <tr>\n",
       "      <th>11</th>\n",
       "      <td>Rachel</td>\n",
       "      <td>25.0</td>\n",
       "      <td>TX</td>\n",
       "      <td>88.0</td>\n",
       "      <td>sales</td>\n",
       "    </tr>\n",
       "    <tr>\n",
       "      <th>12</th>\n",
       "      <td>Claire</td>\n",
       "      <td>36.0</td>\n",
       "      <td>OR</td>\n",
       "      <td>92.0</td>\n",
       "      <td>lawyer</td>\n",
       "    </tr>\n",
       "    <tr>\n",
       "      <th>14</th>\n",
       "      <td>David</td>\n",
       "      <td>42.0</td>\n",
       "      <td>MA</td>\n",
       "      <td>89.0</td>\n",
       "      <td>accountant</td>\n",
       "    </tr>\n",
       "    <tr>\n",
       "      <th>15</th>\n",
       "      <td>Vickey</td>\n",
       "      <td>57.0</td>\n",
       "      <td>MS</td>\n",
       "      <td>85.0</td>\n",
       "      <td>professor</td>\n",
       "    </tr>\n",
       "    <tr>\n",
       "      <th>16</th>\n",
       "      <td>Harvey</td>\n",
       "      <td>38.0</td>\n",
       "      <td>NY</td>\n",
       "      <td>92.0</td>\n",
       "      <td>lawyer</td>\n",
       "    </tr>\n",
       "  </tbody>\n",
       "</table>\n",
       "</div>"
      ],
      "text/plain": [
       "      name   age state  point  occupation\n",
       "0    Alice  24.0    NY   90.0       studt\n",
       "1    Frank  30.0    HI   86.0       sales\n",
       "2    Louis  49.0    NY   80.0  accountant\n",
       "3    Sally  46.0    OR   89.0      driver\n",
       "7     Dave  68.0    TX   70.0     retired\n",
       "11  Rachel  25.0    TX   88.0       sales\n",
       "12  Claire  36.0    OR   92.0      lawyer\n",
       "14   David  42.0    MA   89.0  accountant\n",
       "15  Vickey  57.0    MS   85.0   professor\n",
       "16  Harvey  38.0    NY   92.0      lawyer"
      ]
     },
     "execution_count": 559,
     "metadata": {},
     "output_type": "execute_result"
    }
   ],
   "source": [
    "df8 = df.fillna({'point': df[\"point\"].mean()})\n",
    "\n",
    "# df8.point.isnull().sum()\n",
    "df8.head(10)"
   ]
  },
  {
   "cell_type": "markdown",
   "metadata": {},
   "source": [
    "### 欠損値の抽出 / Extraction of NaN\n",
    "特定の列に欠損値が含まれている行を選択して確認したい場合、列のisnull()メソッドで欠損値がTrue、それ以外がFalseとなるpandas.Seriesを取得し、ブールインデックス参照で抽出する。\n"
   ]
  },
  {
   "cell_type": "code",
   "execution_count": 560,
   "metadata": {},
   "outputs": [
    {
     "data": {
      "text/html": [
       "<div>\n",
       "<style scoped>\n",
       "    .dataframe tbody tr th:only-of-type {\n",
       "        vertical-align: middle;\n",
       "    }\n",
       "\n",
       "    .dataframe tbody tr th {\n",
       "        vertical-align: top;\n",
       "    }\n",
       "\n",
       "    .dataframe thead th {\n",
       "        text-align: right;\n",
       "    }\n",
       "</style>\n",
       "<table border=\"1\" class=\"dataframe\">\n",
       "  <thead>\n",
       "    <tr style=\"text-align: right;\">\n",
       "      <th></th>\n",
       "      <th>name</th>\n",
       "      <th>age</th>\n",
       "      <th>state</th>\n",
       "      <th>point</th>\n",
       "      <th>occupation</th>\n",
       "    </tr>\n",
       "  </thead>\n",
       "  <tbody>\n",
       "  </tbody>\n",
       "</table>\n",
       "</div>"
      ],
      "text/plain": [
       "Empty DataFrame\n",
       "Columns: [name, age, state, point, occupation]\n",
       "Index: []"
      ]
     },
     "execution_count": 560,
     "metadata": {},
     "output_type": "execute_result"
    }
   ],
   "source": [
    "# 'point'列にNaNがある行を抽出 / Extract rows which have NaN in the column, 'point'.\n",
    "df[df['point'].isnull()]\n"
   ]
  },
  {
   "cell_type": "markdown",
   "metadata": {},
   "source": [
    "特定の行に欠損値が含まれている列を選択する場合も考え方は同じ。行名（行ラベル）で選択する場合は`loc[]`、位置で選択する場合は`iloc[]`を使う。"
   ]
  },
  {
   "cell_type": "code",
   "execution_count": 561,
   "metadata": {},
   "outputs": [
    {
     "data": {
      "text/plain": [
       "name          False\n",
       "age           False\n",
       "state         False\n",
       "point         False\n",
       "occupation    False\n",
       "Name: 11, dtype: bool"
      ]
     },
     "execution_count": 561,
     "metadata": {},
     "output_type": "execute_result"
    }
   ],
   "source": [
    "df.iloc[5].isnull()\n",
    "# df.iloc[5,:].isnull()\n",
    "\n",
    "# df.loc[:, df.iloc[5].isnull()]"
   ]
  },
  {
   "cell_type": "markdown",
   "metadata": {},
   "source": [
    "<a id=\"slice\"></a>"
   ]
  },
  {
   "cell_type": "markdown",
   "metadata": {},
   "source": [
    "## スライス / Slice\n",
    "\n",
    "[スライスによるリストや文字列の部分選択・代入@note.nkmk.me](https://note.nkmk.me/python-slice-usage/)"
   ]
  },
  {
   "cell_type": "code",
   "execution_count": 562,
   "metadata": {},
   "outputs": [
    {
     "name": "stdout",
     "output_type": "stream",
     "text": [
      "[20, 30, 40]\n"
     ]
    }
   ],
   "source": [
    "l = [0, 10, 20, 30, 40, 50, 60]\n",
    "\n",
    "print(l[2:5])\n",
    "# [20, 30, 40]"
   ]
  },
  {
   "cell_type": "code",
   "execution_count": 563,
   "metadata": {},
   "outputs": [
    {
     "name": "stdout",
     "output_type": "stream",
     "text": [
      "[0, 10, 20]\n",
      "[30, 40, 50, 60]\n",
      "[0, 10, 20, 30, 40, 50, 60]\n"
     ]
    }
   ],
   "source": [
    "print(l[:3])\n",
    "# [0, 10, 20]\n",
    "\n",
    "print(l[3:])\n",
    "# [30, 40, 50, 60]\n",
    "\n",
    "print(l[:])\n",
    "# [0, 10, 20, 30, 40, 50, 60]\n"
   ]
  },
  {
   "cell_type": "markdown",
   "metadata": {},
   "source": [
    "## loc, iloc\n",
    "[参考サイト：pandasで任意の位置の値を取得・変更するloc, iloc](https://note.nkmk.me/python-pandas-at-iat-loc-iloc/)"
   ]
  },
  {
   "cell_type": "code",
   "execution_count": 564,
   "metadata": {},
   "outputs": [
    {
     "name": "stdout",
     "output_type": "stream",
     "text": [
      "1    30.0\n",
      "2    49.0\n",
      "3    46.0\n",
      "Name: age, dtype: float64\n"
     ]
    }
   ],
   "source": [
    "# df.head()\n",
    "\n",
    "# You can extract multiple columns or rows with loc.\n",
    "# df.loc[index, columns])\n",
    "df.loc[1:4, 'age']\n",
    "\n",
    "# You can extract multiple columns or rows with iloc with index numbers.\n",
    "print(df.iloc[1:4, 1])\n"
   ]
  },
  {
   "cell_type": "markdown",
   "metadata": {},
   "source": [
    "### 欠損値の補間 / Interpolation of NaN\n",
    "[参考サイト：pandasで欠損値NaNを前後の値から補間するinterpolate](https://note.nkmk.me/python-pandas-interpolate/)"
   ]
  },
  {
   "cell_type": "code",
   "execution_count": 565,
   "metadata": {},
   "outputs": [
    {
     "name": "stdout",
     "output_type": "stream",
     "text": [
      "   col1  col2  col3\n",
      "0   0.0   NaN   4.0\n",
      "1   NaN   1.0   NaN\n",
      "2   NaN   2.0   NaN\n",
      "3   3.0   NaN   7.0\n",
      "4   4.0   NaN  10.0\n"
     ]
    }
   ],
   "source": [
    "# Original data\n",
    "df1 = pd.DataFrame({'col1': [0, np.nan, np.nan, 3, 4],\n",
    "                   'col2': [np.nan, 1, 2, np.nan, np.nan],\n",
    "                   'col3': [4, np.nan, np.nan, 7, 10]})\n",
    "\n",
    "print(df1)"
   ]
  },
  {
   "cell_type": "code",
   "execution_count": 566,
   "metadata": {},
   "outputs": [
    {
     "name": "stdout",
     "output_type": "stream",
     "text": [
      "   col1  col2  col3\n",
      "0   0.0   NaN   4.0\n",
      "1   1.0   1.0   5.0\n",
      "2   2.0   2.0   6.0\n",
      "3   3.0   2.0   7.0\n",
      "4   4.0   2.0  10.0\n"
     ]
    }
   ],
   "source": [
    "# デフォルトでは各列に対して線形補間を行う。下端の欠損値には同じ値が繰り返される。上端の欠損値はそのまま。\n",
    "# Interpolate NaN linearly as default\n",
    "print(df1.interpolate())"
   ]
  },
  {
   "cell_type": "code",
   "execution_count": 567,
   "metadata": {},
   "outputs": [
    {
     "name": "stdout",
     "output_type": "stream",
     "text": [
      "   col1  col2  col3\n",
      "0   0.0   2.0   4.0\n",
      "1   NaN   1.0   1.0\n",
      "2   NaN   2.0   2.0\n",
      "3   3.0   5.0   7.0\n",
      "4   4.0   7.0  10.0\n"
     ]
    }
   ],
   "source": [
    "# 引数axis=1とすると各行に対して補間される。右端の欠損値には同じ値が繰り返される。左端の欠損値はそのまま。\n",
    "print(df1.interpolate(axis=1))"
   ]
  },
  {
   "cell_type": "code",
   "execution_count": 568,
   "metadata": {},
   "outputs": [
    {
     "name": "stdout",
     "output_type": "stream",
     "text": [
      "   col1  col2  col3\n",
      "0   0.0   NaN   4.0\n",
      "1   1.0   1.0   5.0\n",
      "2   2.0   2.0   6.0\n",
      "3   3.0   2.0   7.0\n",
      "4   4.0   2.0  10.0\n"
     ]
    }
   ],
   "source": [
    "# 引数inplaceでオブジェクト自体を更新するかどうかを指定できる。 / You can specify whether you update the object with the interpolated array.\n",
    "df_copy = df1.copy()\n",
    "df_copy.interpolate(inplace=True)\n",
    "print(df_copy)"
   ]
  },
  {
   "cell_type": "markdown",
   "metadata": {},
   "source": [
    "# 記述統計 / Statistics\n",
    "[Week 2: DataFrame@Pandas](Ex_Week2.ipynb#DataFrame)\n",
    "\n",
    "サンプルデータはこちら。<br>\n",
    "Here is a sample data.<br>\n",
    "\n",
    "|  Name  |  Math <br>[points] |  50m run <br> [sec] |\n",
    "| :-: | :-: | :-: |\n",
    "|  Harvey | 90 |  8.8  |\n",
    "|  Mike | 100 |  7.6  |\n",
    "|  Louis | 98 |  9.5  |\n",
    "|  Harold | 87 |  10.2  |\n",
    "|  Robert | 80 |  12.4  |\n",
    "\n",
    "[参考サイト: Pythonで標準偏差・分散・平均値・中央値 等の統計量を取得する方法](https://it-engineer-lab.com/archives/1057)"
   ]
  },
  {
   "cell_type": "code",
   "execution_count": 569,
   "metadata": {},
   "outputs": [
    {
     "data": {
      "text/html": [
       "<div>\n",
       "<style scoped>\n",
       "    .dataframe tbody tr th:only-of-type {\n",
       "        vertical-align: middle;\n",
       "    }\n",
       "\n",
       "    .dataframe tbody tr th {\n",
       "        vertical-align: top;\n",
       "    }\n",
       "\n",
       "    .dataframe thead th {\n",
       "        text-align: right;\n",
       "    }\n",
       "</style>\n",
       "<table border=\"1\" class=\"dataframe\">\n",
       "  <thead>\n",
       "    <tr style=\"text-align: right;\">\n",
       "      <th></th>\n",
       "      <th>Math</th>\n",
       "      <th>50m run</th>\n",
       "    </tr>\n",
       "  </thead>\n",
       "  <tbody>\n",
       "    <tr>\n",
       "      <th>Harvey</th>\n",
       "      <td>90</td>\n",
       "      <td>8.8</td>\n",
       "    </tr>\n",
       "    <tr>\n",
       "      <th>Mike</th>\n",
       "      <td>100</td>\n",
       "      <td>7.6</td>\n",
       "    </tr>\n",
       "    <tr>\n",
       "      <th>Louis</th>\n",
       "      <td>98</td>\n",
       "      <td>9.5</td>\n",
       "    </tr>\n",
       "    <tr>\n",
       "      <th>Harold</th>\n",
       "      <td>87</td>\n",
       "      <td>10.2</td>\n",
       "    </tr>\n",
       "    <tr>\n",
       "      <th>Robert</th>\n",
       "      <td>80</td>\n",
       "      <td>12.4</td>\n",
       "    </tr>\n",
       "  </tbody>\n",
       "</table>\n",
       "</div>"
      ],
      "text/plain": [
       "        Math  50m run\n",
       "Harvey    90      8.8\n",
       "Mike     100      7.6\n",
       "Louis     98      9.5\n",
       "Harold    87     10.2\n",
       "Robert    80     12.4"
      ]
     },
     "execution_count": 569,
     "metadata": {},
     "output_type": "execute_result"
    }
   ],
   "source": [
    "# Define an array in DataFrame type of the data above.\n",
    "suits_m = pd.DataFrame([[90, 8.8],\n",
    "                        [100, 7.6],\n",
    "                        [98, 9.5],\n",
    "                        [87, 10.2],\n",
    "                        [80, 12.4]],\n",
    "                       index=[\"Harvey\", \"Mike\", \"Louis\", \"Harold\", \"Robert\"],\n",
    "                       columns=[\"Math\", \"50m run\"])\n",
    "suits_m"
   ]
  },
  {
   "cell_type": "markdown",
   "metadata": {},
   "source": [
    "<a id=\"scatterplot\"></a>"
   ]
  },
  {
   "cell_type": "markdown",
   "metadata": {},
   "source": [
    "### Matplotlib でプロットしてみよう。/ Let's plot data with Matplotlib.<br>\n",
    "[参考サイト：matplotlibでよく使われるやつを改めてまとめた](https://qiita.com/kakiuchis/items/798c00f54c9151ab2e8b)<br>\n",
    "[参考サイト：matplotlib で散布図 (Scatter plot) を描く](https://pythondatascience.plavox.info/matplotlib/%E6%95%A3%E5%B8%83%E5%9B%B3)<br>\n",
    "[参考サイト：Python / matplotlib を利用した散布図の描き方](https://stats.biopapyrus.jp/python/scatter.html)<br>\n",
    "[EN: Matplotlib Documentation](https://matplotlib.org/)"
   ]
  },
  {
   "cell_type": "code",
   "execution_count": 570,
   "metadata": {},
   "outputs": [
    {
     "data": {
      "image/png": "[encoded data removed]",
      "text/plain": [
       "<Figure size 1000x600 with 1 Axes>"
      ]
     },
     "metadata": {},
     "output_type": "display_data"
    }
   ],
   "source": [
    "# Plot data with scattering plot\n",
    "# Math vs. 50m run\n",
    "\n",
    "plt.figure(figsize=(10, 6))\n",
    "sns.scatterplot(data=suits_m, x='Math', y='50m run', color='red', marker='o')\n",
    "plt.title('Scatter Plot of Math Scores vs 50m Run Times (Seaborn)')\n",
    "\n",
    "plt.xlabel('Math Scores')\n",
    "plt.ylabel('50m Run Times')\n",
    "plt.grid(True)\n",
    "plt.show()"
   ]
  },
  {
   "cell_type": "markdown",
   "metadata": {},
   "source": [
    "プロット範囲を変えてみる。/ Change the ranges of axes.\n",
    "<br>\n",
    "* [Matplotlib で軸が等しい正方形のプロットを作成する方法](https://www.delftstack.com/ja/howto/matplotlib/how-to-make-a-square-plot-with-equal-axes-in-matplotlib/)\n",
    "* [Axis Equal Demo](https://matplotlib.org/3.1.0/gallery/subplots_axes_and_figures/axis_equal_demo.html): How to set and adjust plots with equal axis ratios.\n",
    "* [プロット範囲を変えてみる：xlim/ylim](https://doku-pro.com/matplotlib-xlim-ylim/)"
   ]
  },
  {
   "cell_type": "code",
   "execution_count": 572,
   "metadata": {},
   "outputs": [
    {
     "data": {
      "text/plain": [
       "<Figure size 1000x600 with 0 Axes>"
      ]
     },
     "metadata": {},
     "output_type": "display_data"
    },
    {
     "data": {
      "image/png": "[encoded data removed]",
      "text/plain": [
       "<Figure size 640x480 with 1 Axes>"
      ]
     },
     "metadata": {},
     "output_type": "display_data"
    }
   ],
   "source": [
    "# 正方形でプロット\n",
    "plt.figure(figsize=(10, 6))\n",
    "fig = plt.figure()\n",
    "ax = fig.add_subplot(111)\n",
    "sns.scatterplot(data=suits_m, x='Math', y='50m run', color='red', marker='o')\n",
    "plt.title('Scatter Plot of Math Scores vs 50m Run Times (Seaborn)')\n",
    "ax.set_aspect(\"equal\", adjustable=\"box\")\n",
    "plt.xlabel('Math Scores')\n",
    "plt.ylabel('50m Run Times')\n",
    "plt.grid(True)\n",
    "plt.show()"
   ]
  },
  {
   "cell_type": "code",
   "execution_count": 574,
   "metadata": {},
   "outputs": [
    {
     "data": {
      "image/png": "[encoded data removed]",
      "text/plain": [
       "<Figure size 1000x600 with 1 Axes>"
      ]
     },
     "metadata": {},
     "output_type": "display_data"
    }
   ],
   "source": [
    "# プロット範囲を指定する。 / Specify the ranges of the axes.\n",
    "plt.figure(figsize=(10, 6))\n",
    "sns.scatterplot(data=suits_m, x='Math', y='50m run', color='red', marker='o')\n",
    "plt.title('Scatter Plot of Math Scores vs 50m Run Times (Seaborn)')\n",
    "\n",
    "plt.xlabel('Math Scores')\n",
    "plt.ylabel('50m Run Times')\n",
    "plt.ylim([7,13])\n",
    "plt.xlim([80,100])\n",
    "plt.grid(True)\n",
    "plt.show()"
   ]
  },
  {
   "cell_type": "markdown",
   "metadata": {},
   "source": [
    "このように、単位の違う変数で評価をしようと思うと、うまく解析できないことがあります。<br>\n",
    "なので、平均が０、標準偏差が１になるように、データの縮尺を変える処理を行います。<br>\n",
    "この処理をデータの標準化と呼びます。<br>\n",
    "今から、平均と分散の復習を簡単にしてから、標準化について学びます。<br>\n",
    "<br>\n",
    "As you can see from the figure above, if you have two variables of different scales, we often have difficulties to analyze data properly.<br>\n",
    "We rescale the data so that the averages are 0 and the standard deviations are 1.<br>\n",
    "This data processing procedure is called Standardization.<br>\n",
    "Now, we are going to quickly review average and variation, then we will learn the process of Standardization.<br>"
   ]
  },
  {
   "cell_type": "markdown",
   "metadata": {},
   "source": [
    "<a id=\"average\"></a>"
   ]
  },
  {
   "cell_type": "markdown",
   "metadata": {},
   "source": [
    "## 平均 / Average\n",
    "平均値を求める式は以下のように書けます。/ Average is obtained by the equation below.<br>\n",
    "\n",
    "\\begin{eqnarray}\n",
    "\\overline{x}=\\frac{1}{n}\\sum^n_{i=1}x_i\n",
    "\\end{eqnarray}"
   ]
  },
  {
   "cell_type": "code",
   "execution_count": 576,
   "metadata": {},
   "outputs": [
    {
     "name": "stdout",
     "output_type": "stream",
     "text": [
      "Average： 91.0\n"
     ]
    }
   ],
   "source": [
    "# 数学の平均値 / The average of Math score\n",
    "print('Average：', suits_m['Math'].mean())"
   ]
  },
  {
   "cell_type": "code",
   "execution_count": 577,
   "metadata": {},
   "outputs": [
    {
     "name": "stdout",
     "output_type": "stream",
     "text": [
      "Average： 9.7\n"
     ]
    }
   ],
   "source": [
    "# 50m走の平均値 / The average of time of 50m run\n",
    "# Display the result\n",
    "print('Average：', suits_m['50m run'].mean())"
   ]
  },
  {
   "cell_type": "markdown",
   "metadata": {},
   "source": [
    "<a id=\"std\"></a>"
   ]
  },
  {
   "cell_type": "markdown",
   "metadata": {},
   "source": [
    "## 分散と標準偏差 / Variation and Standard deviation\n",
    "データが正規分布に従っているという仮定の上で、データのばらつき具合を見るために、分散や標準偏差を用います。<br>\n",
    "データがどのくらい平均付近に集まっているか、幅広く分布しているか、を測ることができます。<br>\n",
    "分散の計算式は以下の通りです。分散は$\\sigma^2$と示すことが一般的です。$\\sigma$は標準偏差です。<br>\n",
    "<br>\n",
    "Based on the assumption that the variables are normally distributed, we evaluate the dispersion of data with variation.<br>\n",
    "Variation tells us how much the data are dispersed widely or distribute in a very narrow range around the average.<br>\n",
    "Standard deviation and variation are generally denoted as $\\sigma$ and $\\sigma^2$, respectively.<br>\n",
    "Variation is obtained as follows. "
   ]
  },
  {
   "cell_type": "markdown",
   "metadata": {},
   "source": [
    "\\begin{eqnarray}\n",
    "\\sigma^2 = \\frac{1}{n}\\sum^n_{i=1}(x_i-{\\overline{x}} )^2\n",
    "\\end{eqnarray}\n",
    "<br>\n",
    "[参考サイト: Pythonで標準偏差・分散・平均値・中央値 等の統計量を取得する方法 – サンプルコードあり](https://it-engineer-lab.com/archives/1057)"
   ]
  },
  {
   "cell_type": "markdown",
   "metadata": {},
   "source": [
    "### Pandas で分散を計算する / Calculate variation with Pandas."
   ]
  },
  {
   "cell_type": "code",
   "execution_count": null,
   "metadata": {},
   "outputs": [
    {
     "name": "stdout",
     "output_type": "stream",
     "text": [
      "Variation： 67.0\n"
     ]
    }
   ],
   "source": [
    "# 分散 / variation\n",
    "suits_m['Math'].var()\n",
    "\n",
    "# 結果を表示してください。/ Display the result\n",
    "print('Variation：', suits_m['Math'].var())"
   ]
  },
  {
   "cell_type": "code",
   "execution_count": 579,
   "metadata": {},
   "outputs": [
    {
     "name": "stdout",
     "output_type": "stream",
     "text": [
      "Variation： 3.2\n"
     ]
    }
   ],
   "source": [
    "# 分散 / variation\n",
    "# 50m走の分散を計算してください。Calculate the variation of the score of 50m runs.\n",
    "suits_m['50m run'].var()\n",
    "\n",
    "# 結果を表示してください。/ Display the result\n",
    "print('Variation：', suits_m['50m run'].var())\n"
   ]
  },
  {
   "cell_type": "markdown",
   "metadata": {},
   "source": [
    "### Pandas で標準偏差を計算する / Calculate Standard deviation with Pandas.\n",
    "標準偏差は分散の平方根で、以下のようになります。標準偏差は$\\sigma$で示すことが一般的です。/ Standard deviation is a square root of variation.<br>\n",
    "\n",
    "\\begin{eqnarray}\n",
    "\\sigma = \\sqrt{\\frac{1}{n}\\sum^n_{i=1}(x_i-{\\overline{x}} )^2}\n",
    "\\end{eqnarray}\n",
    "\n",
    "分散では、実際のデータのばらつきがどの程度かわかりません。なぜなら、上記で提示した分散の定義式を見るとわかるように、計算式で二乗しているためです。標準偏差にすれば、単位の次元が実際のデータと同じなので、以下の結果から±8日程度のばらつきがあることが分かります。<br>\n",
    "標準偏差は`std()`で計算できます。<br>\n",
    "<br>\n",
    "The dimension of variaton is square of the original data. <br>\n",
    "In order to see the dispersion of the data, the measure has to have the same dimension as the original data. <br>\n",
    "Thus, standard deviation is appropriate to evaluate the dispersion of the data.<br>\n",
    "Standard deviation is calculated with `std()` command."
   ]
  },
  {
   "cell_type": "code",
   "execution_count": null,
   "metadata": {},
   "outputs": [
    {
     "name": "stdout",
     "output_type": "stream",
     "text": [
      "Standard deviation： 8.18535277187245\n"
     ]
    }
   ],
   "source": [
    "# 標準偏差 σ\n",
    "print('Standard deviation：', suits_m['Math'].std())"
   ]
  },
  {
   "cell_type": "code",
   "execution_count": 580,
   "metadata": {},
   "outputs": [
    {
     "name": "stdout",
     "output_type": "stream",
     "text": [
      "Standard deviation： 1.7888543819998317\n"
     ]
    }
   ],
   "source": [
    "# 標準偏差 σ\n",
    "# Calculate the Standard deviation of the score of 50m runs.\n",
    "suits_m['50m run'].std()\n",
    "\n",
    "# 結果を表示してください。/ Display the result\n",
    "print('Standard deviation：', suits_m['50m run'].std())\n"
   ]
  },
  {
   "cell_type": "markdown",
   "metadata": {},
   "source": [
    "<a id=\"standardization\"></a>"
   ]
  },
  {
   "cell_type": "markdown",
   "metadata": {},
   "source": [
    "### データの標準化 / Standardization\n",
    "\n",
    "平均や分散が異なるデータをクラスタリングなどで解析すると、値の大きな変数が分析に大きく影響を与え、値の小さな変数の影響が小さくなってしまうことがあります。<br>\n",
    "すべての変数の影響を等しい重みで考慮して解析するために、データの規格化を行います。<br>\n",
    "標準化とはスケーリングの一種で、データの各値から変数列の平均を引き、標準偏差で割ります。<br>\n",
    "<br>\n",
    "Results by some analysis, such as clustering, is affected strongly by mainly the variables which have large mean and large variation.<br>\n",
    "In order to analyze data properly, we standardize data as follows.<br>\n",
    "<br>\n",
    "\\begin{eqnarray}\n",
    "X = \\frac{x - \\mu}{\\sigma}\n",
    "\\end{eqnarray}\n",
    "\n",
    "$\\mu$: 平均 / mean<br>\n",
    "$\\sigma$: 標準偏差 / standard deviation<br>\n",
    "<br>\n",
    "→つまり、すべての変数を平均０、標準偏差１の分布になるように、スケール変換する、ということです。<br>\n",
    "→To analyze multiple data evenly, we normalize data so that each varialbles has mean to be 0 and variation to be 1.<br>\n",
    "<br>\n",
    "<img src=\"img/w4_Standardization.png\" width=60%>\n",
    "\n",
    "こうすることで変数間の単位が消え数値の大小と意味するところが合致します（値が0ならそれは平均値、1なら1標準偏差だけ平均値より大きい値とわかります）。<br>\n",
    "説明変数の尺度を揃えることで、機械学習のアルゴリズムをよりうまく動作させられます。<br>\n",
    "データの標準化は、上の式を用いて自分で計算することもできますが、`StandardScaler`クラスを使うこともできます。<br>\n",
    "<br>\n",
    "By carrying out the standardization, we can compare the values and the magnitudes between different variables.<br>\n",
    "It help us to analyze the data with Machine learning algorithms.<br>\n",
    "You can simply rescale the variables using the equation above.<br>\n",
    "It is also helpful to use `StandardScaler` class in Scikit-learn library.<br>\n",
    "\n",
    "[参考サイト:統計学における標準化](https://data-science.gr.jp/theory/tbs_standardization.html)<br>\n",
    "[参考サイト:Scikit-Learnを用いた標準化](http://ailaby.com/scaler/)"
   ]
  },
  {
   "cell_type": "markdown",
   "metadata": {},
   "source": [
    "先ほどのデータ(`suits_m['Math']` & `suits_m['50m run']`)を標準化してみましょう。<br>\n",
    "標準化した結果を散布図で示してください。<br>\n",
    "<br>\n",
    "Let's standardize the data, `suits_m['Math']` & `suits_m['50m run']`.<br>\n",
    "Please show the standardized data with a scattering plot."
   ]
  },
  {
   "cell_type": "markdown",
   "metadata": {},
   "source": [
    "<img src=\"img/w4_Normal_Distribution_PDF.png\" width=\"300px\">"
   ]
  },
  {
   "cell_type": "code",
   "execution_count": null,
   "metadata": {},
   "outputs": [
    {
     "data": {
      "image/png": "[encoded data removed]",
      "text/plain": [
       "<Figure size 640x480 with 1 Axes>"
      ]
     },
     "metadata": {},
     "output_type": "display_data"
    }
   ],
   "source": [
    "# mean of \"Math\"\n",
    "math_mu = suits_m['Math'].mean() \n",
    "# standard deviation of \"Math\"\n",
    "math_std = suits_m['Math'].std() \n",
    "\n",
    "# mean of \"50m run\"\n",
    "run_mu = suits_m['50m run'].mean() \n",
    "# standard deviation of \"50m run\"\n",
    "run_std = suits_m['50m run'].std() \n",
    "\n",
    "plt.scatter((suits_m['Math']-math_mu)/math_std,(suits_m['50m run']-run_mu)/run_std)\n",
    "plt.title('Math vs. 50m run')\n",
    "plt.xlabel('Normalized Math')\n",
    "plt.ylabel('Normalized 50m run')\n",
    "plt.xlim(-1.7, 1.7)\n",
    "plt.ylim(-1.7, 1.7)\n",
    "plt.gca().set_aspect('equal', adjustable='box')\n",
    "plt.show()"
   ]
  },
  {
   "cell_type": "markdown",
   "metadata": {},
   "source": [
    "### Scikit-learnを用いた標準化\n",
    "### Standardization with Scikit-learn\n",
    "\n",
    "サンプルデータを用意します。<br>\n",
    "Sample data set is prepared as follows.<br>"
   ]
  },
  {
   "cell_type": "code",
   "execution_count": 581,
   "metadata": {},
   "outputs": [],
   "source": [
    "mu_x = 20 # mean of x\n",
    "var_x = 5 # variation of x\n",
    "mu_y = 35 # mean of y\n",
    "var_y = 8 # variation of y\n",
    "n = 100 # number of data points\n",
    "\n",
    "# Data points are generated with a random generator function.\n",
    "# 平均 mu_x, 分散 var_x の正規分布に従う乱数を生成する。\n",
    "x = normal(size=n)*var_x + mu_x\n",
    "# 平均 mu_y, 分散 var_y の正規分布に従う乱数を生成する。\n",
    "y = normal(size=n)*var_y + mu_y\n",
    "# 0 から 99 までの整数からなるリスト\n",
    "z = np.arange(0, 100, 1)\n"
   ]
  },
  {
   "cell_type": "code",
   "execution_count": null,
   "metadata": {},
   "outputs": [
    {
     "data": {
      "text/plain": [
       "<matplotlib.collections.PathCollection at 0x250c6c668d0>"
      ]
     },
     "execution_count": 524,
     "metadata": {},
     "output_type": "execute_result"
    },
    {
     "data": {
      "image/png": "[encoded data removed]",
      "text/plain": [
       "<Figure size 640x480 with 1 Axes>"
      ]
     },
     "metadata": {},
     "output_type": "display_data"
    }
   ],
   "source": [
    "\n",
    "# plt.figure()\n",
    "# plt.hist(x, bins='auto',alpha=0.3, density=True, histtype='stepfilled',color='r')\n",
    "# plt.hist(y, bins='auto',alpha=0.3, density=True, histtype='stepfilled',color='b')\n",
    "# plt.axvline(x.mean(), color='r')\n",
    "# plt.axvline(y.mean(), color='b')\n",
    "# 正方形でプロット\n",
    "plt.axis('square')\n",
    "# プロット範囲を指定する。 / Specify the ranges of the axes.\n",
    "# ｘの最大値とｙの最大値のうち、大きいほうをｘ軸とｙ軸の上限にして、正方形にプロット\n",
    "# プロット点が枠上に来ないように、プロット範囲を上限値の1.1倍にして余白を作ってあります。\n",
    "plt.xlim(0,max(max(x),max(y))*1.1)\n",
    "plt.ylim(0,max(max(x),max(y))*1.1)\n",
    "plt.scatter(x,y)"
   ]
  },
  {
   "cell_type": "markdown",
   "metadata": {},
   "source": [
    "## hist のオプションについて、自分で調べてみよう\n",
    "## Please look into the options of 'hist'."
   ]
  },
  {
   "cell_type": "code",
   "execution_count": null,
   "metadata": {},
   "outputs": [],
   "source": [
    "# bins\n",
    "\n",
    "# alpha\n",
    "\n",
    "# density\n",
    "\n",
    "# histtype\n",
    "\n",
    "# color\n",
    "\n"
   ]
  },
  {
   "cell_type": "code",
   "execution_count": null,
   "metadata": {},
   "outputs": [],
   "source": [
    "# 標準化のためのクラスをインポート\n",
    "from sklearn.model_selection import train_test_split\n",
    "import matplotlib.pyplot as plt\n",
    "import numpy as np\n",
    "import sklearn.preprocessing as preprocessing\n",
    "from sklearn.preprocessing import StandardScaler\n",
    "\n",
    "mu_x = 20\n",
    "mu_y = 35\n",
    "var_x = 5\n",
    "var_y = 8\n",
    "n = 1000\n",
    "\n",
    "# 平均 mu_x, 分散 var_x の正規分布に従う乱数を生成する。\n",
    "x = normal(size=n)*var_x + mu_x\n",
    "# 平均 mu_y, 分散 var_y の正規分布に従う乱数を生成する。\n",
    "y = normal(size=n)*var_y + mu_y\n",
    "\n",
    "xx = np.vstack([x, y]) # x and y is horizontally stacked.\n",
    "xx.shape\n",
    "xx = xx.T # xx is transposed (because a data set has to be in column for the standardization).\n",
    "xx.shape\n",
    "\n",
    "sc = StandardScaler()\n",
    "x_std = sc.fit_transform(xx)\n"
   ]
  },
  {
   "cell_type": "code",
   "execution_count": null,
   "metadata": {},
   "outputs": [
    {
     "data": {
      "image/png": "[encoded data removed]",
      "text/plain": [
       "<Figure size 640x480 with 1 Axes>"
      ]
     },
     "metadata": {},
     "output_type": "display_data"
    }
   ],
   "source": [
    "\n",
    "plt.scatter(xx[:, 0], xx[:, 1], c='red', marker='x', s=30, label='origin')\n",
    "plt.scatter(x_std[:, 0], x_std[:, 1], c='blue', marker='x', s=30, label='standard ')\n",
    "plt.legend(loc='upper right')\n",
    "plt.gca().set_aspect('equal', adjustable='box')\n",
    "plt.xlim(-10, 70)\n",
    "plt.ylim(-10, 70)\n",
    "plt.show()\n",
    "\n",
    "# StandardScaler は二次元配列でないと動かないようです。\n",
    "# 1次元配列に適用しようとすると、エラーが出て動きません。。\n",
    "# Please note that StandardScaler can be applied to two dimensional arrays.\n",
    "# Somehow, it doesn't work with one dimensional array..."
   ]
  },
  {
   "cell_type": "markdown",
   "metadata": {},
   "source": [
    "## 可視化 : 散布図\n",
    "## Visualization : Scattering plot\n",
    "マークの大きさを変えてみよう。/ Please change the size of the markers.<br>\n",
    "軸のラベルのフォントサイズを変えてみよう。/ Please change the font size of the axis labels.<br>\n",
    "\n",
    "[Supplement: Scattering plot](Ex_S_Matplotlib.ipynb#scatterplot)<br>"
   ]
  },
  {
   "cell_type": "code",
   "execution_count": null,
   "metadata": {},
   "outputs": [
    {
     "data": {
      "image/png": "[encoded data removed]",
      "text/plain": [
       "<Figure size 640x480 with 1 Axes>"
      ]
     },
     "metadata": {},
     "output_type": "display_data"
    }
   ],
   "source": [
    "#グラフを業内に表示\n",
    "%matplotlib inline\n",
    "import matplotlib.pyplot as plt\n",
    "from numpy.random import rand\n",
    "\n",
    "n=1000\n",
    "x = rand(n)\n",
    "y = rand(n)\n",
    "\n",
    "plt.scatter(x,y)\n",
    "plt.title('Scattered plot')\n",
    "plt.xlabel('x')\n",
    "plt.ylabel('y')\n",
    "# 正方形でプロット\n",
    "plt.axis('square')\n",
    "plt.show()"
   ]
  },
  {
   "cell_type": "code",
   "execution_count": null,
   "metadata": {},
   "outputs": [
    {
     "data": {
      "image/png": "[encoded data removed]",
      "text/plain": [
       "<Figure size 640x480 with 1 Axes>"
      ]
     },
     "metadata": {},
     "output_type": "display_data"
    }
   ],
   "source": [
    "plt.title('Histogram') # グラフのタイトル\n",
    "plt.xlabel('Value') # x軸のラベル\n",
    "plt.ylabel('Frequency') # y軸のラベル\n",
    "plt.hist(x,bins='auto', density=True, alpha=0.6) # ビンの数を変えるにはbinsを変える。\n",
    "plt.hist(y,bins='auto', density=True, alpha=0.6) # ビンの数を変えるにはbinsを変える。\n",
    "plt.show()"
   ]
  },
  {
   "cell_type": "markdown",
   "metadata": {},
   "source": [
    "**マークの大きさを変えてみよう。/ Please change the size of the markers.<br>\n",
    "軸のラベルのフォントサイズを変えてみよう。/ Please change the font size of the axis labels.**"
   ]
  },
  {
   "cell_type": "markdown",
   "metadata": {},
   "source": [
    "<a id=\"barchart\"></a>"
   ]
  },
  {
   "cell_type": "markdown",
   "metadata": {},
   "source": [
    "## 可視化 : 棒グラフ\n",
    "## Visualization : Bar charts\n",
    "マークの大きさを変えてみよう。/ Please change the size of the markers.<br>\n",
    "軸のラベルのフォントサイズを変えてみよう。/ Please change the font size of the axis labels.<br>\n",
    "\n",
    "[Supplement: Bar charts](Ex_S_Matplotlib.ipynb#barchart)<br>"
   ]
  },
  {
   "cell_type": "code",
   "execution_count": null,
   "metadata": {},
   "outputs": [
    {
     "data": {
      "image/png": "[encoded data removed]",
      "text/plain": [
       "<Figure size 640x480 with 1 Axes>"
      ]
     },
     "metadata": {},
     "output_type": "display_data"
    }
   ],
   "source": [
    "import numpy as np\n",
    "import matplotlib.pyplot as plt\n",
    " \n",
    "x = np.array([48000, 11000, 33000, 6500, 5000,5000])\n",
    "label = [\"Housing\", \"Utility\", \"Food\", \"Phone\", \"Misc\", \"Clothings\"]\n",
    "plt.bar(label, x)\n",
    "plt.show()"
   ]
  },
  {
   "cell_type": "markdown",
   "metadata": {},
   "source": [
    "## 可視化 : ヒストグラム\n",
    "## Visualization : Histogram\n"
   ]
  },
  {
   "cell_type": "code",
   "execution_count": null,
   "metadata": {},
   "outputs": [
    {
     "data": {
      "image/png": "[encoded data removed]",
      "text/plain": [
       "<Figure size 640x480 with 1 Axes>"
      ]
     },
     "metadata": {},
     "output_type": "display_data"
    }
   ],
   "source": [
    "# 標準化のためのクラスをインポート\n",
    "from sklearn.preprocessing import StandardScaler\n",
    "from sklearn.model_selection import train_test_split\n",
    "\n",
    "from numpy.random import normal,rand\n",
    "\n",
    "mu_x = 80   # xの平均\n",
    "mu_y = 100  # yの平均\n",
    "var_x = 10  # xの標準偏差\n",
    "var_y = 5  # yの標準偏差\n",
    "n=1000 #生成する乱数の個数\n",
    "\n",
    "x = normal(mu_x, var_x, n) # 平均 mu_x, 標準偏差 var_x の正規分布で乱数を n個 生成する。\n",
    "y = normal(mu_y, var_y, n)\n",
    "#plt.hist(x,bins=30) # ビンの数を変えるにはbinsを変える。\n",
    "plt.title('Histogram') # グラフのタイトル\n",
    "plt.xlabel('Value') # x軸のラベル\n",
    "plt.ylabel('Frequency') # y軸のラベル\n",
    "plt.hist(x,bins='auto', density=True, alpha=0.6) # ビンの数を変えるにはbinsを変える。\n",
    "plt.hist(y,bins='auto', density=True, alpha=0.6) # ビンの数を変えるにはbinsを変える。\n",
    "plt.show()\n"
   ]
  },
  {
   "cell_type": "markdown",
   "metadata": {},
   "source": [
    "**それぞれのオプションの意味を調べてみましょう。**<br>\n",
    "**Please check the option of the function, hist.**"
   ]
  },
  {
   "cell_type": "markdown",
   "metadata": {},
   "source": [
    "<a id=\"heatmap\"></a>"
   ]
  },
  {
   "cell_type": "markdown",
   "metadata": {},
   "source": [
    "## 可視化 : ヒートマップ\n",
    "## Visualization : Heat map\n",
    "\n",
    "[参考サイト：Seaborn でヒートマップを作成する](https://pythondatascience.plavox.info/seaborn/heatmap)<br>\n"
   ]
  },
  {
   "cell_type": "code",
   "execution_count": null,
   "metadata": {},
   "outputs": [
    {
     "data": {
      "text/plain": [
       "<Axes: >"
      ]
     },
     "execution_count": 532,
     "metadata": {},
     "output_type": "execute_result"
    },
    {
     "data": {
      "image/png": "[encoded data removed]",
      "text/plain": [
       "<Figure size 640x480 with 2 Axes>"
      ]
     },
     "metadata": {},
     "output_type": "display_data"
    }
   ],
   "source": [
    "import numpy as np \n",
    "import seaborn as sns\n",
    " \n",
    "# 10x12 の一様乱数を生成\n",
    "np.random.seed(0)\n",
    "uniform_data = np.random.rand(10, 12)\n",
    "\n",
    "# ヒートマップを出力\n",
    "sns.heatmap(uniform_data)"
   ]
  },
  {
   "cell_type": "code",
   "execution_count": null,
   "metadata": {},
   "outputs": [
    {
     "data": {
      "image/png": "[encoded data removed]",
      "text/plain": [
       "<Figure size 640x480 with 2 Axes>"
      ]
     },
     "metadata": {},
     "output_type": "display_data"
    }
   ],
   "source": [
    "%matplotlib inline\n",
    "import matplotlib.pyplot as plt\n",
    "from numpy.random import rand\n",
    "import math\n",
    "\n",
    "\n",
    "x = np.arange(-10, 10, 1)\n",
    "y = np.arange(-10, 10, 1)\n",
    "z = [[0 for i in range(len(x))] for j in range(len(y))]\n",
    "for i in range(len(x)):\n",
    "    for j in range(len(y)):\n",
    "        z[i][j]= math.sqrt(x[i]*x[i] + y[j]*y[j])\n",
    "\n",
    "sns.heatmap(z)\n",
    "plt.gca().set_aspect('equal', adjustable='box')\n",
    "#plt.scatter(x,z[:,10])\n",
    "plt.show()\n"
   ]
  },
  {
   "cell_type": "code",
   "execution_count": null,
   "metadata": {},
   "outputs": [],
   "source": []
  },
  {
   "cell_type": "code",
   "execution_count": null,
   "metadata": {},
   "outputs": [],
   "source": []
  }
 ],
 "metadata": {
  "kernelspec": {
   "display_name": "Python 3 (ipykernel)",
   "language": "python",
   "name": "python3"
  },
  "language_info": {
   "codemirror_mode": {
    "name": "ipython",
    "version": 3
   },
   "file_extension": ".py",
   "mimetype": "text/x-python",
   "name": "python",
   "nbconvert_exporter": "python",
   "pygments_lexer": "ipython3",
   "version": "3.11.5"
  },
  "toc": {
   "base_numbering": 1,
   "nav_menu": {},
   "number_sections": true,
   "sideBar": true,
   "skip_h1_title": false,
   "title_cell": "Table of Contents",
   "title_sidebar": "Contents",
   "toc_cell": false,
   "toc_position": {},
   "toc_section_display": true,
   "toc_window_display": false
  },
  "vscode": {
   "interpreter": {
    "hash": "7ff7f5110c1a80a297e568b8b6569f6582c3ec4f201fd564f96be6ea4e8c4383"
   }
  }
 },
 "nbformat": 4,
 "nbformat_minor": 4
}
