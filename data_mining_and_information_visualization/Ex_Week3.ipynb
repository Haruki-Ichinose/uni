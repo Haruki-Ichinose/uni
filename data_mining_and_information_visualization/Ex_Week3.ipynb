{
 "cells": [
  {
   "cell_type": "markdown",
   "metadata": {
    "slideshow": {
     "slide_type": "slide"
    }
   },
   "source": [
    "# **データマイニングと情報可視化: 演習**\n",
    "# **Data mining and information visualization: Exercise**\n",
    "<font size=\"4\">\n",
    "第3回　2023年12月19日(火)<br>\n",
    "データマイニング手法1-2：マーケットバスケット分析（データ解析と可視化）<br>\n",
    "Method 1-2: Market basket analysis (Analyze data &amp;visualization)<br>\n",
    "</font>\n",
    "\n",
    "[レポート / Assignment](Rep_Week3.ipynb) <span style=\"color: black;font-weight:bold;\" >締め切り 2023年12月22日(金) 23:59 JST</span>"
   ]
  },
  {
   "cell_type": "markdown",
   "metadata": {
    "slideshow": {
     "slide_type": "subslide"
    }
   },
   "source": [
    "<img src=\"img/w3_marketbasket.png\" width=\"500px\">"
   ]
  },
  {
   "cell_type": "code",
   "execution_count": 22,
   "metadata": {
    "slideshow": {
     "slide_type": "subslide"
    },
    "tags": []
   },
   "outputs": [
    {
     "data": {
      "text/plain": [
       "'%.3f'"
      ]
     },
     "execution_count": 22,
     "metadata": {},
     "output_type": "execute_result"
    }
   ],
   "source": [
    "# まずはライブラリをインポート / Import the libraries.\n",
    "import numpy as np\n",
    "import numpy.random as random\n",
    "import scipy as sp\n",
    "from pandas import Series, DataFrame\n",
    "import pandas as pd\n",
    "\n",
    "# 可視化ライブラリ / Visualization libraries\n",
    "import matplotlib.pyplot as plt\n",
    "import matplotlib as mpl\n",
    "import seaborn as sns\n",
    "%matplotlib inline\n",
    "\n",
    "# 機械学習ライブラリ (念のため)/ Machine learning library (may not be used, but just in case..)\n",
    "import sklearn\n",
    "\n",
    "# 小数第3位まで表示 / display up to the 3rd decimal place\n",
    "%precision 3"
   ]
  },
  {
   "cell_type": "markdown",
   "metadata": {},
   "source": [
    "### Useful shortcuts\n",
    "\n",
    "<b>セルの実行 / Run selected cells and don't advance</b><br>\n",
    "Ctrl-Enter\n",
    "\n",
    "<b>セルの実行して下のセルに移動 / Run selected cells and advance</b><br>\n",
    "Shift-Enter\n",
    "\n",
    "<b>複数行のコメントアウト / Comment out multiple lines</b><br>\n",
    "Ctrl + /<br>\n",
    "<br>\n",
    "<b>セルを下に追加 / Add a cell below</b><br>\n",
    "Esc + b<br>\n",
    "<br>\n",
    "<b>セルをマークダウンモード/ Set a cell to Markdown mode</b><br>\n",
    "Esc + m<br>\n",
    "<br>\n",
    "<b>セルを削除/ Delete a cell</b><br>\n",
    "Esc + d d<br>"
   ]
  },
  {
   "cell_type": "markdown",
   "metadata": {
    "slideshow": {
     "slide_type": "slide"
    }
   },
   "source": [
    "## Pandasの基礎 / Basics of Pandas\n",
    "[参考サイト：Pandas 基礎とよく使う機能メモ](https://qiita.com/ryo111/items/144446bedb9aa75b0acc)　コンパクトにまとまってる。<br>\n",
    "[参考サイト：pandas 入門 - pandasによるデータ処理の基礎](https://www.yunabe.jp/docs/pandas_basics.html)　説明が丁寧。<br>"
   ]
  },
  {
   "cell_type": "code",
   "execution_count": 23,
   "metadata": {
    "slideshow": {
     "slide_type": "subslide"
    },
    "tags": []
   },
   "outputs": [
    {
     "data": {
      "text/html": [
       "<div>\n",
       "<style scoped>\n",
       "    .dataframe tbody tr th:only-of-type {\n",
       "        vertical-align: middle;\n",
       "    }\n",
       "\n",
       "    .dataframe tbody tr th {\n",
       "        vertical-align: top;\n",
       "    }\n",
       "\n",
       "    .dataframe thead th {\n",
       "        text-align: right;\n",
       "    }\n",
       "</style>\n",
       "<table border=\"1\" class=\"dataframe\">\n",
       "  <thead>\n",
       "    <tr style=\"text-align: right;\">\n",
       "      <th></th>\n",
       "      <th>History</th>\n",
       "      <th>Literature</th>\n",
       "      <th>Philosophy</th>\n",
       "      <th>sex</th>\n",
       "    </tr>\n",
       "  </thead>\n",
       "  <tbody>\n",
       "    <tr>\n",
       "      <th>Anna</th>\n",
       "      <td>56</td>\n",
       "      <td>44</td>\n",
       "      <td>89</td>\n",
       "      <td>F</td>\n",
       "    </tr>\n",
       "    <tr>\n",
       "      <th>Bella</th>\n",
       "      <td>88</td>\n",
       "      <td>57</td>\n",
       "      <td>94</td>\n",
       "      <td>F</td>\n",
       "    </tr>\n",
       "    <tr>\n",
       "      <th>William</th>\n",
       "      <td>74</td>\n",
       "      <td>88</td>\n",
       "      <td>46</td>\n",
       "      <td>M</td>\n",
       "    </tr>\n",
       "    <tr>\n",
       "      <th>Bernie</th>\n",
       "      <td>98</td>\n",
       "      <td>88</td>\n",
       "      <td>75</td>\n",
       "      <td>M</td>\n",
       "    </tr>\n",
       "    <tr>\n",
       "      <th>Spike</th>\n",
       "      <td>77</td>\n",
       "      <td>83</td>\n",
       "      <td>79</td>\n",
       "      <td>M</td>\n",
       "    </tr>\n",
       "    <tr>\n",
       "      <th>Honey</th>\n",
       "      <td>85</td>\n",
       "      <td>67</td>\n",
       "      <td>75</td>\n",
       "      <td>F</td>\n",
       "    </tr>\n",
       "  </tbody>\n",
       "</table>\n",
       "</div>"
      ],
      "text/plain": [
       "         History  Literature  Philosophy sex\n",
       "Anna          56          44          89   F\n",
       "Bella         88          57          94   F\n",
       "William       74          88          46   M\n",
       "Bernie        98          88          75   M\n",
       "Spike         77          83          79   M\n",
       "Honey         85          67          75   F"
      ]
     },
     "execution_count": 23,
     "metadata": {},
     "output_type": "execute_result"
    }
   ],
   "source": [
    "# データはこちら。/ Here is the test data.\n",
    "Nottinghill = pd.DataFrame([[56, 44, 89, \"F\"],\n",
    "                  [88, 57, 94, \"F\"],\n",
    "                  [74, 88, 46, \"M\"],\n",
    "                  [98, 88, 75, \"M\"],\n",
    "                  [77, 83, 79, \"M\"],\n",
    "                  [85, 67, 75, \"F\"]],\n",
    "                  index=[\"Anna\", \"Bella\", \"William\", \"Bernie\", \"Spike\", \"Honey\"],\n",
    "                  columns=[\"History\", \"Literature\", \"Philosophy\",\"sex\"])\n",
    "Nottinghill"
   ]
  },
  {
   "cell_type": "markdown",
   "metadata": {
    "slideshow": {
     "slide_type": "subslide"
    }
   },
   "source": [
    "## DataFrame 'Nottinghill' の行数と列数を数えて表示してください。\n",
    "## Please display the numbers of rows and columns of a DataFrame, 'Nottinghill'.\n",
    "\n",
    "[Week2: shape](Ex_Week2.ipynb#shape)"
   ]
  },
  {
   "cell_type": "code",
   "execution_count": 24,
   "metadata": {
    "slideshow": {
     "slide_type": "fragment"
    }
   },
   "outputs": [
    {
     "name": "stdout",
     "output_type": "stream",
     "text": [
      "6\n",
      "4\n"
     ]
    }
   ],
   "source": [
    "# # # Number of columns\n",
    "print(len(Nottinghill))\n",
    "\n",
    "# # # Number of rows\n",
    "print(len(Nottinghill.columns))\n"
   ]
  },
  {
   "cell_type": "markdown",
   "metadata": {
    "slideshow": {
     "slide_type": "subslide"
    }
   },
   "source": [
    "## 平均値 / Average"
   ]
  },
  {
   "cell_type": "code",
   "execution_count": 25,
   "metadata": {},
   "outputs": [
    {
     "name": "stdout",
     "output_type": "stream",
     "text": [
      "79.66666666666667\n"
     ]
    }
   ],
   "source": [
    "# History の平均値 / Average of History\n",
    "History_mean = Nottinghill['History'].mean()\n",
    "print(History_mean)\n"
   ]
  },
  {
   "cell_type": "code",
   "execution_count": 26,
   "metadata": {
    "slideshow": {
     "slide_type": "fragment"
    }
   },
   "outputs": [
    {
     "name": "stdout",
     "output_type": "stream",
     "text": [
      "71.16666666666667\n",
      "76.33333333333333\n"
     ]
    }
   ],
   "source": [
    "# Literature の平均値 / Average of Literature\n",
    "History_mean = Nottinghill['Literature'].mean()\n",
    "print(History_mean)\n",
    "\n",
    "# Philosophy の平均値 / Average of Philosophy\n",
    "History_mean = Nottinghill['Philosophy'].mean()\n",
    "print(History_mean)\n"
   ]
  },
  {
   "cell_type": "markdown",
   "metadata": {
    "slideshow": {
     "slide_type": "subslide"
    }
   },
   "source": [
    "## Groupby でグループごとに平均値を出す / Calculate average for each group with groupby\n",
    "[Week2: groupby](Ex_Week2.ipynb#groupby)"
   ]
  },
  {
   "cell_type": "code",
   "execution_count": 27,
   "metadata": {},
   "outputs": [
    {
     "data": {
      "text/plain": [
       "<bound method DataFrame.groupby of          History  Literature  Philosophy sex\n",
       "Anna          56          44          89   F\n",
       "Bella         88          57          94   F\n",
       "William       74          88          46   M\n",
       "Bernie        98          88          75   M\n",
       "Spike         77          83          79   M\n",
       "Honey         85          67          75   F>"
      ]
     },
     "execution_count": 27,
     "metadata": {},
     "output_type": "execute_result"
    }
   ],
   "source": [
    "# GROUPBY を使いましょう。\n",
    "# Please use GROUPBY.\n",
    "Nottinghill.groupby\n"
   ]
  },
  {
   "cell_type": "code",
   "execution_count": 28,
   "metadata": {
    "slideshow": {
     "slide_type": "fragment"
    }
   },
   "outputs": [
    {
     "name": "stdout",
     "output_type": "stream",
     "text": [
      "76.33333333333333\n",
      "83.0\n"
     ]
    }
   ],
   "source": [
    "# 女性(\"F\")と男性(\"M\")のそれぞれについて、History の平均値を計算してください。\n",
    "# Please calculate average score of History for female (\"F\") and male (\"M\").\n",
    "NG = Nottinghill.groupby('sex')\n",
    "\n",
    "# get_groupを使って、Female のデータだけ抽出 / Extract data of females with get_group.\n",
    "NG_F = NG.get_group('F')\n",
    "\n",
    "# get_groupを使って、Male のデータだけ抽出 / Extract data of males with get_group.\n",
    "NG_M = NG.get_group('M')\n",
    "\n",
    "# Average of History of female\n",
    "NG_F_history = NG_F['History'].mean()\n",
    "print(NG_F_history)\n",
    "\n",
    "# Average of History of male\n",
    "NG_M_history = NG_M['History'].mean()\n",
    "print(NG_M_history)"
   ]
  },
  {
   "cell_type": "code",
   "execution_count": 29,
   "metadata": {},
   "outputs": [
    {
     "data": {
      "text/plain": [
       "76.333"
      ]
     },
     "execution_count": 29,
     "metadata": {},
     "output_type": "execute_result"
    }
   ],
   "source": [
    "# 一度に全部やるなら / If you want to calculate at once...\n",
    "Nottinghill.groupby('sex').mean().History\n",
    "\n",
    "Nottinghill.groupby('sex').get_group('F').mean(numeric_only=True).History"
   ]
  },
  {
   "cell_type": "markdown",
   "metadata": {
    "slideshow": {
     "slide_type": "subslide"
    }
   },
   "source": [
    "## グラフをプロットする練習 / Practice to draw a graph\n",
    "History を横軸、Literature を縦軸にして、散布図を書いてみてください。<br>\n",
    "Please draw a scattering plot with History and Literature. The horizontal and vertical axes would be History and Literature, respectively.\n",
    "<br><br>\n",
    "[参考サイト：matplotlibでよく使われるやつを改めてまとめた](https://qiita.com/kakiuchis/items/798c00f54c9151ab2e8b)<br>\n",
    "[参考サイト：matplotlib で散布図 (Scatter plot) を描く](https://pythondatascience.plavox.info/matplotlib/%E6%95%A3%E5%B8%83%E5%9B%B3)<br>\n",
    "[参考サイト：Python / matplotlib を利用した散布図の描き方](https://stats.biopapyrus.jp/python/scatter.html)<br>\n",
    "[EN: Matplotlib Documentation](https://matplotlib.org/)\n"
   ]
  },
  {
   "cell_type": "code",
   "execution_count": 30,
   "metadata": {
    "slideshow": {
     "slide_type": "fragment"
    }
   },
   "outputs": [
    {
     "ename": "NameError",
     "evalue": "name 'NF' is not defined",
     "output_type": "error",
     "traceback": [
      "\u001b[1;31m---------------------------------------------------------------------------\u001b[0m",
      "\u001b[1;31mNameError\u001b[0m                                 Traceback (most recent call last)",
      "Cell \u001b[1;32mIn[30], line 4\u001b[0m\n\u001b[0;32m      1\u001b[0m \u001b[38;5;66;03m# Plot data with scattering plot\u001b[39;00m\n\u001b[0;32m      2\u001b[0m \u001b[38;5;66;03m# plt.scatter(NF.History,NF.Literature,s=200,c='pink',marker='*',alpha=0.5,linewidths='2',edgecolors='red',label=\"Female\")\u001b[39;00m\n\u001b[0;32m      3\u001b[0m \u001b[38;5;66;03m# plt.scatter(NM.History,NM.Literature,s=200,c='blue',marker='*',alpha=0.5,linewidths='2',edgecolors='blue',label=\"Male\")\u001b[39;00m\n\u001b[1;32m----> 4\u001b[0m plt\u001b[38;5;241m.\u001b[39mscatter(NF\u001b[38;5;241m.\u001b[39mHistory,NF\u001b[38;5;241m.\u001b[39mLiterature,label\u001b[38;5;241m=\u001b[39m\u001b[38;5;124m\"\u001b[39m\u001b[38;5;124mFemale\u001b[39m\u001b[38;5;124m\"\u001b[39m,s\u001b[38;5;241m=\u001b[39m\u001b[38;5;241m100\u001b[39m,c\u001b[38;5;241m=\u001b[39m\u001b[38;5;124m'\u001b[39m\u001b[38;5;124mred\u001b[39m\u001b[38;5;124m'\u001b[39m,marker\u001b[38;5;241m=\u001b[39m\u001b[38;5;124m'\u001b[39m\u001b[38;5;124m^\u001b[39m\u001b[38;5;124m'\u001b[39m,alpha\u001b[38;5;241m=\u001b[39m\u001b[38;5;241m0.5\u001b[39m)\n\u001b[0;32m      5\u001b[0m plt\u001b[38;5;241m.\u001b[39mscatter(NM\u001b[38;5;241m.\u001b[39mHistory,NM\u001b[38;5;241m.\u001b[39mLiterature,label\u001b[38;5;241m=\u001b[39m\u001b[38;5;124m\"\u001b[39m\u001b[38;5;124mMale\u001b[39m\u001b[38;5;124m\"\u001b[39m,s\u001b[38;5;241m=\u001b[39m\u001b[38;5;241m100\u001b[39m,c\u001b[38;5;241m=\u001b[39m\u001b[38;5;124m'\u001b[39m\u001b[38;5;124mblue\u001b[39m\u001b[38;5;124m'\u001b[39m,marker\u001b[38;5;241m=\u001b[39m\u001b[38;5;124m'\u001b[39m\u001b[38;5;124mo\u001b[39m\u001b[38;5;124m'\u001b[39m,alpha\u001b[38;5;241m=\u001b[39m\u001b[38;5;241m0.5\u001b[39m)\n\u001b[0;32m      6\u001b[0m \u001b[38;5;66;03m# plt.title('History vs. Literature')\u001b[39;00m\n",
      "\u001b[1;31mNameError\u001b[0m: name 'NF' is not defined"
     ]
    }
   ],
   "source": [
    "# Plot data with scattering plot\n",
    "# plt.scatter(NF.History,NF.Literature,s=200,c='pink',marker='*',alpha=0.5,linewidths='2',edgecolors='red',label=\"Female\")\n",
    "# plt.scatter(NM.History,NM.Literature,s=200,c='blue',marker='*',alpha=0.5,linewidths='2',edgecolors='blue',label=\"Male\")\n",
    "plt.scatter(NF.History,NF.Literature,label=\"Female\",s=100,c='red',marker='^',alpha=0.5)\n",
    "plt.scatter(NM.History,NM.Literature,label=\"Male\",s=100,c='blue',marker='o',alpha=0.5)\n",
    "# plt.title('History vs. Literature')\n",
    "plt.ylabel('Literature')\n",
    "plt.xlabel('History')\n",
    "plt.legend(bbox_to_anchor=(1.4, 1), loc='upper right', borderaxespad=0, fontsize=18) #凡例\n",
    "plt.show()\n"
   ]
  },
  {
   "cell_type": "markdown",
   "metadata": {
    "slideshow": {
     "slide_type": "slide"
    }
   },
   "source": [
    "## 集合の演算 / Set operations\n",
    "[Week 2: intersection](Ex_Week2.ipynb#setinsec)"
   ]
  },
  {
   "cell_type": "code",
   "execution_count": null,
   "metadata": {
    "slideshow": {
     "slide_type": "subslide"
    }
   },
   "outputs": [],
   "source": [
    "# Casts in the films...\n",
    "# ノッティングヒルの恋人　Notting Hill (1999)\n",
    "Nottinghill = {'Julia Roberts', 'Hugh Grant', 'Hugh Bonnevill', 'Gina McKee '}\n",
    "\n",
    "# プリティウーマン　Pretty Woman (1990)\n",
    "PrettyWoman = {'Julia Roberts', 'Richard Gere', 'Hector Elizondo'}\n",
    "\n",
    "# プリティブライド　Runaway Bride (1999)\n",
    "RunawayBride = {'Richard Gere', 'Julia Roberts', 'Joan Cusack','Christopher Meloni', 'Hector Elizondo'}\n",
    "\n",
    "# トップガン　Top Gun (1986)\n",
    "TopGun = {'Tom Cruise', 'Val Kilmer', 'Tim Robbins', 'Meg Ryan'}\n",
    "\n",
    "# めぐり逢えたら　Sleepless in Seattle (1993)\n",
    "SleeplessinSeattle = {'Meg Ryan', 'Tom Hanks', 'Valerie Wright', 'Bill Pullman'}\n"
   ]
  },
  {
   "cell_type": "code",
   "execution_count": null,
   "metadata": {
    "slideshow": {
     "slide_type": "fragment"
    }
   },
   "outputs": [
    {
     "name": "stdout",
     "output_type": "stream",
     "text": [
      "{'Julia Roberts'}\n"
     ]
    }
   ],
   "source": [
    "# ノッティングヒルの恋人とプリティウーマンのいずれの映画にも出演していた俳優・女優を見つけて表示してください。\n",
    "# Please find actors who acted both in Notting hill and Pretty Woman. Then display the result.\n",
    "intersection_NP = Nottinghill.intersection(PrettyWoman)\n",
    "print(intersection_NP)\n"
   ]
  },
  {
   "cell_type": "code",
   "execution_count": null,
   "metadata": {
    "slideshow": {
     "slide_type": "subslide"
    }
   },
   "outputs": [
    {
     "name": "stdout",
     "output_type": "stream",
     "text": [
      "{'Julia Roberts', 'Hector Elizondo', 'Richard Gere'}\n"
     ]
    }
   ],
   "source": [
    "# プリティウーマンとプリティブライドのいずれの映画にも出演していた俳優・女優を見つけて表示してください。\n",
    "# Please find actors who acted both in Pretty Woman and Runaway Bride. Then display the result.\n",
    "intersection_PR = PrettyWoman.intersection(RunawayBride)\n",
    "print(intersection_PR)"
   ]
  },
  {
   "cell_type": "code",
   "execution_count": null,
   "metadata": {
    "slideshow": {
     "slide_type": "fragment"
    }
   },
   "outputs": [
    {
     "name": "stdout",
     "output_type": "stream",
     "text": [
      "{'Meg Ryan'}\n"
     ]
    }
   ],
   "source": [
    "# トップガンと巡り合えたらのいずれの映画にも出演していた俳優・女優を見つけて表示してください。\n",
    "# Please find actors who acted both in Top Gun and Sleepless in Seattle. Then display the result.\n",
    "intersection_TS = TopGun.intersection(SleeplessinSeattle)\n",
    "print(intersection_TS)"
   ]
  },
  {
   "cell_type": "markdown",
   "metadata": {},
   "source": [
    "<a id=\"load_excel\"></a>"
   ]
  },
  {
   "cell_type": "markdown",
   "metadata": {
    "slideshow": {
     "slide_type": "slide"
    }
   },
   "source": [
    "## サンプルデータの読み込み / Load a sample data\n",
    "購買履歴データを使って、マーケットバスケット分析を具体的に説明していきます。<br>\n",
    "扱うデータは、`w3_OnlineRetail.xlsx`というファイルです。`data`フォルダに配置してください。<br>\n",
    "\n",
    "`trans`という変数名で読み込むことにします。`head`を使って先頭の5レコードを表示してみましょう。<br>\n",
    "<br>\n",
    "Let's start Market basket analysis with sample purchasing data.<br>\n",
    "Here, we use a sample data, `w3_OnlineRetail.xlsx`. Please save this file in a folder `data`.<br>\n",
    "\n",
    "Let's load this file as a variable named trans.<br>\n",
    "Display the first 5 lines of the file with `head` command. <br>\n",
    "\n",
    "\n",
    "サンプルデータは、[カリフォルニア大学アーバイン校が提供するオンラインショッピングサイトのトランザクションを含むデータセット](https://archive.ics.uci.edu/ml/datasets/online+retail)を使っています。データ詳細はこちら。<br>\n",
    "* InvoiceNo: 請求書番号\n",
    "* StockCode: 商品番号\n",
    "* Description: 商品詳細\n",
    "* Quantity: 購入数\n",
    "* InvoiceDate: 請求書発行日\n",
    "* UnitPrice: 商品単価\n",
    "* CustomerID: 顧客番号\n",
    "* Country: 国\n"
   ]
  },
  {
   "cell_type": "code",
   "execution_count": 32,
   "metadata": {
    "slideshow": {
     "slide_type": "subslide"
    }
   },
   "outputs": [],
   "source": [
    "# サンプルファイルを読み込みます。ちょっと時間がかかりますから、焦らず待ちましょう。\n",
    "# Load the sample file. It takes a while to load the entire file. Please be patient!!\n",
    "trans = pd.read_excel('data/w3_retail.xlsx')"
   ]
  },
  {
   "cell_type": "code",
   "execution_count": null,
   "metadata": {},
   "outputs": [],
   "source": [
    "## read_excel が使えない場合はこちらを試してください。\n",
    "# If excel file cannot be loaded with 'pd.read_excel', please use openpyxl.\n",
    "# If you haven't installed it yet, you need to install it.\n",
    "\n",
    "# import openpyxl\n",
    "# from openpyxl import Workbook, load_workbook\n",
    "\n",
    "## https://www.python-izm.com/third_party/excel/openpyxl/openpyxl_read/\n",
    "# trans = load_workbook('data/w3_retail.xlsx')"
   ]
  },
  {
   "cell_type": "code",
   "execution_count": null,
   "metadata": {},
   "outputs": [
    {
     "data": {
      "text/html": [
       "<div>\n",
       "<style scoped>\n",
       "    .dataframe tbody tr th:only-of-type {\n",
       "        vertical-align: middle;\n",
       "    }\n",
       "\n",
       "    .dataframe tbody tr th {\n",
       "        vertical-align: top;\n",
       "    }\n",
       "\n",
       "    .dataframe thead th {\n",
       "        text-align: right;\n",
       "    }\n",
       "</style>\n",
       "<table border=\"1\" class=\"dataframe\">\n",
       "  <thead>\n",
       "    <tr style=\"text-align: right;\">\n",
       "      <th></th>\n",
       "      <th>InvoiceNo</th>\n",
       "      <th>StockCode</th>\n",
       "      <th>Description</th>\n",
       "      <th>Quantity</th>\n",
       "      <th>InvoiceDate</th>\n",
       "      <th>UnitPrice</th>\n",
       "      <th>CustomerID</th>\n",
       "      <th>Country</th>\n",
       "    </tr>\n",
       "  </thead>\n",
       "  <tbody>\n",
       "    <tr>\n",
       "      <th>0</th>\n",
       "      <td>536365</td>\n",
       "      <td>85123A</td>\n",
       "      <td>WHITE HANGING HEART T-LIGHT HOLDER</td>\n",
       "      <td>6</td>\n",
       "      <td>2010-12-01 08:26:00</td>\n",
       "      <td>2.55</td>\n",
       "      <td>17850.0</td>\n",
       "      <td>United Kingdom</td>\n",
       "    </tr>\n",
       "    <tr>\n",
       "      <th>1</th>\n",
       "      <td>536365</td>\n",
       "      <td>71053</td>\n",
       "      <td>WHITE METAL LANTERN</td>\n",
       "      <td>6</td>\n",
       "      <td>2010-12-01 08:26:00</td>\n",
       "      <td>3.39</td>\n",
       "      <td>17850.0</td>\n",
       "      <td>United Kingdom</td>\n",
       "    </tr>\n",
       "    <tr>\n",
       "      <th>2</th>\n",
       "      <td>536365</td>\n",
       "      <td>84406B</td>\n",
       "      <td>CREAM CUPID HEARTS COAT HANGER</td>\n",
       "      <td>8</td>\n",
       "      <td>2010-12-01 08:26:00</td>\n",
       "      <td>2.75</td>\n",
       "      <td>17850.0</td>\n",
       "      <td>United Kingdom</td>\n",
       "    </tr>\n",
       "    <tr>\n",
       "      <th>3</th>\n",
       "      <td>536365</td>\n",
       "      <td>84029G</td>\n",
       "      <td>KNITTED UNION FLAG HOT WATER BOTTLE</td>\n",
       "      <td>6</td>\n",
       "      <td>2010-12-01 08:26:00</td>\n",
       "      <td>3.39</td>\n",
       "      <td>17850.0</td>\n",
       "      <td>United Kingdom</td>\n",
       "    </tr>\n",
       "    <tr>\n",
       "      <th>4</th>\n",
       "      <td>536365</td>\n",
       "      <td>84029E</td>\n",
       "      <td>RED WOOLLY HOTTIE WHITE HEART.</td>\n",
       "      <td>6</td>\n",
       "      <td>2010-12-01 08:26:00</td>\n",
       "      <td>3.39</td>\n",
       "      <td>17850.0</td>\n",
       "      <td>United Kingdom</td>\n",
       "    </tr>\n",
       "  </tbody>\n",
       "</table>\n",
       "</div>"
      ],
      "text/plain": [
       "  InvoiceNo StockCode                          Description  Quantity  \\\n",
       "0    536365    85123A   WHITE HANGING HEART T-LIGHT HOLDER         6   \n",
       "1    536365     71053                  WHITE METAL LANTERN         6   \n",
       "2    536365    84406B       CREAM CUPID HEARTS COAT HANGER         8   \n",
       "3    536365    84029G  KNITTED UNION FLAG HOT WATER BOTTLE         6   \n",
       "4    536365    84029E       RED WOOLLY HOTTIE WHITE HEART.         6   \n",
       "\n",
       "          InvoiceDate  UnitPrice  CustomerID         Country  \n",
       "0 2010-12-01 08:26:00       2.55     17850.0  United Kingdom  \n",
       "1 2010-12-01 08:26:00       3.39     17850.0  United Kingdom  \n",
       "2 2010-12-01 08:26:00       2.75     17850.0  United Kingdom  \n",
       "3 2010-12-01 08:26:00       3.39     17850.0  United Kingdom  \n",
       "4 2010-12-01 08:26:00       3.39     17850.0  United Kingdom  "
      ]
     },
     "execution_count": 108,
     "metadata": {},
     "output_type": "execute_result"
    }
   ],
   "source": [
    "# 最初の5行を表示してください。\n",
    "# Display the first 5 lines of the file with `tail` command. \n",
    "# ****** に適切な関数を入れてください。/ Fill in the part ***** with an appropriate function.\n",
    "# Hint: trans.****()\n",
    "trans.head()"
   ]
  },
  {
   "cell_type": "code",
   "execution_count": null,
   "metadata": {
    "slideshow": {
     "slide_type": "fragment"
    }
   },
   "outputs": [
    {
     "data": {
      "text/plain": [
       "(541909, 8)"
      ]
     },
     "execution_count": 109,
     "metadata": {},
     "output_type": "execute_result"
    }
   ],
   "source": [
    "# データのサイズをチェックしてみよう。****** に適切な関数を入れてください。 / Check the data size. Fill in the part ***** with an appropriate function.\n",
    "# Hint: trans.*****\n",
    "trans.shape"
   ]
  },
  {
   "cell_type": "markdown",
   "metadata": {
    "slideshow": {
     "slide_type": "skip"
    }
   },
   "source": [
    "<a id=\"data_processing\"></a>"
   ]
  },
  {
   "cell_type": "markdown",
   "metadata": {
    "slideshow": {
     "slide_type": "subslide"
    }
   },
   "source": [
    "### データの整理と確認 / Data processing and check a data file\n",
    "この購買履歴データにおいて請求書番号を示す`InvoiceNo`の先頭の1文字は、そのトランザクションの状態を示しています。「5」が通常のデータ、「C」がキャンセル、「A」が不明なデータです。まずは次のように`InvoiceNo`の先頭1文字を別の`cancel_flg`という変数として追加します。<br>\n",
    "<br>\n",
    "In this purchasing data, the first letter of `IncoiceNo` indicates the transaction state as '5' is normal data, 'C' is cancelled, 'A' is unknown.<br>\n",
    "Add a variable `cancel_flg` by extracting the first letter of `IncoiceNo`."
   ]
  },
  {
   "cell_type": "markdown",
   "metadata": {
    "slideshow": {
     "slide_type": "skip"
    }
   },
   "source": [
    "<a id=\"map_lambda\"></a>"
   ]
  },
  {
   "cell_type": "code",
   "execution_count": null,
   "metadata": {
    "slideshow": {
     "slide_type": "subslide"
    }
   },
   "outputs": [],
   "source": [
    "# InoivceNoの先頭1文字をcancel_flgとして追加 / Add a variable `cancel_flg` by extracting the first letter of InvoiceNo.\n",
    "trans['cancel_flg'] = [str(i)[0] for i in trans.InvoiceNo]\n",
    "\n",
    "# invoicelist = trans.InvoiceNo\n",
    "# flglist = list()\n",
    "# for i in invoicelist:\n",
    "#     flglist.append(str(i)[0])\n",
    "# trans['cancel_flg'] = flglist"
   ]
  },
  {
   "cell_type": "markdown",
   "metadata": {
    "slideshow": {
     "slide_type": "fragment"
    }
   },
   "source": [
    "追加したら、それぞれの`cancel_flg`ごとのレコード数を数えて集計します。実務において集計条件は、分析目的とデータマネジメント状態に大きく依存するので、十分に確認するようにしましょう。"
   ]
  },
  {
   "cell_type": "code",
   "execution_count": null,
   "metadata": {},
   "outputs": [
    {
     "data": {
      "text/html": [
       "<div>\n",
       "<style scoped>\n",
       "    .dataframe tbody tr th:only-of-type {\n",
       "        vertical-align: middle;\n",
       "    }\n",
       "\n",
       "    .dataframe tbody tr th {\n",
       "        vertical-align: top;\n",
       "    }\n",
       "\n",
       "    .dataframe thead th {\n",
       "        text-align: right;\n",
       "    }\n",
       "</style>\n",
       "<table border=\"1\" class=\"dataframe\">\n",
       "  <thead>\n",
       "    <tr style=\"text-align: right;\">\n",
       "      <th></th>\n",
       "      <th>InvoiceNo</th>\n",
       "      <th>StockCode</th>\n",
       "      <th>Description</th>\n",
       "      <th>Quantity</th>\n",
       "      <th>InvoiceDate</th>\n",
       "      <th>UnitPrice</th>\n",
       "      <th>CustomerID</th>\n",
       "      <th>Country</th>\n",
       "      <th>cancel_flg</th>\n",
       "    </tr>\n",
       "  </thead>\n",
       "  <tbody>\n",
       "    <tr>\n",
       "      <th>0</th>\n",
       "      <td>536365</td>\n",
       "      <td>85123A</td>\n",
       "      <td>WHITE HANGING HEART T-LIGHT HOLDER</td>\n",
       "      <td>6</td>\n",
       "      <td>2010-12-01 08:26:00</td>\n",
       "      <td>2.55</td>\n",
       "      <td>17850.0</td>\n",
       "      <td>United Kingdom</td>\n",
       "      <td>5</td>\n",
       "    </tr>\n",
       "    <tr>\n",
       "      <th>1</th>\n",
       "      <td>536365</td>\n",
       "      <td>71053</td>\n",
       "      <td>WHITE METAL LANTERN</td>\n",
       "      <td>6</td>\n",
       "      <td>2010-12-01 08:26:00</td>\n",
       "      <td>3.39</td>\n",
       "      <td>17850.0</td>\n",
       "      <td>United Kingdom</td>\n",
       "      <td>5</td>\n",
       "    </tr>\n",
       "    <tr>\n",
       "      <th>2</th>\n",
       "      <td>536365</td>\n",
       "      <td>84406B</td>\n",
       "      <td>CREAM CUPID HEARTS COAT HANGER</td>\n",
       "      <td>8</td>\n",
       "      <td>2010-12-01 08:26:00</td>\n",
       "      <td>2.75</td>\n",
       "      <td>17850.0</td>\n",
       "      <td>United Kingdom</td>\n",
       "      <td>5</td>\n",
       "    </tr>\n",
       "    <tr>\n",
       "      <th>3</th>\n",
       "      <td>536365</td>\n",
       "      <td>84029G</td>\n",
       "      <td>KNITTED UNION FLAG HOT WATER BOTTLE</td>\n",
       "      <td>6</td>\n",
       "      <td>2010-12-01 08:26:00</td>\n",
       "      <td>3.39</td>\n",
       "      <td>17850.0</td>\n",
       "      <td>United Kingdom</td>\n",
       "      <td>5</td>\n",
       "    </tr>\n",
       "    <tr>\n",
       "      <th>4</th>\n",
       "      <td>536365</td>\n",
       "      <td>84029E</td>\n",
       "      <td>RED WOOLLY HOTTIE WHITE HEART.</td>\n",
       "      <td>6</td>\n",
       "      <td>2010-12-01 08:26:00</td>\n",
       "      <td>3.39</td>\n",
       "      <td>17850.0</td>\n",
       "      <td>United Kingdom</td>\n",
       "      <td>5</td>\n",
       "    </tr>\n",
       "  </tbody>\n",
       "</table>\n",
       "</div>"
      ],
      "text/plain": [
       "  InvoiceNo StockCode                          Description  Quantity  \\\n",
       "0    536365    85123A   WHITE HANGING HEART T-LIGHT HOLDER         6   \n",
       "1    536365     71053                  WHITE METAL LANTERN         6   \n",
       "2    536365    84406B       CREAM CUPID HEARTS COAT HANGER         8   \n",
       "3    536365    84029G  KNITTED UNION FLAG HOT WATER BOTTLE         6   \n",
       "4    536365    84029E       RED WOOLLY HOTTIE WHITE HEART.         6   \n",
       "\n",
       "          InvoiceDate  UnitPrice  CustomerID         Country cancel_flg  \n",
       "0 2010-12-01 08:26:00       2.55     17850.0  United Kingdom          5  \n",
       "1 2010-12-01 08:26:00       3.39     17850.0  United Kingdom          5  \n",
       "2 2010-12-01 08:26:00       2.75     17850.0  United Kingdom          5  \n",
       "3 2010-12-01 08:26:00       3.39     17850.0  United Kingdom          5  \n",
       "4 2010-12-01 08:26:00       3.39     17850.0  United Kingdom          5  "
      ]
     },
     "execution_count": 111,
     "metadata": {},
     "output_type": "execute_result"
    }
   ],
   "source": [
    "# trans['cancel_flg'].head()\n",
    "trans.head()"
   ]
  },
  {
   "cell_type": "code",
   "execution_count": null,
   "metadata": {
    "slideshow": {
     "slide_type": "subslide"
    }
   },
   "outputs": [
    {
     "name": "stdout",
     "output_type": "stream",
     "text": [
      "532618\n",
      "9288\n",
      "3\n"
     ]
    }
   ],
   "source": [
    "# cancel_flgでグルーピングして集計 / Make a group of each transaction state.\n",
    "trans_group = trans.groupby('cancel_flg')\n",
    "\n",
    "# 各トランザクション状態の取引は、それぞれいくつずつありましたか?? / How many transactions of each state?\n",
    "# Normal data (5)\n",
    "normaldata = trans_group.get_group('5')\n",
    "print(len(normaldata))\n",
    "\n",
    "# Cancelled (C)\n",
    "Canncelled = trans_group.get_group('C')\n",
    "print(len(Canncelled))\n",
    "\n",
    "# Unknown (A)\n",
    "Unknown = trans_group.get_group('A')\n",
    "print(len(Unknown))"
   ]
  },
  {
   "cell_type": "markdown",
   "metadata": {},
   "source": [
    "## 欠損値があるか調べてみましょう。\n",
    "\n",
    "[pandasで欠損値NaNが含まれているか判定、個数をカウント](https://note.nkmk.me/python-pandas-nan-judge-count/)<br>\n",
    "[Ex_Week0_Pandas.ipynb: isnull](Ex_Week0_Pandas.ipynb#countnan)"
   ]
  },
  {
   "cell_type": "code",
   "execution_count": null,
   "metadata": {},
   "outputs": [
    {
     "name": "stdout",
     "output_type": "stream",
     "text": [
      "InvoiceNo           0\n",
      "StockCode           0\n",
      "Description      1454\n",
      "Quantity            0\n",
      "InvoiceDate         0\n",
      "UnitPrice           0\n",
      "CustomerID     135080\n",
      "Country             0\n",
      "cancel_flg          0\n",
      "dtype: int64\n"
     ]
    }
   ],
   "source": [
    "print(trans.isnull().sum())"
   ]
  },
  {
   "cell_type": "markdown",
   "metadata": {},
   "source": [
    "## Description と　CustomerID　に欠損値がありました。"
   ]
  },
  {
   "cell_type": "markdown",
   "metadata": {
    "slideshow": {
     "slide_type": "subslide"
    }
   },
   "source": [
    "以下、通常のデータである「5」であり、かつ、`CustomerID`が欠損していないデータだけを扱うことにします。これらのデータに絞り込むため、次のようにします。<br>\n",
    "<br>\n",
    "From now on, we are going to analyze only the normal data which has `CustomerID` as follows."
   ]
  },
  {
   "cell_type": "code",
   "execution_count": null,
   "metadata": {
    "slideshow": {
     "slide_type": "fragment"
    }
   },
   "outputs": [],
   "source": [
    "# extract data only when cancel_flg is 5, and CustomerID is not null.\n",
    "trans = trans[(trans.cancel_flg == '5') & (trans.CustomerID.notnull())]"
   ]
  },
  {
   "cell_type": "code",
   "execution_count": null,
   "metadata": {
    "slideshow": {
     "slide_type": "fragment"
    }
   },
   "outputs": [
    {
     "name": "stdout",
     "output_type": "stream",
     "text": [
      "<class 'pandas.core.frame.DataFrame'>\n",
      "Index: 397924 entries, 0 to 541908\n",
      "Data columns (total 9 columns):\n",
      " #   Column       Non-Null Count   Dtype         \n",
      "---  ------       --------------   -----         \n",
      " 0   InvoiceNo    397924 non-null  object        \n",
      " 1   StockCode    397924 non-null  object        \n",
      " 2   Description  397924 non-null  object        \n",
      " 3   Quantity     397924 non-null  int64         \n",
      " 4   InvoiceDate  397924 non-null  datetime64[ns]\n",
      " 5   UnitPrice    397924 non-null  float64       \n",
      " 6   CustomerID   397924 non-null  float64       \n",
      " 7   Country      397924 non-null  object        \n",
      " 8   cancel_flg   397924 non-null  object        \n",
      "dtypes: datetime64[ns](1), float64(2), int64(1), object(5)\n",
      "memory usage: 30.4+ MB\n"
     ]
    }
   ],
   "source": [
    "# 有効なデータのサイズをチェックして、もともとデータサイズと比べてみよう。****** に適切な関数を入れてください。\n",
    "# Check the size of the available data. Compare it with the original data size. Fill in the part ***** with an appropriate function.\n",
    "# Hint: trans.*****\n",
    "trans.info()"
   ]
  },
  {
   "cell_type": "markdown",
   "metadata": {},
   "source": [
    "データ行の数が541909から397924に減っています。"
   ]
  },
  {
   "cell_type": "markdown",
   "metadata": {
    "slideshow": {
     "slide_type": "slide"
    }
   },
   "source": [
    "## アソシエーションルール / Association rule\n",
    "\n",
    "データの準備ができたところで、アソシエーションルールについて説明します。\n",
    "まずは、購買回数トップ5の製品番号を確認しておきましょう。製品番号は`stockCode`列に格納されています。\n",
    "\n",
    "Pandasの`Series`オブジェクトが持つ`value_counts`メソッドを使うと、それぞれの内容別のレコード件数がデフォルトでは降順で得られます。そこで`head`を使って、上位5件を表示すると、次のようになります。"
   ]
  },
  {
   "cell_type": "markdown",
   "metadata": {
    "slideshow": {
     "slide_type": "skip"
    }
   },
   "source": [
    "<a id=\"value_count\"></a>"
   ]
  },
  {
   "cell_type": "markdown",
   "metadata": {
    "slideshow": {
     "slide_type": "subslide"
    }
   },
   "source": [
    "### ここで使う関数: value_count()\n",
    "### Required functions: : value_count()\n",
    "value_count(): 要素の出現頻度を数え、出現頻度の高い順にPandas.Seriesで返します。<br>\n",
    "[value_counts() @ note.nkmk.me](https://note.nkmk.me/python-pandas-value-counts/)<br>\n",
    " value_count(): It counts the number of appearance of an element, and return the results in a descending order as Pandas.Series.<br>\n",
    "[value_counts() @ pandas.pydata.org](https://pandas.pydata.org/pandas-docs/stable/reference/api/pandas.Series.value_counts.html)"
   ]
  },
  {
   "cell_type": "code",
   "execution_count": null,
   "metadata": {
    "slideshow": {
     "slide_type": "fragment"
    }
   },
   "outputs": [
    {
     "data": {
      "text/plain": [
       "StockCode\n",
       "85123A    2035\n",
       "22423     1724\n",
       "85099B    1618\n",
       "84879     1408\n",
       "47566     1397\n",
       "Name: count, dtype: int64"
      ]
     },
     "execution_count": 116,
     "metadata": {},
     "output_type": "execute_result"
    }
   ],
   "source": [
    "# 商品コード(StockCode)ごとに件数を数え、上位5件を表示 / Display the number of appearance of the item number in a descending order.\n",
    "trans['StockCode'].value_counts().head()"
   ]
  },
  {
   "cell_type": "markdown",
   "metadata": {},
   "source": [
    "## Description からどんな商品が売れているか確認する。\n",
    "\n",
    "<img src=\"img/w3_products.png\" width=\"500px\">\n",
    "\n",
    "一番売れたのは吊るすタイプのろうそく台、2番目はケーキスタンドでした。"
   ]
  },
  {
   "cell_type": "code",
   "execution_count": null,
   "metadata": {},
   "outputs": [
    {
     "data": {
      "text/html": [
       "<div>\n",
       "<style scoped>\n",
       "    .dataframe tbody tr th:only-of-type {\n",
       "        vertical-align: middle;\n",
       "    }\n",
       "\n",
       "    .dataframe tbody tr th {\n",
       "        vertical-align: top;\n",
       "    }\n",
       "\n",
       "    .dataframe thead th {\n",
       "        text-align: right;\n",
       "    }\n",
       "</style>\n",
       "<table border=\"1\" class=\"dataframe\">\n",
       "  <thead>\n",
       "    <tr style=\"text-align: right;\">\n",
       "      <th></th>\n",
       "      <th>InvoiceNo</th>\n",
       "      <th>StockCode</th>\n",
       "      <th>Description</th>\n",
       "      <th>Quantity</th>\n",
       "      <th>InvoiceDate</th>\n",
       "      <th>UnitPrice</th>\n",
       "      <th>CustomerID</th>\n",
       "      <th>Country</th>\n",
       "      <th>cancel_flg</th>\n",
       "    </tr>\n",
       "  </thead>\n",
       "  <tbody>\n",
       "    <tr>\n",
       "      <th>880</th>\n",
       "      <td>536477</td>\n",
       "      <td>22423</td>\n",
       "      <td>REGENCY CAKESTAND 3 TIER</td>\n",
       "      <td>16</td>\n",
       "      <td>2010-12-01 12:27:00</td>\n",
       "      <td>10.95</td>\n",
       "      <td>16210.0</td>\n",
       "      <td>United Kingdom</td>\n",
       "      <td>5</td>\n",
       "    </tr>\n",
       "    <tr>\n",
       "      <th>936</th>\n",
       "      <td>536502</td>\n",
       "      <td>22423</td>\n",
       "      <td>REGENCY CAKESTAND 3 TIER</td>\n",
       "      <td>2</td>\n",
       "      <td>2010-12-01 12:36:00</td>\n",
       "      <td>12.75</td>\n",
       "      <td>16552.0</td>\n",
       "      <td>United Kingdom</td>\n",
       "      <td>5</td>\n",
       "    </tr>\n",
       "    <tr>\n",
       "      <th>1092</th>\n",
       "      <td>536525</td>\n",
       "      <td>22423</td>\n",
       "      <td>REGENCY CAKESTAND 3 TIER</td>\n",
       "      <td>2</td>\n",
       "      <td>2010-12-01 12:54:00</td>\n",
       "      <td>12.75</td>\n",
       "      <td>14078.0</td>\n",
       "      <td>United Kingdom</td>\n",
       "      <td>5</td>\n",
       "    </tr>\n",
       "    <tr>\n",
       "      <th>1155</th>\n",
       "      <td>536528</td>\n",
       "      <td>22423</td>\n",
       "      <td>REGENCY CAKESTAND 3 TIER</td>\n",
       "      <td>1</td>\n",
       "      <td>2010-12-01 13:17:00</td>\n",
       "      <td>12.75</td>\n",
       "      <td>15525.0</td>\n",
       "      <td>United Kingdom</td>\n",
       "      <td>5</td>\n",
       "    </tr>\n",
       "    <tr>\n",
       "      <th>1197</th>\n",
       "      <td>536530</td>\n",
       "      <td>22423</td>\n",
       "      <td>REGENCY CAKESTAND 3 TIER</td>\n",
       "      <td>1</td>\n",
       "      <td>2010-12-01 13:21:00</td>\n",
       "      <td>12.75</td>\n",
       "      <td>17905.0</td>\n",
       "      <td>United Kingdom</td>\n",
       "      <td>5</td>\n",
       "    </tr>\n",
       "  </tbody>\n",
       "</table>\n",
       "</div>"
      ],
      "text/plain": [
       "     InvoiceNo StockCode               Description  Quantity  \\\n",
       "880     536477     22423  REGENCY CAKESTAND 3 TIER        16   \n",
       "936     536502     22423  REGENCY CAKESTAND 3 TIER         2   \n",
       "1092    536525     22423  REGENCY CAKESTAND 3 TIER         2   \n",
       "1155    536528     22423  REGENCY CAKESTAND 3 TIER         1   \n",
       "1197    536530     22423  REGENCY CAKESTAND 3 TIER         1   \n",
       "\n",
       "             InvoiceDate  UnitPrice  CustomerID         Country cancel_flg  \n",
       "880  2010-12-01 12:27:00      10.95     16210.0  United Kingdom          5  \n",
       "936  2010-12-01 12:36:00      12.75     16552.0  United Kingdom          5  \n",
       "1092 2010-12-01 12:54:00      12.75     14078.0  United Kingdom          5  \n",
       "1155 2010-12-01 13:17:00      12.75     15525.0  United Kingdom          5  \n",
       "1197 2010-12-01 13:21:00      12.75     17905.0  United Kingdom          5  "
      ]
     },
     "execution_count": 120,
     "metadata": {},
     "output_type": "execute_result"
    }
   ],
   "source": [
    "# Description に商品詳細が書いてある。\n",
    "# Stock codeが数字だけだとクォーテーションマークはいらない。Stock codeにアルファベットが含まれると、それ全体が文字列として認識されるのでクォーテーションマークが必要になる。\n",
    "# Description contains the details of the item.\n",
    "# If the Stock code is only numbers, no quotation marks are needed; if the Stock code contains alphabetic characters, the whole code is recognized as a string, so quotation marks are needed.\n",
    "\n",
    "basket_85123A = (trans[trans['StockCode']==\"85123A\"])\n",
    "basket_85123A.head()\n",
    "\n",
    "basket_22423 = (trans[trans['StockCode']==22423])\n",
    "basket_22423.head()"
   ]
  },
  {
   "cell_type": "markdown",
   "metadata": {
    "slideshow": {
     "slide_type": "subslide"
    }
   },
   "source": [
    "以下では上記のトップ5の商品のうち、全体で第1位の「85123A」と第3位の「85099B」に関して、アソシエーションルールとその支持度、確信度、リフトを調べます。<br>\n",
    "<br>\n",
    "Now we are going to investigate the association rule (support, confidence, and lift) between the items with the item number number \"85123A\" and \"85099B\".<br>\n",
    "The item \"85123A\" was sold the most, and the item \"85099B\" was sold the third most."
   ]
  },
  {
   "cell_type": "markdown",
   "metadata": {
    "slideshow": {
     "slide_type": "skip"
    }
   },
   "source": [
    "<a id=\"support\"></a>"
   ]
  },
  {
   "cell_type": "markdown",
   "metadata": {
    "slideshow": {
     "slide_type": "subslide"
    }
   },
   "source": [
    "### 支持度 (support)\n",
    "<img src=\"img/w3_support.png\" width=\"400px\"><br>\n",
    "アソシエーションルールの支持度とは、ある商品（ここでは85123A）と別の商品（85099B）が併売されたバスケットの数（`InvoiceNo`の数）が全体の購入に占める割合です。<br>\n",
    "以下で、商品85123Aを購入するなら商品85099Bする、というアソシエーションルールの支持度を計算してみます。<br>\n",
    "<br>\n",
    "Support is defined as the number of baskets (or the ratio of the number of baskets to the total number of baskets) in which \"85123A\" and \"85099B\" were sold at the same time. <br>\n",
    "Let's calculate the support!!"
   ]
  },
  {
   "cell_type": "markdown",
   "metadata": {
    "slideshow": {
     "slide_type": "subslide"
    }
   },
   "source": [
    "まず、トランザクションデータ（すべての購入データ）に登場するバスケットの数（`InvoiceNo`の数）をカウントします。<br>\n",
    "最初に、すべての`InvoiceNo`を`trans_all`として抽出します。<br>\n",
    "集合型とすることで、`InvoiceNo`を重複のない状態で保持できます。<br>\n",
    "集合型(set) については、[こちら](https://www.sejuku.net/blog/21923)。<br>\n",
    "[Week 2: set](Ex_Week2.ipynb#set)\n",
    "<br>\n",
    "First, calculate the number of baskets (number of `InvoiceNo`) in the entire purchasing data.<br>\n",
    "Instead of a list, we use a set, which is helpful to avoid overlap of the data.<br>\n",
    "For more details on sets, check [the reference](https://docs.python.org/2/library/sets.html).<br>\n",
    "[Week 2: set](Ex_Week2.ipynb#set)<br>"
   ]
  },
  {
   "cell_type": "code",
   "execution_count": 33,
   "metadata": {
    "slideshow": {
     "slide_type": "fragment"
    }
   },
   "outputs": [
    {
     "name": "stdout",
     "output_type": "stream",
     "text": [
      "25900\n"
     ]
    }
   ],
   "source": [
    "# すべてのInvoiceNoをtrans_allとして集合型を定義 / Define a set of all of the `InvoiceNo` as `trans_all`.\n",
    "trans_all = set(trans.InvoiceNo) \n",
    "print(len(trans_all))"
   ]
  },
  {
   "cell_type": "code",
   "execution_count": 34,
   "metadata": {},
   "outputs": [
    {
     "data": {
      "text/plain": [
       "0    536365\n",
       "1    536365\n",
       "2    536365\n",
       "3    536365\n",
       "4    536365\n",
       "Name: InvoiceNo, dtype: object"
      ]
     },
     "execution_count": 34,
     "metadata": {},
     "output_type": "execute_result"
    }
   ],
   "source": [
    "trans.InvoiceNo.head()"
   ]
  },
  {
   "cell_type": "markdown",
   "metadata": {
    "slideshow": {
     "slide_type": "subslide"
    }
   },
   "source": [
    "item A, '85123A', と item B, '85099B', を含む`InvoiceNo`を抽出する（下記では`trans_a`ならびに`trans_b`）。<br>\n",
    "'StockCode' は商品番号。<br>\n",
    "<br>\n",
    "Extract the baskets which contains item A and item B as `trans_a` and `trans_b` respectively, where item A is '85123A' and item B is '85099B'.<br>\n",
    "'StockCode' denotes the item number."
   ]
  },
  {
   "cell_type": "code",
   "execution_count": 35,
   "metadata": {
    "slideshow": {
     "slide_type": "fragment"
    }
   },
   "outputs": [
    {
     "name": "stdout",
     "output_type": "stream",
     "text": [
      "2246\n"
     ]
    }
   ],
   "source": [
    "# 商品85123Aを購入したバスケット(trans_a)の集合を作る / The basket which contains item A is extracted as trans_a.\n",
    "trans_a = set(trans[trans['StockCode']=='85123A'].InvoiceNo)\n",
    "print(len(trans_a))\n",
    "\n",
    "# 商品85099Bを購入したバスケット(trans_b)の集合を作る / The basket which contains item B is extracted as trans_b.\n"
   ]
  },
  {
   "cell_type": "markdown",
   "metadata": {
    "slideshow": {
     "slide_type": "subslide"
    }
   },
   "source": [
    "次に両商品を含むバスケットを`trans_ab`として抽出します。`trans_a` と `trans_b`の積集合をとります。<br>\n",
    "Extract the baskets which contains both item A and item B by taking product set of `trans_a` and `trans_b`."
   ]
  },
  {
   "cell_type": "code",
   "execution_count": null,
   "metadata": {
    "slideshow": {
     "slide_type": "fragment"
    }
   },
   "outputs": [],
   "source": [
    "# 商品85123Aおよび85099Bを購入したデータをtrans_abとする / Defined the basket which contains both item A and B as trans_ab.\n",
    "trans_ab = \n"
   ]
  },
  {
   "cell_type": "markdown",
   "metadata": {
    "slideshow": {
     "slide_type": "subslide"
    }
   },
   "source": [
    "ルールの支持度は、ルールに含まれる両商品を含むバスケットの数が全体の購入に占める割合です。<br>\n",
    "\n",
    "Support is defined as the ratio of the number of baskets to the total number of baskets in which item A and B were sold at the same time. <br>\n"
   ]
  },
  {
   "cell_type": "code",
   "execution_count": 36,
   "metadata": {
    "slideshow": {
     "slide_type": "fragment"
    }
   },
   "outputs": [
    {
     "ename": "NameError",
     "evalue": "name 'trans_ab' is not defined",
     "output_type": "error",
     "traceback": [
      "\u001b[1;31m---------------------------------------------------------------------------\u001b[0m",
      "\u001b[1;31mNameError\u001b[0m                                 Traceback (most recent call last)",
      "Cell \u001b[1;32mIn[36], line 3\u001b[0m\n\u001b[0;32m      1\u001b[0m \u001b[38;5;66;03m# trans_ab の、両商品を含むバスケットの数を表示 / Display the number of baskets which contains both item A and B.\u001b[39;00m\n\u001b[0;32m      2\u001b[0m \u001b[38;5;66;03m# A and B = len(trans_ab)\u001b[39;00m\n\u001b[1;32m----> 3\u001b[0m \u001b[38;5;28mprint\u001b[39m(\u001b[38;5;124m'\u001b[39m\u001b[38;5;124m両商品を含むバスケットの数:\u001b[39m\u001b[38;5;132;01m{}\u001b[39;00m\u001b[38;5;124m'\u001b[39m\u001b[38;5;241m.\u001b[39mformat(\u001b[38;5;28mlen\u001b[39m(trans_ab)))\n\u001b[0;32m      4\u001b[0m \u001b[38;5;28mprint\u001b[39m(\u001b[38;5;124m'\u001b[39m\u001b[38;5;124mThe number of baskets which contains both item A and B:\u001b[39m\u001b[38;5;132;01m{}\u001b[39;00m\u001b[38;5;124m'\u001b[39m\u001b[38;5;241m.\u001b[39mformat(\u001b[38;5;28mlen\u001b[39m(trans_ab)))\n",
      "\u001b[1;31mNameError\u001b[0m: name 'trans_ab' is not defined"
     ]
    }
   ],
   "source": [
    "# trans_ab の、両商品を含むバスケットの数を表示 / Display the number of baskets which contains both item A and B.\n",
    "# A and B = len(trans_ab)\n",
    "print('両商品を含むバスケットの数:{}'.format(len(trans_ab)))\n",
    "print('The number of baskets which contains both item A and B:{}'.format(len(trans_ab)))"
   ]
  },
  {
   "cell_type": "markdown",
   "metadata": {
    "slideshow": {
     "slide_type": "skip"
    }
   },
   "source": [
    "<a id=\"format\"></a>"
   ]
  },
  {
   "cell_type": "markdown",
   "metadata": {
    "slideshow": {
     "slide_type": "subslide"
    }
   },
   "source": [
    "### 関数: .format\n",
    "### Functions: : .format\n",
    "`.format` は、文字列の中に数字を埋め込んでprint文で表示させるのに使います。小数点以下何桁を表示するか、も指定できます。<br>\n",
    "You can embed a value in a string with print command by `.format`. You can also specify which decimal place to be displayed."
   ]
  },
  {
   "cell_type": "code",
   "execution_count": null,
   "metadata": {
    "slideshow": {
     "slide_type": "fragment"
    }
   },
   "outputs": [],
   "source": [
    "myvar = 2018\n",
    "print(\"This is the {}th year.\".format(myvar))\n",
    "\n",
    "myvar = 0.573668\n",
    "print(\"The probability to win this game is estimated to be {:.3f}.\".format(myvar))"
   ]
  },
  {
   "cell_type": "code",
   "execution_count": null,
   "metadata": {
    "slideshow": {
     "slide_type": "subslide"
    }
   },
   "outputs": [],
   "source": [
    "# support = (A and B) / N\n",
    "# A and B = len(trans_ab)\n",
    "# N = len(trans_all)\n",
    "# trans_ab の、両商品を含むバスケットの数が全体のバスケットに占める割合\n",
    "# Display the ratio of the number basket which contains both item A and B to the total number of baskets.\n",
    "\n",
    "print('両商品を含むバスケットが全体に占める割合:{:.3f}'.format(len(trans_ab)/len(trans_all)))\n",
    "print('The number of baskets which contains both item A and B to the total number of baskets:{:.3f}'.format(len(trans_ab)/len(trans_all)))"
   ]
  },
  {
   "cell_type": "markdown",
   "metadata": {
    "slideshow": {
     "slide_type": "subslide"
    }
   },
   "source": [
    "0.014という数字がでていますが、これが高いか低いかは相対的な比較になりますので、一概にはいえません。<br>\n",
    "複数の商品の組み合わせで、「どれが最も一緒に売れやすいか」という比較の目安になります。<br>\n",
    "一般的に支持度の小さいルールは有用性も低いことが多いことから、支持度は足切り基準として使われたりします。<br>\n",
    "<br>\n",
    "The result, 0.014, needs to be compared with the support of other combinations of items.<br>\n",
    "If it is higher than that of other combinations, it is more likely that the combination of the items is sold at the same time.<br>\n",
    "A combination of items with low support is not promissing at sales, support can be used to cut off unpromissing items.<br>"
   ]
  },
  {
   "cell_type": "markdown",
   "metadata": {},
   "source": [
    "### <b>注意!!!</b>\n",
    "リフト値などの計算をするときですが、StockCodeが文字列を含んでいるときといないときでちょっと書き方が違うので、注意してください。\n",
    "\n",
    "<b>85123A、のように、文字が含まれていると、数字が入っていても文字列として解釈されるので、クオーテーションマークが要りますが、84879は数字のみで構成されているので、数字として扱われます。</b>\n",
    "\n",
    "<b>If the StockCode includes characters, it is assumed to be a string. If not, it is assumed to be a number. In this case, you don't have to use quotation mark. Please see the examples below.</b>\n",
    "\n",
    "〇クオーテーションマークが要る場合 / Need to use quotation mark<br>\n",
    "trans_a = set(trans[trans['StockCode']=='85123A'].InvoiceNo)\n",
    "\n",
    "〇クオーテーションマークが要らない場合 / No need to use quotation mark<br>\n",
    "trans_a = set(trans[trans['StockCode']==12345].InvoiceNo)"
   ]
  },
  {
   "cell_type": "markdown",
   "metadata": {
    "slideshow": {
     "slide_type": "subslide"
    }
   },
   "source": [
    "### ルールを構成する商品に対する支持度\n",
    "### Support of an item with respect to the entire transaction set\n",
    "<img src=\"img/w3_support2.png\" width=\"400px\"><br>\n",
    "支持度はルールの支持度だけではなく、ルールを構成する商品に対する支持度を計算することもあります。<br>\n",
    "この支持度はリフト値を計算するときに使います。<br>\n",
    "たとえば商品85123Aの支持度は、以下のように計算できます。<br>"
   ]
  },
  {
   "cell_type": "markdown",
   "metadata": {
    "slideshow": {
     "slide_type": "skip"
    }
   },
   "source": [
    "Support can be calculated for an item with respect to the entire transaction set.<br>\n",
    "This support is used when you calculate a value, lift.<br>\n",
    "For example, support of item \"85123A\" is calculated as follows."
   ]
  },
  {
   "cell_type": "code",
   "execution_count": null,
   "metadata": {
    "slideshow": {
     "slide_type": "subslide"
    }
   },
   "outputs": [],
   "source": [
    "# support{A} = A / N\n",
    "# A = len(trans_a), N = len(trans_all)\n",
    "print('商品85123Aを含むバスケットの全体に占める割合:{:.3f}'.format(len(trans_a)/len(trans_all)))\n",
    "print('Supprt for item \"85123A\":{:.3f}'.format(len(trans_a)/len(trans_all)))"
   ]
  },
  {
   "cell_type": "markdown",
   "metadata": {
    "slideshow": {
     "slide_type": "skip"
    }
   },
   "source": [
    "<a id=\"confidence\"></a>"
   ]
  },
  {
   "cell_type": "markdown",
   "metadata": {
    "slideshow": {
     "slide_type": "subslide"
    }
   },
   "source": [
    "### 確信度 (confidence)\n",
    "<img src=\"img/w3_confidence.png\" width=\"400px\"><br>\n",
    "確信度とは、ある商品Aの購入数をベースに、その商品Aとある商品Bの組み合わせ購買がどれくらいの割合であるのかを表します。<br>\n",
    "商品85123Aを購入するなら商品85099Bも購入する、というルールの確信度は、次のように計算できます。<br>\n",
    "<br>\n",
    "Confidence is the ratio of the number of baskets which include both item A and B to the total number of baskets which includes item A.<br>\n",
    "The confidence {\"85123A\"->\"85099B\"} is calculated as follows.<br>"
   ]
  },
  {
   "cell_type": "code",
   "execution_count": null,
   "metadata": {
    "slideshow": {
     "slide_type": "subslide"
    }
   },
   "outputs": [],
   "source": [
    "# Confidence = (A and B) / A\n",
    "# A and B = len(trans_ab)\n",
    "# A = len(trans_a)\n",
    "print('Confidence(\"85123A\"->\"85099B\"):{:.3f}'.format(len(trans_ab)/len(trans_a)))"
   ]
  },
  {
   "cell_type": "markdown",
   "metadata": {
    "slideshow": {
     "slide_type": "subslide"
    }
   },
   "source": [
    "逆に、商品85099Bを購入するなら商品85123Aする、というルールの確信度は以下のようになります。<br>\n",
    "The confidence {\"85099B\"->\"85123A\"} is calculated as follows.<br>"
   ]
  },
  {
   "cell_type": "code",
   "execution_count": null,
   "metadata": {
    "slideshow": {
     "slide_type": "fragment"
    }
   },
   "outputs": [],
   "source": [
    "print('Confidence(\"85099B\"->\"85123A\"):{:.3f}'.format(len(trans_ab)/len(trans_b)))"
   ]
  },
  {
   "cell_type": "markdown",
   "metadata": {
    "slideshow": {
     "slide_type": "subslide"
    }
   },
   "source": [
    "確信度が高いと商品間の併売が見込めるため、クロスセル（他の商品などを併せて購入してもらうこと）をさせたい場合は確信度の高い商品の中からオファー商品を決定するなどの場面で活用されます。ただし、確信度の絶対値だけでは併売傾向の判断を誤ることがあるため、次のリフト値も合わせて見るのが普通です。<br>\n",
    "<br>\n",
    "When the confidence is high, it is likely that customers may purchase these two items at the same time.<br>\n",
    "So it will be a good candidate as a recommended item.<br>\n",
    "But the magnitude value of confidence is not always reliable, so it is better to decide a recommendation with lift value."
   ]
  },
  {
   "cell_type": "markdown",
   "metadata": {
    "slideshow": {
     "slide_type": "skip"
    }
   },
   "source": [
    "<a id=\"lift\"></a>"
   ]
  },
  {
   "cell_type": "markdown",
   "metadata": {
    "slideshow": {
     "slide_type": "subslide"
    }
   },
   "source": [
    "### 9-4-3-3 リフト値 (lift)\n",
    "<img src=\"img/w3_lift.png\" width=\"400px\"><br>\n",
    "商品Aを購入するなら商品Bを購入するというアソシエーションルールにおいて、そのリフトとは、ルールの確信度（%）を商品Bの支持度（%）で割った値のことです。<br>\n",
    "つまり、全体のバスケットに占める商品Bの購買率に対する、商品Aを購買したときの商品Bの購買率の比率がリフト値です。当然、リフト値が1.0よりも大きければ併売しやすい商品になりますし、1.0よりも小さければ併売しにくい商品と解釈できます。商品85123Aを購入するなら商品85099Bも購入する、というルールのリフトは以下のように求められます。<br>\n"
   ]
  },
  {
   "cell_type": "code",
   "execution_count": null,
   "metadata": {
    "slideshow": {
     "slide_type": "subslide"
    }
   },
   "outputs": [],
   "source": [
    "# Lift = (A and B) / (A * B)\n",
    "# A and B = len(trans_ab)\n",
    "# A = len(trans_a), B = len(trans_b), N = len(trans_all)\n",
    "\n",
    "# 全体のバスケットに占める商品Bの購買率を計算\n",
    "support_b = len(trans_b) / len(trans_all)\n",
    "\n",
    "# 商品Aを購買したときの商品Bの購買率を計算\n",
    "confidence = len(trans_ab) / len(trans_a)\n",
    "\n",
    "# リフト値を計算\n",
    "lift = confidence / support_b\n",
    "print('lift:{:.3f}'.format(lift))"
   ]
  },
  {
   "cell_type": "markdown",
   "metadata": {
    "slideshow": {
     "slide_type": "subslide"
    }
   },
   "source": [
    "確信度が高い数値でもリフト値が1.0を下回る場合は、顧客への商品推奨の根拠としては不適切かもしれません。分析の目的に照らし、確信度とリフト値を組み合わせて使うなどしましょう。<br>\n",
    "また、店舗エリア別、店舗タイプ別、顧客クラスター別などにルールを抽出すると、より有用性の高いルールが抽出できるかもしれないことを覚えておきましょう。<br>\n",
    "<br>\n",
    "Even if confidence is high, items which has lift below 1.0 may not be a good combination to be recommended.<br>\n",
    "Recommendations have to be considered with the three values (support, confidence, and lift) in a comprehensive manner.<br>\n",
    "You may be able to extract more useful association rules by analyzing classified data by area and type of the stores or by clustering of the customers.<br>\n"
   ]
  },
  {
   "cell_type": "markdown",
   "metadata": {},
   "source": [
    "## MLXTEND を使うと、自動でいろいろな組み合わせのサポート、リフト、確信度を調べてくれます。\n"
   ]
  },
  {
   "cell_type": "code",
   "execution_count": null,
   "metadata": {},
   "outputs": [],
   "source": [
    "# ライブラリのインストール\n",
    "# ! pip install mlxtend\n",
    "! conda install -c conda-forge mlxtend"
   ]
  },
  {
   "cell_type": "code",
   "execution_count": null,
   "metadata": {},
   "outputs": [],
   "source": [
    "# MLXTEND から関連ライブラリをインポート\n",
    "from mlxtend.frequent_patterns import association_rules\n",
    "from mlxtend.frequent_patterns import apriori"
   ]
  },
  {
   "cell_type": "markdown",
   "metadata": {},
   "source": [
    "## 商品名を列にして、InvoiceNo（請求書番号）ごとに購入した商品数を表すデータ書式に変える。"
   ]
  },
  {
   "cell_type": "code",
   "execution_count": null,
   "metadata": {},
   "outputs": [],
   "source": [
    "basket = (trans.groupby(['InvoiceNo', 'Description'])['Quantity']\n",
    "          .sum().unstack().reset_index().fillna(0)\n",
    "          .set_index('InvoiceNo'))\n",
    "basket.head(10)"
   ]
  },
  {
   "cell_type": "markdown",
   "metadata": {},
   "source": [
    "## 購入したら1、しなかったら0、にデータを書き換える"
   ]
  },
  {
   "cell_type": "code",
   "execution_count": null,
   "metadata": {},
   "outputs": [],
   "source": [
    "def sum_to_boolean(x):\n",
    "  if x<=0:\n",
    "    return 0\n",
    "  else:\n",
    "    return 1\n",
    "basket_final = basket.applymap(sum_to_boolean)\n",
    "basket_final.head(10)"
   ]
  },
  {
   "cell_type": "markdown",
   "metadata": {},
   "source": [
    "## 少なくとも 2% のサポートが含まれているアイテムのセットを表示します。\n",
    "少なくとも、2%のバスケットで購入されているアイテムのみを抽出します。\n",
    "\n",
    "データサイズが大きいと、それだけいろいろな種類の商品が含まれるので、サポートは小さめに出ます。<br>\n",
    "データサイズが小さいものを扱うときは、サポートの最小値も5%、6%というように少し大きめに取りましょう。<br>"
   ]
  },
  {
   "cell_type": "code",
   "execution_count": null,
   "metadata": {},
   "outputs": [],
   "source": [
    "frequent_itemsets = apriori(basket_final, min_support = 0.02,\n",
    "  use_colnames = True)\n",
    "# frequent_itemsets.sort_values('support', ascending = False).head()\n",
    "frequent_itemsets.sort_values('support', ascending = False)"
   ]
  },
  {
   "cell_type": "code",
   "execution_count": null,
   "metadata": {},
   "outputs": [],
   "source": [
    "frequent_itemsets.shape"
   ]
  },
  {
   "cell_type": "markdown",
   "metadata": {},
   "source": [
    "## 関数association_rulesを使って、自動で3つの指標を計算"
   ]
  },
  {
   "cell_type": "code",
   "execution_count": null,
   "metadata": {},
   "outputs": [],
   "source": [
    "# 購買パターンをリフト値で並べ替え\n",
    "a_rules = association_rules(frequent_itemsets, metric = \"lift\",  min_threshold = 1)\n",
    "a_rules.sort_values('lift',ascending = False)"
   ]
  },
  {
   "cell_type": "markdown",
   "metadata": {},
   "source": [
    "## どんな組み合わせの商品がよく売れているでしょうか??"
   ]
  },
  {
   "cell_type": "code",
   "execution_count": null,
   "metadata": {},
   "outputs": [],
   "source": []
  }
 ],
 "metadata": {
  "kernelspec": {
   "display_name": "Python 3 (ipykernel)",
   "language": "python",
   "name": "python3"
  },
  "language_info": {
   "codemirror_mode": {
    "name": "ipython",
    "version": 3
   },
   "file_extension": ".py",
   "mimetype": "text/x-python",
   "name": "python",
   "nbconvert_exporter": "python",
   "pygments_lexer": "ipython3",
   "version": "3.11.5"
  },
  "toc": {
   "base_numbering": 1,
   "nav_menu": {},
   "number_sections": true,
   "sideBar": true,
   "skip_h1_title": false,
   "title_cell": "Table of Contents",
   "title_sidebar": "Contents",
   "toc_cell": false,
   "toc_position": {},
   "toc_section_display": true,
   "toc_window_display": false
  }
 },
 "nbformat": 4,
 "nbformat_minor": 4
}
