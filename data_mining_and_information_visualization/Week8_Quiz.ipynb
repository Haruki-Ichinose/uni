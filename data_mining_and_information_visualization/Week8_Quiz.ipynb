{
 "cells": [
  {
   "cell_type": "markdown",
   "id": "7dcef067-bfb6-41f4-b3df-869e0c163249",
   "metadata": {
    "slideshow": {
     "slide_type": "slide"
    }
   },
   "source": [
    "# **データマイニングと情報可視化: 小テスト**\n",
    "# **Data mining and information visualization: Exercise**\n",
    "<font size=\"4\">\n",
    "第8回　2024年2月6日(火)\n",
    "</font>\n",
    "\n",
    "*****\n",
    "<span style=\"color: red;font-weight:bold;\" >授業アンケートの回答をお願いします!!!\n",
    "* [冬学期授業アンケート](https://moodle.s.kyushu-u.ac.jp/mod/claque/response.php?id=1031733&cid=67159): 締め切り 2024年2月10日(火)\n",
    "*****"
   ]
  },
  {
   "cell_type": "markdown",
   "id": "d561e2ad-0193-4d5e-95a3-2928e462bbc5",
   "metadata": {
    "tags": []
   },
   "source": [
    "## (1) 必要なライブラリをインストールしてください。 / Import libraries."
   ]
  },
  {
   "cell_type": "code",
   "execution_count": 1,
   "id": "bea9f630-83fe-438f-95ae-477004225577",
   "metadata": {},
   "outputs": [],
   "source": [
    "# まずはライブラリをインポート / Import the libraries.\n",
    "import numpy as np\n",
    "import numpy.random as random\n",
    "import scipy as sp\n",
    "from pandas import Series, DataFrame\n",
    "import pandas as pd\n",
    "\n",
    "# 可視化ライブラリ / Visualization libraries\n",
    "import matplotlib.pyplot as plt\n",
    "import matplotlib as mpl\n",
    "import seaborn as sns\n",
    "%matplotlib inline\n",
    "\n",
    "# 機械学習ライブラリ / Machine learning library\n",
    "import sklearn\n",
    "\n",
    "from sklearn.metrics import confusion_matrix"
   ]
  },
  {
   "cell_type": "markdown",
   "id": "470f0b99-37da-4dc4-8f1f-628ae48f5d64",
   "metadata": {
    "tags": []
   },
   "source": [
    "## (2) CSV ファイル(data/w8_data.csv)をDataFrame`df`として読み込んで下さい。\n",
    "Please load a CSV file, data/w8_data.csv, as a DataFrame, `df`.\n",
    "\n",
    "Student ID: 学生番号/identification number<br>\n",
    "Class: クラス名 / Name of the class<br>\n",
    "Gender: 性別(1：男子/Male、2：女子/Female)<br>\n",
    "English: 英語の得点 / Score of English<br>\n",
    "Math: 数学の得点 / Score of Math<br>\n",
    "Phys: 物理の得点 / Score of Physics<br>\n",
    "Chemistry: 理科の得点 / Score of Chemistry<br>\n",
    "\n",
    "[Week 2: read csv](Ex_Week2.ipynb#readcsv)"
   ]
  },
  {
   "cell_type": "code",
   "execution_count": 2,
   "id": "6c680eee-5049-48da-b499-124511fb423c",
   "metadata": {},
   "outputs": [],
   "source": [
    "df = pd.read_csv('data/w8_data.csv')"
   ]
  },
  {
   "cell_type": "markdown",
   "id": "480fa154-427d-4dce-ac82-2ca10bcdb20c",
   "metadata": {},
   "source": [
    "## (3) 最初の5行を表示 / Display the first 5 lines\n",
    "[Week 2: head](Ex_Week2.ipynb#head)"
   ]
  },
  {
   "cell_type": "code",
   "execution_count": 3,
   "id": "0c3eedae-9f0f-4779-8f87-4f66d371a328",
   "metadata": {},
   "outputs": [
    {
     "data": {
      "text/html": [
       "<div>\n",
       "<style scoped>\n",
       "    .dataframe tbody tr th:only-of-type {\n",
       "        vertical-align: middle;\n",
       "    }\n",
       "\n",
       "    .dataframe tbody tr th {\n",
       "        vertical-align: top;\n",
       "    }\n",
       "\n",
       "    .dataframe thead th {\n",
       "        text-align: right;\n",
       "    }\n",
       "</style>\n",
       "<table border=\"1\" class=\"dataframe\">\n",
       "  <thead>\n",
       "    <tr style=\"text-align: right;\">\n",
       "      <th></th>\n",
       "      <th>Student ID</th>\n",
       "      <th>Class</th>\n",
       "      <th>English</th>\n",
       "      <th>Math</th>\n",
       "      <th>Phys</th>\n",
       "      <th>Chemistry</th>\n",
       "    </tr>\n",
       "  </thead>\n",
       "  <tbody>\n",
       "    <tr>\n",
       "      <th>0</th>\n",
       "      <td>1</td>\n",
       "      <td>2</td>\n",
       "      <td>61.0</td>\n",
       "      <td>71.0</td>\n",
       "      <td>74.0</td>\n",
       "      <td>67.0</td>\n",
       "    </tr>\n",
       "    <tr>\n",
       "      <th>1</th>\n",
       "      <td>2</td>\n",
       "      <td>4</td>\n",
       "      <td>72.0</td>\n",
       "      <td>80.0</td>\n",
       "      <td>69.0</td>\n",
       "      <td>65.0</td>\n",
       "    </tr>\n",
       "    <tr>\n",
       "      <th>2</th>\n",
       "      <td>3</td>\n",
       "      <td>5</td>\n",
       "      <td>37.0</td>\n",
       "      <td>47.0</td>\n",
       "      <td>63.0</td>\n",
       "      <td>61.0</td>\n",
       "    </tr>\n",
       "    <tr>\n",
       "      <th>3</th>\n",
       "      <td>4</td>\n",
       "      <td>5</td>\n",
       "      <td>36.0</td>\n",
       "      <td>47.0</td>\n",
       "      <td>64.0</td>\n",
       "      <td>62.0</td>\n",
       "    </tr>\n",
       "    <tr>\n",
       "      <th>4</th>\n",
       "      <td>5</td>\n",
       "      <td>1</td>\n",
       "      <td>36.0</td>\n",
       "      <td>39.0</td>\n",
       "      <td>83.0</td>\n",
       "      <td>77.0</td>\n",
       "    </tr>\n",
       "  </tbody>\n",
       "</table>\n",
       "</div>"
      ],
      "text/plain": [
       "   Student ID  Class  English  Math  Phys  Chemistry\n",
       "0           1      2     61.0  71.0  74.0       67.0\n",
       "1           2      4     72.0  80.0  69.0       65.0\n",
       "2           3      5     37.0  47.0  63.0       61.0\n",
       "3           4      5     36.0  47.0  64.0       62.0\n",
       "4           5      1     36.0  39.0  83.0       77.0"
      ]
     },
     "execution_count": 3,
     "metadata": {},
     "output_type": "execute_result"
    }
   ],
   "source": [
    "# Display the first 5 lines\n",
    "df.head()"
   ]
  },
  {
   "cell_type": "markdown",
   "id": "7b3ac527-22d9-4356-9f09-576ea8c41a3a",
   "metadata": {},
   "source": [
    "## (4) 最後の5行を表示 / Display the last 5 lines\n",
    "[Week 2: tail](Ex_Week2.ipynb#tail)"
   ]
  },
  {
   "cell_type": "code",
   "execution_count": 4,
   "id": "806c7504-a422-46e5-b116-dad3baf59905",
   "metadata": {},
   "outputs": [
    {
     "data": {
      "text/html": [
       "<div>\n",
       "<style scoped>\n",
       "    .dataframe tbody tr th:only-of-type {\n",
       "        vertical-align: middle;\n",
       "    }\n",
       "\n",
       "    .dataframe tbody tr th {\n",
       "        vertical-align: top;\n",
       "    }\n",
       "\n",
       "    .dataframe thead th {\n",
       "        text-align: right;\n",
       "    }\n",
       "</style>\n",
       "<table border=\"1\" class=\"dataframe\">\n",
       "  <thead>\n",
       "    <tr style=\"text-align: right;\">\n",
       "      <th></th>\n",
       "      <th>Student ID</th>\n",
       "      <th>Class</th>\n",
       "      <th>English</th>\n",
       "      <th>Math</th>\n",
       "      <th>Phys</th>\n",
       "      <th>Chemistry</th>\n",
       "    </tr>\n",
       "  </thead>\n",
       "  <tbody>\n",
       "    <tr>\n",
       "      <th>195</th>\n",
       "      <td>196</td>\n",
       "      <td>4</td>\n",
       "      <td>56.0</td>\n",
       "      <td>64.0</td>\n",
       "      <td>55.0</td>\n",
       "      <td>58.0</td>\n",
       "    </tr>\n",
       "    <tr>\n",
       "      <th>196</th>\n",
       "      <td>197</td>\n",
       "      <td>1</td>\n",
       "      <td>65.0</td>\n",
       "      <td>85.0</td>\n",
       "      <td>93.0</td>\n",
       "      <td>84.0</td>\n",
       "    </tr>\n",
       "    <tr>\n",
       "      <th>197</th>\n",
       "      <td>198</td>\n",
       "      <td>2</td>\n",
       "      <td>45.0</td>\n",
       "      <td>NaN</td>\n",
       "      <td>63.0</td>\n",
       "      <td>51.0</td>\n",
       "    </tr>\n",
       "    <tr>\n",
       "      <th>198</th>\n",
       "      <td>199</td>\n",
       "      <td>3</td>\n",
       "      <td>50.0</td>\n",
       "      <td>67.0</td>\n",
       "      <td>71.0</td>\n",
       "      <td>68.0</td>\n",
       "    </tr>\n",
       "    <tr>\n",
       "      <th>199</th>\n",
       "      <td>200</td>\n",
       "      <td>4</td>\n",
       "      <td>50.0</td>\n",
       "      <td>73.0</td>\n",
       "      <td>66.0</td>\n",
       "      <td>65.0</td>\n",
       "    </tr>\n",
       "  </tbody>\n",
       "</table>\n",
       "</div>"
      ],
      "text/plain": [
       "     Student ID  Class  English  Math  Phys  Chemistry\n",
       "195         196      4     56.0  64.0  55.0       58.0\n",
       "196         197      1     65.0  85.0  93.0       84.0\n",
       "197         198      2     45.0   NaN  63.0       51.0\n",
       "198         199      3     50.0  67.0  71.0       68.0\n",
       "199         200      4     50.0  73.0  66.0       65.0"
      ]
     },
     "execution_count": 4,
     "metadata": {},
     "output_type": "execute_result"
    }
   ],
   "source": [
    "# Display the last 5 lines\n",
    "df.tail()"
   ]
  },
  {
   "cell_type": "markdown",
   "id": "931abb80-386b-4fae-8fe2-63a441333f85",
   "metadata": {},
   "source": [
    "## (5) DataFrameの行や列の数を数える。 / Check the numbers of lows and columns\n",
    "[Week 2: shape](Ex_Week2.ipynb#shape)"
   ]
  },
  {
   "cell_type": "code",
   "execution_count": 5,
   "id": "e242e1e8-0ce6-4946-be42-cddc747ef6f9",
   "metadata": {},
   "outputs": [
    {
     "data": {
      "text/plain": [
       "(200, 6)"
      ]
     },
     "execution_count": 5,
     "metadata": {},
     "output_type": "execute_result"
    }
   ],
   "source": [
    "# Check the numbers of lows and columns\n",
    "df.shape"
   ]
  },
  {
   "cell_type": "markdown",
   "id": "923ac03b-543e-473c-99b5-d4bbaa0e6324",
   "metadata": {},
   "source": [
    "## (6) Student IDの列を削除してください。\n",
    "Remove the column, 'Student ID'.<br>\n",
    "\n",
    "削除した結果は元のDataFrameに反映させるか、新しい名前のDataFrameに保存してください。<br>\n",
    "The result should be reflected in the original DataFrame or saved in a DataFrame with a new name.\n",
    "\n",
    "[Week 4: drop_column](Ex_Week4.ipynb#drop_column)"
   ]
  },
  {
   "cell_type": "code",
   "execution_count": 6,
   "id": "457f52a4-8139-4494-a7f2-fa9c6aa43bb9",
   "metadata": {
    "tags": []
   },
   "outputs": [],
   "source": [
    "df.drop('Student ID', axis=1, inplace=True)"
   ]
  },
  {
   "cell_type": "markdown",
   "id": "06584f24-dee7-4f86-88de-9d4c54234fb8",
   "metadata": {},
   "source": [
    "## (7) 物理(Phys)の点が85点以上の人は何人いますか？\n",
    "How many of the students have Phys scores of 85 or higher?\n",
    "\n",
    "[Week 2: extract](Ex_Week2.ipynb#extract)"
   ]
  },
  {
   "cell_type": "code",
   "execution_count": 7,
   "id": "6b56f000-9469-4dd3-8e23-c07e7ded45b9",
   "metadata": {},
   "outputs": [
    {
     "name": "stdout",
     "output_type": "stream",
     "text": [
      "9\n"
     ]
    }
   ],
   "source": [
    "# Physが85点以上の人数を表示\n",
    "\n",
    "print(len(df[df['Phys'] >= 85]))"
   ]
  },
  {
   "cell_type": "markdown",
   "id": "2630ec30-d92d-40d7-9906-08f2b2abb5a8",
   "metadata": {},
   "source": [
    "## (8) Classの番号が3のデータだけ抽出して、df_Class3 という名前のDataFrameに保存してください。\n",
    "\n",
    "最初の5行を表示してください。<br>\n",
    "Display the first 5 lines.\n",
    "\n",
    "[Week 2: extract](Ex_Week2.ipynb#extract)"
   ]
  },
  {
   "cell_type": "code",
   "execution_count": 8,
   "id": "c13479dc-faa1-4a1d-89d4-d1012e56c52c",
   "metadata": {},
   "outputs": [
    {
     "data": {
      "text/html": [
       "<div>\n",
       "<style scoped>\n",
       "    .dataframe tbody tr th:only-of-type {\n",
       "        vertical-align: middle;\n",
       "    }\n",
       "\n",
       "    .dataframe tbody tr th {\n",
       "        vertical-align: top;\n",
       "    }\n",
       "\n",
       "    .dataframe thead th {\n",
       "        text-align: right;\n",
       "    }\n",
       "</style>\n",
       "<table border=\"1\" class=\"dataframe\">\n",
       "  <thead>\n",
       "    <tr style=\"text-align: right;\">\n",
       "      <th></th>\n",
       "      <th>Class</th>\n",
       "      <th>English</th>\n",
       "      <th>Math</th>\n",
       "      <th>Phys</th>\n",
       "      <th>Chemistry</th>\n",
       "    </tr>\n",
       "  </thead>\n",
       "  <tbody>\n",
       "    <tr>\n",
       "      <th>21</th>\n",
       "      <td>3</td>\n",
       "      <td>66.0</td>\n",
       "      <td>75.0</td>\n",
       "      <td>77.0</td>\n",
       "      <td>79.0</td>\n",
       "    </tr>\n",
       "    <tr>\n",
       "      <th>23</th>\n",
       "      <td>3</td>\n",
       "      <td>60.0</td>\n",
       "      <td>74.0</td>\n",
       "      <td>29.0</td>\n",
       "      <td>39.0</td>\n",
       "    </tr>\n",
       "    <tr>\n",
       "      <th>25</th>\n",
       "      <td>3</td>\n",
       "      <td>46.0</td>\n",
       "      <td>54.0</td>\n",
       "      <td>60.0</td>\n",
       "      <td>46.0</td>\n",
       "    </tr>\n",
       "    <tr>\n",
       "      <th>29</th>\n",
       "      <td>3</td>\n",
       "      <td>38.0</td>\n",
       "      <td>48.0</td>\n",
       "      <td>45.0</td>\n",
       "      <td>52.0</td>\n",
       "    </tr>\n",
       "    <tr>\n",
       "      <th>30</th>\n",
       "      <td>3</td>\n",
       "      <td>36.0</td>\n",
       "      <td>44.0</td>\n",
       "      <td>78.0</td>\n",
       "      <td>70.0</td>\n",
       "    </tr>\n",
       "  </tbody>\n",
       "</table>\n",
       "</div>"
      ],
      "text/plain": [
       "    Class  English  Math  Phys  Chemistry\n",
       "21      3     66.0  75.0  77.0       79.0\n",
       "23      3     60.0  74.0  29.0       39.0\n",
       "25      3     46.0  54.0  60.0       46.0\n",
       "29      3     38.0  48.0  45.0       52.0\n",
       "30      3     36.0  44.0  78.0       70.0"
      ]
     },
     "execution_count": 8,
     "metadata": {},
     "output_type": "execute_result"
    }
   ],
   "source": [
    "df_Class3 = df[df['Class'] == 3]\n",
    "df_Class3.head()"
   ]
  },
  {
   "cell_type": "markdown",
   "id": "ea0c4761-69d4-42a2-a164-c74c9ea48cb6",
   "metadata": {},
   "source": [
    "## (9) それぞれの科目にいくつずつ欠損値がありますか？\n",
    "How many NaN are there in each subject?\n",
    "\n",
    "[Week 4: isnull](Ex_Week4.ipynb#isnull)"
   ]
  },
  {
   "cell_type": "code",
   "execution_count": 9,
   "id": "b65ba28f-b5bf-4eb0-82f8-e2fffaf0ea4d",
   "metadata": {},
   "outputs": [
    {
     "data": {
      "text/plain": [
       "Class        0\n",
       "English      1\n",
       "Math         1\n",
       "Phys         1\n",
       "Chemistry    2\n",
       "dtype: int64"
      ]
     },
     "execution_count": 9,
     "metadata": {},
     "output_type": "execute_result"
    }
   ],
   "source": [
    "df_Class3.isnull().sum()"
   ]
  },
  {
   "cell_type": "markdown",
   "id": "e214b852-bdaa-4c6f-893a-8ffb4b1bc054",
   "metadata": {},
   "source": [
    "## (10) 英語の欠損値をその平均値で置換する\n",
    "Please replace NaN in the column of English with the average score of English.\n",
    "\n",
    "[Week 4: Replace NaN](Ex_Week4.ipynb#replace)"
   ]
  },
  {
   "cell_type": "code",
   "execution_count": 10,
   "id": "2980b9ef-d68c-4f32-b6e7-62247db0c5bf",
   "metadata": {},
   "outputs": [],
   "source": [
    "df_Class3.loc[:, 'English'] = df_Class3['English'].fillna(df_Class3['English'].mean())"
   ]
  },
  {
   "cell_type": "code",
   "execution_count": 11,
   "id": "eeb194f9",
   "metadata": {},
   "outputs": [
    {
     "data": {
      "text/plain": [
       "(40, 5)"
      ]
     },
     "execution_count": 11,
     "metadata": {},
     "output_type": "execute_result"
    }
   ],
   "source": [
    "df_Class3.shape"
   ]
  },
  {
   "cell_type": "code",
   "execution_count": 12,
   "id": "7e66eb55",
   "metadata": {},
   "outputs": [
    {
     "data": {
      "text/plain": [
       "Class        0\n",
       "English      0\n",
       "Math         1\n",
       "Phys         1\n",
       "Chemistry    2\n",
       "dtype: int64"
      ]
     },
     "execution_count": 12,
     "metadata": {},
     "output_type": "execute_result"
    }
   ],
   "source": [
    "df_Class3.isnull().sum()"
   ]
  },
  {
   "cell_type": "markdown",
   "id": "2745132a-e67c-4cf8-8a1b-6db838ea20d1",
   "metadata": {},
   "source": [
    "## (11) 欠損値が一つでも含まれる行を削除する\n",
    "Remove columns which has more than one NaN.\n",
    "\n",
    "削除した結果は新しい名前のDataFrameに保存してください。<br>\n",
    "The result should be saved in a DataFrame with a new name.\n",
    "\n",
    "[Week 4: remove nan](Ex_Week4.ipynb#removenan)"
   ]
  },
  {
   "cell_type": "code",
   "execution_count": 13,
   "id": "a6043894-1a63-4b93-b925-cc56e21d14c8",
   "metadata": {},
   "outputs": [],
   "source": [
    "df2 = df_Class3.dropna(how='any')"
   ]
  },
  {
   "cell_type": "code",
   "execution_count": 14,
   "id": "fffb17be",
   "metadata": {},
   "outputs": [
    {
     "data": {
      "text/plain": [
       "(36, 5)"
      ]
     },
     "execution_count": 14,
     "metadata": {},
     "output_type": "execute_result"
    }
   ],
   "source": [
    "df2.shape"
   ]
  },
  {
   "cell_type": "code",
   "execution_count": 15,
   "id": "3de56c2e",
   "metadata": {},
   "outputs": [
    {
     "data": {
      "text/plain": [
       "Class        0\n",
       "English      0\n",
       "Math         0\n",
       "Phys         0\n",
       "Chemistry    0\n",
       "dtype: int64"
      ]
     },
     "execution_count": 15,
     "metadata": {},
     "output_type": "execute_result"
    }
   ],
   "source": [
    "df2.isnull().sum()"
   ]
  },
  {
   "cell_type": "code",
   "execution_count": 16,
   "id": "4c73bc03",
   "metadata": {},
   "outputs": [
    {
     "data": {
      "text/html": [
       "<div>\n",
       "<style scoped>\n",
       "    .dataframe tbody tr th:only-of-type {\n",
       "        vertical-align: middle;\n",
       "    }\n",
       "\n",
       "    .dataframe tbody tr th {\n",
       "        vertical-align: top;\n",
       "    }\n",
       "\n",
       "    .dataframe thead th {\n",
       "        text-align: right;\n",
       "    }\n",
       "</style>\n",
       "<table border=\"1\" class=\"dataframe\">\n",
       "  <thead>\n",
       "    <tr style=\"text-align: right;\">\n",
       "      <th></th>\n",
       "      <th>Class</th>\n",
       "      <th>English</th>\n",
       "      <th>Math</th>\n",
       "      <th>Phys</th>\n",
       "      <th>Chemistry</th>\n",
       "    </tr>\n",
       "  </thead>\n",
       "  <tbody>\n",
       "    <tr>\n",
       "      <th>21</th>\n",
       "      <td>3</td>\n",
       "      <td>66.0</td>\n",
       "      <td>75.0</td>\n",
       "      <td>77.0</td>\n",
       "      <td>79.0</td>\n",
       "    </tr>\n",
       "    <tr>\n",
       "      <th>23</th>\n",
       "      <td>3</td>\n",
       "      <td>60.0</td>\n",
       "      <td>74.0</td>\n",
       "      <td>29.0</td>\n",
       "      <td>39.0</td>\n",
       "    </tr>\n",
       "    <tr>\n",
       "      <th>25</th>\n",
       "      <td>3</td>\n",
       "      <td>46.0</td>\n",
       "      <td>54.0</td>\n",
       "      <td>60.0</td>\n",
       "      <td>46.0</td>\n",
       "    </tr>\n",
       "    <tr>\n",
       "      <th>29</th>\n",
       "      <td>3</td>\n",
       "      <td>38.0</td>\n",
       "      <td>48.0</td>\n",
       "      <td>45.0</td>\n",
       "      <td>52.0</td>\n",
       "    </tr>\n",
       "    <tr>\n",
       "      <th>30</th>\n",
       "      <td>3</td>\n",
       "      <td>36.0</td>\n",
       "      <td>44.0</td>\n",
       "      <td>78.0</td>\n",
       "      <td>70.0</td>\n",
       "    </tr>\n",
       "  </tbody>\n",
       "</table>\n",
       "</div>"
      ],
      "text/plain": [
       "    Class  English  Math  Phys  Chemistry\n",
       "21      3     66.0  75.0  77.0       79.0\n",
       "23      3     60.0  74.0  29.0       39.0\n",
       "25      3     46.0  54.0  60.0       46.0\n",
       "29      3     38.0  48.0  45.0       52.0\n",
       "30      3     36.0  44.0  78.0       70.0"
      ]
     },
     "execution_count": 16,
     "metadata": {},
     "output_type": "execute_result"
    }
   ],
   "source": [
    "df2.head()"
   ]
  },
  {
   "cell_type": "markdown",
   "id": "f19ec697-f1d8-445f-9fed-655ec7ec12bb",
   "metadata": {},
   "source": [
    "## (12) それぞれの科目の平均点を計算してください。\n",
    "Calculate the average score of each subject.\n",
    "\n",
    "[Week 4: average](Ex_Week4.ipynb#average)"
   ]
  },
  {
   "cell_type": "code",
   "execution_count": 17,
   "id": "17ca9f4a-cc8d-4128-92ab-2873a2d42e63",
   "metadata": {},
   "outputs": [
    {
     "name": "stdout",
     "output_type": "stream",
     "text": [
      "English      50.529202\n",
      "Math         59.777778\n",
      "Phys         65.833333\n",
      "Chemistry    65.472222\n",
      "dtype: float64\n"
     ]
    }
   ],
   "source": [
    "print(df2[['English', 'Math', 'Phys', 'Chemistry']].mean())\n",
    "\n"
   ]
  },
  {
   "cell_type": "markdown",
   "id": "b122141c-9202-49ff-ac4d-e239f94b271c",
   "metadata": {},
   "source": [
    "## (13) 化学(Chemistry)の点のヒストグラムをプロットしてください。\n",
    "Draw a histogram of the score of Chemistry.\n",
    "\n",
    "[Week 4: bar chart](Ex_Week4.ipynb#barchart)"
   ]
  },
  {
   "cell_type": "code",
   "execution_count": 18,
   "id": "fa1f33a8-0b52-4e86-895a-fdf4f9c6dbb4",
   "metadata": {},
   "outputs": [
    {
     "data": {
      "text/plain": [
       "(array([1., 1., 2., 4., 4., 4., 9., 7., 3., 1.]),\n",
       " array([39. , 43.6, 48.2, 52.8, 57.4, 62. , 66.6, 71.2, 75.8, 80.4, 85. ]),\n",
       " <BarContainer object of 10 artists>)"
      ]
     },
     "execution_count": 18,
     "metadata": {},
     "output_type": "execute_result"
    },
    {
     "data": {
      "image/png": "[encoded data removed]",
      "text/plain": [
       "<Figure size 640x480 with 1 Axes>"
      ]
     },
     "metadata": {},
     "output_type": "display_data"
    }
   ],
   "source": [
    "# グラフのタイトル / Set a title of the graph\n",
    "plt.title('Chemistry')\n",
    "# x軸のラベル / Set a label of x axis\n",
    "plt.xlabel('Number')\n",
    "# y軸のラベル / Set a label of y axis\n",
    "plt.ylabel('Score')\n",
    "\n",
    "plt.hist(df2['Chemistry'], bins=10)"
   ]
  },
  {
   "cell_type": "markdown",
   "id": "f5dffdf9-ca02-43d5-8914-513ed916520d",
   "metadata": {},
   "source": [
    "## (14) 横軸を数学、縦軸を英語で散布図を書いてください。\n",
    "Draw a scatter plot with Math on the horizontal axis and English on the vertical axis.\n",
    "\n",
    "グラフの軸にはラベルを付け、正方形にプロットしてください。<br>\n",
    "プロット範囲は、0 < x < 100 と、0 < y < 100　としてください。\n",
    "x軸とy軸の比率が等しい正方形の図を作成してください。<br>\n",
    "\n",
    "The axes of the graph should be labeled and plotted in a square.<br>\n",
    "The range of the axes should be 0 < x < 100 and 0 < y < 100. \n",
    "\n",
    "[Week 4: scatter plot](Ex_Week4.ipynb#scatterplot)"
   ]
  },
  {
   "cell_type": "code",
   "execution_count": 19,
   "id": "d691d43b-b58d-495f-a751-0d70d548306a",
   "metadata": {},
   "outputs": [
    {
     "data": {
      "image/png": "[encoded data removed]",
      "text/plain": [
       "<Figure size 640x480 with 1 Axes>"
      ]
     },
     "metadata": {},
     "output_type": "display_data"
    }
   ],
   "source": [
    "# 正方形でプロット. Plot in a square.\n",
    "# グラフのタイトル / Set a title of the graph\n",
    "plt.title('Math and English')\n",
    "# x軸のラベル / Set a label of x axis\n",
    "plt.xlabel('Math')\n",
    "# y軸のラベル / Set a label of y axis\n",
    "plt.ylabel('English')\n",
    "# xのプロット範囲 / Set a range of x axis : 0 < x < 100\n",
    "plt.xlim(0, 100)\n",
    "# yのプロット範囲 / Set a range of y axis : 0 < y < 100\n",
    "plt.ylim(0, 100)\n",
    "\n",
    "# 横軸を数学、縦軸を英語で散布図を書いてください。\n",
    "plt.scatter(df2['Math'], df2['English'])\n",
    "plt.gca().set_aspect('equal', adjustable='box')\n",
    "plt.show()\n",
    "\n"
   ]
  },
  {
   "cell_type": "markdown",
   "id": "0ea6cee9-b032-4cd6-b27c-471cb783e980",
   "metadata": {},
   "source": [
    "## (15) 数学を説明変数、英語を目的変数として、線形単回帰分析をしてください。\n",
    "Perform a linear simple regression analysis with mathematics as the explanatory variable and English as the objective variable.\n",
    "\n",
    "[Week 6: linear regression](Ex_Week6.ipynb)"
   ]
  },
  {
   "cell_type": "code",
   "execution_count": 20,
   "id": "f817ad05-13a5-46ad-90a7-ebd0d9867fcd",
   "metadata": {},
   "outputs": [],
   "source": [
    "# 機械学習ライブラリ / Machine learning library\n"
   ]
  },
  {
   "cell_type": "code",
   "execution_count": 21,
   "id": "27d28c97-ca7d-4243-85d8-7e6b70e968b3",
   "metadata": {},
   "outputs": [],
   "source": [
    "# 線形回帰の関数に変数を入力する際に、DataFrameではなくて、numpy配列でないといけないので、変換する。\n",
    "# You have to convert a Series to a numpy array to use it as an input of linear regression.\n",
    "# Explanatory variable (Math)\n",
    "x = df2.Math.values\n",
    "y = df2.English.values\n",
    "\n",
    "# Objective variable (English)\n",
    "\n",
    "\n",
    "# reshapeを使って各データを1Dデータと明示する / Define the dimension of the array explicitly with reshape.\n",
    "x = x.reshape(-1, 1)\n",
    "y = y.reshape(-1, 1)\n",
    "\n"
   ]
  },
  {
   "cell_type": "code",
   "execution_count": 22,
   "id": "88506bb8",
   "metadata": {},
   "outputs": [],
   "source": [
    "from sklearn import linear_model"
   ]
  },
  {
   "cell_type": "code",
   "execution_count": 23,
   "id": "2918635a-d3cc-4e4a-85af-a2041ee7aecb",
   "metadata": {},
   "outputs": [],
   "source": [
    "# 線形回帰のインスタンスを生成 / create an instance of simple regression\n",
    "model = linear_model.LinearRegression()\n",
    "\n",
    "# 学習実行 / apply fit\n",
    "model.fit(x, y)\n",
    "\n",
    "# xに対する予測値を計算 / obtain the predicted value.\n",
    "reg_y = model.predict(x)             \n"
   ]
  },
  {
   "cell_type": "markdown",
   "id": "274613c2-c28d-4a07-bfcf-7af876fae0a8",
   "metadata": {},
   "source": [
    "## (16) 数学の点が80点だった時、英語の点は何点取れていると予想できるでしょうか？\n",
    "If you scored 80 in math, how many points can you expect to get in English?\n",
    "\n",
    "[Week 6: linear regression](Ex_Week6.ipynb)"
   ]
  },
  {
   "cell_type": "code",
   "execution_count": 24,
   "id": "00f9e486-ba64-489f-8cc3-bf05b1a41391",
   "metadata": {},
   "outputs": [
    {
     "name": "stdout",
     "output_type": "stream",
     "text": [
      "[[64.6908222]]\n"
     ]
    }
   ],
   "source": [
    "a = model.predict([[80]])\n",
    "print(a)"
   ]
  },
  {
   "cell_type": "markdown",
   "id": "82d40279-3402-46c3-b7e3-6a8f635f0fea",
   "metadata": {},
   "source": [
    "# お疲れさまでした!! Well done!!"
   ]
  }
 ],
 "metadata": {
  "kernelspec": {
   "display_name": "Python 3 (ipykernel)",
   "language": "python",
   "name": "python3"
  },
  "language_info": {
   "codemirror_mode": {
    "name": "ipython",
    "version": 3
   },
   "file_extension": ".py",
   "mimetype": "text/x-python",
   "name": "python",
   "nbconvert_exporter": "python",
   "pygments_lexer": "ipython3",
   "version": "3.11.5"
  }
 },
 "nbformat": 4,
 "nbformat_minor": 5
}
