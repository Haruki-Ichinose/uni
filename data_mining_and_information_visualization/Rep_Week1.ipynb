{
 "cells": [
  {
   "cell_type": "markdown",
   "metadata": {},
   "source": [
    "# **データマイニングと情報可視化: レポート**\n",
    "# **Data mining and information visualization: Assignment**\n",
    "<font size=\"4\">\n",
    "Week 1: 概要と動作環境の確認(PythonとJupyter)</font><br>\n",
    "Outline of the course and check the PC environment</font><br>\n",
    "</font>\n",
    "<span style=\"color: red;font-weight:bold; font-size:15pt;\" >締め切り 2023年12月8日(金)　23:59 JST / Deadline 23:59 JST, Friday, December 8, 2023</span>\n",
    "<br>\n",
    "注意して資料や課題を作成していますが、時々間違うことがあります。課題に間違いなどあれば、気軽に連絡してください。<br>\n",
    "I try to be careful as much as possible in preparing materials and assignments, but sometimes I make mistakes. If you find any mistakes or something unclear in the assignments, please feel free to contact me."
   ]
  },
  {
   "cell_type": "markdown",
   "metadata": {},
   "source": [
    "## (0) 名前と学籍番号を表示してください。/ Please display your name and student ID."
   ]
  },
  {
   "cell_type": "code",
   "execution_count": 82,
   "metadata": {},
   "outputs": [
    {
     "name": "stdout",
     "output_type": "stream",
     "text": [
      "一瀬遥希\n",
      "1TE22028G\n"
     ]
    }
   ],
   "source": [
    "# print 関数を使って下さい / Use print function.\n",
    "print(\"一瀬遥希\")\n",
    "print(\"1TE22028G\")"
   ]
  },
  {
   "cell_type": "markdown",
   "metadata": {},
   "source": [
    "## (1) 20から140まで足し上げて結果を出力する / Sum up the integers from 20 to 140 and display the result.\n",
    "ヒント：`FOR`文を使ってみよう。/ Please use a `FOR` statement.<br>\n",
    "[Week 1: for statement](Ex_Week1.ipynb#for)"
   ]
  },
  {
   "cell_type": "code",
   "execution_count": 83,
   "metadata": {},
   "outputs": [
    {
     "name": "stdout",
     "output_type": "stream",
     "text": [
      "9680\n"
     ]
    }
   ],
   "source": [
    "a=0\n",
    "for n in range (20,141):\n",
    "    a += n\n",
    "print(a)"
   ]
  },
  {
   "cell_type": "markdown",
   "metadata": {},
   "source": [
    "## (2) 割り算をする関数を作って、実行する / Make a function to divide x by y.\n",
    "ヒント：掛け算をする関数を作った時を思い出してみよう。/ Please review the exercise of the week to make a function for multiplication.<br>\n",
    "[Week 1: 割り算/division](Ex_Week1.ipynb#division)<br>\n",
    "[Week 1: 関数/function](Ex_Week1.ipynb#function)"
   ]
  },
  {
   "cell_type": "code",
   "execution_count": 96,
   "metadata": {},
   "outputs": [
    {
     "name": "stdout",
     "output_type": "stream",
     "text": [
      "5.0\n",
      "322.1796875\n"
     ]
    }
   ],
   "source": [
    "def division(x,y):\n",
    "    if y==0:\n",
    "        print(\"Cannot divide by zero.\")\n",
    "    else:\n",
    "        result = x/y\n",
    "        return result\n",
    "    \n",
    "print(division(10,2))\n",
    "print(division(41239,128))"
   ]
  },
  {
   "cell_type": "markdown",
   "metadata": {},
   "source": [
    "## (3) 8062を7で割った余りを求めよ / Obtain the remainder with which 8062 is devided by 7.\n",
    "ヒント：aをbで割った余りは、何の記号を使う?? / What is the symbol to obtain a remainder??<br>\n",
    "[Week 1: algebla operators](Ex_Week1.ipynb#algebla)"
   ]
  },
  {
   "cell_type": "code",
   "execution_count": 85,
   "metadata": {},
   "outputs": [
    {
     "name": "stdout",
     "output_type": "stream",
     "text": [
      "5\n"
     ]
    }
   ],
   "source": [
    "n = 8062 % 7\n",
    "print(n)"
   ]
  },
  {
   "cell_type": "markdown",
   "metadata": {},
   "source": [
    "## (4) 200から400までの整数で、11の倍数を出力する\n",
    "## Display all of the multiples of 11 among the integers from 200 to 400.\n",
    "ヒント：aをbで割った余りがゼロの時、aはbの倍数と判断できる。<br>\n",
    "Hint: When you divide a by b, if the remainder is 0, a is a multiple of b.<br>\n",
    "[Week 1: algebla operators](Ex_Week1.ipynb#algebla)"
   ]
  },
  {
   "cell_type": "code",
   "execution_count": 93,
   "metadata": {},
   "outputs": [
    {
     "name": "stdout",
     "output_type": "stream",
     "text": [
      "209\n",
      "220\n",
      "231\n",
      "242\n",
      "253\n",
      "264\n",
      "275\n",
      "286\n",
      "297\n",
      "308\n",
      "319\n",
      "330\n",
      "341\n",
      "352\n",
      "363\n",
      "374\n",
      "385\n",
      "396\n"
     ]
    }
   ],
   "source": [
    "for n in range(200,401):\n",
    "    if n % 11 == 0:\n",
    "        print(n)"
   ]
  },
  {
   "cell_type": "markdown",
   "metadata": {},
   "source": [
    "## (5) $\\sqrt{2}$を見積もる / Estimate $\\sqrt{2}$\n",
    "ニュートン法を用いると、$\\sqrt{2}$ は、以下の漸化式で$n$ を大きくすることで得られる。初期値$x_0$は自由に選んでよい。<br>\n",
    "$\\sqrt{2}$ を見積もるプログラムをかけ。<br>\n",
    "Using Newton's method, $\\sqrt{2}$ can be obtained by increasing $n$ in the following incremental formula. You can choose the initial value $x_0$ as you like.<br>\n",
    "Please write a code with which you estimate $\\sqrt{2}$.<br>\n",
    "\n",
    "$$\n",
    "x_{n+1} = \\frac{x_n}{2} + \\frac{1}{x_n}\n",
    "$$\n"
   ]
  },
  {
   "cell_type": "code",
   "execution_count": 91,
   "metadata": {},
   "outputs": [
    {
     "name": "stdout",
     "output_type": "stream",
     "text": [
      "1.4166666666666665\n",
      "1.4142156862745097\n",
      "1.4142135623746899\n",
      "1.414213562373095\n",
      "1.7203703703703703\n",
      "1.414213562373095\n"
     ]
    }
   ],
   "source": [
    "def square_root_approx(x,n):\n",
    "    for i in range (n):\n",
    "        x = x/2 + 1/x\n",
    "    return x\n",
    "\n",
    "\n",
    "print(square_root_approx(1,2))\n",
    "print(square_root_approx(1,3))\n",
    "print(square_root_approx(1,4))\n",
    "print(square_root_approx(1,5))\n",
    "print(square_root_approx(5,2))\n",
    "print(square_root_approx(5,10))"
   ]
  },
  {
   "cell_type": "markdown",
   "metadata": {},
   "source": [
    "## (6) 2000から2800までの整数で、素数を出力する\n",
    "## Obtain prime numbers between 2000 to 2800.\n",
    "ヒント：整数Nに対して、1<i<N の整数でNを割った時のあまりが、いずれの場合もゼロにならないとき、素数と判断できる。\n",
    "Hint: When you divide N by i where 1<i<N, if the remainder is not zero for any i, N is found to be a prime number."
   ]
  },
  {
   "cell_type": "code",
   "execution_count": 4,
   "metadata": {},
   "outputs": [
    {
     "name": "stdout",
     "output_type": "stream",
     "text": [
      "2003\n",
      "2011\n",
      "2017\n",
      "2027\n",
      "2029\n",
      "2039\n",
      "2053\n",
      "2063\n",
      "2069\n",
      "2081\n",
      "2083\n",
      "2087\n",
      "2089\n",
      "2099\n",
      "2111\n",
      "2113\n",
      "2129\n",
      "2131\n",
      "2137\n",
      "2141\n",
      "2143\n",
      "2153\n",
      "2161\n",
      "2179\n",
      "2203\n",
      "2207\n",
      "2213\n",
      "2221\n",
      "2237\n",
      "2239\n",
      "2243\n",
      "2251\n",
      "2267\n",
      "2269\n",
      "2273\n",
      "2281\n",
      "2287\n",
      "2293\n",
      "2297\n",
      "2309\n",
      "2311\n",
      "2333\n",
      "2339\n",
      "2341\n",
      "2347\n",
      "2351\n",
      "2357\n",
      "2371\n",
      "2377\n",
      "2381\n",
      "2383\n",
      "2389\n",
      "2393\n",
      "2399\n",
      "2411\n",
      "2417\n",
      "2423\n",
      "2437\n",
      "2441\n",
      "2447\n",
      "2459\n",
      "2467\n",
      "2473\n",
      "2477\n",
      "2503\n",
      "2521\n",
      "2531\n",
      "2539\n",
      "2543\n",
      "2549\n",
      "2551\n",
      "2557\n",
      "2579\n",
      "2591\n",
      "2593\n",
      "2609\n",
      "2617\n",
      "2621\n",
      "2633\n",
      "2647\n",
      "2657\n",
      "2659\n",
      "2663\n",
      "2671\n",
      "2677\n",
      "2683\n",
      "2687\n",
      "2689\n",
      "2693\n",
      "2699\n",
      "2707\n",
      "2711\n",
      "2713\n",
      "2719\n",
      "2729\n",
      "2731\n",
      "2741\n",
      "2749\n",
      "2753\n",
      "2767\n",
      "2777\n",
      "2789\n",
      "2791\n",
      "2797\n"
     ]
    }
   ],
   "source": [
    "def is_prime(n):\n",
    "    for i in range(2,n):\n",
    "        if n % i == 0:\n",
    "            return False\n",
    "    return True\n",
    "\n",
    "for n in range(2000, 2801):\n",
    "    if is_prime(n):\n",
    "        print(n)"
   ]
  },
  {
   "cell_type": "markdown",
   "metadata": {},
   "source": [
    "## (7) 集合変数：リスト / 辞書型(ディクショナリ) / 集合型\n",
    "Aggregate variable：List / Dictionary / Set\n",
    "\n",
    "[Week 1: dictionary](Ex_Week1.ipynb#dictionary)"
   ]
  },
  {
   "cell_type": "code",
   "execution_count": 5,
   "metadata": {},
   "outputs": [
    {
     "name": "stdout",
     "output_type": "stream",
     "text": [
      "data of Giants : 100\n",
      "data of Carps : 300\n",
      "Dragons + Swallows = 600\n"
     ]
    }
   ],
   "source": [
    "# 辞書型 / Dictionary\n",
    "dic_data = {'Giants': 100, 'Swallows': 100, 'Carps': 300, 'Tigers': 400, 'Dragons': 500, 'Bay Stars': 250}\n",
    "\n",
    "# Giants の値を表示する。 / Display the value of carrot.\n",
    "print(\"data of Giants :\", dic_data[\"Giants\"])\n",
    "\n",
    "# Carps の値を表示しよう / Display the value of pumpkin.\n",
    "print(\"data of Carps :\", dic_data[\"Carps\"])\n",
    "\n",
    "# Dragons と Swallows の値を足してみよう / Sum the values of leek and pumpkin.\n",
    "print(\"Dragons + Swallows =\", dic_data[\"Dragons\"]+dic_data[\"Swallows\"])\n"
   ]
  },
  {
   "cell_type": "markdown",
   "metadata": {},
   "source": [
    "## (8) for文＋リスト / for statement + list\n",
    "\n",
    "[Week 1: for](Ex_Week1.ipynb#for)"
   ]
  },
  {
   "cell_type": "code",
   "execution_count": 65,
   "metadata": {},
   "outputs": [
    {
     "name": "stdout",
     "output_type": "stream",
     "text": [
      "1386\n",
      "the number of students = 19\n",
      "average score = 72.94736842105263\n"
     ]
    }
   ],
   "source": [
    "# 平均点を求めてみよう / Calculate an average\n",
    "\n",
    "# リスト score は、あるクラスのテストの成績だとする。/ Suppose a list named 'score' is a list of scores of students in a class.\n",
    "score=[48, 52, 33, 88, 55, 77, 93, 44, 67, 85, 91, 75, 63, 75, 98, 100, 62, 88, 92]\n",
    "\n",
    "# テストの点の合計点を求める / Calculate total score of all of the students.\n",
    "# sはテストの合計点を計算するための変数です。/ s is a variable to calculate the sum of the scores.\n",
    "s = 0\n",
    "\n",
    "# for文を使って、テストの点を全員分足しあげてください。\n",
    "# Use a for statement to add up the test scores for everyone in the class.\n",
    "for n in range(len(score)):\n",
    "    s+=score[n]\n",
    "print(s)\n",
    "\n",
    "# 学生の人数lをlen関数を使って書いてください。リストの長さが学生の人数になります。\n",
    "# Please obtain the number of students, l, by using funcion len. The number of students is equal to the length of the list, score.\n",
    "l = len(score)\n",
    "print(\"the number of students =\",l)\n",
    "\n",
    "\n",
    "# 平均点 = 合計点 / 学生の人数 / the averate = sum of the scores / the number of students\n",
    "# 平均点aveを求める式を書いてください / Please write a relevant processing to calculate the average score below.\n",
    "ave = s/l\n",
    "\n",
    "# 平均点aveを表示する処理を書いてください / Please display the result.\n",
    "print(\"average score =\",ave)"
   ]
  },
  {
   "cell_type": "markdown",
   "metadata": {},
   "source": [
    "## (9) 配列 / an array\n",
    "ライブラリnumpy のインポートを忘れずに。。/ Please don't miss to import a library, numpy!!\n",
    "\n",
    "[Week 1: nparange](Ex_Week1.ipynb#nparange)"
   ]
  },
  {
   "cell_type": "code",
   "execution_count": 63,
   "metadata": {},
   "outputs": [
    {
     "name": "stdout",
     "output_type": "stream",
     "text": [
      "[300, 301, 302, 303, 304, 305, 306, 307, 308, 309, 310, 311, 312, 313, 314, 315, 316, 317, 318, 319, 320, 321, 322, 323, 324, 325, 326, 327, 328, 329, 330, 331, 332, 333, 334, 335, 336, 337, 338, 339, 340, 341, 342, 343, 344, 345, 346, 347, 348, 349, 350, 351, 352, 353, 354, 355, 356, 357, 358, 359, 360, 361, 362, 363, 364, 365, 366, 367, 368, 369, 370, 371, 372, 373, 374, 375, 376, 377, 378, 379, 380, 381, 382, 383, 384, 385, 386, 387, 388, 389, 390, 391, 392, 393, 394, 395, 396, 397, 398, 399, 400, 401, 402, 403, 404, 405, 406, 407, 408, 409, 410, 411, 412, 413, 414, 415, 416, 417, 418, 419, 420, 421, 422, 423, 424, 425, 426, 427, 428, 429, 430, 431, 432, 433, 434, 435, 436, 437, 438, 439, 440, 441, 442, 443, 444, 445, 446, 447, 448, 449, 450, 451, 452, 453, 454, 455, 456, 457, 458, 459, 460, 461, 462, 463, 464, 465, 466, 467, 468, 469, 470, 471, 472, 473, 474, 475, 476, 477, 478, 479, 480, 481, 482, 483, 484, 485, 486, 487, 488, 489, 490, 491, 492, 493, 494, 495, 496, 497, 498, 499, 500, 501, 502, 503, 504, 505, 506, 507, 508, 509, 510, 511, 512, 513, 514, 515, 516, 517, 518, 519, 520, 521, 522, 523, 524, 525, 526, 527, 528, 529, 530, 531, 532, 533, 534, 535, 536, 537, 538, 539, 540, 541, 542, 543, 544, 545, 546, 547, 548, 549, 550, 551, 552, 553, 554, 555, 556, 557, 558, 559, 560, 561, 562, 563, 564, 565, 566, 567, 568, 569, 570, 571, 572, 573, 574, 575, 576, 577, 578, 579, 580, 581, 582, 583, 584, 585, 586, 587, 588, 589, 590, 591, 592, 593, 594, 595, 596, 597, 598, 599, 600]\n",
      "MyList1の要素数: 301\n",
      "最初の要素： 300\n",
      "最後の要素： 600\n"
     ]
    }
   ],
   "source": [
    "# Import a library\n",
    "import numpy\n",
    "\n",
    "# MyList1という名前で、300から600までの要素の配列を作ってください。<br>\n",
    "# set an array named \"MyList1\" with elements from 300 to 600.<br>\n",
    "MyList1 = list(range(300, 601))\n",
    "print(MyList1)\n",
    "\n",
    "# MyList1 に含まれる要素の数を出力してください。 / Please display the number of elements in MyList1.\n",
    "l = len(MyList1)\n",
    "print(\"MyList1の要素数:\", l)\n",
    "\n",
    "# MyList1の最初の要素と最後の要素を表示してください。/ Please display the first and the last elements of MyList1.\n",
    "first = MyList1[0]\n",
    "last = MyList1[-1]\n",
    "print(\"最初の要素：\",first)\n",
    "print(\"最後の要素：\",last)\n"
   ]
  },
  {
   "cell_type": "markdown",
   "metadata": {},
   "source": [
    "## (10) 関数 / Function\n",
    "以下のように、文字列をつなげる関数を作って、実行してみてください。<br>\n",
    "Let's make a function to combine strings as follows. Then run it.<br>\n",
    "\"a\" + \"b\" = \"ab\"<br>\n",
    "\"Kyushu\" + \"Taro\" = \"KyushuTaro\"<br>\n",
    "<br>\n",
    "もし難しくてわからない場合は、何か好きな関数を作って、実行してください。関数を書くだけではなくて、必ず実行文まで書いてください。<br>\n",
    "If you don't know how to make the function above, make any function you like, and run it.\n",
    "Please be sure to write command line to excute the function.<br>\n",
    "\n",
    "[Week 1: function](Ex_Week1.ipynb#function)"
   ]
  },
  {
   "cell_type": "code",
   "execution_count": 84,
   "metadata": {},
   "outputs": [
    {
     "name": "stdout",
     "output_type": "stream",
     "text": [
      "ab\n",
      "KyushuTaro\n",
      "abcde\n"
     ]
    }
   ],
   "source": [
    "# 2つの文字列を結合する\n",
    "def join(str1,str2):\n",
    "    print(str1 + str2)\n",
    "\n",
    "join(\"a\",\"b\")\n",
    "join(\"Kyushu\",\"Taro\")\n",
    "\n",
    "# 複数個の文字列をリストとして受け取って結合する\n",
    "def join2(list):\n",
    "    str=\"\"\n",
    "    for i in range(len(list)):\n",
    "        str += list[i]\n",
    "    print(str)\n",
    "\n",
    "join2([\"a\",\"b\",\"c\",\"d\",\"e\"])"
   ]
  },
  {
   "cell_type": "markdown",
   "metadata": {},
   "source": [
    "## (10) おまけ問題：双子素数を見つけるプログラムを書いてください。\n",
    "Extra problem: Write a program to find twin prime numbers.<br>\n",
    "<br>\n",
    "[双子素数](https://ja.wikipedia.org/wiki/%E5%8F%8C%E5%AD%90%E7%B4%A0%E6%95%B0)とは、差が 2 である二つの素数の組を構成する各素数のことである。双子素数の組は、(2, 3) を除いた、最も近い素数の組である。<br>\n",
    "[A twin prime](https://ja.wikipedia.org/wiki/%E5%8F%8C%E5%AD%90%E7%B4%A0%E6%95%B0) is a prime number that is either 2 less or 2 more than another prime number—for example, either member of the twin prime pair (41, 43). In other words, a twin prime is a prime that has a prime gap of two.\n"
   ]
  },
  {
   "cell_type": "markdown",
   "metadata": {},
   "source": [
    "### 素数の配列を作った後に、双子素数になるものを調べる方法"
   ]
  },
  {
   "cell_type": "code",
   "execution_count": 6,
   "metadata": {},
   "outputs": [
    {
     "data": {
      "text/plain": [
       "[(3, 5),\n",
       " (5, 7),\n",
       " (11, 13),\n",
       " (17, 19),\n",
       " (29, 31),\n",
       " (41, 43),\n",
       " (59, 61),\n",
       " (71, 73),\n",
       " (101, 103),\n",
       " (107, 109),\n",
       " (137, 139),\n",
       " (149, 151),\n",
       " (179, 181),\n",
       " (191, 193),\n",
       " (197, 199),\n",
       " (227, 229),\n",
       " (239, 241),\n",
       " (269, 271),\n",
       " (281, 283),\n",
       " (311, 313),\n",
       " (347, 349),\n",
       " (419, 421),\n",
       " (431, 433),\n",
       " (461, 463),\n",
       " (521, 523),\n",
       " (569, 571),\n",
       " (599, 601),\n",
       " (617, 619),\n",
       " (641, 643),\n",
       " (659, 661),\n",
       " (809, 811),\n",
       " (821, 823),\n",
       " (827, 829),\n",
       " (857, 859),\n",
       " (881, 883)]"
      ]
     },
     "execution_count": 6,
     "metadata": {},
     "output_type": "execute_result"
    }
   ],
   "source": [
    "def is_prime(n):\n",
    "    for i in range(2,n):\n",
    "        if n % i == 0:\n",
    "            return False\n",
    "    return True\n",
    "\n",
    "def twin_prime(ceil):\n",
    "    prime = []\n",
    "    for i in range(2, ceil):\n",
    "        if is_prime(i):\n",
    "            prime.append(i)\n",
    "    \n",
    "    prev = 2\n",
    "    twin = []\n",
    "    for j in prime:\n",
    "        if j == prev + 2:\n",
    "            twin.append((prev, j))\n",
    "        prev = j\n",
    "    return twin\n",
    "\n",
    "\n",
    "twin_prime(1000)"
   ]
  },
  {
   "cell_type": "markdown",
   "metadata": {},
   "source": [
    "### クレメントの定理を使用し、for文で走査する方法\n",
    "クレメントの定理<br>\n",
    "(n,n+2)が素数 ⇔ 4((n-1)!+1) ≡ 0(mod.(n(n+2)))"
   ]
  },
  {
   "cell_type": "code",
   "execution_count": 60,
   "metadata": {},
   "outputs": [
    {
     "data": {
      "text/plain": [
       "[(3, 5),\n",
       " (5, 7),\n",
       " (11, 13),\n",
       " (17, 19),\n",
       " (29, 31),\n",
       " (41, 43),\n",
       " (59, 61),\n",
       " (71, 73),\n",
       " (101, 103),\n",
       " (107, 109),\n",
       " (137, 139),\n",
       " (149, 151),\n",
       " (179, 181),\n",
       " (191, 193),\n",
       " (197, 199),\n",
       " (227, 229),\n",
       " (239, 241),\n",
       " (269, 271),\n",
       " (281, 283),\n",
       " (311, 313),\n",
       " (347, 349),\n",
       " (419, 421),\n",
       " (431, 433),\n",
       " (461, 463),\n",
       " (521, 523),\n",
       " (569, 571),\n",
       " (599, 601),\n",
       " (617, 619),\n",
       " (641, 643),\n",
       " (659, 661),\n",
       " (809, 811),\n",
       " (821, 823),\n",
       " (827, 829),\n",
       " (857, 859),\n",
       " (881, 883)]"
      ]
     },
     "execution_count": 60,
     "metadata": {},
     "output_type": "execute_result"
    }
   ],
   "source": [
    "import math\n",
    "def twin_prime(ceil):\n",
    "    twin = []\n",
    "    for n in range(3, ceil):\n",
    "        a = 4*(math.factorial(n-1)+1) + n\n",
    "        if a % (n*(n+2)) == 0:\n",
    "            twin.append((n, n+2))\n",
    "    return twin\n",
    "\n",
    "twin_prime(1000)"
   ]
  },
  {
   "cell_type": "markdown",
   "metadata": {},
   "source": [
    "# 提出する前に。。。/ Before you submit your answer file...\n",
    "\n",
    "<span style=\"color: red;font-weight:bold; font-size:12pt;\" >全てのセルがきちんと実行されることを確認してから、ファイルを提出してください。</span><br>\n",
    "うまく動かない場合には、どこで詰まったか、【エラーをよく読んで、どこでうまく行かなくなったか】説明文を記入してください。<br>\n",
    "説明文もなく実行できないセルがあれば、それ以降のセルは点数が付きません。<br>\n",
    "<br>\n",
    "<span style=\"color: red;font-weight:bold; font-size:12pt;\" >Please make sure that ALL of the cells run properly.</span><br>\n",
    "If it doesn’t work well, read errors carefully, and explain where you have a trouble.<br>\n",
    "If any cell fails to run without any explanation, the subsequent cells will not be scored.\n"
   ]
  },
  {
   "cell_type": "code",
   "execution_count": null,
   "metadata": {},
   "outputs": [],
   "source": []
  }
 ],
 "metadata": {
  "kernelspec": {
   "display_name": "Python 3 (ipykernel)",
   "language": "python",
   "name": "python3"
  },
  "language_info": {
   "codemirror_mode": {
    "name": "ipython",
    "version": 3
   },
   "file_extension": ".py",
   "mimetype": "text/x-python",
   "name": "python",
   "nbconvert_exporter": "python",
   "pygments_lexer": "ipython3",
   "version": "3.11.5"
  }
 },
 "nbformat": 4,
 "nbformat_minor": 4
}
