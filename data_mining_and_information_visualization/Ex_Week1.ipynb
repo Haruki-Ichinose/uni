{
 "cells": [
  {
   "cell_type": "markdown",
   "metadata": {
    "slideshow": {
     "slide_type": "-"
    }
   },
   "source": [
    "# **データマイニングと情報可視化: 演習**\n",
    "# **Data mining and information visualization: Exercise**\n",
    "<font size=\"4\">\n",
    "Week 1: 概要と動作環境の確認(PythonとJupyter)<br>\n",
    "Outline of the course and check the PC environment<br>\n",
    "</font>\n",
    "\n",
    "[レポート / Assignment](Rep_Week1.ipynb) : <span style=\"color: black;font-weight:bold;\" >締め切り 2023年12月8日(金)　23:59 JST / Deadline 23:59 JST, Friday, December 8, 2023</span>\n",
    "\n",
    "レポート提出は期限厳守でお願いします。<br>\n",
    "3回以上課題の未提出があった場合は欠格となります。遅れて提出した課題は未提出0.5回分とし、遅れた分の採点は2割減点とします。<br>\n",
    "課題の採点は次回の授業までに返します。次回の授業の最初に、課題の解説をします。<br>\n",
    "<br>\n",
    "Please submit the assignments by the deadline.<br>\n",
    "If there are unsubmitted reports three or more, you will be disqualified.<br>\n",
    "Delayed reports will be counted 0.5 unsubmitted report. Grading for the delay will be reduced by 20%.<br>\n",
    "Grades for the assignments will be returned by the next class, and the assignments will be explained at the beginning of the class next week.<br>"
   ]
  },
  {
   "cell_type": "markdown",
   "metadata": {},
   "source": [
    "# [1] ライブラリのインストール / Install libraries\n",
    "手順はこちら。/ Please check Ex_Week0.ipynb.<br>\n",
    "[Week 0: Install libraries](Ex_Week0.ipynb#libraryinstall)"
   ]
  },
  {
   "cell_type": "markdown",
   "metadata": {},
   "source": [
    "## Matplotlib\n",
    "グラフを作るときに、Matplotlibというライブラリをよく使います。自分で練習しておいてください。<br>\n",
    "Matplotlib is one of the most popular library to draw graphs. Please practice with this file.<br>\n",
    "[Supplement: Matplotlib](Ex_S_Matplotlib.ipynb)"
   ]
  },
  {
   "cell_type": "markdown",
   "metadata": {},
   "source": [
    "## 補足動画/ Supplemental video\n",
    "[Week 1](https://youtu.be/TFwTK-dzcbM): 授業で説明しきれないところを丁寧にステップバイステップで説明してあります。予習・復習に活用してください。"
   ]
  },
  {
   "cell_type": "markdown",
   "metadata": {},
   "source": [
    "# [2] Basics of Jupyter Lab / Jupyter Notebook"
   ]
  },
  {
   "cell_type": "markdown",
   "metadata": {
    "tags": []
   },
   "source": [
    "## [2-1] セルを実行する / Execute a cell\n",
    "![ipynb_window](img/w1_ipynb_cell_execute.png) "
   ]
  },
  {
   "cell_type": "code",
   "execution_count": null,
   "metadata": {
    "tags": []
   },
   "outputs": [],
   "source": [
    "# このセルを実行してください。/ Please execute this cell.\n",
    "1+1"
   ]
  },
  {
   "cell_type": "markdown",
   "metadata": {},
   "source": [
    "### Shift-Enter　でも実行できます。/ You can press Shift-Enter to execute a cell."
   ]
  },
  {
   "cell_type": "code",
   "execution_count": null,
   "metadata": {
    "tags": []
   },
   "outputs": [],
   "source": [
    "# このセルを実行してください。/ Please execute this cell.\n",
    "1+1"
   ]
  },
  {
   "cell_type": "markdown",
   "metadata": {},
   "source": [
    "## [2-2] 新しいセルを作ってみよう / Create a new cell\n",
    "新しいセルを追加するには、左上のプラスボタン「＋」を押すか、Esc-B を押してください。<br>\n",
    "![ipynb_window](img/w1_ipynb_cell_new.jpg) \n",
    "自由に書き足して、いろんな計算を試してみてください。<br>"
   ]
  },
  {
   "cell_type": "code",
   "execution_count": null,
   "metadata": {},
   "outputs": [],
   "source": []
  },
  {
   "cell_type": "code",
   "execution_count": null,
   "metadata": {},
   "outputs": [],
   "source": []
  },
  {
   "cell_type": "markdown",
   "metadata": {},
   "source": [
    "### Esc-b で新しいセルを作ってみよう / Create a new cell with a shortcut key \"Esc-b\"\n",
    "Escボタンを押してから、小文字の「b」を押す。<br>\n",
    "Press Esc and then lowercase 'b'."
   ]
  },
  {
   "cell_type": "code",
   "execution_count": null,
   "metadata": {},
   "outputs": [],
   "source": []
  },
  {
   "cell_type": "markdown",
   "metadata": {},
   "source": [
    "## [2-3] セルを削除してみよう / Delete a cell\n",
    "右クリックして、\"Delete Cells\"を選択<br>\n",
    "Right click and choose \"Delete Cells\".<br>\n",
    "<br>\n",
    "![ipynb_window_cell](img/w1_ipynb_cell_delete.png) "
   ]
  },
  {
   "cell_type": "code",
   "execution_count": null,
   "metadata": {},
   "outputs": [],
   "source": []
  },
  {
   "cell_type": "code",
   "execution_count": null,
   "metadata": {},
   "outputs": [],
   "source": []
  },
  {
   "cell_type": "markdown",
   "metadata": {},
   "source": [
    "### Esc-dd でセルを削除してみよう / Delete a cell with a shortcut key \"Esc-dd\"\n",
    "右クリックして、\"Delete Cells\"を選択<br>\n",
    "Press Esc and then lowercase 'd' twice."
   ]
  },
  {
   "cell_type": "code",
   "execution_count": null,
   "metadata": {},
   "outputs": [],
   "source": []
  },
  {
   "cell_type": "code",
   "execution_count": null,
   "metadata": {},
   "outputs": [],
   "source": []
  },
  {
   "cell_type": "markdown",
   "metadata": {},
   "source": [
    "## [2-4] セルの種類 : Code / Markdown\n",
    "* Pythonで実行したい内容は、セルの種類を　Code　にしてください。<br>\n",
    "ショートカットキー「Esc-Y」 でCodeモードになります。<br>\n",
    "![ipynb_window](img/w1_ipynb_cell_code.jpg)<br>\n",
    "セルの種類が Code の時は、以下のように書くと、シャープマークより後ろがコメントアウトされます。\n",
    "\n",
    "\n",
    "```\n",
    "# 何を書いてもプログラミングコードの内容に影響しません。\n",
    "# コメントとして、プログラムの説明を書いておくと、後から見直したときにわかりやすくなります。\n",
    "# 人とプログラムを共有するときも、作業がしやすくなります。\n",
    "```\n",
    "\n",
    "\n",
    "* セルの種類が　Markdown の時は文章を入力できます。<br>\n",
    "ショートカットキー「Esc-M」 でMarkdownモードになります。<br>\n",
    "![ipynb_window](img/w1_ipynb_cell_markdown.jpg) <br>\n",
    "MarkdownはHTMLで文章を制御できます。"
   ]
  },
  {
   "cell_type": "markdown",
   "metadata": {},
   "source": [
    "### Codeモードのセルをマークダウンモードにしてください。 / Set a cell in Code mode to markdown mode."
   ]
  },
  {
   "cell_type": "code",
   "execution_count": null,
   "metadata": {},
   "outputs": [],
   "source": []
  },
  {
   "cell_type": "markdown",
   "metadata": {
    "tags": []
   },
   "source": [
    "### マークダウンのセルを編集してみましょう。/ Let's edit a markdown cell."
   ]
  },
  {
   "cell_type": "code",
   "execution_count": null,
   "metadata": {},
   "outputs": [],
   "source": []
  },
  {
   "cell_type": "markdown",
   "metadata": {},
   "source": [
    "### マークダウンモードのセルをCodeモードにしてください。 / Set a cell in markdown mode to Code mode."
   ]
  },
  {
   "cell_type": "code",
   "execution_count": null,
   "metadata": {},
   "outputs": [],
   "source": []
  },
  {
   "cell_type": "markdown",
   "metadata": {},
   "source": [
    "## [2-5] 出力結果のクリア\n",
    "![ipynb_window_cell](img/w1_ipynb_window_cellclear.jpg) \n",
    "現在のセルの出力結果を消したいときは、<br>\n",
    "Cell→Current outputs→Clear<br><br>\n",
    "現在のipynbファイルのの全てのセルの出力結果を消したいときは、<br>\n",
    "Cell→All output→Clear"
   ]
  },
  {
   "cell_type": "code",
   "execution_count": null,
   "metadata": {},
   "outputs": [],
   "source": []
  },
  {
   "cell_type": "code",
   "execution_count": null,
   "metadata": {},
   "outputs": [],
   "source": [
    "\n"
   ]
  },
  {
   "cell_type": "markdown",
   "metadata": {},
   "source": [
    "## [2-6] 新しいファイルを作ってみよう / Create a new file\n",
    "青い「＋」ボタンをクリック<br>\n",
    "Press the blue + button.<br>\n",
    "<br>\n",
    "![ipynb_window](img/w1_ipynb_new_file.png) "
   ]
  },
  {
   "cell_type": "markdown",
   "metadata": {},
   "source": [
    "# [3] 簡単な計算を試してみよう / Let's calculate some simple math."
   ]
  },
  {
   "cell_type": "markdown",
   "metadata": {},
   "source": [
    "## (1) 足し算 / Addition\n",
    "数字を適当に変えてみよう / Change numbers as you like."
   ]
  },
  {
   "cell_type": "code",
   "execution_count": 1,
   "metadata": {},
   "outputs": [
    {
     "data": {
      "text/plain": [
       "3"
      ]
     },
     "execution_count": 1,
     "metadata": {},
     "output_type": "execute_result"
    }
   ],
   "source": [
    "# 1+2 は? / Please calculate 1+2.\n",
    "1+2"
   ]
  },
  {
   "cell_type": "code",
   "execution_count": null,
   "metadata": {},
   "outputs": [],
   "source": [
    "# 1234567+87654 は? / Please calculate 1234567+87654.\n"
   ]
  },
  {
   "cell_type": "markdown",
   "metadata": {},
   "source": [
    "## (2) 引き算 / Substraction\n",
    "数字を適当に変えてみよう / Change numbers as you like."
   ]
  },
  {
   "cell_type": "code",
   "execution_count": null,
   "metadata": {},
   "outputs": [],
   "source": [
    "# 5-3 は? / Please calculate 5-3.\n",
    "5-3"
   ]
  },
  {
   "cell_type": "code",
   "execution_count": null,
   "metadata": {},
   "outputs": [],
   "source": [
    "# 1234567-87654 は? / Please calculate 1234567-87654.\n"
   ]
  },
  {
   "cell_type": "markdown",
   "metadata": {},
   "source": [
    "## (3) 掛け算 / Multiplication\n",
    "数字を適当に変えてみよう / Change numbers as you like."
   ]
  },
  {
   "cell_type": "code",
   "execution_count": null,
   "metadata": {},
   "outputs": [],
   "source": [
    "# 4かける4 は? / Please calculate 4 times 4.\n",
    "4*4"
   ]
  },
  {
   "cell_type": "code",
   "execution_count": null,
   "metadata": {},
   "outputs": [],
   "source": [
    "# 555かける888 は? / Please calculate 555 times 888.\n"
   ]
  },
  {
   "cell_type": "markdown",
   "metadata": {},
   "source": [
    "<a id=\"division\"></a>"
   ]
  },
  {
   "cell_type": "markdown",
   "metadata": {},
   "source": [
    "## (4) 割り算 / Division\n",
    "数字を適当に変えてみよう / Change numbers as you like."
   ]
  },
  {
   "cell_type": "code",
   "execution_count": null,
   "metadata": {},
   "outputs": [],
   "source": [
    "# 10 割る 2 は? / Please calculate 10 devided by 2.\n",
    "10 / 2"
   ]
  },
  {
   "cell_type": "code",
   "execution_count": null,
   "metadata": {},
   "outputs": [],
   "source": [
    "# 3250 割る 195 は? / Please calculate 3250 devided by 195.\n",
    "3250/195"
   ]
  },
  {
   "cell_type": "markdown",
   "metadata": {},
   "source": [
    "<a id=\"algebla\"></a>"
   ]
  },
  {
   "cell_type": "markdown",
   "metadata": {},
   "source": [
    "## (5) 代数演算子 / Algebra operators\n",
    "+a            → 正数 / positive<br>\n",
    "-a            → 負数 / negative<br>\n",
    "a + b         → 加算 / addition<br>\n",
    "a - b         → 減算 / substraction<br>\n",
    "a * b         → 乗算 / multiplication<br>\n",
    "a / b         → 除算 / division<br>\n",
    "a % b         → a を b で割った余り /  a remainder with which a is devided by b<br>\n",
    "a &lowast;&lowast; b        → a の b 乗 / a to the power of b<br>\n",
    "a &sol;&sol; b        → 切り捨て除算 / truncate division (round down)<br>\n",
    "\n",
    "参考サイト：http://tohoho-web.com/python/operators.html"
   ]
  },
  {
   "cell_type": "code",
   "execution_count": null,
   "metadata": {},
   "outputs": [],
   "source": [
    "# 試しにいろいろな計算をして、Print文で結果を出力してみよう / Calculate as you like, and output with print command.\n",
    "#足し算 / addition\n",
    "print(10+10)\n",
    "\n",
    "# 引き算 / substraction\n",
    "\n",
    "# 掛け算 / multiplication\n",
    "\n",
    "# 割り算 / division\n",
    "\n",
    "# a を b で割った余り  /  a remainder with which a is devided by b\n",
    "print(10 % 7)\n",
    "\n",
    "# a の b 乗 / a to the power of b\n",
    "print(2**10)\n",
    "\n",
    "# 切り捨て除算 / truncate division (round down)\n",
    "print(10 // 7)"
   ]
  },
  {
   "cell_type": "markdown",
   "metadata": {},
   "source": [
    "<a id=\"arange\"></a>"
   ]
  },
  {
   "cell_type": "markdown",
   "metadata": {},
   "source": [
    "# [4] Python の復習 / Review of Python"
   ]
  },
  {
   "cell_type": "markdown",
   "metadata": {},
   "source": [
    "## (1)なにはともあれ「Hello World!」 / Let's begin with \"Hello World!\"\n",
    "print を使って、「Hello World!」を表示してください。/ Use print to display \"Hello World!\".\n",
    "\n",
    "[Function: print](https://note.nkmk.me/python-print-basic/)"
   ]
  },
  {
   "cell_type": "code",
   "execution_count": null,
   "metadata": {},
   "outputs": [],
   "source": [
    "print('Hello World!!')"
   ]
  },
  {
   "cell_type": "markdown",
   "metadata": {},
   "source": [
    "print を使って、名前を表示してください。/ Use print to display your name."
   ]
  },
  {
   "cell_type": "code",
   "execution_count": null,
   "metadata": {},
   "outputs": [],
   "source": [
    "print('Shio INAGAKI')"
   ]
  },
  {
   "cell_type": "markdown",
   "metadata": {},
   "source": [
    "## (2) 整数の配列を作る / set an array\n",
    "numpy のインポートを忘れずに。/ Don't miss to import numpy!"
   ]
  },
  {
   "cell_type": "code",
   "execution_count": 1,
   "metadata": {},
   "outputs": [
    {
     "name": "stdout",
     "output_type": "stream",
     "text": [
      "[  0   1   2   3   4   5   6   7   8   9  10  11  12  13  14  15  16  17\n",
      "  18  19  20  21  22  23  24  25  26  27  28  29  30  31  32  33  34  35\n",
      "  36  37  38  39  40  41  42  43  44  45  46  47  48  49  50  51  52  53\n",
      "  54  55  56  57  58  59  60  61  62  63  64  65  66  67  68  69  70  71\n",
      "  72  73  74  75  76  77  78  79  80  81  82  83  84  85  86  87  88  89\n",
      "  90  91  92  93  94  95  96  97  98  99 100]\n",
      "[ 5  8 11 14]\n"
     ]
    }
   ],
   "source": [
    "# とりあえず実行してみて下さい / import numpy library\n",
    "import numpy as np #おまじないだと思って、深く考えない。 / Don't have a second thought!! Just do it!\n",
    "A = np.arange(101)  # 0から9まで、10個の要素の配列を作る / set an array which has 10 elements from 0 to 9.\n",
    "print(A)           # 出力して確認 / output with print command and check if it's working fine.\n",
    "\n",
    "B = np.arange(5, 15, 3)\n",
    "print(B)\n",
    "# numpy parameters\n",
    "# np.arange(start, stop, step)\n",
    "# start: 初項 stop: 最後の項＋公差 step: 公差, stop自身は配列に含まれないことに注意。\n",
    "# start: an initial term, stop: the last term + step, step: a common difference. Please note that the last term is not stop, but stop-step."
   ]
  },
  {
   "cell_type": "markdown",
   "metadata": {},
   "source": [
    "<a id=\"nparange\"></a>"
   ]
  },
  {
   "cell_type": "markdown",
   "metadata": {},
   "source": [
    "## (3) 番や等差数列を生成する / produce consective numbers and arithmetical progression\n",
    "参考サイト： https://deepage.net/features/numpy-arange.html\n",
    "\n",
    "`np.arange(start, stop, common difference)` は、初項`start`、公差`common difference`の配列を与えます。<br>\n",
    "終点`stop`は配列に含まれないことに注意しましょう。<br>\n",
    "<br>\n",
    "`np.arange(start, stop, common difference)` will give you an array which starts from `start` with common difference.<br>\n",
    "Please note that stop will not be included in the array."
   ]
  },
  {
   "cell_type": "code",
   "execution_count": null,
   "metadata": {},
   "outputs": [],
   "source": [
    "# とりあえず実行してみて下さい / Just execute them first, then change numbers as you like.\n",
    "# そのあと、適当に自分で書き換えてみましょう。\n",
    "\n",
    "import numpy as np\n",
    "\n",
    "A=np.arange(10)   # 0から9まで、10個の要素の配列を作る / set an array with 10 elements from 0 to 9.\n",
    "print(A)         # 出力して確認 / output and check if it is OK.\n",
    "\n",
    "B=np.arange(5, 101) # 5から9まで、5個の要素の配列を作る / set an array with 5 elements from 5 to 9.\n",
    "print(B)         # 出力して確認 / output and check if it is OK.\n"
   ]
  },
  {
   "cell_type": "markdown",
   "metadata": {},
   "source": [
    "MyList1という名前で、0から99まで、100個の要素の配列を作ってください。<br>\n",
    "set an array named \"MyList1\" with 100 elements from 0 to 99."
   ]
  },
  {
   "cell_type": "code",
   "execution_count": null,
   "metadata": {},
   "outputs": [],
   "source": [
    "MyList1 = np.arange(0, 100)\n",
    "print(MyList1)"
   ]
  },
  {
   "cell_type": "markdown",
   "metadata": {},
   "source": [
    "MyList2という名前で、50から99まで、50個の要素の配列を作ってください。<br>\n",
    "set an array named \"MyList1\" with 50 elements from 50 to 99."
   ]
  },
  {
   "cell_type": "code",
   "execution_count": null,
   "metadata": {},
   "outputs": [],
   "source": [
    "MyList2 = np.arange(50,100)\n",
    "print(MyList2)\n"
   ]
  },
  {
   "cell_type": "markdown",
   "metadata": {},
   "source": [
    "len関数でMyList1の要素の数を出力。ここでは0から99まで100個なので、結果は100。/ Function len() gives the number of elements in the list."
   ]
  },
  {
   "cell_type": "code",
   "execution_count": null,
   "metadata": {},
   "outputs": [],
   "source": [
    "print('Number of elements：', len(MyList1))"
   ]
  },
  {
   "cell_type": "markdown",
   "metadata": {},
   "source": [
    "len関数を使って、MyList2の要素の数を出力して下さい。/ Please display the number of elements of MyList2 with function len()."
   ]
  },
  {
   "cell_type": "code",
   "execution_count": null,
   "metadata": {},
   "outputs": [],
   "source": [
    "len(MyList2)"
   ]
  },
  {
   "cell_type": "markdown",
   "metadata": {},
   "source": [
    "## (4) リストと辞書型 / List and dictionary"
   ]
  },
  {
   "cell_type": "markdown",
   "metadata": {},
   "source": [
    "### (i) リスト / List\n",
    "一つの変数名に複数この値をまとめて代入できる変数を**集合変数**と呼びます<br>\n",
    "**リスト**は集合変数の一種で、順番のある値の集まりを表します。<br>\n",
    "変数名=[要素1, 要素2, 要素3, 要素4, 要素5, ....]<br>\n",
    "変数名[要素の番号]　とすると、そのリストの中の要素を個別に呼び出すことができます。<br>\n",
    "<br>\n",
    "**Aggregate** variable is defined as a variable with one variable name that can store multiple values.<br>\n",
    "**List** is a kind of an aggregate variable. It has a series of values with indices.<br>\n",
    "variable_name=[element1, element2, element3, ...]<br>\n",
    "You can specify the i-th element of the list as variable_name[i]."
   ]
  },
  {
   "cell_type": "code",
   "execution_count": 1,
   "metadata": {},
   "outputs": [
    {
     "name": "stdout",
     "output_type": "stream",
     "text": [
      "[1, 2, 3, 4, 5, 6, 7, 8, 9, 10]\n",
      "Type of the variable: <class 'list'>\n",
      "The second element： 2\n"
     ]
    }
   ],
   "source": [
    "# とりあえず実行してみて下さい / Just execute them first, then change numbers as you like.\n",
    "# そのあと、適当に自分で書き換えてみましょう。\n",
    "\n",
    "# リストを作る / define a list\n",
    "data_list = [1, 2, 3, 4, 5, 6, 7, 8, 9, 10]\n",
    "print(data_list)\n",
    "\n",
    "# typeで変数のタイプがわかる / You can check the type of the variable with type command.\n",
    "print('Type of the variable:', type(data_list))\n",
    "\n",
    "# 1つの要素を取り出す。0から始まるので、[1]は2番目になる. / Extract the second element. The index starts from 0, so [1] means the second element.\n",
    "print('The second element：', data_list[1])\n"
   ]
  },
  {
   "cell_type": "markdown",
   "metadata": {},
   "source": [
    "10番目の要素をprintを使って表示してください。/ Display the 10th element with print."
   ]
  },
  {
   "cell_type": "code",
   "execution_count": null,
   "metadata": {},
   "outputs": [],
   "source": [
    "print(data_list[9])"
   ]
  },
  {
   "cell_type": "markdown",
   "metadata": {},
   "source": [
    "<a id=\"dictionary\"></a>"
   ]
  },
  {
   "cell_type": "markdown",
   "metadata": {},
   "source": [
    "### (ii) 辞書型(ディクショナリ) / Dictionary\n",
    "集合変数の一種で、**辞書型(ディクショナリ)**というのもあります。<br>\n",
    "リストの場合は、要素の順番を表す番号でその要素を特定するのに対して、ディクショナリはキーと要素が対応します。<br>\n",
    "キーによって要素を特定するので、要素の順番は指定しません。<br>\n",
    "変数名 = {key1:value1, key2:value2, key3:value3...}<br>\n",
    "<br>\n",
    "**Dictionary** is one of the aggregate variables.<br>\n",
    "In the dictionary, each element corresponds to its key. The elements of a dictionary doesn't have sequential indices.<br>\n",
    "variable_name = {key1:value1, key2:value2, key3:value3...}<br>"
   ]
  },
  {
   "cell_type": "code",
   "execution_count": 2,
   "metadata": {},
   "outputs": [
    {
     "name": "stdout",
     "output_type": "stream",
     "text": [
      "the 1st trial>>>Display all of the elements：\n",
      "score= {'Kimura': 90, 'Yamada': 67, 'Suzuki': 38, 'Yamamoto': 87, 'Nomura': 56, 'Okada': 78, 'Takahashi': 91}\n",
      "Display elements indivisually：\n",
      "Score of Kimura= 90\n",
      "Score of Takahashi= 91\n",
      "Total number of elements= 7\n",
      "Create an element：\n",
      "Modify an element：\n",
      "the 2nd trial>>>Display all of the elements：\n",
      "score= {'Kimura': 80, 'Yamada': 67, 'Suzuki': 38, 'Yamamoto': 87, 'Nomura': 56, 'Okada': 78, 'Takahashi': 91, 'Sato': 48}\n"
     ]
    }
   ],
   "source": [
    "# とりあえず実行してみて下さい / Just execute them first, then change numbers as you like.\n",
    "# そのあと、適当に自分で書き換えてみましょう。\n",
    "\n",
    "# キーを使って、ディクショナリの要素を特定 / Specify an element with a key\n",
    "# 繰り返しfor文＋ディクショナリ / Make a for statement to display the scores one by one\n",
    "\n",
    "score={\"Kimura\":90, \"Yamada\":67, \"Suzuki\":38, \"Yamamoto\":87, \"Nomura\":56, \"Okada\":78, \"Takahashi\":91}\n",
    "\n",
    "print(\"the 1st trial>>>Display all of the elements：\")\n",
    "print(\"score=\",score)\n",
    "print(\"Display elements indivisually：\")\n",
    "print(\"Score of Kimura=\",score[\"Kimura\"])\n",
    "print(\"Score of Takahashi=\",score.get(\"Takahashi\"))\n",
    "print(\"Total number of elements=\",len(score))\n",
    "print(\"Create an element：\")\n",
    "score[\"Sato\"] = 48\n",
    "print(\"Modify an element：\")\n",
    "score[\"Kimura\"] = 80\n",
    "print(\"the 2nd trial>>>Display all of the elements：\")\n",
    "print(\"score=\",score)"
   ]
  },
  {
   "cell_type": "markdown",
   "metadata": {},
   "source": [
    "山本さんの点を表示してください。\n",
    "Display the sore of Yamamoto."
   ]
  },
  {
   "cell_type": "markdown",
   "metadata": {},
   "source": [
    "## (5) if文 / conditional statement\n",
    "条件分岐を行います。/ Make a branch with conditional statement."
   ]
  },
  {
   "cell_type": "code",
   "execution_count": null,
   "metadata": {},
   "outputs": [],
   "source": [
    "# とりあえず実行してみて下さい / Just execute them first, then change numbers as you like.\n",
    "# そのあと、適当に自分で書き換えてみましょう。\n",
    "\n",
    "# if文を使ってみよう / Let's write an conditional statement!\n",
    "\n",
    "a = input(\"Input number from your keyboard: a=\")\n",
    "a = int(a)\n",
    "if a % 2 == 0:\n",
    "    print(\"a=\",a,\"is even number (偶数).\")\n",
    "else:\n",
    "    print(\"a=\",a,\"is odd number (奇数).\")\n"
   ]
  },
  {
   "cell_type": "markdown",
   "metadata": {},
   "source": [
    "上の例を参考に、入力した整数が3の倍数か、そうでないかを判断するif文を作ってみましょう。"
   ]
  },
  {
   "cell_type": "code",
   "execution_count": null,
   "metadata": {},
   "outputs": [],
   "source": [
    "# とりあえず実行してみて下さい / Just execute them first, then change numbers as you like.\n",
    "# そのあと、適当に自分で書き換えてみましょう。\n",
    "\n",
    "# if文を使ってみよう / Let's write an conditional statement!\n",
    "\n",
    "a = input(\"Input number from your keyboard: a=\")\n",
    "a = int(a)\n",
    "\n",
    "\n",
    "\n"
   ]
  },
  {
   "cell_type": "code",
   "execution_count": 1,
   "metadata": {},
   "outputs": [],
   "source": [
    "import numpy as np # Numpyという道具箱を使いますよ、と宣言する / Declare that you are using a toolbox named Numpy.\n",
    "\n"
   ]
  },
  {
   "cell_type": "code",
   "execution_count": 2,
   "metadata": {},
   "outputs": [
    {
     "name": "stdout",
     "output_type": "stream",
     "text": [
      "11は入っていません。\n",
      "There is not 11 in the list.\n",
      "ここから先はif文と関係なく、必ず表示されます / Below this line, it is always displayed irrespectively to the if statement.\n"
     ]
    }
   ],
   "source": [
    "# とりあえず実行してみて下さい / Just execute them first, then change numbers as you like.\n",
    "# リストを作る / Define a list.\n",
    "data_list = [1, 2, 3, 4, 5, 6, 7, 8, 9, 10]\n",
    "\n",
    "# リストの中に「11]が入っているか、if文を使って調べる。\n",
    "# Use an if statement to check if the list contains \"11\".\n",
    "findvalue = 11\n",
    "\n",
    "# if文の開始 / Start of the if statement\n",
    "if findvalue in data_list:\n",
    "    #　条件式の結果が真の場合 / when if the statement is true\n",
    "    print('{0}は入っています。'.format(findvalue))\n",
    "    print('There is {0} in the list.'.format(findvalue))\n",
    "else:\n",
    "    # 条件式の結果が偽の場合 / when if the statement is false\n",
    "    print('{0}は入っていません。'.format(findvalue))\n",
    "    print('There is not {0} in the list.'.format(findvalue))\n",
    "    \n",
    "\n",
    "# ここでif文は終わり / End of the if statement\n",
    "\n",
    "# 以下は、if文とは別の処理となる / This is out of the if statement.\n",
    "# インデントの位置が上がると、if文の外に出たことになります。 / Please note that a reverse indent indicates that it gets out of the if statement.\n",
    "print('ここから先はif文と関係なく、必ず表示されます / Below this line, it is always displayed irrespectively to the if statement.')\n"
   ]
  },
  {
   "cell_type": "code",
   "execution_count": null,
   "metadata": {},
   "outputs": [],
   "source": [
    "# 一つ上のセルと全く同じ内容が下に書いてあります。/ This cell is exactly same with the cell above.\n",
    "# findvalue の値を、data_listに入っていない数字に変えてみよう。 / Let's change the value of findvalue to the one which is not in the list, data_list.\n",
    "findvalue = 5\n",
    "\n",
    "# if文の開始 / Start of the if statement\n",
    "if findvalue in data_list:\n",
    "    #　条件式の結果が真の場合 / when if the statement is true\n",
    "    print('{0}は入っています。'.format(findvalue))\n",
    "    print('There is {0} in the list.'.format(findvalue))\n",
    "else:\n",
    "    # 条件式の結果が偽の場合 / when if the statement is false\n",
    "    print('{0}は入っていません。'.format(findvalue))\n",
    "    print('There is not {0} in the list.'.format(findvalue))\n",
    "# ここでif文は終わり / End of the if statement\n",
    "\n",
    "# 以下は、if文とは別の処理となる / This is out of the if statement.\n",
    "# インデントの位置が上がると、if文の外に出たことになります。 / Please note that a reverse indent indicates that it gets out of the if statement.\n",
    "print('ここから先はif文と関係なく、必ず表示されます / Below this line, it is always displayed irrespectively to the if statement.')"
   ]
  },
  {
   "cell_type": "markdown",
   "metadata": {},
   "source": [
    "<a id=\"for\"></a>"
   ]
  },
  {
   "cell_type": "markdown",
   "metadata": {},
   "source": [
    "## (6) for文 / for statement\n",
    "for文で繰り返し作業をしてみよう。<br>\n",
    "ループを回すときの整数を「作業変数」と呼びます。<br>\n",
    "for文のより詳細な使い方は、参考サイトを参照してください。(検索すればいくらでも出てくる。)<br>\n",
    "<br>\n",
    "Let's execute a repetitive procedure.<br>\n",
    "The integer which increases with the repetition in the for loop is called as a task variable.<br>\n",
    "You can find many helpful websites on how to build a for loop. Just google it!<br>\n",
    "<br>\n",
    "参考サイト<br>\n",
    "https://note.nkmk.me/python-for-usage/<br>\n",
    "https://www.tech-tech.xyz/python-for.html"
   ]
  },
  {
   "cell_type": "code",
   "execution_count": 1,
   "metadata": {},
   "outputs": [
    {
     "name": "stdout",
     "output_type": "stream",
     "text": [
      "i= 1 Hello World!!\n",
      "i= 2 Hello World!!\n",
      "i= 3 Hello World!!\n",
      "i= 4 Hello World!!\n",
      "i= 5 Hello World!!\n"
     ]
    }
   ],
   "source": [
    "# とりあえず実行してみて下さい / Just execute them first, then change the code as you like.\n",
    "# そのあと、適当に自分で書き換えてみましょう。\n",
    "\n",
    "# \"Hello World!\"を5回表示 / Display \"Hello World!\" five times.\n",
    "import numpy as np\n",
    "\n",
    "#　作業変数は i / the task variable is i.\n",
    "for i in [1, 2, 3, 4, 5]:\n",
    "    print('i=',i, \"Hello World!!\")"
   ]
  },
  {
   "cell_type": "markdown",
   "metadata": {},
   "source": [
    "Pythonにおける多重ループは以下のように書ける。<br>\n",
    "Pythonではインデントでブロックを表すので、さらにインデントを加えるだけでよい。<br>\n",
    "逆に、インデントの入れ方を間違えると、入れたい処理がループの中に入らなかったり、本来はいらないはずの処理が入ってしまったりするので、注意が必要である。<br>\n",
    "<br>\n",
    "Mutiloop can be build as follows.<br>\n",
    "Please note that a reverse indent indicates the end of the for loop, same as the case of a for statement.<br>\n",
    "You must pay attention to place indent in an appropriate location.<br>"
   ]
  },
  {
   "cell_type": "code",
   "execution_count": 1,
   "metadata": {},
   "outputs": [
    {
     "name": "stdout",
     "output_type": "stream",
     "text": [
      "1x1= 1 1x2= 2 1x3= 3 1x4= 4 1x5= 5 1x6= 6 1x7= 7 1x8= 8 1x9= 9 \n",
      "2x1= 2 2x2= 4 2x3= 6 2x4= 8 2x5=10 2x6=12 2x7=14 2x8=16 2x9=18 \n",
      "3x1= 3 3x2= 6 3x3= 9 3x4=12 3x5=15 3x6=18 3x7=21 3x8=24 3x9=27 \n",
      "4x1= 4 4x2= 8 4x3=12 4x4=16 4x5=20 4x6=24 4x7=28 4x8=32 4x9=36 \n",
      "5x1= 5 5x2=10 5x3=15 5x4=20 5x5=25 5x6=30 5x7=35 5x8=40 5x9=45 \n",
      "6x1= 6 6x2=12 6x3=18 6x4=24 6x5=30 6x6=36 6x7=42 6x8=48 6x9=54 \n",
      "7x1= 7 7x2=14 7x3=21 7x4=28 7x5=35 7x6=42 7x7=49 7x8=56 7x9=63 \n",
      "8x1= 8 8x2=16 8x3=24 8x4=32 8x5=40 8x6=48 8x7=56 8x8=64 8x9=72 \n",
      "9x1= 9 9x2=18 9x3=27 9x4=36 9x5=45 9x6=54 9x7=63 9x8=72 9x9=81 \n"
     ]
    }
   ],
   "source": [
    "# for文を二重にしてみよう / Let's make a double loop of a for statement.\n",
    "#  九九の表 / Multiplication table\n",
    "\n",
    "for m in range(1,10):\n",
    "    for n in range(1,10):\n",
    "        print(\"%1dx%1d=%2d \" % (m, n, m*n), end=\"\")\n",
    "    print()"
   ]
  },
  {
   "cell_type": "markdown",
   "metadata": {},
   "source": [
    "<a id=\"range\"></a>"
   ]
  },
  {
   "cell_type": "markdown",
   "metadata": {},
   "source": [
    "## (7) range関数を使った繰り返しリストの指定 / Produce a list of a task variable with range function.\n",
    "作業変数のリストをrange関数で生成します。<br>\n",
    "**`range(n)`**<br>\n",
    "とすると、0からn-1までのn個の整数が生成されます。<br>\n",
    "例えば、`range(5)`では、[0, 1, 2, 3, 4] が生成されます。<br>\n",
    "リストの最後の要素は、n ではなくて、n-1 になるので、注意が必要です。<br>\n",
    "一般的には、<br>\n",
    "**`range(start、stop、step)`**<br>\n",
    "と書きます。<br>\n",
    "start: 初項 stop: 最後の項＋公差 step: 公差, stop自身は配列に含まれないことに注意。<br>\n",
    "<br>\n",
    "You can produce a list of a task variable of a for statement with range function as follows.<br>\n",
    "**`range(start、stop、step)`**<br>\n",
    "start: an initial term, stop: the last term + step, step: a common difference. Please note that the last term is not stop, but stop-step.<br>\n",
    "The parameters are same with np.arrange."
   ]
  },
  {
   "cell_type": "code",
   "execution_count": null,
   "metadata": {},
   "outputs": [],
   "source": [
    "# \"Hello World!\"を5回表示  / Display \"Hello World!\" five times.\n",
    "# range関数を使った繰り返しリストを使う。/ Produce a task variables with range function.\n",
    "# range(n)とすると、iは0から始まり、n-1で終わることに注意。/ Please note that the first the last terms of range(n) are 0 and n-1, respectively.\n",
    "\n",
    "# 繰り返す回数を書き換えてみよう / Change the number of repetition.\n",
    "\n",
    "import numpy as np\n",
    "\n",
    "for i in range(5):\n",
    "    print('i=',i, \"Hello World!!\")"
   ]
  },
  {
   "cell_type": "code",
   "execution_count": null,
   "metadata": {},
   "outputs": [],
   "source": [
    "import numpy as np\n",
    "\n",
    "# リストデータ[1, 2, 3]をひとつずつ取り出して、足し上げる。 / The task variable can be any list. Extract the elements of the list and sum up.\n",
    "# 1から10まで足しあげるように、書き換えてみよう。 / Let's change the code to sum up from 1 to 10.\n",
    "# range関数を使うと、簡単にできるでしょう。 / You can produce the task variable with range function.\n",
    "\n",
    "# 初期値の設定: initialize the value, total.\n",
    "total = 0\n",
    "\n",
    "# for 文の開始 / Start of a for statement\n",
    "for num in [1, 2, 3, 4, 5]:\n",
    "    # 取り出した数の表示 / Display the extracted element from the list.\n",
    "    print('num:', num)\n",
    "    # 今まで取り出した数の合計 / The sum of the extracted numbers.\n",
    "    total = total + num\n",
    "# 以上で、for 文の終わり / The end of the for statement\n",
    "    \n",
    "# 最後に合計を表示 / Display the result.\n",
    "print('total:', total)"
   ]
  },
  {
   "cell_type": "markdown",
   "metadata": {},
   "source": [
    "## (8) while文を使った繰り返し処理 / iterative processing with while statement\n",
    "条件式の演算結果によって、繰り返しを続けるか、あるいは終了するか、を決定できます。<br>\n",
    "Each time of the iteration, it judges whether it repeats again or exit the while statement depending on the conditional expression.<br>\n",
    "> while (条件式/conditional expression)<br>\n",
    "> &nbsp;&nbsp;&nbsp;&nbsp;処理(processing)\n",
    "\n",
    "\n",
    "条件式を満たしている間は、for文の中の処理を繰り返します。<br>\n",
    "ループを戻ってきて、条件式を満たさなくなった時に、for文ブロックの後ろの処理に進みます。<br>\n",
    "The iterative loop is repeated as long as the conditional expression is satisfied.<br>\n",
    "When it comes back to the top of the while statement, if the conditional expression is false, processing exits the while statement and proceed to the code after the while stateemnt."
   ]
  },
  {
   "cell_type": "code",
   "execution_count": null,
   "metadata": {},
   "outputs": [],
   "source": [
    "# 初期値の設定 / Set the initial value.\n",
    "num = 1 \n",
    "\n",
    "# while文の開始 / Start of the while statement\n",
    "while num <= 10:\n",
    "    print(num)\n",
    "    num = num + 1\n",
    "# while文の終わり / End of the while statement\n",
    "    \n",
    "# 最後に代入された値を表示する / Display the resultant value.\n",
    "print('最後の値は{0}です'.format(num))"
   ]
  },
  {
   "cell_type": "markdown",
   "metadata": {},
   "source": [
    "<a id=\"function\"></a>"
   ]
  },
  {
   "cell_type": "markdown",
   "metadata": {},
   "source": [
    "## (9) 関数 / Function\n",
    "掛け算をする関数を作ってみよう / Let's make a function to calculate multiplication! Then excute it."
   ]
  },
  {
   "cell_type": "code",
   "execution_count": null,
   "metadata": {},
   "outputs": [],
   "source": [
    "# calc_multi関数を定義 / Define the function calc_multi.\n",
    "def calc_multi(a, b):\n",
    "    return a * b\n",
    "\n",
    "# それを実行 / Call the function and excute the calculation.\n",
    "calc_multi(115, 223)"
   ]
  },
  {
   "cell_type": "markdown",
   "metadata": {},
   "source": [
    "足し算をする関数を作って、実行してみてください。/ Let's make a function to calculate addition. Then excute it.<br>"
   ]
  },
  {
   "cell_type": "code",
   "execution_count": null,
   "metadata": {},
   "outputs": [],
   "source": [
    "# calc_multi関数を定義 / Define the function calc_multi.\n",
    "def calc_add(a, b):\n",
    "    return a + b\n",
    "\n",
    "# それを実行 / Call the function and excute the calculation.\n",
    "calc_add(115, 223)"
   ]
  },
  {
   "cell_type": "markdown",
   "metadata": {},
   "source": [
    "自由に好きな関数を作ってみましょう。/ Please make any function you like. Then excute it."
   ]
  },
  {
   "cell_type": "code",
   "execution_count": null,
   "metadata": {},
   "outputs": [],
   "source": []
  }
 ],
 "metadata": {
  "kernelspec": {
   "display_name": "Python 3 (ipykernel)",
   "language": "python",
   "name": "python3"
  },
  "language_info": {
   "codemirror_mode": {
    "name": "ipython",
    "version": 3
   },
   "file_extension": ".py",
   "mimetype": "text/x-python",
   "name": "python",
   "nbconvert_exporter": "python",
   "pygments_lexer": "ipython3",
   "version": "3.11.5"
  },
  "toc": {
   "base_numbering": 1,
   "nav_menu": {},
   "number_sections": true,
   "sideBar": true,
   "skip_h1_title": false,
   "title_cell": "Table of Contents",
   "title_sidebar": "Contents",
   "toc_cell": false,
   "toc_position": {},
   "toc_section_display": true,
   "toc_window_display": true
  }
 },
 "nbformat": 4,
 "nbformat_minor": 4
}
