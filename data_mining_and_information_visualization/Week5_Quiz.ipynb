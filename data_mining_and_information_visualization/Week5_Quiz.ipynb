{
 "cells": [
  {
   "cell_type": "markdown",
   "id": "7dcef067-bfb6-41f4-b3df-869e0c163249",
   "metadata": {
    "slideshow": {
     "slide_type": "slide"
    }
   },
   "source": [
    "# **データマイニングと情報可視化: 小テスト**\n",
    "# **Data mining and information visualization: Exercise**\n",
    "<font size=\"4\">\n",
    "第5回　2024年1月16日(火)<br>\n",
    "データマイニング手法2-2：クラスター分析（データ解析と可視化）<br>\n",
    "Method 2-2: Clustering analysis (Analyze data &amp; visualization)<br>\n",
    "</font>"
   ]
  },
  {
   "cell_type": "markdown",
   "id": "d5c6fcaa-dd36-4d07-86aa-eea45af7cae2",
   "metadata": {},
   "source": [
    "## (0) 名前と学籍番号を表示してください。/ Please display your name and student ID."
   ]
  },
  {
   "cell_type": "code",
   "execution_count": 62,
   "id": "b27fb0a9-087c-411a-a4ba-536eee5fb6a1",
   "metadata": {},
   "outputs": [
    {
     "name": "stdout",
     "output_type": "stream",
     "text": [
      "一瀬遥希\n",
      "1TE22028G\n"
     ]
    }
   ],
   "source": [
    "# print 関数を使って下さい / Use print function.\n",
    "print(\"一瀬遥希\")\n",
    "print(\"1TE22028G\")"
   ]
  },
  {
   "cell_type": "markdown",
   "id": "d561e2ad-0193-4d5e-95a3-2928e462bbc5",
   "metadata": {
    "tags": []
   },
   "source": [
    "## (1) 必要なライブラリをインストールしてください。 / Import libraries."
   ]
  },
  {
   "cell_type": "code",
   "execution_count": 63,
   "id": "bea9f630-83fe-438f-95ae-477004225577",
   "metadata": {},
   "outputs": [
    {
     "data": {
      "text/plain": [
       "'%.3f'"
      ]
     },
     "execution_count": 63,
     "metadata": {},
     "output_type": "execute_result"
    }
   ],
   "source": [
    "# まずはライブラリをインポート / Import the libraries.\n",
    "import numpy as np\n",
    "import numpy.random as random\n",
    "import scipy as sp\n",
    "from pandas import Series, DataFrame\n",
    "import pandas as pd\n",
    "\n",
    "# 可視化ライブラリ / Visualization libraries\n",
    "import matplotlib.pyplot as plt\n",
    "import matplotlib as mpl\n",
    "import seaborn as sns\n",
    "%matplotlib inline\n",
    "\n",
    "# 機械学習ライブラリ (念のため)/ Machine learning library (may not be used, but just in case..)\n",
    "import sklearn\n",
    "\n",
    "# 小数第3位まで表示 / display up to the 3rd decimal place\n",
    "%precision 3"
   ]
  },
  {
   "cell_type": "markdown",
   "id": "470f0b99-37da-4dc4-8f1f-628ae48f5d64",
   "metadata": {
    "tags": []
   },
   "source": [
    "## (2) CSV ファイル(data/w5_quiz.csv)をDataFrame`df`として読み込んで下さい。\n",
    "## Please load a CSV file, data/w5_quiz.csv, as a DataFrame, `df`.\n",
    "\n",
    "ファイルを読み込んだ後、最初の5行を表示してください。<br>\n",
    "After loading a CSV file, please display the first 5 lines of the DataFrame, 'df'.<br>\n",
    "\n",
    "Area size: 1: 大都市/Big city、2：中核市/middle-sized city、3：その他の市/other city、4：町村/towns and villages<br>\n",
    "ID: 個人番号/identification number<br>\n",
    "Sex: 性別(1：男子/Male、2：女子/Female、0：不明/Unknown)<br>\n",
    "Japanese: 国語の得点<br>\n",
    "Math: 数学の得点<br>\n",
    "Science: 理科の得点<br>\n",
    "[元データはこちら:パブリックユースデータ(生徒データ)](https://www.mext.go.jp/a_menu/shotou/gakuryoku-chousa/sonota/1404609.htm)"
   ]
  },
  {
   "cell_type": "code",
   "execution_count": 64,
   "id": "6c680eee-5049-48da-b499-124511fb423c",
   "metadata": {},
   "outputs": [],
   "source": [
    "df=pd.read_csv(\"w5_quiz.csv\")"
   ]
  },
  {
   "cell_type": "code",
   "execution_count": 65,
   "id": "ea098f0f",
   "metadata": {},
   "outputs": [
    {
     "data": {
      "text/html": [
       "<div>\n",
       "<style scoped>\n",
       "    .dataframe tbody tr th:only-of-type {\n",
       "        vertical-align: middle;\n",
       "    }\n",
       "\n",
       "    .dataframe tbody tr th {\n",
       "        vertical-align: top;\n",
       "    }\n",
       "\n",
       "    .dataframe thead th {\n",
       "        text-align: right;\n",
       "    }\n",
       "</style>\n",
       "<table border=\"1\" class=\"dataframe\">\n",
       "  <thead>\n",
       "    <tr style=\"text-align: right;\">\n",
       "      <th></th>\n",
       "      <th>AreaSize</th>\n",
       "      <th>ID</th>\n",
       "      <th>Sex</th>\n",
       "      <th>Japanese</th>\n",
       "      <th>Math</th>\n",
       "      <th>Science</th>\n",
       "    </tr>\n",
       "  </thead>\n",
       "  <tbody>\n",
       "    <tr>\n",
       "      <th>0</th>\n",
       "      <td>NaN</td>\n",
       "      <td>1.0</td>\n",
       "      <td>2.0</td>\n",
       "      <td>82.0</td>\n",
       "      <td>92.0</td>\n",
       "      <td>64.0</td>\n",
       "    </tr>\n",
       "    <tr>\n",
       "      <th>1</th>\n",
       "      <td>NaN</td>\n",
       "      <td>2.0</td>\n",
       "      <td>2.0</td>\n",
       "      <td>79.0</td>\n",
       "      <td>56.0</td>\n",
       "      <td>28.0</td>\n",
       "    </tr>\n",
       "    <tr>\n",
       "      <th>2</th>\n",
       "      <td>NaN</td>\n",
       "      <td>3.0</td>\n",
       "      <td>2.0</td>\n",
       "      <td>82.0</td>\n",
       "      <td>81.0</td>\n",
       "      <td>76.0</td>\n",
       "    </tr>\n",
       "    <tr>\n",
       "      <th>3</th>\n",
       "      <td>NaN</td>\n",
       "      <td>4.0</td>\n",
       "      <td>1.0</td>\n",
       "      <td>67.0</td>\n",
       "      <td>39.0</td>\n",
       "      <td>68.0</td>\n",
       "    </tr>\n",
       "    <tr>\n",
       "      <th>4</th>\n",
       "      <td>NaN</td>\n",
       "      <td>5.0</td>\n",
       "      <td>2.0</td>\n",
       "      <td>82.0</td>\n",
       "      <td>86.0</td>\n",
       "      <td>64.0</td>\n",
       "    </tr>\n",
       "  </tbody>\n",
       "</table>\n",
       "</div>"
      ],
      "text/plain": [
       "   AreaSize   ID  Sex  Japanese  Math  Science\n",
       "0       NaN  1.0  2.0      82.0  92.0     64.0\n",
       "1       NaN  2.0  2.0      79.0  56.0     28.0\n",
       "2       NaN  3.0  2.0      82.0  81.0     76.0\n",
       "3       NaN  4.0  1.0      67.0  39.0     68.0\n",
       "4       NaN  5.0  2.0      82.0  86.0     64.0"
      ]
     },
     "execution_count": 65,
     "metadata": {},
     "output_type": "execute_result"
    }
   ],
   "source": [
    "df.head()  "
   ]
  },
  {
   "cell_type": "markdown",
   "id": "009c8015-81df-4c94-ab45-63c356197225",
   "metadata": {},
   "source": [
    "## (3) 数学の点が90点以上のデータ行だけ抽出して表示してください。\n",
    "Extract rows in which Math score is　higher than 90.<br>\n",
    "[Week 2: extract](Ex_Week2.ipynb#extract)"
   ]
  },
  {
   "cell_type": "code",
   "execution_count": 66,
   "id": "bb9a9652-bcf2-4b0e-8885-609ce2666e89",
   "metadata": {},
   "outputs": [
    {
     "name": "stdout",
     "output_type": "stream",
     "text": [
      "      AreaSize      ID  Sex  Japanese  Math  Science\n",
      "0          NaN     1.0  2.0      82.0  92.0     64.0\n",
      "22         NaN    23.0  1.0      85.0  97.0     84.0\n",
      "35         NaN    36.0  1.0      94.0  92.0     68.0\n",
      "76         NaN    77.0  1.0      88.0  92.0     68.0\n",
      "80         NaN    81.0  2.0      91.0  92.0     76.0\n",
      "...        ...     ...  ...       ...   ...      ...\n",
      "1840       NaN  1841.0  2.0      88.0  92.0     88.0\n",
      "1849       NaN  1850.0  2.0      97.0  94.0     72.0\n",
      "1873       NaN  1874.0  2.0      88.0  94.0     52.0\n",
      "1940       NaN  1941.0  2.0      73.0  92.0     60.0\n",
      "1947       NaN  1948.0  1.0      91.0  97.0     84.0\n",
      "\n",
      "[94 rows x 6 columns]\n"
     ]
    }
   ],
   "source": [
    "print(df[df.Math >= 90])"
   ]
  },
  {
   "cell_type": "markdown",
   "id": "ab0112ba-5c6c-4daa-a948-4415789b61e4",
   "metadata": {},
   "source": [
    "## (4) 欠損値の数を数える / Count the number of NaN\n",
    "列のすべての要素が欠損値である列はどれですか？\n",
    "\n",
    "[Week 4: Count NaN](Ex_Week4.ipynb#countnan)"
   ]
  },
  {
   "cell_type": "code",
   "execution_count": 67,
   "id": "aeca9769-2688-4686-a167-05efc61fc795",
   "metadata": {},
   "outputs": [
    {
     "name": "stdout",
     "output_type": "stream",
     "text": [
      "AreaSize    2000\n",
      "ID             6\n",
      "Sex            7\n",
      "Japanese       5\n",
      "Math           7\n",
      "Science        7\n",
      "dtype: int64\n",
      "AreaSize     True\n",
      "ID          False\n",
      "Sex         False\n",
      "Japanese    False\n",
      "Math        False\n",
      "Science     False\n",
      "dtype: bool\n"
     ]
    }
   ],
   "source": [
    "# 列ごとに欠損値の数を数える / Count the number of NaN by column\n",
    "print(df.isnull().sum())\n",
    "\n",
    "# 列のすべての要素が欠損値である列はどれですか？\n",
    "print(df.isnull().all())"
   ]
  },
  {
   "cell_type": "markdown",
   "id": "398f74a6-c1d6-4750-9951-17a88d92042d",
   "metadata": {},
   "source": [
    "## (5) 列を削除 / Delete a column\n",
    "(4)ですべての要素が欠損値だった列を削除して、別の名前のDataFrameに格納してください。<br>\n",
    "最初の5行を表示して、処理がうまくいっているか確認してください。<br>\n",
    "Delete the columns where all elements were missing values in (4) and store them in a DataFrame with a different name.<br>\n",
    "Display the first five rows to verify that the process is working.<br>\n",
    "<br>\n",
    "[Week 4: Count NaN](Ex_Week4.ipynb#drop_column)<br>\n",
    "[Week 4: Remove specific columns or rows](Ex_Week4.ipynb#removenan_subset)"
   ]
  },
  {
   "cell_type": "code",
   "execution_count": 68,
   "id": "e6f694cf-6915-40fa-9371-16a9264a3745",
   "metadata": {},
   "outputs": [
    {
     "data": {
      "text/html": [
       "<div>\n",
       "<style scoped>\n",
       "    .dataframe tbody tr th:only-of-type {\n",
       "        vertical-align: middle;\n",
       "    }\n",
       "\n",
       "    .dataframe tbody tr th {\n",
       "        vertical-align: top;\n",
       "    }\n",
       "\n",
       "    .dataframe thead th {\n",
       "        text-align: right;\n",
       "    }\n",
       "</style>\n",
       "<table border=\"1\" class=\"dataframe\">\n",
       "  <thead>\n",
       "    <tr style=\"text-align: right;\">\n",
       "      <th></th>\n",
       "      <th>ID</th>\n",
       "      <th>Sex</th>\n",
       "      <th>Japanese</th>\n",
       "      <th>Math</th>\n",
       "      <th>Science</th>\n",
       "    </tr>\n",
       "  </thead>\n",
       "  <tbody>\n",
       "    <tr>\n",
       "      <th>0</th>\n",
       "      <td>1.0</td>\n",
       "      <td>2.0</td>\n",
       "      <td>82.0</td>\n",
       "      <td>92.0</td>\n",
       "      <td>64.0</td>\n",
       "    </tr>\n",
       "    <tr>\n",
       "      <th>1</th>\n",
       "      <td>2.0</td>\n",
       "      <td>2.0</td>\n",
       "      <td>79.0</td>\n",
       "      <td>56.0</td>\n",
       "      <td>28.0</td>\n",
       "    </tr>\n",
       "    <tr>\n",
       "      <th>2</th>\n",
       "      <td>3.0</td>\n",
       "      <td>2.0</td>\n",
       "      <td>82.0</td>\n",
       "      <td>81.0</td>\n",
       "      <td>76.0</td>\n",
       "    </tr>\n",
       "    <tr>\n",
       "      <th>3</th>\n",
       "      <td>4.0</td>\n",
       "      <td>1.0</td>\n",
       "      <td>67.0</td>\n",
       "      <td>39.0</td>\n",
       "      <td>68.0</td>\n",
       "    </tr>\n",
       "    <tr>\n",
       "      <th>4</th>\n",
       "      <td>5.0</td>\n",
       "      <td>2.0</td>\n",
       "      <td>82.0</td>\n",
       "      <td>86.0</td>\n",
       "      <td>64.0</td>\n",
       "    </tr>\n",
       "  </tbody>\n",
       "</table>\n",
       "</div>"
      ],
      "text/plain": [
       "    ID  Sex  Japanese  Math  Science\n",
       "0  1.0  2.0      82.0  92.0     64.0\n",
       "1  2.0  2.0      79.0  56.0     28.0\n",
       "2  3.0  2.0      82.0  81.0     76.0\n",
       "3  4.0  1.0      67.0  39.0     68.0\n",
       "4  5.0  2.0      82.0  86.0     64.0"
      ]
     },
     "execution_count": 68,
     "metadata": {},
     "output_type": "execute_result"
    }
   ],
   "source": [
    "df2= df.dropna(how='all').dropna(how='all', axis=1)\n",
    "df2.head()"
   ]
  },
  {
   "cell_type": "markdown",
   "id": "6d1e897d-7967-401b-8484-3002964f2857",
   "metadata": {},
   "source": [
    "## (6) 欠損値の削除 / Remove NaN\n",
    "(5)で得られたDataFrameに対して、一つでも欠損値のある行を削除して、別名のDataFrameに格納してください。<br>\n",
    "欠損値の数がゼロになっているのを確認してください。<br>\n",
    "\n",
    "In the DataFrame obtained in (5), remove the rows which have at least one NaN, then store them in a DataFrame with a different name.<br>\n",
    "Please verify that the number of NaN is zero.<br>\n",
    "\n",
    "[Week 4: Remove NaN](Ex_Week4.ipynb#removenan)"
   ]
  },
  {
   "cell_type": "code",
   "execution_count": 69,
   "id": "9e93685f-28c4-462f-94d8-f340740ee54e",
   "metadata": {},
   "outputs": [
    {
     "name": "stdout",
     "output_type": "stream",
     "text": [
      "0\n"
     ]
    },
    {
     "data": {
      "text/html": [
       "<div>\n",
       "<style scoped>\n",
       "    .dataframe tbody tr th:only-of-type {\n",
       "        vertical-align: middle;\n",
       "    }\n",
       "\n",
       "    .dataframe tbody tr th {\n",
       "        vertical-align: top;\n",
       "    }\n",
       "\n",
       "    .dataframe thead th {\n",
       "        text-align: right;\n",
       "    }\n",
       "</style>\n",
       "<table border=\"1\" class=\"dataframe\">\n",
       "  <thead>\n",
       "    <tr style=\"text-align: right;\">\n",
       "      <th></th>\n",
       "      <th>ID</th>\n",
       "      <th>Sex</th>\n",
       "      <th>Japanese</th>\n",
       "      <th>Math</th>\n",
       "      <th>Science</th>\n",
       "    </tr>\n",
       "  </thead>\n",
       "  <tbody>\n",
       "    <tr>\n",
       "      <th>0</th>\n",
       "      <td>1.0</td>\n",
       "      <td>2.0</td>\n",
       "      <td>82.0</td>\n",
       "      <td>92.0</td>\n",
       "      <td>64.0</td>\n",
       "    </tr>\n",
       "    <tr>\n",
       "      <th>1</th>\n",
       "      <td>2.0</td>\n",
       "      <td>2.0</td>\n",
       "      <td>79.0</td>\n",
       "      <td>56.0</td>\n",
       "      <td>28.0</td>\n",
       "    </tr>\n",
       "    <tr>\n",
       "      <th>2</th>\n",
       "      <td>3.0</td>\n",
       "      <td>2.0</td>\n",
       "      <td>82.0</td>\n",
       "      <td>81.0</td>\n",
       "      <td>76.0</td>\n",
       "    </tr>\n",
       "    <tr>\n",
       "      <th>3</th>\n",
       "      <td>4.0</td>\n",
       "      <td>1.0</td>\n",
       "      <td>67.0</td>\n",
       "      <td>39.0</td>\n",
       "      <td>68.0</td>\n",
       "    </tr>\n",
       "    <tr>\n",
       "      <th>4</th>\n",
       "      <td>5.0</td>\n",
       "      <td>2.0</td>\n",
       "      <td>82.0</td>\n",
       "      <td>86.0</td>\n",
       "      <td>64.0</td>\n",
       "    </tr>\n",
       "  </tbody>\n",
       "</table>\n",
       "</div>"
      ],
      "text/plain": [
       "    ID  Sex  Japanese  Math  Science\n",
       "0  1.0  2.0      82.0  92.0     64.0\n",
       "1  2.0  2.0      79.0  56.0     28.0\n",
       "2  3.0  2.0      82.0  81.0     76.0\n",
       "3  4.0  1.0      67.0  39.0     68.0\n",
       "4  5.0  2.0      82.0  86.0     64.0"
      ]
     },
     "execution_count": 69,
     "metadata": {},
     "output_type": "execute_result"
    }
   ],
   "source": [
    "df3 = df2.dropna(how='any')\n",
    "df.dropna(how='any', inplace=True)\n",
    "print(df3.isnull().sum().sum())\n",
    "df3.head()"
   ]
  },
  {
   "cell_type": "markdown",
   "id": "8ace85c2-289a-4f35-a7ae-aa633e9902d0",
   "metadata": {},
   "source": [
    "## (7) 平均を求める / Calculate averages.\n",
    "`Japanese`と`Math`の平均を求めて、表示してください。<br>\n",
    "Calculate the averages of `Japanese` and `Math`, then display the results.<br>\n",
    "<br>\n",
    "<b>(6)でNaNを削除したデータを別名で格納してあるので、そのDataFrameを使いましょう。<br>\n",
    "To calculate the averages, use a new DataFrame which stores the data without NaN as you did in  (6).</b><br>\n",
    "<br>\n",
    "[Week 4: Average](Ex_Week4.ipynb#average)"
   ]
  },
  {
   "cell_type": "code",
   "execution_count": 70,
   "id": "db249027-3ccd-4556-ae75-e049fc1d2997",
   "metadata": {},
   "outputs": [
    {
     "name": "stdout",
     "output_type": "stream",
     "text": [
      "75.29462474645031\n",
      "63.77079107505071\n"
     ]
    }
   ],
   "source": [
    "print(df3[\"Japanese\"].mean())\n",
    "print(df3[\"Math\"].mean())"
   ]
  }
 ],
 "metadata": {
  "kernelspec": {
   "display_name": "Python 3 (ipykernel)",
   "language": "python",
   "name": "python3"
  },
  "language_info": {
   "codemirror_mode": {
    "name": "ipython",
    "version": 3
   },
   "file_extension": ".py",
   "mimetype": "text/x-python",
   "name": "python",
   "nbconvert_exporter": "python",
   "pygments_lexer": "ipython3",
   "version": "3.11.5"
  }
 },
 "nbformat": 4,
 "nbformat_minor": 5
}
